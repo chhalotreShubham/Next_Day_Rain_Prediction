{
 "cells": [
  {
   "cell_type": "code",
   "execution_count": 1,
   "id": "c01c986c",
   "metadata": {},
   "outputs": [],
   "source": [
    "import numpy as np\n",
    "import pandas as pd \n",
    "import matplotlib.pyplot as plt\n",
    "import seaborn as sns"
   ]
  },
  {
   "cell_type": "code",
   "execution_count": 2,
   "id": "303bd75c",
   "metadata": {},
   "outputs": [],
   "source": [
    "from sklearn.linear_model import LinearRegression , LogisticRegression\n",
    "from sklearn.metrics import r2_score"
   ]
  },
  {
   "cell_type": "code",
   "execution_count": 3,
   "id": "570402b5",
   "metadata": {},
   "outputs": [],
   "source": [
    "from sklearn.model_selection import train_test_split , cross_val_score , GridSearchCV"
   ]
  },
  {
   "cell_type": "code",
   "execution_count": 4,
   "id": "8c2ea1a6",
   "metadata": {},
   "outputs": [],
   "source": [
    "from sklearn.tree import DecisionTreeClassifier , plot_tree\n",
    "from sklearn.metrics import confusion_matrix , plot_confusion_matrix \n",
    "from sklearn.metrics import accuracy_score,precision_score,recall_score\n",
    "from sklearn.metrics import roc_curve, roc_auc_score "
   ]
  },
  {
   "cell_type": "code",
   "execution_count": 5,
   "id": "8d4851d5",
   "metadata": {},
   "outputs": [],
   "source": [
    "from sklearn.preprocessing import StandardScaler, MinMaxScaler\n",
    "from sklearn.metrics import f1_score ,matthews_corrcoef"
   ]
  },
  {
   "cell_type": "code",
   "execution_count": 6,
   "id": "00b77357",
   "metadata": {},
   "outputs": [],
   "source": [
    "import warnings\n",
    "warnings.filterwarnings(\"ignore\")"
   ]
  },
  {
   "cell_type": "code",
   "execution_count": 7,
   "id": "2b21af9d",
   "metadata": {},
   "outputs": [],
   "source": [
    "from matplotlib.pylab import rcParams\n",
    "rcParams['figure.figsize'] = 20,10"
   ]
  },
  {
   "cell_type": "code",
   "execution_count": 8,
   "id": "d509c470",
   "metadata": {},
   "outputs": [],
   "source": [
    "pd.pandas.set_option('display.max_columns',None)\n",
    "df = pd.read_csv('weatherAUS.csv')"
   ]
  },
  {
   "cell_type": "code",
   "execution_count": 12,
   "id": "7d6e829c",
   "metadata": {},
   "outputs": [
    {
     "data": {
      "text/html": [
       "<div>\n",
       "<style scoped>\n",
       "    .dataframe tbody tr th:only-of-type {\n",
       "        vertical-align: middle;\n",
       "    }\n",
       "\n",
       "    .dataframe tbody tr th {\n",
       "        vertical-align: top;\n",
       "    }\n",
       "\n",
       "    .dataframe thead th {\n",
       "        text-align: right;\n",
       "    }\n",
       "</style>\n",
       "<table border=\"1\" class=\"dataframe\">\n",
       "  <thead>\n",
       "    <tr style=\"text-align: right;\">\n",
       "      <th></th>\n",
       "      <th>Date</th>\n",
       "      <th>Location</th>\n",
       "      <th>MinTemp</th>\n",
       "      <th>MaxTemp</th>\n",
       "      <th>Rainfall</th>\n",
       "      <th>Evaporation</th>\n",
       "      <th>Sunshine</th>\n",
       "      <th>WindGustDir</th>\n",
       "      <th>WindGustSpeed</th>\n",
       "      <th>WindDir9am</th>\n",
       "      <th>WindDir3pm</th>\n",
       "      <th>WindSpeed9am</th>\n",
       "      <th>WindSpeed3pm</th>\n",
       "      <th>Humidity9am</th>\n",
       "      <th>Humidity3pm</th>\n",
       "      <th>Pressure9am</th>\n",
       "      <th>Pressure3pm</th>\n",
       "      <th>Cloud9am</th>\n",
       "      <th>Cloud3pm</th>\n",
       "      <th>Temp9am</th>\n",
       "      <th>Temp3pm</th>\n",
       "      <th>RainToday</th>\n",
       "      <th>RainTomorrow</th>\n",
       "    </tr>\n",
       "  </thead>\n",
       "  <tbody>\n",
       "    <tr>\n",
       "      <th>0</th>\n",
       "      <td>2008-12-01</td>\n",
       "      <td>Albury</td>\n",
       "      <td>13.4</td>\n",
       "      <td>22.9</td>\n",
       "      <td>0.6</td>\n",
       "      <td>NaN</td>\n",
       "      <td>NaN</td>\n",
       "      <td>W</td>\n",
       "      <td>44.0</td>\n",
       "      <td>W</td>\n",
       "      <td>WNW</td>\n",
       "      <td>20.0</td>\n",
       "      <td>24.0</td>\n",
       "      <td>71.0</td>\n",
       "      <td>22.0</td>\n",
       "      <td>1007.7</td>\n",
       "      <td>1007.1</td>\n",
       "      <td>8.0</td>\n",
       "      <td>NaN</td>\n",
       "      <td>16.9</td>\n",
       "      <td>21.8</td>\n",
       "      <td>No</td>\n",
       "      <td>No</td>\n",
       "    </tr>\n",
       "    <tr>\n",
       "      <th>1</th>\n",
       "      <td>2008-12-02</td>\n",
       "      <td>Albury</td>\n",
       "      <td>7.4</td>\n",
       "      <td>25.1</td>\n",
       "      <td>0.0</td>\n",
       "      <td>NaN</td>\n",
       "      <td>NaN</td>\n",
       "      <td>WNW</td>\n",
       "      <td>44.0</td>\n",
       "      <td>NNW</td>\n",
       "      <td>WSW</td>\n",
       "      <td>4.0</td>\n",
       "      <td>22.0</td>\n",
       "      <td>44.0</td>\n",
       "      <td>25.0</td>\n",
       "      <td>1010.6</td>\n",
       "      <td>1007.8</td>\n",
       "      <td>NaN</td>\n",
       "      <td>NaN</td>\n",
       "      <td>17.2</td>\n",
       "      <td>24.3</td>\n",
       "      <td>No</td>\n",
       "      <td>No</td>\n",
       "    </tr>\n",
       "    <tr>\n",
       "      <th>2</th>\n",
       "      <td>2008-12-03</td>\n",
       "      <td>Albury</td>\n",
       "      <td>12.9</td>\n",
       "      <td>25.7</td>\n",
       "      <td>0.0</td>\n",
       "      <td>NaN</td>\n",
       "      <td>NaN</td>\n",
       "      <td>WSW</td>\n",
       "      <td>46.0</td>\n",
       "      <td>W</td>\n",
       "      <td>WSW</td>\n",
       "      <td>19.0</td>\n",
       "      <td>26.0</td>\n",
       "      <td>38.0</td>\n",
       "      <td>30.0</td>\n",
       "      <td>1007.6</td>\n",
       "      <td>1008.7</td>\n",
       "      <td>NaN</td>\n",
       "      <td>2.0</td>\n",
       "      <td>21.0</td>\n",
       "      <td>23.2</td>\n",
       "      <td>No</td>\n",
       "      <td>No</td>\n",
       "    </tr>\n",
       "    <tr>\n",
       "      <th>3</th>\n",
       "      <td>2008-12-04</td>\n",
       "      <td>Albury</td>\n",
       "      <td>9.2</td>\n",
       "      <td>28.0</td>\n",
       "      <td>0.0</td>\n",
       "      <td>NaN</td>\n",
       "      <td>NaN</td>\n",
       "      <td>NE</td>\n",
       "      <td>24.0</td>\n",
       "      <td>SE</td>\n",
       "      <td>E</td>\n",
       "      <td>11.0</td>\n",
       "      <td>9.0</td>\n",
       "      <td>45.0</td>\n",
       "      <td>16.0</td>\n",
       "      <td>1017.6</td>\n",
       "      <td>1012.8</td>\n",
       "      <td>NaN</td>\n",
       "      <td>NaN</td>\n",
       "      <td>18.1</td>\n",
       "      <td>26.5</td>\n",
       "      <td>No</td>\n",
       "      <td>No</td>\n",
       "    </tr>\n",
       "    <tr>\n",
       "      <th>4</th>\n",
       "      <td>2008-12-05</td>\n",
       "      <td>Albury</td>\n",
       "      <td>17.5</td>\n",
       "      <td>32.3</td>\n",
       "      <td>1.0</td>\n",
       "      <td>NaN</td>\n",
       "      <td>NaN</td>\n",
       "      <td>W</td>\n",
       "      <td>41.0</td>\n",
       "      <td>ENE</td>\n",
       "      <td>NW</td>\n",
       "      <td>7.0</td>\n",
       "      <td>20.0</td>\n",
       "      <td>82.0</td>\n",
       "      <td>33.0</td>\n",
       "      <td>1010.8</td>\n",
       "      <td>1006.0</td>\n",
       "      <td>7.0</td>\n",
       "      <td>8.0</td>\n",
       "      <td>17.8</td>\n",
       "      <td>29.7</td>\n",
       "      <td>No</td>\n",
       "      <td>No</td>\n",
       "    </tr>\n",
       "  </tbody>\n",
       "</table>\n",
       "</div>"
      ],
      "text/plain": [
       "         Date Location  MinTemp  MaxTemp  Rainfall  Evaporation  Sunshine  \\\n",
       "0  2008-12-01   Albury     13.4     22.9       0.6          NaN       NaN   \n",
       "1  2008-12-02   Albury      7.4     25.1       0.0          NaN       NaN   \n",
       "2  2008-12-03   Albury     12.9     25.7       0.0          NaN       NaN   \n",
       "3  2008-12-04   Albury      9.2     28.0       0.0          NaN       NaN   \n",
       "4  2008-12-05   Albury     17.5     32.3       1.0          NaN       NaN   \n",
       "\n",
       "  WindGustDir  WindGustSpeed WindDir9am WindDir3pm  WindSpeed9am  \\\n",
       "0           W           44.0          W        WNW          20.0   \n",
       "1         WNW           44.0        NNW        WSW           4.0   \n",
       "2         WSW           46.0          W        WSW          19.0   \n",
       "3          NE           24.0         SE          E          11.0   \n",
       "4           W           41.0        ENE         NW           7.0   \n",
       "\n",
       "   WindSpeed3pm  Humidity9am  Humidity3pm  Pressure9am  Pressure3pm  Cloud9am  \\\n",
       "0          24.0         71.0         22.0       1007.7       1007.1       8.0   \n",
       "1          22.0         44.0         25.0       1010.6       1007.8       NaN   \n",
       "2          26.0         38.0         30.0       1007.6       1008.7       NaN   \n",
       "3           9.0         45.0         16.0       1017.6       1012.8       NaN   \n",
       "4          20.0         82.0         33.0       1010.8       1006.0       7.0   \n",
       "\n",
       "   Cloud3pm  Temp9am  Temp3pm RainToday RainTomorrow  \n",
       "0       NaN     16.9     21.8        No           No  \n",
       "1       NaN     17.2     24.3        No           No  \n",
       "2       2.0     21.0     23.2        No           No  \n",
       "3       NaN     18.1     26.5        No           No  \n",
       "4       8.0     17.8     29.7        No           No  "
      ]
     },
     "execution_count": 12,
     "metadata": {},
     "output_type": "execute_result"
    }
   ],
   "source": [
    "df.head()"
   ]
  },
  {
   "cell_type": "code",
   "execution_count": 13,
   "id": "4108b8aa",
   "metadata": {},
   "outputs": [
    {
     "data": {
      "text/html": [
       "<div>\n",
       "<style scoped>\n",
       "    .dataframe tbody tr th:only-of-type {\n",
       "        vertical-align: middle;\n",
       "    }\n",
       "\n",
       "    .dataframe tbody tr th {\n",
       "        vertical-align: top;\n",
       "    }\n",
       "\n",
       "    .dataframe thead th {\n",
       "        text-align: right;\n",
       "    }\n",
       "</style>\n",
       "<table border=\"1\" class=\"dataframe\">\n",
       "  <thead>\n",
       "    <tr style=\"text-align: right;\">\n",
       "      <th></th>\n",
       "      <th>Date</th>\n",
       "      <th>Location</th>\n",
       "      <th>MinTemp</th>\n",
       "      <th>MaxTemp</th>\n",
       "      <th>Rainfall</th>\n",
       "      <th>Evaporation</th>\n",
       "      <th>Sunshine</th>\n",
       "      <th>WindGustDir</th>\n",
       "      <th>WindGustSpeed</th>\n",
       "      <th>WindDir9am</th>\n",
       "      <th>WindDir3pm</th>\n",
       "      <th>WindSpeed9am</th>\n",
       "      <th>WindSpeed3pm</th>\n",
       "      <th>Humidity9am</th>\n",
       "      <th>Humidity3pm</th>\n",
       "      <th>Pressure9am</th>\n",
       "      <th>Pressure3pm</th>\n",
       "      <th>Cloud9am</th>\n",
       "      <th>Cloud3pm</th>\n",
       "      <th>Temp9am</th>\n",
       "      <th>Temp3pm</th>\n",
       "      <th>RainToday</th>\n",
       "      <th>RainTomorrow</th>\n",
       "    </tr>\n",
       "  </thead>\n",
       "  <tbody>\n",
       "    <tr>\n",
       "      <th>145455</th>\n",
       "      <td>2017-06-21</td>\n",
       "      <td>Uluru</td>\n",
       "      <td>2.8</td>\n",
       "      <td>23.4</td>\n",
       "      <td>0.0</td>\n",
       "      <td>NaN</td>\n",
       "      <td>NaN</td>\n",
       "      <td>E</td>\n",
       "      <td>31.0</td>\n",
       "      <td>SE</td>\n",
       "      <td>ENE</td>\n",
       "      <td>13.0</td>\n",
       "      <td>11.0</td>\n",
       "      <td>51.0</td>\n",
       "      <td>24.0</td>\n",
       "      <td>1024.6</td>\n",
       "      <td>1020.3</td>\n",
       "      <td>NaN</td>\n",
       "      <td>NaN</td>\n",
       "      <td>10.1</td>\n",
       "      <td>22.4</td>\n",
       "      <td>No</td>\n",
       "      <td>No</td>\n",
       "    </tr>\n",
       "    <tr>\n",
       "      <th>145456</th>\n",
       "      <td>2017-06-22</td>\n",
       "      <td>Uluru</td>\n",
       "      <td>3.6</td>\n",
       "      <td>25.3</td>\n",
       "      <td>0.0</td>\n",
       "      <td>NaN</td>\n",
       "      <td>NaN</td>\n",
       "      <td>NNW</td>\n",
       "      <td>22.0</td>\n",
       "      <td>SE</td>\n",
       "      <td>N</td>\n",
       "      <td>13.0</td>\n",
       "      <td>9.0</td>\n",
       "      <td>56.0</td>\n",
       "      <td>21.0</td>\n",
       "      <td>1023.5</td>\n",
       "      <td>1019.1</td>\n",
       "      <td>NaN</td>\n",
       "      <td>NaN</td>\n",
       "      <td>10.9</td>\n",
       "      <td>24.5</td>\n",
       "      <td>No</td>\n",
       "      <td>No</td>\n",
       "    </tr>\n",
       "    <tr>\n",
       "      <th>145457</th>\n",
       "      <td>2017-06-23</td>\n",
       "      <td>Uluru</td>\n",
       "      <td>5.4</td>\n",
       "      <td>26.9</td>\n",
       "      <td>0.0</td>\n",
       "      <td>NaN</td>\n",
       "      <td>NaN</td>\n",
       "      <td>N</td>\n",
       "      <td>37.0</td>\n",
       "      <td>SE</td>\n",
       "      <td>WNW</td>\n",
       "      <td>9.0</td>\n",
       "      <td>9.0</td>\n",
       "      <td>53.0</td>\n",
       "      <td>24.0</td>\n",
       "      <td>1021.0</td>\n",
       "      <td>1016.8</td>\n",
       "      <td>NaN</td>\n",
       "      <td>NaN</td>\n",
       "      <td>12.5</td>\n",
       "      <td>26.1</td>\n",
       "      <td>No</td>\n",
       "      <td>No</td>\n",
       "    </tr>\n",
       "    <tr>\n",
       "      <th>145458</th>\n",
       "      <td>2017-06-24</td>\n",
       "      <td>Uluru</td>\n",
       "      <td>7.8</td>\n",
       "      <td>27.0</td>\n",
       "      <td>0.0</td>\n",
       "      <td>NaN</td>\n",
       "      <td>NaN</td>\n",
       "      <td>SE</td>\n",
       "      <td>28.0</td>\n",
       "      <td>SSE</td>\n",
       "      <td>N</td>\n",
       "      <td>13.0</td>\n",
       "      <td>7.0</td>\n",
       "      <td>51.0</td>\n",
       "      <td>24.0</td>\n",
       "      <td>1019.4</td>\n",
       "      <td>1016.5</td>\n",
       "      <td>3.0</td>\n",
       "      <td>2.0</td>\n",
       "      <td>15.1</td>\n",
       "      <td>26.0</td>\n",
       "      <td>No</td>\n",
       "      <td>No</td>\n",
       "    </tr>\n",
       "    <tr>\n",
       "      <th>145459</th>\n",
       "      <td>2017-06-25</td>\n",
       "      <td>Uluru</td>\n",
       "      <td>14.9</td>\n",
       "      <td>NaN</td>\n",
       "      <td>0.0</td>\n",
       "      <td>NaN</td>\n",
       "      <td>NaN</td>\n",
       "      <td>NaN</td>\n",
       "      <td>NaN</td>\n",
       "      <td>ESE</td>\n",
       "      <td>ESE</td>\n",
       "      <td>17.0</td>\n",
       "      <td>17.0</td>\n",
       "      <td>62.0</td>\n",
       "      <td>36.0</td>\n",
       "      <td>1020.2</td>\n",
       "      <td>1017.9</td>\n",
       "      <td>8.0</td>\n",
       "      <td>8.0</td>\n",
       "      <td>15.0</td>\n",
       "      <td>20.9</td>\n",
       "      <td>No</td>\n",
       "      <td>NaN</td>\n",
       "    </tr>\n",
       "  </tbody>\n",
       "</table>\n",
       "</div>"
      ],
      "text/plain": [
       "              Date Location  MinTemp  MaxTemp  Rainfall  Evaporation  \\\n",
       "145455  2017-06-21    Uluru      2.8     23.4       0.0          NaN   \n",
       "145456  2017-06-22    Uluru      3.6     25.3       0.0          NaN   \n",
       "145457  2017-06-23    Uluru      5.4     26.9       0.0          NaN   \n",
       "145458  2017-06-24    Uluru      7.8     27.0       0.0          NaN   \n",
       "145459  2017-06-25    Uluru     14.9      NaN       0.0          NaN   \n",
       "\n",
       "        Sunshine WindGustDir  WindGustSpeed WindDir9am WindDir3pm  \\\n",
       "145455       NaN           E           31.0         SE        ENE   \n",
       "145456       NaN         NNW           22.0         SE          N   \n",
       "145457       NaN           N           37.0         SE        WNW   \n",
       "145458       NaN          SE           28.0        SSE          N   \n",
       "145459       NaN         NaN            NaN        ESE        ESE   \n",
       "\n",
       "        WindSpeed9am  WindSpeed3pm  Humidity9am  Humidity3pm  Pressure9am  \\\n",
       "145455          13.0          11.0         51.0         24.0       1024.6   \n",
       "145456          13.0           9.0         56.0         21.0       1023.5   \n",
       "145457           9.0           9.0         53.0         24.0       1021.0   \n",
       "145458          13.0           7.0         51.0         24.0       1019.4   \n",
       "145459          17.0          17.0         62.0         36.0       1020.2   \n",
       "\n",
       "        Pressure3pm  Cloud9am  Cloud3pm  Temp9am  Temp3pm RainToday  \\\n",
       "145455       1020.3       NaN       NaN     10.1     22.4        No   \n",
       "145456       1019.1       NaN       NaN     10.9     24.5        No   \n",
       "145457       1016.8       NaN       NaN     12.5     26.1        No   \n",
       "145458       1016.5       3.0       2.0     15.1     26.0        No   \n",
       "145459       1017.9       8.0       8.0     15.0     20.9        No   \n",
       "\n",
       "       RainTomorrow  \n",
       "145455           No  \n",
       "145456           No  \n",
       "145457           No  \n",
       "145458           No  \n",
       "145459          NaN  "
      ]
     },
     "execution_count": 13,
     "metadata": {},
     "output_type": "execute_result"
    }
   ],
   "source": [
    "df.tail()"
   ]
  },
  {
   "cell_type": "code",
   "execution_count": 10,
   "id": "ca6dde3e",
   "metadata": {},
   "outputs": [
    {
     "data": {
      "text/plain": [
       "(145460, 23)"
      ]
     },
     "execution_count": 10,
     "metadata": {},
     "output_type": "execute_result"
    }
   ],
   "source": [
    "df.shape"
   ]
  },
  {
   "cell_type": "code",
   "execution_count": 14,
   "id": "6c2f89de",
   "metadata": {},
   "outputs": [
    {
     "data": {
      "text/plain": [
       "Sunshine         69835\n",
       "Evaporation      62790\n",
       "Cloud3pm         59358\n",
       "Cloud9am         55888\n",
       "Pressure9am      15065\n",
       "Pressure3pm      15028\n",
       "WindDir9am       10566\n",
       "WindGustDir      10326\n",
       "WindGustSpeed    10263\n",
       "Humidity3pm       4507\n",
       "WindDir3pm        4228\n",
       "Temp3pm           3609\n",
       "RainTomorrow      3267\n",
       "Rainfall          3261\n",
       "RainToday         3261\n",
       "WindSpeed3pm      3062\n",
       "Humidity9am       2654\n",
       "Temp9am           1767\n",
       "WindSpeed9am      1767\n",
       "MinTemp           1485\n",
       "MaxTemp           1261\n",
       "Location             0\n",
       "Date                 0\n",
       "dtype: int64"
      ]
     },
     "execution_count": 14,
     "metadata": {},
     "output_type": "execute_result"
    }
   ],
   "source": [
    "df.isnull().sum().sort_values(ascending=False)\n"
   ]
  },
  {
   "cell_type": "code",
   "execution_count": 17,
   "id": "aa59b3b8",
   "metadata": {
    "scrolled": true
   },
   "outputs": [
    {
     "data": {
      "text/plain": [
       "Sunshine         48.009762\n",
       "Evaporation      43.166506\n",
       "Cloud3pm         40.807095\n",
       "Cloud9am         38.421559\n",
       "Pressure9am      10.356799\n",
       "Pressure3pm      10.331363\n",
       "WindDir9am        7.263853\n",
       "WindGustDir       7.098859\n",
       "WindGustSpeed     7.055548\n",
       "Humidity3pm       3.098446\n",
       "WindDir3pm        2.906641\n",
       "Temp3pm           2.481094\n",
       "RainTomorrow      2.245978\n",
       "Rainfall          2.241853\n",
       "RainToday         2.241853\n",
       "WindSpeed3pm      2.105046\n",
       "Humidity9am       1.824557\n",
       "Temp9am           1.214767\n",
       "WindSpeed9am      1.214767\n",
       "MinTemp           1.020899\n",
       "MaxTemp           0.866905\n",
       "Location          0.000000\n",
       "Date              0.000000\n",
       "dtype: float64"
      ]
     },
     "execution_count": 17,
     "metadata": {},
     "output_type": "execute_result"
    }
   ],
   "source": [
    "((df.isnull().sum()/len(df))*100).sort_values(ascending=False)\n",
    "# Percentage of null values present in each columns"
   ]
  },
  {
   "cell_type": "code",
   "execution_count": 32,
   "id": "d0f6f5c6",
   "metadata": {},
   "outputs": [
    {
     "data": {
      "text/plain": [
       "No     75.839406\n",
       "Yes    21.914616\n",
       "Name: RainTomorrow, dtype: float64"
      ]
     },
     "execution_count": 32,
     "metadata": {},
     "output_type": "execute_result"
    }
   ],
   "source": [
    "df[\"RainTomorrow\"].value_counts()/len(df)*100"
   ]
  },
  {
   "cell_type": "code",
   "execution_count": 33,
   "id": "432641c5",
   "metadata": {},
   "outputs": [
    {
     "name": "stdout",
     "output_type": "stream",
     "text": [
      "Sunshine         15056\n",
      "Evaporation      14018\n",
      "Cloud3pm         11589\n",
      "Cloud9am         11255\n",
      "Pressure3pm       3113\n",
      "Pressure9am       3103\n",
      "WindGustDir       2467\n",
      "WindGustSpeed     2442\n",
      "WindDir9am        1921\n",
      "WindDir3pm        1053\n",
      "Humidity3pm        964\n",
      "Temp3pm            742\n",
      "WindSpeed3pm       683\n",
      "Rainfall           676\n",
      "RainToday          676\n",
      "Humidity9am        534\n",
      "WindSpeed9am       340\n",
      "Temp9am            298\n",
      "MinTemp            175\n",
      "MaxTemp             55\n",
      "Date                 0\n",
      "Location             0\n",
      "RainTomorrow         0\n",
      "dtype: int64\n"
     ]
    }
   ],
   "source": [
    "#the DataFrame to include only the rows where 'RainTomorrow' is 'yes', and then check for missing values in that subset\n",
    "# Filter rows where 'RainTomorrow' is 'Yes'\n",
    "yes_rain_data = df[df['RainTomorrow'] == 'Yes']\n",
    "\n",
    "# Check for missing values in the subset\n",
    "missing_values_Yes_rain = yes_rain_data.isnull().sum().sort_values(ascending=False)\n",
    "\n",
    "# Print the missing value counts for each column\n",
    "print(missing_values_Yes_rain)\n"
   ]
  },
  {
   "cell_type": "code",
   "execution_count": 34,
   "id": "5ef460ba",
   "metadata": {},
   "outputs": [],
   "source": [
    "#Drop columns that have more than 30% missing values, such as 'Evaporation', 'Sunshine', 'Cloud9am', and 'Cloud3pm\n",
    "drop_columns = []\n",
    "for column in df.columns:\n",
    "    if (df[column].isnull().sum()/len(df))*100 > 30:\n",
    "        drop_columns.append(column)"
   ]
  },
  {
   "cell_type": "code",
   "execution_count": 35,
   "id": "693ba044",
   "metadata": {},
   "outputs": [
    {
     "data": {
      "text/plain": [
       "['Evaporation', 'Sunshine', 'Cloud9am', 'Cloud3pm']"
      ]
     },
     "execution_count": 35,
     "metadata": {},
     "output_type": "execute_result"
    }
   ],
   "source": [
    "drop_columns"
   ]
  },
  {
   "cell_type": "code",
   "execution_count": 36,
   "id": "dd2fffa4",
   "metadata": {},
   "outputs": [],
   "source": [
    "data1 = df.drop( drop_columns ,axis=1)"
   ]
  },
  {
   "cell_type": "code",
   "execution_count": 37,
   "id": "0e31fdfd",
   "metadata": {},
   "outputs": [
    {
     "data": {
      "text/plain": [
       "(145460, 19)"
      ]
     },
     "execution_count": 37,
     "metadata": {},
     "output_type": "execute_result"
    }
   ],
   "source": [
    "data1.shape"
   ]
  },
  {
   "cell_type": "code",
   "execution_count": 38,
   "id": "359d6b87",
   "metadata": {},
   "outputs": [
    {
     "data": {
      "text/plain": [
       "Pressure9am      15065\n",
       "Pressure3pm      15028\n",
       "WindDir9am       10566\n",
       "WindGustDir      10326\n",
       "WindGustSpeed    10263\n",
       "Humidity3pm       4507\n",
       "WindDir3pm        4228\n",
       "Temp3pm           3609\n",
       "RainTomorrow      3267\n",
       "RainToday         3261\n",
       "Rainfall          3261\n",
       "WindSpeed3pm      3062\n",
       "Humidity9am       2654\n",
       "Temp9am           1767\n",
       "WindSpeed9am      1767\n",
       "MinTemp           1485\n",
       "MaxTemp           1261\n",
       "Location             0\n",
       "Date                 0\n",
       "dtype: int64"
      ]
     },
     "execution_count": 38,
     "metadata": {},
     "output_type": "execute_result"
    }
   ],
   "source": [
    "data1.isnull().sum().sort_values(ascending=False)\n"
   ]
  },
  {
   "cell_type": "code",
   "execution_count": 39,
   "id": "137ba20d",
   "metadata": {},
   "outputs": [],
   "source": [
    "data1.dropna(axis=0 , subset=['RainTomorrow'] , inplace=True)"
   ]
  },
  {
   "cell_type": "code",
   "execution_count": 40,
   "id": "41fe64a0",
   "metadata": {},
   "outputs": [
    {
     "data": {
      "text/plain": [
       "(142193, 19)"
      ]
     },
     "execution_count": 40,
     "metadata": {},
     "output_type": "execute_result"
    }
   ],
   "source": [
    "data1.shape"
   ]
  },
  {
   "cell_type": "code",
   "execution_count": 42,
   "id": "a9cc4e96",
   "metadata": {},
   "outputs": [
    {
     "data": {
      "text/plain": [
       "Pressure9am      14014\n",
       "Pressure3pm      13981\n",
       "WindDir9am       10013\n",
       "WindGustDir       9330\n",
       "WindGustSpeed     9270\n",
       "WindDir3pm        3778\n",
       "Humidity3pm       3610\n",
       "Temp3pm           2726\n",
       "WindSpeed3pm      2630\n",
       "Humidity9am       1774\n",
       "Rainfall          1406\n",
       "RainToday         1406\n",
       "WindSpeed9am      1348\n",
       "Temp9am            904\n",
       "MinTemp            637\n",
       "MaxTemp            322\n",
       "Date                 0\n",
       "Location             0\n",
       "RainTomorrow         0\n",
       "dtype: int64"
      ]
     },
     "execution_count": 42,
     "metadata": {},
     "output_type": "execute_result"
    }
   ],
   "source": [
    "data1.isnull().sum().sort_values(ascending=False)\n"
   ]
  },
  {
   "cell_type": "code",
   "execution_count": 44,
   "id": "d3bdc213",
   "metadata": {},
   "outputs": [],
   "source": [
    "#categorizes the rows based on the number of missing values in each row. Specifically, \n",
    "#it identifies rows with more than 5 missing values (NaN) and stores their row indices in list\n",
    "\n",
    "i=0\n",
    "list10=[]\n",
    "list9=[]\n",
    "list8=[]\n",
    "list7=[]\n",
    "list6=[]\n",
    "\n",
    "while i<len(df):\n",
    "    try:\n",
    "        sum_of_null_values = data1.loc[[i]].isna().sum().sum()\n",
    "        \n",
    "        if sum_of_null_values  > 5:\n",
    "        \n",
    "            if sum_of_null_values >=10:\n",
    "                list10.append(i)\n",
    "            elif sum_of_null_values == 9:\n",
    "                list9.append(i)\n",
    "            elif sum_of_null_values == 8:\n",
    "                list8.append(i)\n",
    "            elif sum_of_null_values == 7:\n",
    "                list7.append(i)\n",
    "            elif sum_of_null_values == 6:\n",
    "                list6.append(i)\n",
    "            \n",
    "    except: pass\n",
    "    \n",
    "    i=i+1"
   ]
  },
  {
   "cell_type": "code",
   "execution_count": 45,
   "id": "19c01738",
   "metadata": {},
   "outputs": [
    {
     "name": "stdout",
     "output_type": "stream",
     "text": [
      "Number of rows with more than 10 missing values:  330\n",
      "Number of rows with 9 missing values:  401\n",
      "Number of rows with 8 missing values:  999\n",
      "Number of rows with 7 missing values:  220\n",
      "Number of rows with 6 missing values:  1185\n"
     ]
    }
   ],
   "source": [
    "print(\"Number of rows with more than 10 missing values: \", len(list10))\n",
    "print(\"Number of rows with 9 missing values: \", len(list9))\n",
    "print(\"Number of rows with 8 missing values: \", len(list8))\n",
    "print(\"Number of rows with 7 missing values: \", len(list7))\n",
    "print(\"Number of rows with 6 missing values: \", len(list6))\n"
   ]
  },
  {
   "cell_type": "code",
   "execution_count": 46,
   "id": "387486cd",
   "metadata": {},
   "outputs": [
    {
     "data": {
      "text/plain": [
       "(142193, 19)"
      ]
     },
     "execution_count": 46,
     "metadata": {},
     "output_type": "execute_result"
    }
   ],
   "source": [
    "data1.shape"
   ]
  },
  {
   "cell_type": "code",
   "execution_count": 47,
   "id": "1b00369a",
   "metadata": {},
   "outputs": [],
   "source": [
    "#drop rows from the DataFrame data_1 that have more than or equal to 9 missing (NaN) values based on the indices stored in list10 and list9.\n",
    "for i in [list10,list9]:\n",
    "    data1.drop(i , axis=0 , inplace=True)"
   ]
  },
  {
   "cell_type": "code",
   "execution_count": 48,
   "id": "5edd9af1",
   "metadata": {},
   "outputs": [
    {
     "data": {
      "text/plain": [
       "(141462, 19)"
      ]
     },
     "execution_count": 48,
     "metadata": {},
     "output_type": "execute_result"
    }
   ],
   "source": [
    "data1.shape"
   ]
  },
  {
   "cell_type": "code",
   "execution_count": 49,
   "id": "5e1311e9",
   "metadata": {},
   "outputs": [
    {
     "data": {
      "text/html": [
       "<div>\n",
       "<style scoped>\n",
       "    .dataframe tbody tr th:only-of-type {\n",
       "        vertical-align: middle;\n",
       "    }\n",
       "\n",
       "    .dataframe tbody tr th {\n",
       "        vertical-align: top;\n",
       "    }\n",
       "\n",
       "    .dataframe thead th {\n",
       "        text-align: right;\n",
       "    }\n",
       "</style>\n",
       "<table border=\"1\" class=\"dataframe\">\n",
       "  <thead>\n",
       "    <tr style=\"text-align: right;\">\n",
       "      <th></th>\n",
       "      <th>Date</th>\n",
       "      <th>Location</th>\n",
       "      <th>MinTemp</th>\n",
       "      <th>MaxTemp</th>\n",
       "      <th>Rainfall</th>\n",
       "      <th>WindGustDir</th>\n",
       "      <th>WindGustSpeed</th>\n",
       "      <th>WindDir9am</th>\n",
       "      <th>WindDir3pm</th>\n",
       "      <th>WindSpeed9am</th>\n",
       "      <th>WindSpeed3pm</th>\n",
       "      <th>Humidity9am</th>\n",
       "      <th>Humidity3pm</th>\n",
       "      <th>Pressure9am</th>\n",
       "      <th>Pressure3pm</th>\n",
       "      <th>Temp9am</th>\n",
       "      <th>Temp3pm</th>\n",
       "      <th>RainToday</th>\n",
       "      <th>RainTomorrow</th>\n",
       "    </tr>\n",
       "  </thead>\n",
       "  <tbody>\n",
       "    <tr>\n",
       "      <th>0</th>\n",
       "      <td>2008-12-01</td>\n",
       "      <td>Albury</td>\n",
       "      <td>13.4</td>\n",
       "      <td>22.9</td>\n",
       "      <td>0.6</td>\n",
       "      <td>W</td>\n",
       "      <td>44.0</td>\n",
       "      <td>W</td>\n",
       "      <td>WNW</td>\n",
       "      <td>20.0</td>\n",
       "      <td>24.0</td>\n",
       "      <td>71.0</td>\n",
       "      <td>22.0</td>\n",
       "      <td>1007.7</td>\n",
       "      <td>1007.1</td>\n",
       "      <td>16.9</td>\n",
       "      <td>21.8</td>\n",
       "      <td>No</td>\n",
       "      <td>No</td>\n",
       "    </tr>\n",
       "    <tr>\n",
       "      <th>1</th>\n",
       "      <td>2008-12-02</td>\n",
       "      <td>Albury</td>\n",
       "      <td>7.4</td>\n",
       "      <td>25.1</td>\n",
       "      <td>0.0</td>\n",
       "      <td>WNW</td>\n",
       "      <td>44.0</td>\n",
       "      <td>NNW</td>\n",
       "      <td>WSW</td>\n",
       "      <td>4.0</td>\n",
       "      <td>22.0</td>\n",
       "      <td>44.0</td>\n",
       "      <td>25.0</td>\n",
       "      <td>1010.6</td>\n",
       "      <td>1007.8</td>\n",
       "      <td>17.2</td>\n",
       "      <td>24.3</td>\n",
       "      <td>No</td>\n",
       "      <td>No</td>\n",
       "    </tr>\n",
       "    <tr>\n",
       "      <th>2</th>\n",
       "      <td>2008-12-03</td>\n",
       "      <td>Albury</td>\n",
       "      <td>12.9</td>\n",
       "      <td>25.7</td>\n",
       "      <td>0.0</td>\n",
       "      <td>WSW</td>\n",
       "      <td>46.0</td>\n",
       "      <td>W</td>\n",
       "      <td>WSW</td>\n",
       "      <td>19.0</td>\n",
       "      <td>26.0</td>\n",
       "      <td>38.0</td>\n",
       "      <td>30.0</td>\n",
       "      <td>1007.6</td>\n",
       "      <td>1008.7</td>\n",
       "      <td>21.0</td>\n",
       "      <td>23.2</td>\n",
       "      <td>No</td>\n",
       "      <td>No</td>\n",
       "    </tr>\n",
       "    <tr>\n",
       "      <th>3</th>\n",
       "      <td>2008-12-04</td>\n",
       "      <td>Albury</td>\n",
       "      <td>9.2</td>\n",
       "      <td>28.0</td>\n",
       "      <td>0.0</td>\n",
       "      <td>NE</td>\n",
       "      <td>24.0</td>\n",
       "      <td>SE</td>\n",
       "      <td>E</td>\n",
       "      <td>11.0</td>\n",
       "      <td>9.0</td>\n",
       "      <td>45.0</td>\n",
       "      <td>16.0</td>\n",
       "      <td>1017.6</td>\n",
       "      <td>1012.8</td>\n",
       "      <td>18.1</td>\n",
       "      <td>26.5</td>\n",
       "      <td>No</td>\n",
       "      <td>No</td>\n",
       "    </tr>\n",
       "    <tr>\n",
       "      <th>4</th>\n",
       "      <td>2008-12-05</td>\n",
       "      <td>Albury</td>\n",
       "      <td>17.5</td>\n",
       "      <td>32.3</td>\n",
       "      <td>1.0</td>\n",
       "      <td>W</td>\n",
       "      <td>41.0</td>\n",
       "      <td>ENE</td>\n",
       "      <td>NW</td>\n",
       "      <td>7.0</td>\n",
       "      <td>20.0</td>\n",
       "      <td>82.0</td>\n",
       "      <td>33.0</td>\n",
       "      <td>1010.8</td>\n",
       "      <td>1006.0</td>\n",
       "      <td>17.8</td>\n",
       "      <td>29.7</td>\n",
       "      <td>No</td>\n",
       "      <td>No</td>\n",
       "    </tr>\n",
       "  </tbody>\n",
       "</table>\n",
       "</div>"
      ],
      "text/plain": [
       "         Date Location  MinTemp  MaxTemp  Rainfall WindGustDir  WindGustSpeed  \\\n",
       "0  2008-12-01   Albury     13.4     22.9       0.6           W           44.0   \n",
       "1  2008-12-02   Albury      7.4     25.1       0.0         WNW           44.0   \n",
       "2  2008-12-03   Albury     12.9     25.7       0.0         WSW           46.0   \n",
       "3  2008-12-04   Albury      9.2     28.0       0.0          NE           24.0   \n",
       "4  2008-12-05   Albury     17.5     32.3       1.0           W           41.0   \n",
       "\n",
       "  WindDir9am WindDir3pm  WindSpeed9am  WindSpeed3pm  Humidity9am  Humidity3pm  \\\n",
       "0          W        WNW          20.0          24.0         71.0         22.0   \n",
       "1        NNW        WSW           4.0          22.0         44.0         25.0   \n",
       "2          W        WSW          19.0          26.0         38.0         30.0   \n",
       "3         SE          E          11.0           9.0         45.0         16.0   \n",
       "4        ENE         NW           7.0          20.0         82.0         33.0   \n",
       "\n",
       "   Pressure9am  Pressure3pm  Temp9am  Temp3pm RainToday RainTomorrow  \n",
       "0       1007.7       1007.1     16.9     21.8        No           No  \n",
       "1       1010.6       1007.8     17.2     24.3        No           No  \n",
       "2       1007.6       1008.7     21.0     23.2        No           No  \n",
       "3       1017.6       1012.8     18.1     26.5        No           No  \n",
       "4       1010.8       1006.0     17.8     29.7        No           No  "
      ]
     },
     "execution_count": 49,
     "metadata": {},
     "output_type": "execute_result"
    }
   ],
   "source": [
    "data1.head()"
   ]
  },
  {
   "cell_type": "code",
   "execution_count": 51,
   "id": "1d71e583",
   "metadata": {},
   "outputs": [
    {
     "data": {
      "text/plain": [
       "Date                 0\n",
       "Location             0\n",
       "MinTemp            301\n",
       "MaxTemp            190\n",
       "Rainfall          1276\n",
       "WindGustDir       8670\n",
       "WindGustSpeed     8610\n",
       "WindDir9am        9351\n",
       "WindDir3pm        3135\n",
       "WindSpeed9am       998\n",
       "WindSpeed3pm      1997\n",
       "Humidity9am       1428\n",
       "Humidity3pm       2986\n",
       "Pressure9am      13322\n",
       "Pressure3pm      13295\n",
       "Temp9am            572\n",
       "Temp3pm           2109\n",
       "RainToday         1276\n",
       "RainTomorrow         0\n",
       "dtype: int64"
      ]
     },
     "execution_count": 51,
     "metadata": {},
     "output_type": "execute_result"
    }
   ],
   "source": [
    "data1.isnull().sum()"
   ]
  },
  {
   "cell_type": "code",
   "execution_count": 52,
   "id": "39648646",
   "metadata": {},
   "outputs": [
    {
     "data": {
      "text/plain": [
       "Pressure9am      13322\n",
       "Pressure3pm      13295\n",
       "WindDir9am        9351\n",
       "WindGustDir       8670\n",
       "WindGustSpeed     8610\n",
       "WindDir3pm        3135\n",
       "Humidity3pm       2986\n",
       "Temp3pm           2109\n",
       "WindSpeed3pm      1997\n",
       "Humidity9am       1428\n",
       "Rainfall          1276\n",
       "RainToday         1276\n",
       "WindSpeed9am       998\n",
       "Temp9am            572\n",
       "MinTemp            301\n",
       "MaxTemp            190\n",
       "Date                 0\n",
       "Location             0\n",
       "RainTomorrow         0\n",
       "dtype: int64"
      ]
     },
     "execution_count": 52,
     "metadata": {},
     "output_type": "execute_result"
    }
   ],
   "source": [
    "data1.isnull().sum().sort_values(ascending=False)"
   ]
  },
  {
   "cell_type": "code",
   "execution_count": 53,
   "id": "2e5c9c18",
   "metadata": {},
   "outputs": [
    {
     "data": {
      "text/html": [
       "<div>\n",
       "<style scoped>\n",
       "    .dataframe tbody tr th:only-of-type {\n",
       "        vertical-align: middle;\n",
       "    }\n",
       "\n",
       "    .dataframe tbody tr th {\n",
       "        vertical-align: top;\n",
       "    }\n",
       "\n",
       "    .dataframe thead th {\n",
       "        text-align: right;\n",
       "    }\n",
       "</style>\n",
       "<table border=\"1\" class=\"dataframe\">\n",
       "  <thead>\n",
       "    <tr style=\"text-align: right;\">\n",
       "      <th></th>\n",
       "      <th>Date</th>\n",
       "      <th>Location</th>\n",
       "      <th>MinTemp</th>\n",
       "      <th>MaxTemp</th>\n",
       "      <th>Rainfall</th>\n",
       "      <th>WindGustDir</th>\n",
       "      <th>WindGustSpeed</th>\n",
       "      <th>WindDir9am</th>\n",
       "      <th>WindDir3pm</th>\n",
       "      <th>WindSpeed9am</th>\n",
       "      <th>WindSpeed3pm</th>\n",
       "      <th>Humidity9am</th>\n",
       "      <th>Humidity3pm</th>\n",
       "      <th>Pressure9am</th>\n",
       "      <th>Pressure3pm</th>\n",
       "      <th>Temp9am</th>\n",
       "      <th>Temp3pm</th>\n",
       "      <th>RainToday</th>\n",
       "      <th>RainTomorrow</th>\n",
       "    </tr>\n",
       "  </thead>\n",
       "  <tbody>\n",
       "    <tr>\n",
       "      <th>15</th>\n",
       "      <td>2008-12-16</td>\n",
       "      <td>Albury</td>\n",
       "      <td>9.8</td>\n",
       "      <td>27.7</td>\n",
       "      <td>NaN</td>\n",
       "      <td>WNW</td>\n",
       "      <td>50.0</td>\n",
       "      <td>NaN</td>\n",
       "      <td>WNW</td>\n",
       "      <td>NaN</td>\n",
       "      <td>22.0</td>\n",
       "      <td>50.0</td>\n",
       "      <td>28.0</td>\n",
       "      <td>1013.4</td>\n",
       "      <td>1010.3</td>\n",
       "      <td>17.3</td>\n",
       "      <td>26.2</td>\n",
       "      <td>NaN</td>\n",
       "      <td>No</td>\n",
       "    </tr>\n",
       "    <tr>\n",
       "      <th>284</th>\n",
       "      <td>2009-09-11</td>\n",
       "      <td>Albury</td>\n",
       "      <td>NaN</td>\n",
       "      <td>18.8</td>\n",
       "      <td>NaN</td>\n",
       "      <td>N</td>\n",
       "      <td>31.0</td>\n",
       "      <td>SE</td>\n",
       "      <td>NNE</td>\n",
       "      <td>7.0</td>\n",
       "      <td>19.0</td>\n",
       "      <td>83.0</td>\n",
       "      <td>46.0</td>\n",
       "      <td>1022.2</td>\n",
       "      <td>1018.2</td>\n",
       "      <td>8.7</td>\n",
       "      <td>18.1</td>\n",
       "      <td>NaN</td>\n",
       "      <td>No</td>\n",
       "    </tr>\n",
       "    <tr>\n",
       "      <th>436</th>\n",
       "      <td>2010-02-10</td>\n",
       "      <td>Albury</td>\n",
       "      <td>21.7</td>\n",
       "      <td>35.6</td>\n",
       "      <td>NaN</td>\n",
       "      <td>SSW</td>\n",
       "      <td>46.0</td>\n",
       "      <td>NaN</td>\n",
       "      <td>S</td>\n",
       "      <td>NaN</td>\n",
       "      <td>15.0</td>\n",
       "      <td>64.0</td>\n",
       "      <td>28.0</td>\n",
       "      <td>1018.8</td>\n",
       "      <td>1014.7</td>\n",
       "      <td>25.2</td>\n",
       "      <td>32.9</td>\n",
       "      <td>NaN</td>\n",
       "      <td>No</td>\n",
       "    </tr>\n",
       "    <tr>\n",
       "      <th>438</th>\n",
       "      <td>2010-02-12</td>\n",
       "      <td>Albury</td>\n",
       "      <td>22.5</td>\n",
       "      <td>29.1</td>\n",
       "      <td>NaN</td>\n",
       "      <td>SW</td>\n",
       "      <td>24.0</td>\n",
       "      <td>NaN</td>\n",
       "      <td>NNW</td>\n",
       "      <td>NaN</td>\n",
       "      <td>11.0</td>\n",
       "      <td>81.0</td>\n",
       "      <td>67.0</td>\n",
       "      <td>1008.5</td>\n",
       "      <td>1007.8</td>\n",
       "      <td>23.4</td>\n",
       "      <td>26.4</td>\n",
       "      <td>NaN</td>\n",
       "      <td>No</td>\n",
       "    </tr>\n",
       "    <tr>\n",
       "      <th>444</th>\n",
       "      <td>2010-02-18</td>\n",
       "      <td>Albury</td>\n",
       "      <td>NaN</td>\n",
       "      <td>31.2</td>\n",
       "      <td>NaN</td>\n",
       "      <td>ESE</td>\n",
       "      <td>31.0</td>\n",
       "      <td>SSE</td>\n",
       "      <td>SSW</td>\n",
       "      <td>7.0</td>\n",
       "      <td>7.0</td>\n",
       "      <td>33.0</td>\n",
       "      <td>24.0</td>\n",
       "      <td>1020.4</td>\n",
       "      <td>1019.1</td>\n",
       "      <td>21.0</td>\n",
       "      <td>30.0</td>\n",
       "      <td>NaN</td>\n",
       "      <td>No</td>\n",
       "    </tr>\n",
       "  </tbody>\n",
       "</table>\n",
       "</div>"
      ],
      "text/plain": [
       "           Date Location  MinTemp  MaxTemp  Rainfall WindGustDir  \\\n",
       "15   2008-12-16   Albury      9.8     27.7       NaN         WNW   \n",
       "284  2009-09-11   Albury      NaN     18.8       NaN           N   \n",
       "436  2010-02-10   Albury     21.7     35.6       NaN         SSW   \n",
       "438  2010-02-12   Albury     22.5     29.1       NaN          SW   \n",
       "444  2010-02-18   Albury      NaN     31.2       NaN         ESE   \n",
       "\n",
       "     WindGustSpeed WindDir9am WindDir3pm  WindSpeed9am  WindSpeed3pm  \\\n",
       "15            50.0        NaN        WNW           NaN          22.0   \n",
       "284           31.0         SE        NNE           7.0          19.0   \n",
       "436           46.0        NaN          S           NaN          15.0   \n",
       "438           24.0        NaN        NNW           NaN          11.0   \n",
       "444           31.0        SSE        SSW           7.0           7.0   \n",
       "\n",
       "     Humidity9am  Humidity3pm  Pressure9am  Pressure3pm  Temp9am  Temp3pm  \\\n",
       "15          50.0         28.0       1013.4       1010.3     17.3     26.2   \n",
       "284         83.0         46.0       1022.2       1018.2      8.7     18.1   \n",
       "436         64.0         28.0       1018.8       1014.7     25.2     32.9   \n",
       "438         81.0         67.0       1008.5       1007.8     23.4     26.4   \n",
       "444         33.0         24.0       1020.4       1019.1     21.0     30.0   \n",
       "\n",
       "    RainToday RainTomorrow  \n",
       "15        NaN           No  \n",
       "284       NaN           No  \n",
       "436       NaN           No  \n",
       "438       NaN           No  \n",
       "444       NaN           No  "
      ]
     },
     "execution_count": 53,
     "metadata": {},
     "output_type": "execute_result"
    }
   ],
   "source": [
    "only_nan_RainToday = data1.loc[data1['RainToday'].isnull()]\n",
    "only_nan_RainToday.head()"
   ]
  },
  {
   "cell_type": "markdown",
   "id": "05362c66",
   "metadata": {},
   "source": [
    "#### s=only_nan_RainToday   "
   ]
  },
  {
   "cell_type": "code",
   "execution_count": 54,
   "id": "354a2023",
   "metadata": {},
   "outputs": [],
   "source": [
    "#convert the categorical values in the 'RainTomorrow' column of DataFrame data_1 to numerical values of 0 and 1\n",
    "data1['RainTomorrow'] = np.where(data1['RainTomorrow']=='No' , 0 ,1)"
   ]
  },
  {
   "cell_type": "markdown",
   "id": "22ed4e96",
   "metadata": {},
   "source": [
    "## Train Test Split data set"
   ]
  },
  {
   "cell_type": "code",
   "execution_count": 55,
   "id": "c14caa69",
   "metadata": {},
   "outputs": [],
   "source": [
    "x = data1.drop('RainTomorrow',axis=1)\n",
    "y= data1['RainTomorrow']"
   ]
  },
  {
   "cell_type": "code",
   "execution_count": 56,
   "id": "1ea6be37",
   "metadata": {},
   "outputs": [],
   "source": [
    "x_train, x_test, y_train, y_test = train_test_split(x, y, train_size=0.8 , random_state=0 ,stratify=y)"
   ]
  },
  {
   "cell_type": "code",
   "execution_count": 58,
   "id": "55865731",
   "metadata": {},
   "outputs": [
    {
     "data": {
      "text/plain": [
       "Pressure9am      10667\n",
       "Pressure3pm      10643\n",
       "WindDir9am        7501\n",
       "WindGustDir       6902\n",
       "WindGustSpeed     6853\n",
       "WindDir3pm        2508\n",
       "Humidity3pm       2373\n",
       "Temp3pm           1682\n",
       "WindSpeed3pm      1587\n",
       "Humidity9am       1137\n",
       "RainToday         1023\n",
       "Rainfall          1023\n",
       "WindSpeed9am       805\n",
       "Temp9am            473\n",
       "MinTemp            234\n",
       "MaxTemp            158\n",
       "Location             0\n",
       "Date                 0\n",
       "dtype: int64"
      ]
     },
     "execution_count": 58,
     "metadata": {},
     "output_type": "execute_result"
    }
   ],
   "source": [
    "x_train.isnull().sum().sort_values(ascending=False)"
   ]
  },
  {
   "cell_type": "code",
   "execution_count": 60,
   "id": "2f3708a2",
   "metadata": {},
   "outputs": [
    {
     "data": {
      "text/html": [
       "<div>\n",
       "<style scoped>\n",
       "    .dataframe tbody tr th:only-of-type {\n",
       "        vertical-align: middle;\n",
       "    }\n",
       "\n",
       "    .dataframe tbody tr th {\n",
       "        vertical-align: top;\n",
       "    }\n",
       "\n",
       "    .dataframe thead th {\n",
       "        text-align: right;\n",
       "    }\n",
       "</style>\n",
       "<table border=\"1\" class=\"dataframe\">\n",
       "  <thead>\n",
       "    <tr style=\"text-align: right;\">\n",
       "      <th></th>\n",
       "      <th>Date</th>\n",
       "      <th>Location</th>\n",
       "      <th>MinTemp</th>\n",
       "      <th>MaxTemp</th>\n",
       "      <th>Rainfall</th>\n",
       "      <th>WindGustDir</th>\n",
       "      <th>WindGustSpeed</th>\n",
       "      <th>WindDir9am</th>\n",
       "      <th>WindDir3pm</th>\n",
       "      <th>WindSpeed9am</th>\n",
       "      <th>WindSpeed3pm</th>\n",
       "      <th>Humidity9am</th>\n",
       "      <th>Humidity3pm</th>\n",
       "      <th>Pressure9am</th>\n",
       "      <th>Pressure3pm</th>\n",
       "      <th>Temp9am</th>\n",
       "      <th>Temp3pm</th>\n",
       "      <th>RainToday</th>\n",
       "    </tr>\n",
       "  </thead>\n",
       "  <tbody>\n",
       "    <tr>\n",
       "      <th>83344</th>\n",
       "      <td>2015-09-02</td>\n",
       "      <td>Dartmoor</td>\n",
       "      <td>4.6</td>\n",
       "      <td>12.5</td>\n",
       "      <td>0.0</td>\n",
       "      <td>NNE</td>\n",
       "      <td>37.0</td>\n",
       "      <td>N</td>\n",
       "      <td>NE</td>\n",
       "      <td>13.0</td>\n",
       "      <td>11.0</td>\n",
       "      <td>NaN</td>\n",
       "      <td>NaN</td>\n",
       "      <td>1008.0</td>\n",
       "      <td>1005.1</td>\n",
       "      <td>10.9</td>\n",
       "      <td>10.4</td>\n",
       "      <td>No</td>\n",
       "    </tr>\n",
       "    <tr>\n",
       "      <th>10185</th>\n",
       "      <td>2012-03-03</td>\n",
       "      <td>CoffsHarbour</td>\n",
       "      <td>19.0</td>\n",
       "      <td>22.8</td>\n",
       "      <td>20.8</td>\n",
       "      <td>SE</td>\n",
       "      <td>39.0</td>\n",
       "      <td>SW</td>\n",
       "      <td>W</td>\n",
       "      <td>13.0</td>\n",
       "      <td>9.0</td>\n",
       "      <td>96.0</td>\n",
       "      <td>92.0</td>\n",
       "      <td>1019.0</td>\n",
       "      <td>1017.0</td>\n",
       "      <td>19.3</td>\n",
       "      <td>21.0</td>\n",
       "      <td>Yes</td>\n",
       "    </tr>\n",
       "    <tr>\n",
       "      <th>34777</th>\n",
       "      <td>2012-07-11</td>\n",
       "      <td>SydneyAirport</td>\n",
       "      <td>10.4</td>\n",
       "      <td>20.8</td>\n",
       "      <td>8.2</td>\n",
       "      <td>WNW</td>\n",
       "      <td>41.0</td>\n",
       "      <td>NNW</td>\n",
       "      <td>N</td>\n",
       "      <td>19.0</td>\n",
       "      <td>22.0</td>\n",
       "      <td>67.0</td>\n",
       "      <td>39.0</td>\n",
       "      <td>1019.9</td>\n",
       "      <td>1017.4</td>\n",
       "      <td>15.0</td>\n",
       "      <td>20.5</td>\n",
       "      <td>Yes</td>\n",
       "    </tr>\n",
       "    <tr>\n",
       "      <th>57070</th>\n",
       "      <td>2014-07-20</td>\n",
       "      <td>Ballarat</td>\n",
       "      <td>2.3</td>\n",
       "      <td>10.2</td>\n",
       "      <td>0.0</td>\n",
       "      <td>SSE</td>\n",
       "      <td>24.0</td>\n",
       "      <td>SSE</td>\n",
       "      <td>S</td>\n",
       "      <td>11.0</td>\n",
       "      <td>11.0</td>\n",
       "      <td>100.0</td>\n",
       "      <td>73.0</td>\n",
       "      <td>1028.7</td>\n",
       "      <td>1026.8</td>\n",
       "      <td>6.4</td>\n",
       "      <td>9.7</td>\n",
       "      <td>No</td>\n",
       "    </tr>\n",
       "    <tr>\n",
       "      <th>140866</th>\n",
       "      <td>2013-07-19</td>\n",
       "      <td>Darwin</td>\n",
       "      <td>18.9</td>\n",
       "      <td>32.0</td>\n",
       "      <td>0.0</td>\n",
       "      <td>N</td>\n",
       "      <td>35.0</td>\n",
       "      <td>E</td>\n",
       "      <td>N</td>\n",
       "      <td>17.0</td>\n",
       "      <td>24.0</td>\n",
       "      <td>73.0</td>\n",
       "      <td>57.0</td>\n",
       "      <td>1013.1</td>\n",
       "      <td>1009.2</td>\n",
       "      <td>24.9</td>\n",
       "      <td>29.0</td>\n",
       "      <td>No</td>\n",
       "    </tr>\n",
       "  </tbody>\n",
       "</table>\n",
       "</div>"
      ],
      "text/plain": [
       "              Date       Location  MinTemp  MaxTemp  Rainfall WindGustDir  \\\n",
       "83344   2015-09-02       Dartmoor      4.6     12.5       0.0         NNE   \n",
       "10185   2012-03-03   CoffsHarbour     19.0     22.8      20.8          SE   \n",
       "34777   2012-07-11  SydneyAirport     10.4     20.8       8.2         WNW   \n",
       "57070   2014-07-20       Ballarat      2.3     10.2       0.0         SSE   \n",
       "140866  2013-07-19         Darwin     18.9     32.0       0.0           N   \n",
       "\n",
       "        WindGustSpeed WindDir9am WindDir3pm  WindSpeed9am  WindSpeed3pm  \\\n",
       "83344            37.0          N         NE          13.0          11.0   \n",
       "10185            39.0         SW          W          13.0           9.0   \n",
       "34777            41.0        NNW          N          19.0          22.0   \n",
       "57070            24.0        SSE          S          11.0          11.0   \n",
       "140866           35.0          E          N          17.0          24.0   \n",
       "\n",
       "        Humidity9am  Humidity3pm  Pressure9am  Pressure3pm  Temp9am  Temp3pm  \\\n",
       "83344           NaN          NaN       1008.0       1005.1     10.9     10.4   \n",
       "10185          96.0         92.0       1019.0       1017.0     19.3     21.0   \n",
       "34777          67.0         39.0       1019.9       1017.4     15.0     20.5   \n",
       "57070         100.0         73.0       1028.7       1026.8      6.4      9.7   \n",
       "140866         73.0         57.0       1013.1       1009.2     24.9     29.0   \n",
       "\n",
       "       RainToday  \n",
       "83344         No  \n",
       "10185        Yes  \n",
       "34777        Yes  \n",
       "57070         No  \n",
       "140866        No  "
      ]
     },
     "execution_count": 60,
     "metadata": {},
     "output_type": "execute_result"
    }
   ],
   "source": [
    "x_train.head()"
   ]
  },
  {
   "cell_type": "markdown",
   "id": "7b7c17c7",
   "metadata": {},
   "source": [
    "### Handling categorical missing values in x_train Dataframe"
   ]
  },
  {
   "cell_type": "code",
   "execution_count": 63,
   "id": "19a2241c",
   "metadata": {
    "scrolled": true
   },
   "outputs": [
    {
     "name": "stdout",
     "output_type": "stream",
     "text": [
      "                MinTemp   MaxTemp  Rainfall  WindGustSpeed  WindSpeed9am  \\\n",
      "MinTemp        1.000000  0.735884  0.100836       0.176979      0.178662   \n",
      "MaxTemp        0.735884  1.000000 -0.079533       0.068980      0.016737   \n",
      "Rainfall       0.100836 -0.079533  1.000000       0.133223      0.085332   \n",
      "WindGustSpeed  0.176979  0.068980  0.133223       1.000000      0.603670   \n",
      "WindSpeed9am   0.178662  0.016737  0.085332       0.603670      1.000000   \n",
      "WindSpeed3pm   0.175502  0.052514  0.054945       0.685455      0.517987   \n",
      "Humidity9am   -0.236670 -0.507404  0.224590      -0.216604     -0.272672   \n",
      "Humidity3pm    0.004330 -0.510427  0.255540      -0.029720     -0.034348   \n",
      "Pressure9am   -0.449654 -0.330746 -0.166936      -0.457908     -0.228810   \n",
      "Pressure3pm   -0.460441 -0.426168 -0.124501      -0.413014     -0.176364   \n",
      "Temp9am        0.901841  0.887035  0.006786       0.150372      0.131863   \n",
      "Temp3pm        0.708589  0.984552 -0.082909       0.033643      0.006412   \n",
      "\n",
      "               WindSpeed3pm  Humidity9am  Humidity3pm  Pressure9am  \\\n",
      "MinTemp            0.175502    -0.236670     0.004330    -0.449654   \n",
      "MaxTemp            0.052514    -0.507404    -0.510427    -0.330746   \n",
      "Rainfall           0.054945     0.224590     0.255540    -0.166936   \n",
      "WindGustSpeed      0.685455    -0.216604    -0.029720    -0.457908   \n",
      "WindSpeed9am       0.517987    -0.272672    -0.034348    -0.228810   \n",
      "WindSpeed3pm       1.000000    -0.148481     0.013250    -0.295700   \n",
      "Humidity9am       -0.148481     1.000000     0.668154     0.141223   \n",
      "Humidity3pm        0.013250     0.668154     1.000000    -0.026119   \n",
      "Pressure9am       -0.295700     0.141223    -0.026119     1.000000   \n",
      "Pressure3pm       -0.255965     0.188996     0.053125     0.961273   \n",
      "Temp9am            0.164818    -0.475236    -0.223362    -0.421334   \n",
      "Temp3pm            0.030148    -0.501181    -0.558964    -0.285842   \n",
      "\n",
      "               Pressure3pm   Temp9am   Temp3pm  \n",
      "MinTemp          -0.460441  0.901841  0.708589  \n",
      "MaxTemp          -0.426168  0.887035  0.984552  \n",
      "Rainfall         -0.124501  0.006786 -0.082909  \n",
      "WindGustSpeed    -0.413014  0.150372  0.033643  \n",
      "WindSpeed9am     -0.176364  0.131863  0.006412  \n",
      "WindSpeed3pm     -0.255965  0.164818  0.030148  \n",
      "Humidity9am       0.188996 -0.475236 -0.501181  \n",
      "Humidity3pm       0.053125 -0.223362 -0.558964  \n",
      "Pressure9am       0.961273 -0.421334 -0.285842  \n",
      "Pressure3pm       1.000000 -0.469333 -0.388883  \n",
      "Temp9am          -0.469333  1.000000  0.860568  \n",
      "Temp3pm          -0.388883  0.860568  1.000000  \n"
     ]
    }
   ],
   "source": [
    "# Calculate the correlation matrix\n",
    "correlation_matrix = x_train.corr()\n",
    "\n",
    "# Print the correlation matrix\n",
    "print(correlation_matrix)"
   ]
  },
  {
   "cell_type": "code",
   "execution_count": 65,
   "id": "a3e5de8d",
   "metadata": {
    "scrolled": true
   },
   "outputs": [
    {
     "name": "stdout",
     "output_type": "stream",
     "text": [
      "Date              object\n",
      "Location          object\n",
      "MinTemp          float64\n",
      "MaxTemp          float64\n",
      "Rainfall         float64\n",
      "WindGustDir       object\n",
      "WindGustSpeed    float64\n",
      "WindDir9am        object\n",
      "WindDir3pm        object\n",
      "WindSpeed9am     float64\n",
      "WindSpeed3pm     float64\n",
      "Humidity9am      float64\n",
      "Humidity3pm      float64\n",
      "Pressure9am      float64\n",
      "Pressure3pm      float64\n",
      "Temp9am          float64\n",
      "Temp3pm          float64\n",
      "RainToday         object\n",
      "dtype: object\n"
     ]
    }
   ],
   "source": [
    "print(x_train.dtypes)"
   ]
  },
  {
   "cell_type": "code",
   "execution_count": 89,
   "id": "729c2c5d",
   "metadata": {},
   "outputs": [
    {
     "name": "stdout",
     "output_type": "stream",
     "text": [
      "SE     8508\n",
      "W      7948\n",
      "S      7634\n",
      "WSW    7458\n",
      "SSE    7319\n",
      "SW     7266\n",
      "N      6958\n",
      "WNW    6954\n",
      "NW     6792\n",
      "ESE    6714\n",
      "E      6679\n",
      "NE     6539\n",
      "SSW    6402\n",
      "NNW    6196\n",
      "ENE    6167\n",
      "NNE    5127\n",
      "Name: WindDir3pm, dtype: int64\n"
     ]
    }
   ],
   "source": [
    "value_counts = x_train['WindDir3pm'].value_counts()\n",
    "print(value_counts)"
   ]
  },
  {
   "cell_type": "code",
   "execution_count": null,
   "id": "732b29de",
   "metadata": {},
   "outputs": [],
   "source": []
  },
  {
   "cell_type": "code",
   "execution_count": 90,
   "id": "5549cf68",
   "metadata": {},
   "outputs": [],
   "source": [
    "def impute_nan(df,variable):\n",
    "    df[variable+\"_random\"]=df[variable]# Create a new column to store imputed values\n",
    "\n",
    "    # Get a random sample from the non-missing values to fill the missing values\n",
    "    random_sample=df[variable].dropna().sample(df[variable].isnull().sum(),random_state=0)\n",
    "    # Set the index of the random sample to match the index of missing values\n",
    "    random_sample.index=df[df[variable].isnull()].index\n",
    "    # Update the missing values in the new column with the random sample\n",
    "    df.loc[df[variable].isnull(),variable+'_random']=random_sample"
   ]
  },
  {
   "cell_type": "code",
   "execution_count": 91,
   "id": "be3cb7dc",
   "metadata": {},
   "outputs": [],
   "source": [
    "for i in ['WindGustDir','WindDir9am','WindDir3pm']:\n",
    "    impute_nan(x_train,i)\n",
    "    x_train.drop(i,axis=1,inplace=True)"
   ]
  },
  {
   "cell_type": "code",
   "execution_count": 92,
   "id": "3778b069",
   "metadata": {
    "scrolled": true
   },
   "outputs": [
    {
     "data": {
      "text/plain": [
       "Date                      0\n",
       "Location                  0\n",
       "MinTemp                 234\n",
       "MaxTemp                 158\n",
       "Rainfall               1023\n",
       "WindGustSpeed          6853\n",
       "WindSpeed9am            805\n",
       "WindSpeed3pm           1587\n",
       "Humidity9am            1137\n",
       "Humidity3pm            2373\n",
       "Pressure9am           10667\n",
       "Pressure3pm           10643\n",
       "Temp9am                 473\n",
       "Temp3pm                1682\n",
       "RainToday              1023\n",
       "WindGustDir_random        0\n",
       "WindDir9am_random         0\n",
       "WindDir3pm_random         0\n",
       "dtype: int64"
      ]
     },
     "execution_count": 92,
     "metadata": {},
     "output_type": "execute_result"
    }
   ],
   "source": [
    "x_train.isnull().sum()"
   ]
  },
  {
   "cell_type": "code",
   "execution_count": 93,
   "id": "913baf90",
   "metadata": {},
   "outputs": [
    {
     "data": {
      "text/plain": [
       "Pressure9am           10667\n",
       "Pressure3pm           10643\n",
       "WindGustSpeed          6853\n",
       "Humidity3pm            2373\n",
       "Temp3pm                1682\n",
       "WindSpeed3pm           1587\n",
       "Humidity9am            1137\n",
       "Rainfall               1023\n",
       "RainToday              1023\n",
       "WindSpeed9am            805\n",
       "Temp9am                 473\n",
       "MinTemp                 234\n",
       "MaxTemp                 158\n",
       "WindGustDir_random        0\n",
       "WindDir9am_random         0\n",
       "Date                      0\n",
       "Location                  0\n",
       "WindDir3pm_random         0\n",
       "dtype: int64"
      ]
     },
     "execution_count": 93,
     "metadata": {},
     "output_type": "execute_result"
    }
   ],
   "source": [
    "x_train.isnull().sum().sort_values(ascending=False)"
   ]
  },
  {
   "cell_type": "code",
   "execution_count": 106,
   "id": "0835ed55",
   "metadata": {},
   "outputs": [
    {
     "data": {
      "text/plain": [
       "(113169, 18)"
      ]
     },
     "execution_count": 106,
     "metadata": {},
     "output_type": "execute_result"
    }
   ],
   "source": [
    "x_train.shape"
   ]
  },
  {
   "cell_type": "code",
   "execution_count": 107,
   "id": "45b41d32",
   "metadata": {},
   "outputs": [
    {
     "data": {
      "text/html": [
       "<div>\n",
       "<style scoped>\n",
       "    .dataframe tbody tr th:only-of-type {\n",
       "        vertical-align: middle;\n",
       "    }\n",
       "\n",
       "    .dataframe tbody tr th {\n",
       "        vertical-align: top;\n",
       "    }\n",
       "\n",
       "    .dataframe thead th {\n",
       "        text-align: right;\n",
       "    }\n",
       "</style>\n",
       "<table border=\"1\" class=\"dataframe\">\n",
       "  <thead>\n",
       "    <tr style=\"text-align: right;\">\n",
       "      <th></th>\n",
       "      <th>Date</th>\n",
       "      <th>Location</th>\n",
       "      <th>MinTemp</th>\n",
       "      <th>MaxTemp</th>\n",
       "      <th>Rainfall</th>\n",
       "      <th>WindGustSpeed</th>\n",
       "      <th>WindSpeed9am</th>\n",
       "      <th>WindSpeed3pm</th>\n",
       "      <th>Humidity9am</th>\n",
       "      <th>Humidity3pm</th>\n",
       "      <th>Pressure9am</th>\n",
       "      <th>Pressure3pm</th>\n",
       "      <th>Temp9am</th>\n",
       "      <th>Temp3pm</th>\n",
       "      <th>RainToday</th>\n",
       "      <th>WindGustDir_random</th>\n",
       "      <th>WindDir9am_random</th>\n",
       "      <th>WindDir3pm_random</th>\n",
       "    </tr>\n",
       "  </thead>\n",
       "  <tbody>\n",
       "    <tr>\n",
       "      <th>83344</th>\n",
       "      <td>2015-09-02</td>\n",
       "      <td>Dartmoor</td>\n",
       "      <td>4.6</td>\n",
       "      <td>12.5</td>\n",
       "      <td>0.0</td>\n",
       "      <td>37.0</td>\n",
       "      <td>13.0</td>\n",
       "      <td>11.0</td>\n",
       "      <td>NaN</td>\n",
       "      <td>NaN</td>\n",
       "      <td>1008.0</td>\n",
       "      <td>1005.1</td>\n",
       "      <td>10.9</td>\n",
       "      <td>10.4</td>\n",
       "      <td>No</td>\n",
       "      <td>NNE</td>\n",
       "      <td>N</td>\n",
       "      <td>NE</td>\n",
       "    </tr>\n",
       "    <tr>\n",
       "      <th>10185</th>\n",
       "      <td>2012-03-03</td>\n",
       "      <td>CoffsHarbour</td>\n",
       "      <td>19.0</td>\n",
       "      <td>22.8</td>\n",
       "      <td>20.8</td>\n",
       "      <td>39.0</td>\n",
       "      <td>13.0</td>\n",
       "      <td>9.0</td>\n",
       "      <td>96.0</td>\n",
       "      <td>92.0</td>\n",
       "      <td>1019.0</td>\n",
       "      <td>1017.0</td>\n",
       "      <td>19.3</td>\n",
       "      <td>21.0</td>\n",
       "      <td>Yes</td>\n",
       "      <td>SE</td>\n",
       "      <td>SW</td>\n",
       "      <td>W</td>\n",
       "    </tr>\n",
       "    <tr>\n",
       "      <th>34777</th>\n",
       "      <td>2012-07-11</td>\n",
       "      <td>SydneyAirport</td>\n",
       "      <td>10.4</td>\n",
       "      <td>20.8</td>\n",
       "      <td>8.2</td>\n",
       "      <td>41.0</td>\n",
       "      <td>19.0</td>\n",
       "      <td>22.0</td>\n",
       "      <td>67.0</td>\n",
       "      <td>39.0</td>\n",
       "      <td>1019.9</td>\n",
       "      <td>1017.4</td>\n",
       "      <td>15.0</td>\n",
       "      <td>20.5</td>\n",
       "      <td>Yes</td>\n",
       "      <td>WNW</td>\n",
       "      <td>NNW</td>\n",
       "      <td>N</td>\n",
       "    </tr>\n",
       "    <tr>\n",
       "      <th>57070</th>\n",
       "      <td>2014-07-20</td>\n",
       "      <td>Ballarat</td>\n",
       "      <td>2.3</td>\n",
       "      <td>10.2</td>\n",
       "      <td>0.0</td>\n",
       "      <td>24.0</td>\n",
       "      <td>11.0</td>\n",
       "      <td>11.0</td>\n",
       "      <td>100.0</td>\n",
       "      <td>73.0</td>\n",
       "      <td>1028.7</td>\n",
       "      <td>1026.8</td>\n",
       "      <td>6.4</td>\n",
       "      <td>9.7</td>\n",
       "      <td>No</td>\n",
       "      <td>SSE</td>\n",
       "      <td>SSE</td>\n",
       "      <td>S</td>\n",
       "    </tr>\n",
       "    <tr>\n",
       "      <th>140866</th>\n",
       "      <td>2013-07-19</td>\n",
       "      <td>Darwin</td>\n",
       "      <td>18.9</td>\n",
       "      <td>32.0</td>\n",
       "      <td>0.0</td>\n",
       "      <td>35.0</td>\n",
       "      <td>17.0</td>\n",
       "      <td>24.0</td>\n",
       "      <td>73.0</td>\n",
       "      <td>57.0</td>\n",
       "      <td>1013.1</td>\n",
       "      <td>1009.2</td>\n",
       "      <td>24.9</td>\n",
       "      <td>29.0</td>\n",
       "      <td>No</td>\n",
       "      <td>N</td>\n",
       "      <td>E</td>\n",
       "      <td>N</td>\n",
       "    </tr>\n",
       "    <tr>\n",
       "      <th>...</th>\n",
       "      <td>...</td>\n",
       "      <td>...</td>\n",
       "      <td>...</td>\n",
       "      <td>...</td>\n",
       "      <td>...</td>\n",
       "      <td>...</td>\n",
       "      <td>...</td>\n",
       "      <td>...</td>\n",
       "      <td>...</td>\n",
       "      <td>...</td>\n",
       "      <td>...</td>\n",
       "      <td>...</td>\n",
       "      <td>...</td>\n",
       "      <td>...</td>\n",
       "      <td>...</td>\n",
       "      <td>...</td>\n",
       "      <td>...</td>\n",
       "      <td>...</td>\n",
       "    </tr>\n",
       "    <tr>\n",
       "      <th>79632</th>\n",
       "      <td>2013-09-29</td>\n",
       "      <td>Watsonia</td>\n",
       "      <td>4.1</td>\n",
       "      <td>20.3</td>\n",
       "      <td>0.2</td>\n",
       "      <td>50.0</td>\n",
       "      <td>20.0</td>\n",
       "      <td>26.0</td>\n",
       "      <td>58.0</td>\n",
       "      <td>51.0</td>\n",
       "      <td>1015.1</td>\n",
       "      <td>1011.4</td>\n",
       "      <td>14.1</td>\n",
       "      <td>19.6</td>\n",
       "      <td>No</td>\n",
       "      <td>NNW</td>\n",
       "      <td>N</td>\n",
       "      <td>N</td>\n",
       "    </tr>\n",
       "    <tr>\n",
       "      <th>2882</th>\n",
       "      <td>2017-01-19</td>\n",
       "      <td>Albury</td>\n",
       "      <td>14.9</td>\n",
       "      <td>33.3</td>\n",
       "      <td>0.0</td>\n",
       "      <td>24.0</td>\n",
       "      <td>20.0</td>\n",
       "      <td>13.0</td>\n",
       "      <td>52.0</td>\n",
       "      <td>29.0</td>\n",
       "      <td>1011.3</td>\n",
       "      <td>1006.5</td>\n",
       "      <td>20.8</td>\n",
       "      <td>31.5</td>\n",
       "      <td>No</td>\n",
       "      <td>SSE</td>\n",
       "      <td>SSE</td>\n",
       "      <td>SE</td>\n",
       "    </tr>\n",
       "    <tr>\n",
       "      <th>86556</th>\n",
       "      <td>2015-09-21</td>\n",
       "      <td>Brisbane</td>\n",
       "      <td>14.2</td>\n",
       "      <td>24.3</td>\n",
       "      <td>1.6</td>\n",
       "      <td>24.0</td>\n",
       "      <td>7.0</td>\n",
       "      <td>9.0</td>\n",
       "      <td>59.0</td>\n",
       "      <td>56.0</td>\n",
       "      <td>1021.0</td>\n",
       "      <td>1017.5</td>\n",
       "      <td>20.8</td>\n",
       "      <td>22.1</td>\n",
       "      <td>Yes</td>\n",
       "      <td>E</td>\n",
       "      <td>S</td>\n",
       "      <td>E</td>\n",
       "    </tr>\n",
       "    <tr>\n",
       "      <th>62514</th>\n",
       "      <td>2012-09-24</td>\n",
       "      <td>Sale</td>\n",
       "      <td>7.4</td>\n",
       "      <td>13.3</td>\n",
       "      <td>0.6</td>\n",
       "      <td>63.0</td>\n",
       "      <td>30.0</td>\n",
       "      <td>33.0</td>\n",
       "      <td>78.0</td>\n",
       "      <td>53.0</td>\n",
       "      <td>1015.0</td>\n",
       "      <td>1015.4</td>\n",
       "      <td>8.2</td>\n",
       "      <td>12.1</td>\n",
       "      <td>No</td>\n",
       "      <td>W</td>\n",
       "      <td>W</td>\n",
       "      <td>W</td>\n",
       "    </tr>\n",
       "    <tr>\n",
       "      <th>114008</th>\n",
       "      <td>2015-10-23</td>\n",
       "      <td>Witchcliffe</td>\n",
       "      <td>15.6</td>\n",
       "      <td>19.1</td>\n",
       "      <td>0.0</td>\n",
       "      <td>41.0</td>\n",
       "      <td>19.0</td>\n",
       "      <td>22.0</td>\n",
       "      <td>75.0</td>\n",
       "      <td>78.0</td>\n",
       "      <td>1015.8</td>\n",
       "      <td>1017.3</td>\n",
       "      <td>17.5</td>\n",
       "      <td>16.3</td>\n",
       "      <td>No</td>\n",
       "      <td>SW</td>\n",
       "      <td>SW</td>\n",
       "      <td>SSW</td>\n",
       "    </tr>\n",
       "  </tbody>\n",
       "</table>\n",
       "<p>113169 rows × 18 columns</p>\n",
       "</div>"
      ],
      "text/plain": [
       "              Date       Location  MinTemp  MaxTemp  Rainfall  WindGustSpeed  \\\n",
       "83344   2015-09-02       Dartmoor      4.6     12.5       0.0           37.0   \n",
       "10185   2012-03-03   CoffsHarbour     19.0     22.8      20.8           39.0   \n",
       "34777   2012-07-11  SydneyAirport     10.4     20.8       8.2           41.0   \n",
       "57070   2014-07-20       Ballarat      2.3     10.2       0.0           24.0   \n",
       "140866  2013-07-19         Darwin     18.9     32.0       0.0           35.0   \n",
       "...            ...            ...      ...      ...       ...            ...   \n",
       "79632   2013-09-29       Watsonia      4.1     20.3       0.2           50.0   \n",
       "2882    2017-01-19         Albury     14.9     33.3       0.0           24.0   \n",
       "86556   2015-09-21       Brisbane     14.2     24.3       1.6           24.0   \n",
       "62514   2012-09-24           Sale      7.4     13.3       0.6           63.0   \n",
       "114008  2015-10-23    Witchcliffe     15.6     19.1       0.0           41.0   \n",
       "\n",
       "        WindSpeed9am  WindSpeed3pm  Humidity9am  Humidity3pm  Pressure9am  \\\n",
       "83344           13.0          11.0          NaN          NaN       1008.0   \n",
       "10185           13.0           9.0         96.0         92.0       1019.0   \n",
       "34777           19.0          22.0         67.0         39.0       1019.9   \n",
       "57070           11.0          11.0        100.0         73.0       1028.7   \n",
       "140866          17.0          24.0         73.0         57.0       1013.1   \n",
       "...              ...           ...          ...          ...          ...   \n",
       "79632           20.0          26.0         58.0         51.0       1015.1   \n",
       "2882            20.0          13.0         52.0         29.0       1011.3   \n",
       "86556            7.0           9.0         59.0         56.0       1021.0   \n",
       "62514           30.0          33.0         78.0         53.0       1015.0   \n",
       "114008          19.0          22.0         75.0         78.0       1015.8   \n",
       "\n",
       "        Pressure3pm  Temp9am  Temp3pm RainToday WindGustDir_random  \\\n",
       "83344        1005.1     10.9     10.4        No                NNE   \n",
       "10185        1017.0     19.3     21.0       Yes                 SE   \n",
       "34777        1017.4     15.0     20.5       Yes                WNW   \n",
       "57070        1026.8      6.4      9.7        No                SSE   \n",
       "140866       1009.2     24.9     29.0        No                  N   \n",
       "...             ...      ...      ...       ...                ...   \n",
       "79632        1011.4     14.1     19.6        No                NNW   \n",
       "2882         1006.5     20.8     31.5        No                SSE   \n",
       "86556        1017.5     20.8     22.1       Yes                  E   \n",
       "62514        1015.4      8.2     12.1        No                  W   \n",
       "114008       1017.3     17.5     16.3        No                 SW   \n",
       "\n",
       "       WindDir9am_random WindDir3pm_random  \n",
       "83344                  N                NE  \n",
       "10185                 SW                 W  \n",
       "34777                NNW                 N  \n",
       "57070                SSE                 S  \n",
       "140866                 E                 N  \n",
       "...                  ...               ...  \n",
       "79632                  N                 N  \n",
       "2882                 SSE                SE  \n",
       "86556                  S                 E  \n",
       "62514                  W                 W  \n",
       "114008                SW               SSW  \n",
       "\n",
       "[113169 rows x 18 columns]"
      ]
     },
     "execution_count": 107,
     "metadata": {},
     "output_type": "execute_result"
    }
   ],
   "source": [
    "x_train"
   ]
  },
  {
   "cell_type": "markdown",
   "id": "935ffd33",
   "metadata": {},
   "source": [
    "##### Highest_corr"
   ]
  },
  {
   "cell_type": "code",
   "execution_count": null,
   "id": "0f0175b2",
   "metadata": {},
   "outputs": [],
   "source": []
  },
  {
   "cell_type": "code",
   "execution_count": 113,
   "id": "536c4405",
   "metadata": {},
   "outputs": [],
   "source": [
    "def highest_corr(df, column_name):\n",
    "    corr_list = []\n",
    "    for i in df.columns:\n",
    "        try:\n",
    "            corr = df[column_name].corr(df[i])\n",
    "            corr_list.append((i, corr))\n",
    "        except:\n",
    "            pass\n",
    "    # Sort the correlations in ascending order\n",
    "    corr_list.sort(key=lambda x: x[1], reverse=True)\n",
    "    for item in corr_list:\n",
    "        print('Correlation between', column_name, 'and', item[0], 'is', item[1])"
   ]
  },
  {
   "cell_type": "code",
   "execution_count": 114,
   "id": "0a748ff5",
   "metadata": {},
   "outputs": [
    {
     "name": "stdout",
     "output_type": "stream",
     "text": [
      "Correlation between MinTemp and MinTemp is 1.0\n",
      "Correlation between MinTemp and Temp9am is 0.9018410385738725\n",
      "Correlation between MinTemp and MaxTemp is 0.7358839716540279\n",
      "Correlation between MinTemp and Temp3pm is 0.7085887035045555\n",
      "Correlation between MinTemp and WindSpeed9am is 0.1786621562442919\n",
      "Correlation between MinTemp and WindGustSpeed is 0.17697924155922007\n",
      "Correlation between MinTemp and WindSpeed3pm is 0.17550173370522804\n",
      "Correlation between MinTemp and Rainfall is 0.10083629820223902\n",
      "Correlation between MinTemp and Humidity3pm is 0.004329936649267464\n",
      "Correlation between MinTemp and Humidity9am is -0.23666970015280647\n",
      "Correlation between MinTemp and Pressure9am is -0.44965425709836293\n",
      "Correlation between MinTemp and Pressure3pm is -0.460441035623793\n"
     ]
    }
   ],
   "source": [
    "highest_corr(x_train,'MinTemp')"
   ]
  },
  {
   "cell_type": "code",
   "execution_count": 115,
   "id": "d0b76b6a",
   "metadata": {},
   "outputs": [
    {
     "name": "stdout",
     "output_type": "stream",
     "text": [
      "Correlation between MaxTemp and MaxTemp is 1.0\n",
      "Correlation between MaxTemp and Temp3pm is 0.9845520009395061\n",
      "Correlation between MaxTemp and Temp9am is 0.8870351788846065\n",
      "Correlation between MaxTemp and MinTemp is 0.7358839716540279\n",
      "Correlation between MaxTemp and WindGustSpeed is 0.06897992111496366\n",
      "Correlation between MaxTemp and WindSpeed3pm is 0.0525143411854652\n",
      "Correlation between MaxTemp and WindSpeed9am is 0.01673675904978758\n",
      "Correlation between MaxTemp and Rainfall is -0.07953323383205789\n",
      "Correlation between MaxTemp and Pressure9am is -0.33074574072614626\n",
      "Correlation between MaxTemp and Pressure3pm is -0.4261675308481673\n",
      "Correlation between MaxTemp and Humidity9am is -0.5074043182597318\n",
      "Correlation between MaxTemp and Humidity3pm is -0.5104266855965788\n"
     ]
    }
   ],
   "source": [
    "highest_corr(x_train,'MaxTemp')"
   ]
  },
  {
   "cell_type": "code",
   "execution_count": 119,
   "id": "a76856dc",
   "metadata": {},
   "outputs": [
    {
     "data": {
      "text/plain": [
       "count    112935.000000\n",
       "mean         12.185188\n",
       "std           6.397735\n",
       "min          -8.200000\n",
       "25%           7.600000\n",
       "50%          12.000000\n",
       "75%          16.800000\n",
       "max          33.900000\n",
       "Name: MinTemp, dtype: float64"
      ]
     },
     "execution_count": 119,
     "metadata": {},
     "output_type": "execute_result"
    }
   ],
   "source": [
    "x_train['MinTemp'].describe()"
   ]
  },
  {
   "cell_type": "code",
   "execution_count": 120,
   "id": "b7ceaa09",
   "metadata": {},
   "outputs": [],
   "source": [
    "for i in ['MinTemp','MaxTemp']:\n",
    "    impute_nan(x_train,i)\n",
    "    x_train.drop(i,axis=1,inplace=True)"
   ]
  },
  {
   "cell_type": "code",
   "execution_count": 121,
   "id": "229319bf",
   "metadata": {},
   "outputs": [
    {
     "data": {
      "text/plain": [
       "Pressure9am           10667\n",
       "Pressure3pm           10643\n",
       "WindGustSpeed          6853\n",
       "Humidity3pm            2373\n",
       "Temp3pm                1682\n",
       "WindSpeed3pm           1587\n",
       "Humidity9am            1137\n",
       "Rainfall               1023\n",
       "RainToday              1023\n",
       "WindSpeed9am            805\n",
       "Temp9am                 473\n",
       "WindDir9am_random         0\n",
       "MinTemp_random            0\n",
       "WindDir3pm_random         0\n",
       "Date                      0\n",
       "WindGustDir_random        0\n",
       "Location                  0\n",
       "MaxTemp_random            0\n",
       "dtype: int64"
      ]
     },
     "execution_count": 121,
     "metadata": {},
     "output_type": "execute_result"
    }
   ],
   "source": [
    "x_train.isnull().sum().sort_values(ascending=False)"
   ]
  },
  {
   "cell_type": "code",
   "execution_count": 122,
   "id": "428082b0",
   "metadata": {},
   "outputs": [
    {
     "name": "stdout",
     "output_type": "stream",
     "text": [
      "Correlation between MinTemp_random and MinTemp_random is 0.9999999999999999\n",
      "Correlation between MinTemp_random and Temp9am is 0.900640162945106\n",
      "Correlation between MinTemp_random and MaxTemp_random is 0.7336261952074625\n",
      "Correlation between MinTemp_random and Temp3pm is 0.7075133482419993\n",
      "Correlation between MinTemp_random and WindSpeed9am is 0.17839462698121433\n",
      "Correlation between MinTemp_random and WindGustSpeed is 0.1768474335692877\n",
      "Correlation between MinTemp_random and WindSpeed3pm is 0.17520503272208454\n",
      "Correlation between MinTemp_random and Rainfall is 0.10048918367351017\n",
      "Correlation between MinTemp_random and Humidity3pm is 0.004229965193592538\n",
      "Correlation between MinTemp_random and Humidity9am is -0.2364297786482734\n",
      "Correlation between MinTemp_random and Pressure9am is -0.4490108822266013\n",
      "Correlation between MinTemp_random and Pressure3pm is -0.45975396465299356\n"
     ]
    }
   ],
   "source": [
    "highest_corr(x_train,'MinTemp_random')"
   ]
  },
  {
   "cell_type": "code",
   "execution_count": 123,
   "id": "df160261",
   "metadata": {},
   "outputs": [
    {
     "name": "stdout",
     "output_type": "stream",
     "text": [
      "Correlation between MaxTemp_random and MaxTemp_random is 1.0\n",
      "Correlation between MaxTemp_random and Temp3pm is 0.9837255847805434\n",
      "Correlation between MaxTemp_random and Temp9am is 0.8860224774742959\n",
      "Correlation between MaxTemp_random and MinTemp_random is 0.7336261952074624\n",
      "Correlation between MaxTemp_random and WindGustSpeed is 0.0690111209948527\n",
      "Correlation between MaxTemp_random and WindSpeed3pm is 0.052566863140025344\n",
      "Correlation between MaxTemp_random and WindSpeed9am is 0.016875368126709655\n",
      "Correlation between MaxTemp_random and Rainfall is -0.07932179862875323\n",
      "Correlation between MaxTemp_random and Pressure9am is -0.3306264825163019\n",
      "Correlation between MaxTemp_random and Pressure3pm is -0.4259088446193108\n",
      "Correlation between MaxTemp_random and Humidity9am is -0.5069876153503229\n",
      "Correlation between MaxTemp_random and Humidity3pm is -0.5099028448516041\n"
     ]
    }
   ],
   "source": [
    "highest_corr(x_train,'MaxTemp_random')"
   ]
  },
  {
   "cell_type": "code",
   "execution_count": null,
   "id": "e9df868c",
   "metadata": {},
   "outputs": [],
   "source": []
  },
  {
   "cell_type": "code",
   "execution_count": 124,
   "id": "e065c5bc",
   "metadata": {},
   "outputs": [
    {
     "data": {
      "text/plain": [
       "Date                      0\n",
       "Location                  0\n",
       "Rainfall               1023\n",
       "WindGustSpeed          6853\n",
       "WindSpeed9am            805\n",
       "WindSpeed3pm           1587\n",
       "Humidity9am            1137\n",
       "Humidity3pm            2373\n",
       "Pressure9am           10667\n",
       "Pressure3pm           10643\n",
       "Temp9am                 473\n",
       "Temp3pm                1682\n",
       "RainToday              1023\n",
       "WindGustDir_random        0\n",
       "WindDir9am_random         0\n",
       "WindDir3pm_random         0\n",
       "MinTemp_random            0\n",
       "MaxTemp_random            0\n",
       "dtype: int64"
      ]
     },
     "execution_count": 124,
     "metadata": {},
     "output_type": "execute_result"
    }
   ],
   "source": [
    "x_train.isnull().sum()"
   ]
  },
  {
   "cell_type": "code",
   "execution_count": 125,
   "id": "27f869a8",
   "metadata": {},
   "outputs": [
    {
     "name": "stdout",
     "output_type": "stream",
     "text": [
      "Correlation between Pressure9am and Pressure9am is 1.0\n",
      "Correlation between Pressure9am and Pressure3pm is 0.961273443753516\n",
      "Correlation between Pressure9am and Humidity9am is 0.14122252344487873\n",
      "Correlation between Pressure9am and Humidity3pm is -0.026119283393258263\n",
      "Correlation between Pressure9am and Rainfall is -0.16693620527181494\n",
      "Correlation between Pressure9am and WindSpeed9am is -0.22880985687453947\n",
      "Correlation between Pressure9am and Temp3pm is -0.2858418150715324\n",
      "Correlation between Pressure9am and WindSpeed3pm is -0.2957003261323009\n",
      "Correlation between Pressure9am and MaxTemp_random is -0.33062648251630194\n",
      "Correlation between Pressure9am and Temp9am is -0.4213342524094301\n",
      "Correlation between Pressure9am and MinTemp_random is -0.4490108822266013\n",
      "Correlation between Pressure9am and WindGustSpeed is -0.45790802696977767\n"
     ]
    }
   ],
   "source": [
    "highest_corr(x_train,'Pressure9am')"
   ]
  },
  {
   "cell_type": "markdown",
   "id": "07dd0eaf",
   "metadata": {},
   "source": [
    "correlation between  Pressure9am and  Pressure3pm  is  0.9612734437535151 which is very high and \n",
    "we can see that missing values in both case is also quite high so if we use random computing then we \n",
    "should remove one of the column becase otherwise it will affect both the feature(correlation will differ)"
   ]
  },
  {
   "cell_type": "markdown",
   "id": "a0d14873",
   "metadata": {},
   "source": [
    "#### Fill the missing values in the 'Temp3pm' and 'Temp9am' columns."
   ]
  },
  {
   "cell_type": "code",
   "execution_count": 128,
   "id": "beb8d695",
   "metadata": {},
   "outputs": [
    {
     "data": {
      "text/html": [
       "<div>\n",
       "<style scoped>\n",
       "    .dataframe tbody tr th:only-of-type {\n",
       "        vertical-align: middle;\n",
       "    }\n",
       "\n",
       "    .dataframe tbody tr th {\n",
       "        vertical-align: top;\n",
       "    }\n",
       "\n",
       "    .dataframe thead th {\n",
       "        text-align: right;\n",
       "    }\n",
       "</style>\n",
       "<table border=\"1\" class=\"dataframe\">\n",
       "  <thead>\n",
       "    <tr style=\"text-align: right;\">\n",
       "      <th></th>\n",
       "      <th>Temp9am</th>\n",
       "    </tr>\n",
       "  </thead>\n",
       "  <tbody>\n",
       "    <tr>\n",
       "      <th>83344</th>\n",
       "      <td>10.9</td>\n",
       "    </tr>\n",
       "    <tr>\n",
       "      <th>10185</th>\n",
       "      <td>19.3</td>\n",
       "    </tr>\n",
       "    <tr>\n",
       "      <th>34777</th>\n",
       "      <td>15.0</td>\n",
       "    </tr>\n",
       "    <tr>\n",
       "      <th>57070</th>\n",
       "      <td>6.4</td>\n",
       "    </tr>\n",
       "    <tr>\n",
       "      <th>140866</th>\n",
       "      <td>24.9</td>\n",
       "    </tr>\n",
       "    <tr>\n",
       "      <th>...</th>\n",
       "      <td>...</td>\n",
       "    </tr>\n",
       "    <tr>\n",
       "      <th>79632</th>\n",
       "      <td>14.1</td>\n",
       "    </tr>\n",
       "    <tr>\n",
       "      <th>2882</th>\n",
       "      <td>20.8</td>\n",
       "    </tr>\n",
       "    <tr>\n",
       "      <th>86556</th>\n",
       "      <td>20.8</td>\n",
       "    </tr>\n",
       "    <tr>\n",
       "      <th>62514</th>\n",
       "      <td>8.2</td>\n",
       "    </tr>\n",
       "    <tr>\n",
       "      <th>114008</th>\n",
       "      <td>17.5</td>\n",
       "    </tr>\n",
       "  </tbody>\n",
       "</table>\n",
       "<p>113169 rows × 1 columns</p>\n",
       "</div>"
      ],
      "text/plain": [
       "        Temp9am\n",
       "83344      10.9\n",
       "10185      19.3\n",
       "34777      15.0\n",
       "57070       6.4\n",
       "140866     24.9\n",
       "...         ...\n",
       "79632      14.1\n",
       "2882       20.8\n",
       "86556      20.8\n",
       "62514       8.2\n",
       "114008     17.5\n",
       "\n",
       "[113169 rows x 1 columns]"
      ]
     },
     "execution_count": 128,
     "metadata": {},
     "output_type": "execute_result"
    }
   ],
   "source": [
    "#creating a new DataFrame single_temp9am_df from a single column 'Temp9am' of your existing x_train DataFrame. \n",
    "single_temp9am_df = x_train['Temp9am'].to_frame()\n",
    "single_temp9am_df"
   ]
  },
  {
   "cell_type": "code",
   "execution_count": 131,
   "id": "985895ee",
   "metadata": {},
   "outputs": [
    {
     "data": {
      "text/plain": [
       "Int64Index([ 55940,  52893, 142830,  97572, 115371,  52273,  52071,  53328,\n",
       "             29064,  96771,\n",
       "            ...\n",
       "             52895,  76074,  49480,  53103,  53184,  29061,  54028,  56765,\n",
       "             52906,  53141],\n",
       "           dtype='int64', length=473)"
      ]
     },
     "execution_count": 131,
     "metadata": {},
     "output_type": "execute_result"
    }
   ],
   "source": [
    "#single_temp9am_df_only_nan is a new DataFrame that contains only the rows where the 'Temp9am' column has missing values (NaN)\n",
    "single_temp9am_df_only_nan = single_temp9am_df.loc[single_temp9am_df['Temp9am'].isnull()]\n",
    "single_temp9am_df_only_nan.index"
   ]
  },
  {
   "cell_type": "code",
   "execution_count": 132,
   "id": "0be566e0",
   "metadata": {},
   "outputs": [
    {
     "data": {
      "text/html": [
       "<div>\n",
       "<style scoped>\n",
       "    .dataframe tbody tr th:only-of-type {\n",
       "        vertical-align: middle;\n",
       "    }\n",
       "\n",
       "    .dataframe tbody tr th {\n",
       "        vertical-align: top;\n",
       "    }\n",
       "\n",
       "    .dataframe thead th {\n",
       "        text-align: right;\n",
       "    }\n",
       "</style>\n",
       "<table border=\"1\" class=\"dataframe\">\n",
       "  <thead>\n",
       "    <tr style=\"text-align: right;\">\n",
       "      <th></th>\n",
       "      <th>Temp9am</th>\n",
       "    </tr>\n",
       "  </thead>\n",
       "  <tbody>\n",
       "    <tr>\n",
       "      <th>83344</th>\n",
       "      <td>10.9</td>\n",
       "    </tr>\n",
       "    <tr>\n",
       "      <th>10185</th>\n",
       "      <td>19.3</td>\n",
       "    </tr>\n",
       "    <tr>\n",
       "      <th>34777</th>\n",
       "      <td>15.0</td>\n",
       "    </tr>\n",
       "    <tr>\n",
       "      <th>57070</th>\n",
       "      <td>6.4</td>\n",
       "    </tr>\n",
       "    <tr>\n",
       "      <th>140866</th>\n",
       "      <td>24.9</td>\n",
       "    </tr>\n",
       "    <tr>\n",
       "      <th>...</th>\n",
       "      <td>...</td>\n",
       "    </tr>\n",
       "    <tr>\n",
       "      <th>79632</th>\n",
       "      <td>14.1</td>\n",
       "    </tr>\n",
       "    <tr>\n",
       "      <th>2882</th>\n",
       "      <td>20.8</td>\n",
       "    </tr>\n",
       "    <tr>\n",
       "      <th>86556</th>\n",
       "      <td>20.8</td>\n",
       "    </tr>\n",
       "    <tr>\n",
       "      <th>62514</th>\n",
       "      <td>8.2</td>\n",
       "    </tr>\n",
       "    <tr>\n",
       "      <th>114008</th>\n",
       "      <td>17.5</td>\n",
       "    </tr>\n",
       "  </tbody>\n",
       "</table>\n",
       "<p>112696 rows × 1 columns</p>\n",
       "</div>"
      ],
      "text/plain": [
       "        Temp9am\n",
       "83344      10.9\n",
       "10185      19.3\n",
       "34777      15.0\n",
       "57070       6.4\n",
       "140866     24.9\n",
       "...         ...\n",
       "79632      14.1\n",
       "2882       20.8\n",
       "86556      20.8\n",
       "62514       8.2\n",
       "114008     17.5\n",
       "\n",
       "[112696 rows x 1 columns]"
      ]
     },
     "execution_count": 132,
     "metadata": {},
     "output_type": "execute_result"
    }
   ],
   "source": [
    "# single_temp9am_df_without_nan is a new DataFrame that contains only the rows where the 'Temp9am' column has No missing values (NaN)\n",
    "single_temp9am_df_without_nan = x_train['Temp9am'].to_frame().dropna()\n",
    "single_temp9am_df_without_nan"
   ]
  },
  {
   "cell_type": "code",
   "execution_count": 138,
   "id": "84e253ab",
   "metadata": {},
   "outputs": [
    {
     "data": {
      "text/plain": [
       "(112696, 2)"
      ]
     },
     "execution_count": 138,
     "metadata": {},
     "output_type": "execute_result"
    }
   ],
   "source": [
    "#new DataFrame Two_col_without_nan by selecting specific columns ('MinTemp_random' and 'MaxTemp_random') from your x_train DataFrame, \n",
    "#and then dropping the rows with missing values using the indices from the DataFrame single_temp9am_df_only_nan\n",
    "Two_col_without_nan = x_train[['MinTemp_random','MaxTemp_random']].drop(single_temp9am_df_only_nan.index,axis=0)\n",
    "Two_col_without_nan.shape"
   ]
  },
  {
   "cell_type": "code",
   "execution_count": 139,
   "id": "b30bdf8e",
   "metadata": {},
   "outputs": [],
   "source": [
    "lm1 = LinearRegression()"
   ]
  },
  {
   "cell_type": "code",
   "execution_count": 140,
   "id": "63790a3a",
   "metadata": {},
   "outputs": [
    {
     "data": {
      "text/html": [
       "<style>#sk-container-id-1 {color: black;background-color: white;}#sk-container-id-1 pre{padding: 0;}#sk-container-id-1 div.sk-toggleable {background-color: white;}#sk-container-id-1 label.sk-toggleable__label {cursor: pointer;display: block;width: 100%;margin-bottom: 0;padding: 0.3em;box-sizing: border-box;text-align: center;}#sk-container-id-1 label.sk-toggleable__label-arrow:before {content: \"▸\";float: left;margin-right: 0.25em;color: #696969;}#sk-container-id-1 label.sk-toggleable__label-arrow:hover:before {color: black;}#sk-container-id-1 div.sk-estimator:hover label.sk-toggleable__label-arrow:before {color: black;}#sk-container-id-1 div.sk-toggleable__content {max-height: 0;max-width: 0;overflow: hidden;text-align: left;background-color: #f0f8ff;}#sk-container-id-1 div.sk-toggleable__content pre {margin: 0.2em;color: black;border-radius: 0.25em;background-color: #f0f8ff;}#sk-container-id-1 input.sk-toggleable__control:checked~div.sk-toggleable__content {max-height: 200px;max-width: 100%;overflow: auto;}#sk-container-id-1 input.sk-toggleable__control:checked~label.sk-toggleable__label-arrow:before {content: \"▾\";}#sk-container-id-1 div.sk-estimator input.sk-toggleable__control:checked~label.sk-toggleable__label {background-color: #d4ebff;}#sk-container-id-1 div.sk-label input.sk-toggleable__control:checked~label.sk-toggleable__label {background-color: #d4ebff;}#sk-container-id-1 input.sk-hidden--visually {border: 0;clip: rect(1px 1px 1px 1px);clip: rect(1px, 1px, 1px, 1px);height: 1px;margin: -1px;overflow: hidden;padding: 0;position: absolute;width: 1px;}#sk-container-id-1 div.sk-estimator {font-family: monospace;background-color: #f0f8ff;border: 1px dotted black;border-radius: 0.25em;box-sizing: border-box;margin-bottom: 0.5em;}#sk-container-id-1 div.sk-estimator:hover {background-color: #d4ebff;}#sk-container-id-1 div.sk-parallel-item::after {content: \"\";width: 100%;border-bottom: 1px solid gray;flex-grow: 1;}#sk-container-id-1 div.sk-label:hover label.sk-toggleable__label {background-color: #d4ebff;}#sk-container-id-1 div.sk-serial::before {content: \"\";position: absolute;border-left: 1px solid gray;box-sizing: border-box;top: 0;bottom: 0;left: 50%;z-index: 0;}#sk-container-id-1 div.sk-serial {display: flex;flex-direction: column;align-items: center;background-color: white;padding-right: 0.2em;padding-left: 0.2em;position: relative;}#sk-container-id-1 div.sk-item {position: relative;z-index: 1;}#sk-container-id-1 div.sk-parallel {display: flex;align-items: stretch;justify-content: center;background-color: white;position: relative;}#sk-container-id-1 div.sk-item::before, #sk-container-id-1 div.sk-parallel-item::before {content: \"\";position: absolute;border-left: 1px solid gray;box-sizing: border-box;top: 0;bottom: 0;left: 50%;z-index: -1;}#sk-container-id-1 div.sk-parallel-item {display: flex;flex-direction: column;z-index: 1;position: relative;background-color: white;}#sk-container-id-1 div.sk-parallel-item:first-child::after {align-self: flex-end;width: 50%;}#sk-container-id-1 div.sk-parallel-item:last-child::after {align-self: flex-start;width: 50%;}#sk-container-id-1 div.sk-parallel-item:only-child::after {width: 0;}#sk-container-id-1 div.sk-dashed-wrapped {border: 1px dashed gray;margin: 0 0.4em 0.5em 0.4em;box-sizing: border-box;padding-bottom: 0.4em;background-color: white;}#sk-container-id-1 div.sk-label label {font-family: monospace;font-weight: bold;display: inline-block;line-height: 1.2em;}#sk-container-id-1 div.sk-label-container {text-align: center;}#sk-container-id-1 div.sk-container {/* jupyter's `normalize.less` sets `[hidden] { display: none; }` but bootstrap.min.css set `[hidden] { display: none !important; }` so we also need the `!important` here to be able to override the default hidden behavior on the sphinx rendered scikit-learn.org. See: https://github.com/scikit-learn/scikit-learn/issues/21755 */display: inline-block !important;position: relative;}#sk-container-id-1 div.sk-text-repr-fallback {display: none;}</style><div id=\"sk-container-id-1\" class=\"sk-top-container\"><div class=\"sk-text-repr-fallback\"><pre>LinearRegression()</pre><b>In a Jupyter environment, please rerun this cell to show the HTML representation or trust the notebook. <br />On GitHub, the HTML representation is unable to render, please try loading this page with nbviewer.org.</b></div><div class=\"sk-container\" hidden><div class=\"sk-item\"><div class=\"sk-estimator sk-toggleable\"><input class=\"sk-toggleable__control sk-hidden--visually\" id=\"sk-estimator-id-1\" type=\"checkbox\" checked><label for=\"sk-estimator-id-1\" class=\"sk-toggleable__label sk-toggleable__label-arrow\">LinearRegression</label><div class=\"sk-toggleable__content\"><pre>LinearRegression()</pre></div></div></div></div></div>"
      ],
      "text/plain": [
       "LinearRegression()"
      ]
     },
     "execution_count": 140,
     "metadata": {},
     "output_type": "execute_result"
    }
   ],
   "source": [
    "lm1.fit(X = Two_col_without_nan ,y = single_temp9am_df_without_nan)"
   ]
  },
  {
   "cell_type": "code",
   "execution_count": 141,
   "id": "72299328",
   "metadata": {},
   "outputs": [],
   "source": [
    "y_pred = lm1.predict(Two_col_without_nan)"
   ]
  },
  {
   "cell_type": "code",
   "execution_count": 143,
   "id": "310ff54c",
   "metadata": {},
   "outputs": [
    {
     "data": {
      "text/plain": [
       "0.9215482608976299"
      ]
     },
     "execution_count": 143,
     "metadata": {},
     "output_type": "execute_result"
    }
   ],
   "source": [
    "r2_score(single_temp9am_df_without_nan , y_pred)"
   ]
  },
  {
   "cell_type": "code",
   "execution_count": null,
   "id": "fced2464",
   "metadata": {},
   "outputs": [],
   "source": []
  },
  {
   "cell_type": "code",
   "execution_count": 148,
   "id": "eaf038e4",
   "metadata": {},
   "outputs": [
    {
     "data": {
      "text/plain": [
       "Int64Index([ 55940,  52893, 142830,  97572, 115371,  52273,  52071,  53328,\n",
       "             29064,  96771,\n",
       "            ...\n",
       "             52895,  76074,  49480,  53103,  53184,  29061,  54028,  56765,\n",
       "             52906,  53141],\n",
       "           dtype='int64', length=473)"
      ]
     },
     "execution_count": 148,
     "metadata": {},
     "output_type": "execute_result"
    }
   ],
   "source": [
    "single_temp9am_df_only_nan = single_temp9am_df.loc[single_temp9am_df['Temp9am'].isnull()]\n",
    "single_temp9am_df_only_nan.index"
   ]
  },
  {
   "cell_type": "code",
   "execution_count": 149,
   "id": "a47dfeec",
   "metadata": {},
   "outputs": [],
   "source": [
    "ls = single_temp9am_df_only_nan.index.to_list()"
   ]
  },
  {
   "cell_type": "code",
   "execution_count": 150,
   "id": "259dc91f",
   "metadata": {},
   "outputs": [
    {
     "data": {
      "text/plain": [
       "473"
      ]
     },
     "execution_count": 150,
     "metadata": {},
     "output_type": "execute_result"
    }
   ],
   "source": [
    "len(ls)"
   ]
  },
  {
   "cell_type": "code",
   "execution_count": 151,
   "id": "3d1b7e1b",
   "metadata": {},
   "outputs": [],
   "source": [
    "for i in ls:\n",
    "    x_train['Temp9am'][i] = lm1.predict([[x_train['MinTemp_random'][i],x_train['MaxTemp_random'][i]]])"
   ]
  },
  {
   "cell_type": "code",
   "execution_count": null,
   "id": "14103673",
   "metadata": {},
   "outputs": [],
   "source": []
  },
  {
   "cell_type": "code",
   "execution_count": 152,
   "id": "ae0e5d28",
   "metadata": {},
   "outputs": [
    {
     "data": {
      "text/plain": [
       "Date                      0\n",
       "Location                  0\n",
       "Rainfall               1023\n",
       "WindGustSpeed          6853\n",
       "WindSpeed9am            805\n",
       "WindSpeed3pm           1587\n",
       "Humidity9am            1137\n",
       "Humidity3pm            2373\n",
       "Pressure9am           10667\n",
       "Pressure3pm           10643\n",
       "Temp9am                   0\n",
       "Temp3pm                1682\n",
       "RainToday              1023\n",
       "WindGustDir_random        0\n",
       "WindDir9am_random         0\n",
       "WindDir3pm_random         0\n",
       "MinTemp_random            0\n",
       "MaxTemp_random            0\n",
       "dtype: int64"
      ]
     },
     "execution_count": 152,
     "metadata": {},
     "output_type": "execute_result"
    }
   ],
   "source": [
    "x_train.isnull().sum()"
   ]
  },
  {
   "cell_type": "code",
   "execution_count": 153,
   "id": "37156fb0",
   "metadata": {},
   "outputs": [
    {
     "name": "stdout",
     "output_type": "stream",
     "text": [
      "Correlation between Temp3pm and Temp3pm is 1.0\n",
      "Correlation between Temp3pm and MaxTemp_random is 0.9837255847805434\n",
      "Correlation between Temp3pm and Temp9am is 0.8612325677148042\n",
      "Correlation between Temp3pm and MinTemp_random is 0.7075133482419993\n",
      "Correlation between Temp3pm and WindGustSpeed is 0.03364252907793921\n",
      "Correlation between Temp3pm and WindSpeed3pm is 0.03014816164196869\n",
      "Correlation between Temp3pm and WindSpeed9am is 0.006411531083823893\n",
      "Correlation between Temp3pm and Rainfall is -0.08290852278397162\n",
      "Correlation between Temp3pm and Pressure9am is -0.2858418150715324\n",
      "Correlation between Temp3pm and Pressure3pm is -0.3888826694808966\n",
      "Correlation between Temp3pm and Humidity9am is -0.5011811396095655\n",
      "Correlation between Temp3pm and Humidity3pm is -0.5589638474915821\n"
     ]
    }
   ],
   "source": [
    "highest_corr(x_train,'Temp3pm')"
   ]
  },
  {
   "cell_type": "code",
   "execution_count": 154,
   "id": "3fa67dab",
   "metadata": {},
   "outputs": [],
   "source": [
    "a = x_train['Temp3pm'].to_frame()"
   ]
  },
  {
   "cell_type": "code",
   "execution_count": 155,
   "id": "46137723",
   "metadata": {},
   "outputs": [
    {
     "data": {
      "text/plain": [
       "Int64Index([142396,  16529, 143855, 111139, 143535, 143513,  17538,  43030,\n",
       "            111289,  86052,\n",
       "            ...\n",
       "             29061,   3040, 111527, 110940, 143879, 143293, 108916, 143553,\n",
       "            143581, 143223],\n",
       "           dtype='int64', length=1682)"
      ]
     },
     "execution_count": 155,
     "metadata": {},
     "output_type": "execute_result"
    }
   ],
   "source": [
    "aa = a.loc[a['Temp3pm'].isnull()]\n",
    "aa.index"
   ]
  },
  {
   "cell_type": "code",
   "execution_count": 156,
   "id": "1e2015d0",
   "metadata": {},
   "outputs": [
    {
     "data": {
      "text/html": [
       "<div>\n",
       "<style scoped>\n",
       "    .dataframe tbody tr th:only-of-type {\n",
       "        vertical-align: middle;\n",
       "    }\n",
       "\n",
       "    .dataframe tbody tr th {\n",
       "        vertical-align: top;\n",
       "    }\n",
       "\n",
       "    .dataframe thead th {\n",
       "        text-align: right;\n",
       "    }\n",
       "</style>\n",
       "<table border=\"1\" class=\"dataframe\">\n",
       "  <thead>\n",
       "    <tr style=\"text-align: right;\">\n",
       "      <th></th>\n",
       "      <th>Temp3pm</th>\n",
       "    </tr>\n",
       "  </thead>\n",
       "  <tbody>\n",
       "    <tr>\n",
       "      <th>83344</th>\n",
       "      <td>10.4</td>\n",
       "    </tr>\n",
       "    <tr>\n",
       "      <th>10185</th>\n",
       "      <td>21.0</td>\n",
       "    </tr>\n",
       "    <tr>\n",
       "      <th>34777</th>\n",
       "      <td>20.5</td>\n",
       "    </tr>\n",
       "    <tr>\n",
       "      <th>57070</th>\n",
       "      <td>9.7</td>\n",
       "    </tr>\n",
       "    <tr>\n",
       "      <th>140866</th>\n",
       "      <td>29.0</td>\n",
       "    </tr>\n",
       "    <tr>\n",
       "      <th>...</th>\n",
       "      <td>...</td>\n",
       "    </tr>\n",
       "    <tr>\n",
       "      <th>79632</th>\n",
       "      <td>19.6</td>\n",
       "    </tr>\n",
       "    <tr>\n",
       "      <th>2882</th>\n",
       "      <td>31.5</td>\n",
       "    </tr>\n",
       "    <tr>\n",
       "      <th>86556</th>\n",
       "      <td>22.1</td>\n",
       "    </tr>\n",
       "    <tr>\n",
       "      <th>62514</th>\n",
       "      <td>12.1</td>\n",
       "    </tr>\n",
       "    <tr>\n",
       "      <th>114008</th>\n",
       "      <td>16.3</td>\n",
       "    </tr>\n",
       "  </tbody>\n",
       "</table>\n",
       "<p>111487 rows × 1 columns</p>\n",
       "</div>"
      ],
      "text/plain": [
       "        Temp3pm\n",
       "83344      10.4\n",
       "10185      21.0\n",
       "34777      20.5\n",
       "57070       9.7\n",
       "140866     29.0\n",
       "...         ...\n",
       "79632      19.6\n",
       "2882       31.5\n",
       "86556      22.1\n",
       "62514      12.1\n",
       "114008     16.3\n",
       "\n",
       "[111487 rows x 1 columns]"
      ]
     },
     "execution_count": 156,
     "metadata": {},
     "output_type": "execute_result"
    }
   ],
   "source": [
    "z = x_train['Temp3pm'].to_frame().dropna()\n",
    "z"
   ]
  },
  {
   "cell_type": "code",
   "execution_count": 157,
   "id": "0b4e5c68",
   "metadata": {},
   "outputs": [
    {
     "data": {
      "text/plain": [
       "(111487, 1)"
      ]
     },
     "execution_count": 157,
     "metadata": {},
     "output_type": "execute_result"
    }
   ],
   "source": [
    "s = x_train['MaxTemp_random'].to_frame().drop(aa.index,axis=0)\n",
    "s.shape"
   ]
  },
  {
   "cell_type": "code",
   "execution_count": 158,
   "id": "5399d30c",
   "metadata": {},
   "outputs": [],
   "source": [
    "lm2 = LinearRegression()"
   ]
  },
  {
   "cell_type": "code",
   "execution_count": 159,
   "id": "f8290195",
   "metadata": {},
   "outputs": [
    {
     "data": {
      "text/html": [
       "<style>#sk-container-id-2 {color: black;background-color: white;}#sk-container-id-2 pre{padding: 0;}#sk-container-id-2 div.sk-toggleable {background-color: white;}#sk-container-id-2 label.sk-toggleable__label {cursor: pointer;display: block;width: 100%;margin-bottom: 0;padding: 0.3em;box-sizing: border-box;text-align: center;}#sk-container-id-2 label.sk-toggleable__label-arrow:before {content: \"▸\";float: left;margin-right: 0.25em;color: #696969;}#sk-container-id-2 label.sk-toggleable__label-arrow:hover:before {color: black;}#sk-container-id-2 div.sk-estimator:hover label.sk-toggleable__label-arrow:before {color: black;}#sk-container-id-2 div.sk-toggleable__content {max-height: 0;max-width: 0;overflow: hidden;text-align: left;background-color: #f0f8ff;}#sk-container-id-2 div.sk-toggleable__content pre {margin: 0.2em;color: black;border-radius: 0.25em;background-color: #f0f8ff;}#sk-container-id-2 input.sk-toggleable__control:checked~div.sk-toggleable__content {max-height: 200px;max-width: 100%;overflow: auto;}#sk-container-id-2 input.sk-toggleable__control:checked~label.sk-toggleable__label-arrow:before {content: \"▾\";}#sk-container-id-2 div.sk-estimator input.sk-toggleable__control:checked~label.sk-toggleable__label {background-color: #d4ebff;}#sk-container-id-2 div.sk-label input.sk-toggleable__control:checked~label.sk-toggleable__label {background-color: #d4ebff;}#sk-container-id-2 input.sk-hidden--visually {border: 0;clip: rect(1px 1px 1px 1px);clip: rect(1px, 1px, 1px, 1px);height: 1px;margin: -1px;overflow: hidden;padding: 0;position: absolute;width: 1px;}#sk-container-id-2 div.sk-estimator {font-family: monospace;background-color: #f0f8ff;border: 1px dotted black;border-radius: 0.25em;box-sizing: border-box;margin-bottom: 0.5em;}#sk-container-id-2 div.sk-estimator:hover {background-color: #d4ebff;}#sk-container-id-2 div.sk-parallel-item::after {content: \"\";width: 100%;border-bottom: 1px solid gray;flex-grow: 1;}#sk-container-id-2 div.sk-label:hover label.sk-toggleable__label {background-color: #d4ebff;}#sk-container-id-2 div.sk-serial::before {content: \"\";position: absolute;border-left: 1px solid gray;box-sizing: border-box;top: 0;bottom: 0;left: 50%;z-index: 0;}#sk-container-id-2 div.sk-serial {display: flex;flex-direction: column;align-items: center;background-color: white;padding-right: 0.2em;padding-left: 0.2em;position: relative;}#sk-container-id-2 div.sk-item {position: relative;z-index: 1;}#sk-container-id-2 div.sk-parallel {display: flex;align-items: stretch;justify-content: center;background-color: white;position: relative;}#sk-container-id-2 div.sk-item::before, #sk-container-id-2 div.sk-parallel-item::before {content: \"\";position: absolute;border-left: 1px solid gray;box-sizing: border-box;top: 0;bottom: 0;left: 50%;z-index: -1;}#sk-container-id-2 div.sk-parallel-item {display: flex;flex-direction: column;z-index: 1;position: relative;background-color: white;}#sk-container-id-2 div.sk-parallel-item:first-child::after {align-self: flex-end;width: 50%;}#sk-container-id-2 div.sk-parallel-item:last-child::after {align-self: flex-start;width: 50%;}#sk-container-id-2 div.sk-parallel-item:only-child::after {width: 0;}#sk-container-id-2 div.sk-dashed-wrapped {border: 1px dashed gray;margin: 0 0.4em 0.5em 0.4em;box-sizing: border-box;padding-bottom: 0.4em;background-color: white;}#sk-container-id-2 div.sk-label label {font-family: monospace;font-weight: bold;display: inline-block;line-height: 1.2em;}#sk-container-id-2 div.sk-label-container {text-align: center;}#sk-container-id-2 div.sk-container {/* jupyter's `normalize.less` sets `[hidden] { display: none; }` but bootstrap.min.css set `[hidden] { display: none !important; }` so we also need the `!important` here to be able to override the default hidden behavior on the sphinx rendered scikit-learn.org. See: https://github.com/scikit-learn/scikit-learn/issues/21755 */display: inline-block !important;position: relative;}#sk-container-id-2 div.sk-text-repr-fallback {display: none;}</style><div id=\"sk-container-id-2\" class=\"sk-top-container\"><div class=\"sk-text-repr-fallback\"><pre>LinearRegression()</pre><b>In a Jupyter environment, please rerun this cell to show the HTML representation or trust the notebook. <br />On GitHub, the HTML representation is unable to render, please try loading this page with nbviewer.org.</b></div><div class=\"sk-container\" hidden><div class=\"sk-item\"><div class=\"sk-estimator sk-toggleable\"><input class=\"sk-toggleable__control sk-hidden--visually\" id=\"sk-estimator-id-2\" type=\"checkbox\" checked><label for=\"sk-estimator-id-2\" class=\"sk-toggleable__label sk-toggleable__label-arrow\">LinearRegression</label><div class=\"sk-toggleable__content\"><pre>LinearRegression()</pre></div></div></div></div></div>"
      ],
      "text/plain": [
       "LinearRegression()"
      ]
     },
     "execution_count": 159,
     "metadata": {},
     "output_type": "execute_result"
    }
   ],
   "source": [
    "lm2.fit(X = s ,y = z)"
   ]
  },
  {
   "cell_type": "code",
   "execution_count": 160,
   "id": "a6abb30b",
   "metadata": {},
   "outputs": [],
   "source": [
    "y_pred = lm2.predict(s)"
   ]
  },
  {
   "cell_type": "code",
   "execution_count": 161,
   "id": "70f02e79",
   "metadata": {},
   "outputs": [
    {
     "data": {
      "text/plain": [
       "0.967716026151824"
      ]
     },
     "execution_count": 161,
     "metadata": {},
     "output_type": "execute_result"
    }
   ],
   "source": [
    "r2_score(z , y_pred)"
   ]
  },
  {
   "cell_type": "code",
   "execution_count": null,
   "id": "2524f503",
   "metadata": {},
   "outputs": [],
   "source": []
  },
  {
   "cell_type": "code",
   "execution_count": 162,
   "id": "7ffc335d",
   "metadata": {},
   "outputs": [],
   "source": [
    "ls = aa.index.to_list()"
   ]
  },
  {
   "cell_type": "code",
   "execution_count": 163,
   "id": "c253c1c9",
   "metadata": {},
   "outputs": [
    {
     "data": {
      "text/plain": [
       "1682"
      ]
     },
     "execution_count": 163,
     "metadata": {},
     "output_type": "execute_result"
    }
   ],
   "source": [
    "len(ls)"
   ]
  },
  {
   "cell_type": "code",
   "execution_count": 164,
   "id": "e198d46b",
   "metadata": {},
   "outputs": [],
   "source": [
    "for i in ls:\n",
    "    x_train['Temp3pm'][i] = lm2.predict([[x_train['MaxTemp_random'][i]]])"
   ]
  },
  {
   "cell_type": "code",
   "execution_count": 165,
   "id": "6e6cee28",
   "metadata": {},
   "outputs": [
    {
     "data": {
      "text/plain": [
       "Date                      0\n",
       "Location                  0\n",
       "Rainfall               1023\n",
       "WindGustSpeed          6853\n",
       "WindSpeed9am            805\n",
       "WindSpeed3pm           1587\n",
       "Humidity9am            1137\n",
       "Humidity3pm            2373\n",
       "Pressure9am           10667\n",
       "Pressure3pm           10643\n",
       "Temp9am                   0\n",
       "Temp3pm                   0\n",
       "RainToday              1023\n",
       "WindGustDir_random        0\n",
       "WindDir9am_random         0\n",
       "WindDir3pm_random         0\n",
       "MinTemp_random            0\n",
       "MaxTemp_random            0\n",
       "dtype: int64"
      ]
     },
     "execution_count": 165,
     "metadata": {},
     "output_type": "execute_result"
    }
   ],
   "source": [
    "x_train.isnull().sum()"
   ]
  },
  {
   "cell_type": "code",
   "execution_count": 167,
   "id": "80ec35bf",
   "metadata": {},
   "outputs": [
    {
     "name": "stdout",
     "output_type": "stream",
     "text": [
      "Correlation between Pressure9am and Pressure9am is 1.0\n",
      "Correlation between Pressure9am and Pressure3pm is 0.961273443753516\n",
      "Correlation between Pressure9am and Humidity9am is 0.14122252344487873\n",
      "Correlation between Pressure9am and Humidity3pm is -0.026119283393258263\n",
      "Correlation between Pressure9am and Rainfall is -0.16693620527181494\n",
      "Correlation between Pressure9am and WindSpeed9am is -0.22880985687453947\n",
      "Correlation between Pressure9am and Temp3pm is -0.28889741144325415\n",
      "Correlation between Pressure9am and WindSpeed3pm is -0.2957003261323009\n",
      "Correlation between Pressure9am and MaxTemp_random is -0.33062648251630194\n",
      "Correlation between Pressure9am and Temp9am is -0.4211739703052991\n",
      "Correlation between Pressure9am and MinTemp_random is -0.4490108822266013\n",
      "Correlation between Pressure9am and WindGustSpeed is -0.45790802696977767\n"
     ]
    }
   ],
   "source": [
    "highest_corr(x_train,'Pressure9am')"
   ]
  },
  {
   "cell_type": "code",
   "execution_count": 168,
   "id": "3b46de20",
   "metadata": {},
   "outputs": [
    {
     "data": {
      "text/plain": [
       "0.0942572612641271"
      ]
     },
     "execution_count": 168,
     "metadata": {},
     "output_type": "execute_result"
    }
   ],
   "source": [
    "x_train['Pressure9am'].isnull().sum()/len(x_train)"
   ]
  },
  {
   "cell_type": "code",
   "execution_count": 169,
   "id": "4a5b0a6c",
   "metadata": {},
   "outputs": [
    {
     "data": {
      "text/html": [
       "<div>\n",
       "<style scoped>\n",
       "    .dataframe tbody tr th:only-of-type {\n",
       "        vertical-align: middle;\n",
       "    }\n",
       "\n",
       "    .dataframe tbody tr th {\n",
       "        vertical-align: top;\n",
       "    }\n",
       "\n",
       "    .dataframe thead th {\n",
       "        text-align: right;\n",
       "    }\n",
       "</style>\n",
       "<table border=\"1\" class=\"dataframe\">\n",
       "  <thead>\n",
       "    <tr style=\"text-align: right;\">\n",
       "      <th></th>\n",
       "      <th>Date</th>\n",
       "      <th>Location</th>\n",
       "      <th>Rainfall</th>\n",
       "      <th>WindGustSpeed</th>\n",
       "      <th>WindSpeed9am</th>\n",
       "      <th>WindSpeed3pm</th>\n",
       "      <th>Humidity9am</th>\n",
       "      <th>Humidity3pm</th>\n",
       "      <th>Pressure9am</th>\n",
       "      <th>Pressure3pm</th>\n",
       "      <th>Temp9am</th>\n",
       "      <th>Temp3pm</th>\n",
       "      <th>RainToday</th>\n",
       "      <th>WindGustDir_random</th>\n",
       "      <th>WindDir9am_random</th>\n",
       "      <th>WindDir3pm_random</th>\n",
       "      <th>MinTemp_random</th>\n",
       "      <th>MaxTemp_random</th>\n",
       "    </tr>\n",
       "  </thead>\n",
       "  <tbody>\n",
       "    <tr>\n",
       "      <th>83344</th>\n",
       "      <td>2015-09-02</td>\n",
       "      <td>Dartmoor</td>\n",
       "      <td>0.0</td>\n",
       "      <td>37.0</td>\n",
       "      <td>13.0</td>\n",
       "      <td>11.0</td>\n",
       "      <td>NaN</td>\n",
       "      <td>NaN</td>\n",
       "      <td>1008.0</td>\n",
       "      <td>1005.1</td>\n",
       "      <td>10.9</td>\n",
       "      <td>10.4</td>\n",
       "      <td>No</td>\n",
       "      <td>NNE</td>\n",
       "      <td>N</td>\n",
       "      <td>NE</td>\n",
       "      <td>4.6</td>\n",
       "      <td>12.5</td>\n",
       "    </tr>\n",
       "    <tr>\n",
       "      <th>10185</th>\n",
       "      <td>2012-03-03</td>\n",
       "      <td>CoffsHarbour</td>\n",
       "      <td>20.8</td>\n",
       "      <td>39.0</td>\n",
       "      <td>13.0</td>\n",
       "      <td>9.0</td>\n",
       "      <td>96.0</td>\n",
       "      <td>92.0</td>\n",
       "      <td>1019.0</td>\n",
       "      <td>1017.0</td>\n",
       "      <td>19.3</td>\n",
       "      <td>21.0</td>\n",
       "      <td>Yes</td>\n",
       "      <td>SE</td>\n",
       "      <td>SW</td>\n",
       "      <td>W</td>\n",
       "      <td>19.0</td>\n",
       "      <td>22.8</td>\n",
       "    </tr>\n",
       "    <tr>\n",
       "      <th>34777</th>\n",
       "      <td>2012-07-11</td>\n",
       "      <td>SydneyAirport</td>\n",
       "      <td>8.2</td>\n",
       "      <td>41.0</td>\n",
       "      <td>19.0</td>\n",
       "      <td>22.0</td>\n",
       "      <td>67.0</td>\n",
       "      <td>39.0</td>\n",
       "      <td>1019.9</td>\n",
       "      <td>1017.4</td>\n",
       "      <td>15.0</td>\n",
       "      <td>20.5</td>\n",
       "      <td>Yes</td>\n",
       "      <td>WNW</td>\n",
       "      <td>NNW</td>\n",
       "      <td>N</td>\n",
       "      <td>10.4</td>\n",
       "      <td>20.8</td>\n",
       "    </tr>\n",
       "    <tr>\n",
       "      <th>57070</th>\n",
       "      <td>2014-07-20</td>\n",
       "      <td>Ballarat</td>\n",
       "      <td>0.0</td>\n",
       "      <td>24.0</td>\n",
       "      <td>11.0</td>\n",
       "      <td>11.0</td>\n",
       "      <td>100.0</td>\n",
       "      <td>73.0</td>\n",
       "      <td>1028.7</td>\n",
       "      <td>1026.8</td>\n",
       "      <td>6.4</td>\n",
       "      <td>9.7</td>\n",
       "      <td>No</td>\n",
       "      <td>SSE</td>\n",
       "      <td>SSE</td>\n",
       "      <td>S</td>\n",
       "      <td>2.3</td>\n",
       "      <td>10.2</td>\n",
       "    </tr>\n",
       "    <tr>\n",
       "      <th>140866</th>\n",
       "      <td>2013-07-19</td>\n",
       "      <td>Darwin</td>\n",
       "      <td>0.0</td>\n",
       "      <td>35.0</td>\n",
       "      <td>17.0</td>\n",
       "      <td>24.0</td>\n",
       "      <td>73.0</td>\n",
       "      <td>57.0</td>\n",
       "      <td>1013.1</td>\n",
       "      <td>1009.2</td>\n",
       "      <td>24.9</td>\n",
       "      <td>29.0</td>\n",
       "      <td>No</td>\n",
       "      <td>N</td>\n",
       "      <td>E</td>\n",
       "      <td>N</td>\n",
       "      <td>18.9</td>\n",
       "      <td>32.0</td>\n",
       "    </tr>\n",
       "  </tbody>\n",
       "</table>\n",
       "</div>"
      ],
      "text/plain": [
       "              Date       Location  Rainfall  WindGustSpeed  WindSpeed9am  \\\n",
       "83344   2015-09-02       Dartmoor       0.0           37.0          13.0   \n",
       "10185   2012-03-03   CoffsHarbour      20.8           39.0          13.0   \n",
       "34777   2012-07-11  SydneyAirport       8.2           41.0          19.0   \n",
       "57070   2014-07-20       Ballarat       0.0           24.0          11.0   \n",
       "140866  2013-07-19         Darwin       0.0           35.0          17.0   \n",
       "\n",
       "        WindSpeed3pm  Humidity9am  Humidity3pm  Pressure9am  Pressure3pm  \\\n",
       "83344           11.0          NaN          NaN       1008.0       1005.1   \n",
       "10185            9.0         96.0         92.0       1019.0       1017.0   \n",
       "34777           22.0         67.0         39.0       1019.9       1017.4   \n",
       "57070           11.0        100.0         73.0       1028.7       1026.8   \n",
       "140866          24.0         73.0         57.0       1013.1       1009.2   \n",
       "\n",
       "        Temp9am  Temp3pm RainToday WindGustDir_random WindDir9am_random  \\\n",
       "83344      10.9     10.4        No                NNE                 N   \n",
       "10185      19.3     21.0       Yes                 SE                SW   \n",
       "34777      15.0     20.5       Yes                WNW               NNW   \n",
       "57070       6.4      9.7        No                SSE               SSE   \n",
       "140866     24.9     29.0        No                  N                 E   \n",
       "\n",
       "       WindDir3pm_random  MinTemp_random  MaxTemp_random  \n",
       "83344                 NE             4.6            12.5  \n",
       "10185                  W            19.0            22.8  \n",
       "34777                  N            10.4            20.8  \n",
       "57070                  S             2.3            10.2  \n",
       "140866                 N            18.9            32.0  "
      ]
     },
     "execution_count": 169,
     "metadata": {},
     "output_type": "execute_result"
    }
   ],
   "source": [
    "x_train.head()"
   ]
  },
  {
   "cell_type": "code",
   "execution_count": 170,
   "id": "0a71df39",
   "metadata": {},
   "outputs": [
    {
     "data": {
      "text/plain": [
       "-0.2459880651193552"
      ]
     },
     "execution_count": 170,
     "metadata": {},
     "output_type": "execute_result"
    }
   ],
   "source": [
    "x_train['Pressure9am'].corr(y_train)"
   ]
  },
  {
   "cell_type": "code",
   "execution_count": 171,
   "id": "477a6543",
   "metadata": {},
   "outputs": [
    {
     "data": {
      "text/plain": [
       "-0.2254596165634148"
      ]
     },
     "execution_count": 171,
     "metadata": {},
     "output_type": "execute_result"
    }
   ],
   "source": [
    "x_train['Pressure3pm'].corr(y_train)"
   ]
  },
  {
   "cell_type": "code",
   "execution_count": null,
   "id": "d220b278",
   "metadata": {},
   "outputs": [],
   "source": []
  },
  {
   "cell_type": "code",
   "execution_count": 172,
   "id": "513d3d74",
   "metadata": {},
   "outputs": [
    {
     "data": {
      "text/plain": [
       "10490"
      ]
     },
     "execution_count": 172,
     "metadata": {},
     "output_type": "execute_result"
    }
   ],
   "source": [
    "q = x_train.loc[x_train['Pressure9am'].isnull()]\n",
    "q['Pressure3pm'].isnull().sum()"
   ]
  },
  {
   "cell_type": "code",
   "execution_count": 173,
   "id": "072e9a95",
   "metadata": {},
   "outputs": [
    {
     "data": {
      "text/plain": [
       "177"
      ]
     },
     "execution_count": 173,
     "metadata": {},
     "output_type": "execute_result"
    }
   ],
   "source": [
    "q['Pressure3pm'].notnull().sum()"
   ]
  },
  {
   "cell_type": "code",
   "execution_count": null,
   "id": "0f486947",
   "metadata": {},
   "outputs": [],
   "source": []
  },
  {
   "cell_type": "code",
   "execution_count": 174,
   "id": "e075aec7",
   "metadata": {},
   "outputs": [],
   "source": [
    "a = x_train['Pressure9am'].to_frame()"
   ]
  },
  {
   "cell_type": "code",
   "execution_count": 175,
   "id": "054d4caf",
   "metadata": {},
   "outputs": [
    {
     "data": {
      "text/plain": [
       "Int64Index([126534,  16529, 126088,  15497,  25923, 126251,  54351,  52866,\n",
       "             54959, 135750,\n",
       "            ...\n",
       "             17311,  26481,  54801,  27157, 123983,  24997, 112474,  54831,\n",
       "             54615,  17208],\n",
       "           dtype='int64', length=10667)"
      ]
     },
     "execution_count": 175,
     "metadata": {},
     "output_type": "execute_result"
    }
   ],
   "source": [
    "aa = a.loc[a['Pressure9am'].isnull()]\n",
    "aa.index"
   ]
  },
  {
   "cell_type": "code",
   "execution_count": null,
   "id": "9813d2d8",
   "metadata": {},
   "outputs": [],
   "source": []
  },
  {
   "cell_type": "code",
   "execution_count": 176,
   "id": "47819911",
   "metadata": {},
   "outputs": [
    {
     "data": {
      "text/html": [
       "<div>\n",
       "<style scoped>\n",
       "    .dataframe tbody tr th:only-of-type {\n",
       "        vertical-align: middle;\n",
       "    }\n",
       "\n",
       "    .dataframe tbody tr th {\n",
       "        vertical-align: top;\n",
       "    }\n",
       "\n",
       "    .dataframe thead th {\n",
       "        text-align: right;\n",
       "    }\n",
       "</style>\n",
       "<table border=\"1\" class=\"dataframe\">\n",
       "  <thead>\n",
       "    <tr style=\"text-align: right;\">\n",
       "      <th></th>\n",
       "      <th>Temp9am</th>\n",
       "    </tr>\n",
       "  </thead>\n",
       "  <tbody>\n",
       "    <tr>\n",
       "      <th>83344</th>\n",
       "      <td>10.9</td>\n",
       "    </tr>\n",
       "    <tr>\n",
       "      <th>10185</th>\n",
       "      <td>19.3</td>\n",
       "    </tr>\n",
       "    <tr>\n",
       "      <th>34777</th>\n",
       "      <td>15.0</td>\n",
       "    </tr>\n",
       "    <tr>\n",
       "      <th>57070</th>\n",
       "      <td>6.4</td>\n",
       "    </tr>\n",
       "    <tr>\n",
       "      <th>140866</th>\n",
       "      <td>24.9</td>\n",
       "    </tr>\n",
       "    <tr>\n",
       "      <th>...</th>\n",
       "      <td>...</td>\n",
       "    </tr>\n",
       "    <tr>\n",
       "      <th>79632</th>\n",
       "      <td>14.1</td>\n",
       "    </tr>\n",
       "    <tr>\n",
       "      <th>2882</th>\n",
       "      <td>20.8</td>\n",
       "    </tr>\n",
       "    <tr>\n",
       "      <th>86556</th>\n",
       "      <td>20.8</td>\n",
       "    </tr>\n",
       "    <tr>\n",
       "      <th>62514</th>\n",
       "      <td>8.2</td>\n",
       "    </tr>\n",
       "    <tr>\n",
       "      <th>114008</th>\n",
       "      <td>17.5</td>\n",
       "    </tr>\n",
       "  </tbody>\n",
       "</table>\n",
       "<p>113169 rows × 1 columns</p>\n",
       "</div>"
      ],
      "text/plain": [
       "        Temp9am\n",
       "83344      10.9\n",
       "10185      19.3\n",
       "34777      15.0\n",
       "57070       6.4\n",
       "140866     24.9\n",
       "...         ...\n",
       "79632      14.1\n",
       "2882       20.8\n",
       "86556      20.8\n",
       "62514       8.2\n",
       "114008     17.5\n",
       "\n",
       "[113169 rows x 1 columns]"
      ]
     },
     "execution_count": 176,
     "metadata": {},
     "output_type": "execute_result"
    }
   ],
   "source": [
    "z = x_train['Temp9am'].to_frame().dropna()\n",
    "z"
   ]
  },
  {
   "cell_type": "code",
   "execution_count": 177,
   "id": "dc38375f",
   "metadata": {},
   "outputs": [
    {
     "data": {
      "text/plain": [
       "(102502, 1)"
      ]
     },
     "execution_count": 177,
     "metadata": {},
     "output_type": "execute_result"
    }
   ],
   "source": [
    "s = x_train['Pressure3pm'].drop(aa.index,axis=0).to_frame()\n",
    "s.shape"
   ]
  },
  {
   "cell_type": "code",
   "execution_count": 178,
   "id": "5c75d98f",
   "metadata": {},
   "outputs": [
    {
     "data": {
      "text/plain": [
       "Pressure3pm    153\n",
       "dtype: int64"
      ]
     },
     "execution_count": 178,
     "metadata": {},
     "output_type": "execute_result"
    }
   ],
   "source": [
    "s.isnull().sum()"
   ]
  },
  {
   "cell_type": "code",
   "execution_count": 179,
   "id": "88780acd",
   "metadata": {},
   "outputs": [
    {
     "data": {
      "text/plain": [
       "Int64Index([143094,  34256,  31223,  98746,   8088,   1059,  49589,  49509,\n",
       "             18126, 117727,\n",
       "            ...\n",
       "             55503,   9335,  27634,  10775, 117176, 128601,  41008,   9564,\n",
       "              3040,  33944],\n",
       "           dtype='int64', length=153)"
      ]
     },
     "execution_count": 179,
     "metadata": {},
     "output_type": "execute_result"
    }
   ],
   "source": [
    "sa = s.loc[s['Pressure3pm'].isnull()]\n",
    "sa.index"
   ]
  },
  {
   "cell_type": "code",
   "execution_count": 180,
   "id": "bedbf3da",
   "metadata": {},
   "outputs": [
    {
     "data": {
      "text/plain": [
       "(113016, 1)"
      ]
     },
     "execution_count": 180,
     "metadata": {},
     "output_type": "execute_result"
    }
   ],
   "source": [
    "z = x_train['Pressure9am'].drop(sa.index,axis=0).to_frame()\n",
    "z.shape"
   ]
  },
  {
   "cell_type": "code",
   "execution_count": 181,
   "id": "c671961c",
   "metadata": {},
   "outputs": [
    {
     "data": {
      "text/plain": [
       "Pressure9am    10667\n",
       "dtype: int64"
      ]
     },
     "execution_count": 181,
     "metadata": {},
     "output_type": "execute_result"
    }
   ],
   "source": [
    "z.isnull().sum()"
   ]
  },
  {
   "cell_type": "code",
   "execution_count": 182,
   "id": "48765a39",
   "metadata": {},
   "outputs": [
    {
     "data": {
      "text/plain": [
       "(102349, 1)"
      ]
     },
     "execution_count": 182,
     "metadata": {},
     "output_type": "execute_result"
    }
   ],
   "source": [
    "cc = z['Pressure9am'].dropna().to_frame()\n",
    "cc.shape"
   ]
  },
  {
   "cell_type": "code",
   "execution_count": 183,
   "id": "ca835007",
   "metadata": {},
   "outputs": [
    {
     "data": {
      "text/plain": [
       "(102349, 1)"
      ]
     },
     "execution_count": 183,
     "metadata": {},
     "output_type": "execute_result"
    }
   ],
   "source": [
    "dc = s['Pressure3pm'].dropna().to_frame()\n",
    "dc.shape"
   ]
  },
  {
   "cell_type": "code",
   "execution_count": null,
   "id": "97d1a1d5",
   "metadata": {},
   "outputs": [],
   "source": []
  },
  {
   "cell_type": "code",
   "execution_count": 184,
   "id": "411c25ec",
   "metadata": {},
   "outputs": [],
   "source": [
    "lm3 = LinearRegression()"
   ]
  },
  {
   "cell_type": "code",
   "execution_count": 185,
   "id": "a0815614",
   "metadata": {},
   "outputs": [
    {
     "data": {
      "text/html": [
       "<style>#sk-container-id-3 {color: black;background-color: white;}#sk-container-id-3 pre{padding: 0;}#sk-container-id-3 div.sk-toggleable {background-color: white;}#sk-container-id-3 label.sk-toggleable__label {cursor: pointer;display: block;width: 100%;margin-bottom: 0;padding: 0.3em;box-sizing: border-box;text-align: center;}#sk-container-id-3 label.sk-toggleable__label-arrow:before {content: \"▸\";float: left;margin-right: 0.25em;color: #696969;}#sk-container-id-3 label.sk-toggleable__label-arrow:hover:before {color: black;}#sk-container-id-3 div.sk-estimator:hover label.sk-toggleable__label-arrow:before {color: black;}#sk-container-id-3 div.sk-toggleable__content {max-height: 0;max-width: 0;overflow: hidden;text-align: left;background-color: #f0f8ff;}#sk-container-id-3 div.sk-toggleable__content pre {margin: 0.2em;color: black;border-radius: 0.25em;background-color: #f0f8ff;}#sk-container-id-3 input.sk-toggleable__control:checked~div.sk-toggleable__content {max-height: 200px;max-width: 100%;overflow: auto;}#sk-container-id-3 input.sk-toggleable__control:checked~label.sk-toggleable__label-arrow:before {content: \"▾\";}#sk-container-id-3 div.sk-estimator input.sk-toggleable__control:checked~label.sk-toggleable__label {background-color: #d4ebff;}#sk-container-id-3 div.sk-label input.sk-toggleable__control:checked~label.sk-toggleable__label {background-color: #d4ebff;}#sk-container-id-3 input.sk-hidden--visually {border: 0;clip: rect(1px 1px 1px 1px);clip: rect(1px, 1px, 1px, 1px);height: 1px;margin: -1px;overflow: hidden;padding: 0;position: absolute;width: 1px;}#sk-container-id-3 div.sk-estimator {font-family: monospace;background-color: #f0f8ff;border: 1px dotted black;border-radius: 0.25em;box-sizing: border-box;margin-bottom: 0.5em;}#sk-container-id-3 div.sk-estimator:hover {background-color: #d4ebff;}#sk-container-id-3 div.sk-parallel-item::after {content: \"\";width: 100%;border-bottom: 1px solid gray;flex-grow: 1;}#sk-container-id-3 div.sk-label:hover label.sk-toggleable__label {background-color: #d4ebff;}#sk-container-id-3 div.sk-serial::before {content: \"\";position: absolute;border-left: 1px solid gray;box-sizing: border-box;top: 0;bottom: 0;left: 50%;z-index: 0;}#sk-container-id-3 div.sk-serial {display: flex;flex-direction: column;align-items: center;background-color: white;padding-right: 0.2em;padding-left: 0.2em;position: relative;}#sk-container-id-3 div.sk-item {position: relative;z-index: 1;}#sk-container-id-3 div.sk-parallel {display: flex;align-items: stretch;justify-content: center;background-color: white;position: relative;}#sk-container-id-3 div.sk-item::before, #sk-container-id-3 div.sk-parallel-item::before {content: \"\";position: absolute;border-left: 1px solid gray;box-sizing: border-box;top: 0;bottom: 0;left: 50%;z-index: -1;}#sk-container-id-3 div.sk-parallel-item {display: flex;flex-direction: column;z-index: 1;position: relative;background-color: white;}#sk-container-id-3 div.sk-parallel-item:first-child::after {align-self: flex-end;width: 50%;}#sk-container-id-3 div.sk-parallel-item:last-child::after {align-self: flex-start;width: 50%;}#sk-container-id-3 div.sk-parallel-item:only-child::after {width: 0;}#sk-container-id-3 div.sk-dashed-wrapped {border: 1px dashed gray;margin: 0 0.4em 0.5em 0.4em;box-sizing: border-box;padding-bottom: 0.4em;background-color: white;}#sk-container-id-3 div.sk-label label {font-family: monospace;font-weight: bold;display: inline-block;line-height: 1.2em;}#sk-container-id-3 div.sk-label-container {text-align: center;}#sk-container-id-3 div.sk-container {/* jupyter's `normalize.less` sets `[hidden] { display: none; }` but bootstrap.min.css set `[hidden] { display: none !important; }` so we also need the `!important` here to be able to override the default hidden behavior on the sphinx rendered scikit-learn.org. See: https://github.com/scikit-learn/scikit-learn/issues/21755 */display: inline-block !important;position: relative;}#sk-container-id-3 div.sk-text-repr-fallback {display: none;}</style><div id=\"sk-container-id-3\" class=\"sk-top-container\"><div class=\"sk-text-repr-fallback\"><pre>LinearRegression()</pre><b>In a Jupyter environment, please rerun this cell to show the HTML representation or trust the notebook. <br />On GitHub, the HTML representation is unable to render, please try loading this page with nbviewer.org.</b></div><div class=\"sk-container\" hidden><div class=\"sk-item\"><div class=\"sk-estimator sk-toggleable\"><input class=\"sk-toggleable__control sk-hidden--visually\" id=\"sk-estimator-id-3\" type=\"checkbox\" checked><label for=\"sk-estimator-id-3\" class=\"sk-toggleable__label sk-toggleable__label-arrow\">LinearRegression</label><div class=\"sk-toggleable__content\"><pre>LinearRegression()</pre></div></div></div></div></div>"
      ],
      "text/plain": [
       "LinearRegression()"
      ]
     },
     "execution_count": 185,
     "metadata": {},
     "output_type": "execute_result"
    }
   ],
   "source": [
    "lm3.fit(X = dc ,y = cc)"
   ]
  },
  {
   "cell_type": "code",
   "execution_count": 186,
   "id": "28f79c02",
   "metadata": {},
   "outputs": [],
   "source": [
    "y_pred = lm3.predict(dc)"
   ]
  },
  {
   "cell_type": "code",
   "execution_count": 187,
   "id": "2ea32372",
   "metadata": {},
   "outputs": [
    {
     "data": {
      "text/plain": [
       "0.9240466336657429"
      ]
     },
     "execution_count": 187,
     "metadata": {},
     "output_type": "execute_result"
    }
   ],
   "source": [
    "r2_score(cc , y_pred)"
   ]
  },
  {
   "cell_type": "code",
   "execution_count": null,
   "id": "b1c1b067",
   "metadata": {},
   "outputs": [],
   "source": []
  },
  {
   "cell_type": "code",
   "execution_count": 188,
   "id": "0e9a5767",
   "metadata": {},
   "outputs": [
    {
     "data": {
      "text/plain": [
       "10490"
      ]
     },
     "execution_count": 188,
     "metadata": {},
     "output_type": "execute_result"
    }
   ],
   "source": [
    "q = x_train.loc[x_train['Pressure9am'].isnull()]\n",
    "q['Pressure3pm'].isnull().sum()"
   ]
  },
  {
   "cell_type": "code",
   "execution_count": 189,
   "id": "2fc27e8b",
   "metadata": {},
   "outputs": [
    {
     "data": {
      "text/plain": [
       "177"
      ]
     },
     "execution_count": 189,
     "metadata": {},
     "output_type": "execute_result"
    }
   ],
   "source": [
    "q['Pressure3pm'].notnull().sum()\n"
   ]
  },
  {
   "cell_type": "code",
   "execution_count": 190,
   "id": "a98794ab",
   "metadata": {},
   "outputs": [
    {
     "data": {
      "text/html": [
       "<div>\n",
       "<style scoped>\n",
       "    .dataframe tbody tr th:only-of-type {\n",
       "        vertical-align: middle;\n",
       "    }\n",
       "\n",
       "    .dataframe tbody tr th {\n",
       "        vertical-align: top;\n",
       "    }\n",
       "\n",
       "    .dataframe thead th {\n",
       "        text-align: right;\n",
       "    }\n",
       "</style>\n",
       "<table border=\"1\" class=\"dataframe\">\n",
       "  <thead>\n",
       "    <tr style=\"text-align: right;\">\n",
       "      <th></th>\n",
       "      <th>Date</th>\n",
       "      <th>Location</th>\n",
       "      <th>Rainfall</th>\n",
       "      <th>WindGustSpeed</th>\n",
       "      <th>WindSpeed9am</th>\n",
       "      <th>WindSpeed3pm</th>\n",
       "      <th>Humidity9am</th>\n",
       "      <th>Humidity3pm</th>\n",
       "      <th>Pressure9am</th>\n",
       "      <th>Pressure3pm</th>\n",
       "      <th>Temp9am</th>\n",
       "      <th>Temp3pm</th>\n",
       "      <th>RainToday</th>\n",
       "      <th>WindGustDir_random</th>\n",
       "      <th>WindDir9am_random</th>\n",
       "      <th>WindDir3pm_random</th>\n",
       "      <th>MinTemp_random</th>\n",
       "      <th>MaxTemp_random</th>\n",
       "    </tr>\n",
       "  </thead>\n",
       "  <tbody>\n",
       "    <tr>\n",
       "      <th>55940</th>\n",
       "      <td>2011-03-19</td>\n",
       "      <td>Ballarat</td>\n",
       "      <td>0.0</td>\n",
       "      <td>50.0</td>\n",
       "      <td>28.0</td>\n",
       "      <td>22.0</td>\n",
       "      <td>NaN</td>\n",
       "      <td>64.0</td>\n",
       "      <td>NaN</td>\n",
       "      <td>1011.5</td>\n",
       "      <td>14.254965</td>\n",
       "      <td>19.9</td>\n",
       "      <td>No</td>\n",
       "      <td>SE</td>\n",
       "      <td>ESE</td>\n",
       "      <td>ESE</td>\n",
       "      <td>8.6</td>\n",
       "      <td>21.6</td>\n",
       "    </tr>\n",
       "    <tr>\n",
       "      <th>115371</th>\n",
       "      <td>2011-01-22</td>\n",
       "      <td>PearceRAAF</td>\n",
       "      <td>0.0</td>\n",
       "      <td>NaN</td>\n",
       "      <td>NaN</td>\n",
       "      <td>22.0</td>\n",
       "      <td>NaN</td>\n",
       "      <td>20.0</td>\n",
       "      <td>NaN</td>\n",
       "      <td>1007.9</td>\n",
       "      <td>26.165662</td>\n",
       "      <td>31.7</td>\n",
       "      <td>No</td>\n",
       "      <td>NE</td>\n",
       "      <td>E</td>\n",
       "      <td>WSW</td>\n",
       "      <td>17.3</td>\n",
       "      <td>37.5</td>\n",
       "    </tr>\n",
       "    <tr>\n",
       "      <th>96771</th>\n",
       "      <td>2009-09-25</td>\n",
       "      <td>Adelaide</td>\n",
       "      <td>2.8</td>\n",
       "      <td>63.0</td>\n",
       "      <td>13.0</td>\n",
       "      <td>19.0</td>\n",
       "      <td>NaN</td>\n",
       "      <td>73.0</td>\n",
       "      <td>NaN</td>\n",
       "      <td>1003.1</td>\n",
       "      <td>12.982421</td>\n",
       "      <td>10.8</td>\n",
       "      <td>Yes</td>\n",
       "      <td>W</td>\n",
       "      <td>NW</td>\n",
       "      <td>W</td>\n",
       "      <td>11.8</td>\n",
       "      <td>14.8</td>\n",
       "    </tr>\n",
       "    <tr>\n",
       "      <th>109049</th>\n",
       "      <td>2010-03-24</td>\n",
       "      <td>Albany</td>\n",
       "      <td>13.4</td>\n",
       "      <td>NaN</td>\n",
       "      <td>0.0</td>\n",
       "      <td>37.0</td>\n",
       "      <td>82.0</td>\n",
       "      <td>79.0</td>\n",
       "      <td>NaN</td>\n",
       "      <td>1013.8</td>\n",
       "      <td>22.000000</td>\n",
       "      <td>22.4</td>\n",
       "      <td>Yes</td>\n",
       "      <td>S</td>\n",
       "      <td>WSW</td>\n",
       "      <td>SW</td>\n",
       "      <td>19.4</td>\n",
       "      <td>23.6</td>\n",
       "    </tr>\n",
       "    <tr>\n",
       "      <th>9653</th>\n",
       "      <td>2010-08-19</td>\n",
       "      <td>CoffsHarbour</td>\n",
       "      <td>0.0</td>\n",
       "      <td>52.0</td>\n",
       "      <td>7.0</td>\n",
       "      <td>7.0</td>\n",
       "      <td>67.0</td>\n",
       "      <td>39.0</td>\n",
       "      <td>NaN</td>\n",
       "      <td>1010.8</td>\n",
       "      <td>18.900000</td>\n",
       "      <td>25.4</td>\n",
       "      <td>No</td>\n",
       "      <td>NNW</td>\n",
       "      <td>WSW</td>\n",
       "      <td>E</td>\n",
       "      <td>14.5</td>\n",
       "      <td>25.6</td>\n",
       "    </tr>\n",
       "    <tr>\n",
       "      <th>...</th>\n",
       "      <td>...</td>\n",
       "      <td>...</td>\n",
       "      <td>...</td>\n",
       "      <td>...</td>\n",
       "      <td>...</td>\n",
       "      <td>...</td>\n",
       "      <td>...</td>\n",
       "      <td>...</td>\n",
       "      <td>...</td>\n",
       "      <td>...</td>\n",
       "      <td>...</td>\n",
       "      <td>...</td>\n",
       "      <td>...</td>\n",
       "      <td>...</td>\n",
       "      <td>...</td>\n",
       "      <td>...</td>\n",
       "      <td>...</td>\n",
       "      <td>...</td>\n",
       "    </tr>\n",
       "    <tr>\n",
       "      <th>34784</th>\n",
       "      <td>2012-07-18</td>\n",
       "      <td>SydneyAirport</td>\n",
       "      <td>0.0</td>\n",
       "      <td>31.0</td>\n",
       "      <td>13.0</td>\n",
       "      <td>13.0</td>\n",
       "      <td>62.0</td>\n",
       "      <td>37.0</td>\n",
       "      <td>NaN</td>\n",
       "      <td>1015.8</td>\n",
       "      <td>11.500000</td>\n",
       "      <td>18.1</td>\n",
       "      <td>No</td>\n",
       "      <td>W</td>\n",
       "      <td>W</td>\n",
       "      <td>SW</td>\n",
       "      <td>9.0</td>\n",
       "      <td>21.3</td>\n",
       "    </tr>\n",
       "    <tr>\n",
       "      <th>144243</th>\n",
       "      <td>2014-02-25</td>\n",
       "      <td>Uluru</td>\n",
       "      <td>NaN</td>\n",
       "      <td>28.0</td>\n",
       "      <td>NaN</td>\n",
       "      <td>7.0</td>\n",
       "      <td>NaN</td>\n",
       "      <td>49.0</td>\n",
       "      <td>NaN</td>\n",
       "      <td>1010.1</td>\n",
       "      <td>14.273332</td>\n",
       "      <td>26.7</td>\n",
       "      <td>NaN</td>\n",
       "      <td>E</td>\n",
       "      <td>NNE</td>\n",
       "      <td>NE</td>\n",
       "      <td>4.1</td>\n",
       "      <td>27.2</td>\n",
       "    </tr>\n",
       "    <tr>\n",
       "      <th>49480</th>\n",
       "      <td>2010-03-03</td>\n",
       "      <td>Tuggeranong</td>\n",
       "      <td>NaN</td>\n",
       "      <td>28.0</td>\n",
       "      <td>NaN</td>\n",
       "      <td>13.0</td>\n",
       "      <td>NaN</td>\n",
       "      <td>34.0</td>\n",
       "      <td>NaN</td>\n",
       "      <td>1015.8</td>\n",
       "      <td>15.827262</td>\n",
       "      <td>25.8</td>\n",
       "      <td>NaN</td>\n",
       "      <td>ESE</td>\n",
       "      <td>SSE</td>\n",
       "      <td>ENE</td>\n",
       "      <td>7.4</td>\n",
       "      <td>26.6</td>\n",
       "    </tr>\n",
       "    <tr>\n",
       "      <th>6563</th>\n",
       "      <td>2010-05-30</td>\n",
       "      <td>Cobar</td>\n",
       "      <td>4.6</td>\n",
       "      <td>39.0</td>\n",
       "      <td>19.0</td>\n",
       "      <td>11.0</td>\n",
       "      <td>98.0</td>\n",
       "      <td>83.0</td>\n",
       "      <td>NaN</td>\n",
       "      <td>1007.9</td>\n",
       "      <td>11.200000</td>\n",
       "      <td>13.2</td>\n",
       "      <td>Yes</td>\n",
       "      <td>SW</td>\n",
       "      <td>WSW</td>\n",
       "      <td>W</td>\n",
       "      <td>9.4</td>\n",
       "      <td>13.3</td>\n",
       "    </tr>\n",
       "    <tr>\n",
       "      <th>57380</th>\n",
       "      <td>2015-05-26</td>\n",
       "      <td>Ballarat</td>\n",
       "      <td>0.0</td>\n",
       "      <td>31.0</td>\n",
       "      <td>7.0</td>\n",
       "      <td>17.0</td>\n",
       "      <td>99.0</td>\n",
       "      <td>74.0</td>\n",
       "      <td>NaN</td>\n",
       "      <td>1025.1</td>\n",
       "      <td>6.400000</td>\n",
       "      <td>12.4</td>\n",
       "      <td>No</td>\n",
       "      <td>NNE</td>\n",
       "      <td>ENE</td>\n",
       "      <td>NNE</td>\n",
       "      <td>-1.4</td>\n",
       "      <td>12.8</td>\n",
       "    </tr>\n",
       "  </tbody>\n",
       "</table>\n",
       "<p>177 rows × 18 columns</p>\n",
       "</div>"
      ],
      "text/plain": [
       "              Date       Location  Rainfall  WindGustSpeed  WindSpeed9am  \\\n",
       "55940   2011-03-19       Ballarat       0.0           50.0          28.0   \n",
       "115371  2011-01-22     PearceRAAF       0.0            NaN           NaN   \n",
       "96771   2009-09-25       Adelaide       2.8           63.0          13.0   \n",
       "109049  2010-03-24         Albany      13.4            NaN           0.0   \n",
       "9653    2010-08-19   CoffsHarbour       0.0           52.0           7.0   \n",
       "...            ...            ...       ...            ...           ...   \n",
       "34784   2012-07-18  SydneyAirport       0.0           31.0          13.0   \n",
       "144243  2014-02-25          Uluru       NaN           28.0           NaN   \n",
       "49480   2010-03-03    Tuggeranong       NaN           28.0           NaN   \n",
       "6563    2010-05-30          Cobar       4.6           39.0          19.0   \n",
       "57380   2015-05-26       Ballarat       0.0           31.0           7.0   \n",
       "\n",
       "        WindSpeed3pm  Humidity9am  Humidity3pm  Pressure9am  Pressure3pm  \\\n",
       "55940           22.0          NaN         64.0          NaN       1011.5   \n",
       "115371          22.0          NaN         20.0          NaN       1007.9   \n",
       "96771           19.0          NaN         73.0          NaN       1003.1   \n",
       "109049          37.0         82.0         79.0          NaN       1013.8   \n",
       "9653             7.0         67.0         39.0          NaN       1010.8   \n",
       "...              ...          ...          ...          ...          ...   \n",
       "34784           13.0         62.0         37.0          NaN       1015.8   \n",
       "144243           7.0          NaN         49.0          NaN       1010.1   \n",
       "49480           13.0          NaN         34.0          NaN       1015.8   \n",
       "6563            11.0         98.0         83.0          NaN       1007.9   \n",
       "57380           17.0         99.0         74.0          NaN       1025.1   \n",
       "\n",
       "          Temp9am  Temp3pm RainToday WindGustDir_random WindDir9am_random  \\\n",
       "55940   14.254965     19.9        No                 SE               ESE   \n",
       "115371  26.165662     31.7        No                 NE                 E   \n",
       "96771   12.982421     10.8       Yes                  W                NW   \n",
       "109049  22.000000     22.4       Yes                  S               WSW   \n",
       "9653    18.900000     25.4        No                NNW               WSW   \n",
       "...           ...      ...       ...                ...               ...   \n",
       "34784   11.500000     18.1        No                  W                 W   \n",
       "144243  14.273332     26.7       NaN                  E               NNE   \n",
       "49480   15.827262     25.8       NaN                ESE               SSE   \n",
       "6563    11.200000     13.2       Yes                 SW               WSW   \n",
       "57380    6.400000     12.4        No                NNE               ENE   \n",
       "\n",
       "       WindDir3pm_random  MinTemp_random  MaxTemp_random  \n",
       "55940                ESE             8.6            21.6  \n",
       "115371               WSW            17.3            37.5  \n",
       "96771                  W            11.8            14.8  \n",
       "109049                SW            19.4            23.6  \n",
       "9653                   E            14.5            25.6  \n",
       "...                  ...             ...             ...  \n",
       "34784                 SW             9.0            21.3  \n",
       "144243                NE             4.1            27.2  \n",
       "49480                ENE             7.4            26.6  \n",
       "6563                   W             9.4            13.3  \n",
       "57380                NNE            -1.4            12.8  \n",
       "\n",
       "[177 rows x 18 columns]"
      ]
     },
     "execution_count": 190,
     "metadata": {},
     "output_type": "execute_result"
    }
   ],
   "source": [
    "q.loc[q['Pressure3pm'].notnull()]"
   ]
  },
  {
   "cell_type": "code",
   "execution_count": 191,
   "id": "f43e1ee2",
   "metadata": {},
   "outputs": [
    {
     "data": {
      "text/plain": [
       "Int64Index([ 55940, 115371,  96771, 109049,   9653,  18529,  58614,  43634,\n",
       "            108332,  46728,\n",
       "            ...\n",
       "             41063,   9755,  23593, 130409,  62688,  34784, 144243,  49480,\n",
       "              6563,  57380],\n",
       "           dtype='int64', length=177)"
      ]
     },
     "execution_count": 191,
     "metadata": {},
     "output_type": "execute_result"
    }
   ],
   "source": [
    "t = q.loc[q['Pressure3pm'].notnull()]\n",
    "t.index"
   ]
  },
  {
   "cell_type": "code",
   "execution_count": null,
   "id": "238e1b61",
   "metadata": {},
   "outputs": [],
   "source": []
  },
  {
   "cell_type": "code",
   "execution_count": 192,
   "id": "cd1f7a54",
   "metadata": {},
   "outputs": [],
   "source": [
    "ls = t.index.to_list()"
   ]
  },
  {
   "cell_type": "code",
   "execution_count": 193,
   "id": "a3f64eb9",
   "metadata": {},
   "outputs": [
    {
     "data": {
      "text/plain": [
       "177"
      ]
     },
     "execution_count": 193,
     "metadata": {},
     "output_type": "execute_result"
    }
   ],
   "source": [
    "len(ls)"
   ]
  },
  {
   "cell_type": "code",
   "execution_count": 194,
   "id": "0c9b0cf7",
   "metadata": {},
   "outputs": [],
   "source": [
    "for i in ls:\n",
    "    x_train['Pressure9am'][i] = lm3.predict([[x_train['Pressure3pm'][i]]])"
   ]
  },
  {
   "cell_type": "code",
   "execution_count": 195,
   "id": "adfaa34b",
   "metadata": {},
   "outputs": [
    {
     "data": {
      "text/plain": [
       "Date                      0\n",
       "Location                  0\n",
       "Rainfall               1023\n",
       "WindGustSpeed          6853\n",
       "WindSpeed9am            805\n",
       "WindSpeed3pm           1587\n",
       "Humidity9am            1137\n",
       "Humidity3pm            2373\n",
       "Pressure9am           10490\n",
       "Pressure3pm           10643\n",
       "Temp9am                   0\n",
       "Temp3pm                   0\n",
       "RainToday              1023\n",
       "WindGustDir_random        0\n",
       "WindDir9am_random         0\n",
       "WindDir3pm_random         0\n",
       "MinTemp_random            0\n",
       "MaxTemp_random            0\n",
       "dtype: int64"
      ]
     },
     "execution_count": 195,
     "metadata": {},
     "output_type": "execute_result"
    }
   ],
   "source": [
    "x_train.isnull().sum()"
   ]
  },
  {
   "cell_type": "code",
   "execution_count": 196,
   "id": "02263454",
   "metadata": {},
   "outputs": [],
   "source": [
    "x_train['Pressure9am_missing'] = np.where(x_train['Pressure9am'].isnull(),1,0)"
   ]
  },
  {
   "cell_type": "code",
   "execution_count": 197,
   "id": "1ea52c76",
   "metadata": {},
   "outputs": [
    {
     "data": {
      "text/html": [
       "<div>\n",
       "<style scoped>\n",
       "    .dataframe tbody tr th:only-of-type {\n",
       "        vertical-align: middle;\n",
       "    }\n",
       "\n",
       "    .dataframe tbody tr th {\n",
       "        vertical-align: top;\n",
       "    }\n",
       "\n",
       "    .dataframe thead th {\n",
       "        text-align: right;\n",
       "    }\n",
       "</style>\n",
       "<table border=\"1\" class=\"dataframe\">\n",
       "  <thead>\n",
       "    <tr style=\"text-align: right;\">\n",
       "      <th></th>\n",
       "      <th>Date</th>\n",
       "      <th>Location</th>\n",
       "      <th>Rainfall</th>\n",
       "      <th>WindGustSpeed</th>\n",
       "      <th>WindSpeed9am</th>\n",
       "      <th>WindSpeed3pm</th>\n",
       "      <th>Humidity9am</th>\n",
       "      <th>Humidity3pm</th>\n",
       "      <th>Pressure9am</th>\n",
       "      <th>Pressure3pm</th>\n",
       "      <th>Temp9am</th>\n",
       "      <th>Temp3pm</th>\n",
       "      <th>RainToday</th>\n",
       "      <th>WindGustDir_random</th>\n",
       "      <th>WindDir9am_random</th>\n",
       "      <th>WindDir3pm_random</th>\n",
       "      <th>MinTemp_random</th>\n",
       "      <th>MaxTemp_random</th>\n",
       "      <th>Pressure9am_missing</th>\n",
       "    </tr>\n",
       "  </thead>\n",
       "  <tbody>\n",
       "    <tr>\n",
       "      <th>83344</th>\n",
       "      <td>2015-09-02</td>\n",
       "      <td>Dartmoor</td>\n",
       "      <td>0.0</td>\n",
       "      <td>37.0</td>\n",
       "      <td>13.0</td>\n",
       "      <td>11.0</td>\n",
       "      <td>NaN</td>\n",
       "      <td>NaN</td>\n",
       "      <td>1008.0</td>\n",
       "      <td>1005.1</td>\n",
       "      <td>10.9</td>\n",
       "      <td>10.4</td>\n",
       "      <td>No</td>\n",
       "      <td>NNE</td>\n",
       "      <td>N</td>\n",
       "      <td>NE</td>\n",
       "      <td>4.6</td>\n",
       "      <td>12.5</td>\n",
       "      <td>0</td>\n",
       "    </tr>\n",
       "    <tr>\n",
       "      <th>10185</th>\n",
       "      <td>2012-03-03</td>\n",
       "      <td>CoffsHarbour</td>\n",
       "      <td>20.8</td>\n",
       "      <td>39.0</td>\n",
       "      <td>13.0</td>\n",
       "      <td>9.0</td>\n",
       "      <td>96.0</td>\n",
       "      <td>92.0</td>\n",
       "      <td>1019.0</td>\n",
       "      <td>1017.0</td>\n",
       "      <td>19.3</td>\n",
       "      <td>21.0</td>\n",
       "      <td>Yes</td>\n",
       "      <td>SE</td>\n",
       "      <td>SW</td>\n",
       "      <td>W</td>\n",
       "      <td>19.0</td>\n",
       "      <td>22.8</td>\n",
       "      <td>0</td>\n",
       "    </tr>\n",
       "    <tr>\n",
       "      <th>34777</th>\n",
       "      <td>2012-07-11</td>\n",
       "      <td>SydneyAirport</td>\n",
       "      <td>8.2</td>\n",
       "      <td>41.0</td>\n",
       "      <td>19.0</td>\n",
       "      <td>22.0</td>\n",
       "      <td>67.0</td>\n",
       "      <td>39.0</td>\n",
       "      <td>1019.9</td>\n",
       "      <td>1017.4</td>\n",
       "      <td>15.0</td>\n",
       "      <td>20.5</td>\n",
       "      <td>Yes</td>\n",
       "      <td>WNW</td>\n",
       "      <td>NNW</td>\n",
       "      <td>N</td>\n",
       "      <td>10.4</td>\n",
       "      <td>20.8</td>\n",
       "      <td>0</td>\n",
       "    </tr>\n",
       "    <tr>\n",
       "      <th>57070</th>\n",
       "      <td>2014-07-20</td>\n",
       "      <td>Ballarat</td>\n",
       "      <td>0.0</td>\n",
       "      <td>24.0</td>\n",
       "      <td>11.0</td>\n",
       "      <td>11.0</td>\n",
       "      <td>100.0</td>\n",
       "      <td>73.0</td>\n",
       "      <td>1028.7</td>\n",
       "      <td>1026.8</td>\n",
       "      <td>6.4</td>\n",
       "      <td>9.7</td>\n",
       "      <td>No</td>\n",
       "      <td>SSE</td>\n",
       "      <td>SSE</td>\n",
       "      <td>S</td>\n",
       "      <td>2.3</td>\n",
       "      <td>10.2</td>\n",
       "      <td>0</td>\n",
       "    </tr>\n",
       "    <tr>\n",
       "      <th>140866</th>\n",
       "      <td>2013-07-19</td>\n",
       "      <td>Darwin</td>\n",
       "      <td>0.0</td>\n",
       "      <td>35.0</td>\n",
       "      <td>17.0</td>\n",
       "      <td>24.0</td>\n",
       "      <td>73.0</td>\n",
       "      <td>57.0</td>\n",
       "      <td>1013.1</td>\n",
       "      <td>1009.2</td>\n",
       "      <td>24.9</td>\n",
       "      <td>29.0</td>\n",
       "      <td>No</td>\n",
       "      <td>N</td>\n",
       "      <td>E</td>\n",
       "      <td>N</td>\n",
       "      <td>18.9</td>\n",
       "      <td>32.0</td>\n",
       "      <td>0</td>\n",
       "    </tr>\n",
       "  </tbody>\n",
       "</table>\n",
       "</div>"
      ],
      "text/plain": [
       "              Date       Location  Rainfall  WindGustSpeed  WindSpeed9am  \\\n",
       "83344   2015-09-02       Dartmoor       0.0           37.0          13.0   \n",
       "10185   2012-03-03   CoffsHarbour      20.8           39.0          13.0   \n",
       "34777   2012-07-11  SydneyAirport       8.2           41.0          19.0   \n",
       "57070   2014-07-20       Ballarat       0.0           24.0          11.0   \n",
       "140866  2013-07-19         Darwin       0.0           35.0          17.0   \n",
       "\n",
       "        WindSpeed3pm  Humidity9am  Humidity3pm  Pressure9am  Pressure3pm  \\\n",
       "83344           11.0          NaN          NaN       1008.0       1005.1   \n",
       "10185            9.0         96.0         92.0       1019.0       1017.0   \n",
       "34777           22.0         67.0         39.0       1019.9       1017.4   \n",
       "57070           11.0        100.0         73.0       1028.7       1026.8   \n",
       "140866          24.0         73.0         57.0       1013.1       1009.2   \n",
       "\n",
       "        Temp9am  Temp3pm RainToday WindGustDir_random WindDir9am_random  \\\n",
       "83344      10.9     10.4        No                NNE                 N   \n",
       "10185      19.3     21.0       Yes                 SE                SW   \n",
       "34777      15.0     20.5       Yes                WNW               NNW   \n",
       "57070       6.4      9.7        No                SSE               SSE   \n",
       "140866     24.9     29.0        No                  N                 E   \n",
       "\n",
       "       WindDir3pm_random  MinTemp_random  MaxTemp_random  Pressure9am_missing  \n",
       "83344                 NE             4.6            12.5                    0  \n",
       "10185                  W            19.0            22.8                    0  \n",
       "34777                  N            10.4            20.8                    0  \n",
       "57070                  S             2.3            10.2                    0  \n",
       "140866                 N            18.9            32.0                    0  "
      ]
     },
     "execution_count": 197,
     "metadata": {},
     "output_type": "execute_result"
    }
   ],
   "source": [
    "x_train.head()"
   ]
  },
  {
   "cell_type": "code",
   "execution_count": 198,
   "id": "5d2d7b01",
   "metadata": {},
   "outputs": [
    {
     "data": {
      "text/plain": [
       "0    102679\n",
       "1     10490\n",
       "Name: Pressure9am_missing, dtype: int64"
      ]
     },
     "execution_count": 198,
     "metadata": {},
     "output_type": "execute_result"
    }
   ],
   "source": [
    "x_train['Pressure9am_missing'].value_counts()"
   ]
  },
  {
   "cell_type": "code",
   "execution_count": 199,
   "id": "1a91bcbb",
   "metadata": {},
   "outputs": [],
   "source": [
    "impute_nan(x_train,'Pressure9am')"
   ]
  },
  {
   "cell_type": "code",
   "execution_count": 200,
   "id": "2385f4f9",
   "metadata": {},
   "outputs": [],
   "source": [
    "x_train.drop(['Pressure3pm','Pressure9am'],axis=1,inplace=True)"
   ]
  },
  {
   "cell_type": "code",
   "execution_count": 201,
   "id": "3c230c1e",
   "metadata": {},
   "outputs": [
    {
     "data": {
      "text/plain": [
       "Date                      0\n",
       "Location                  0\n",
       "Rainfall               1023\n",
       "WindGustSpeed          6853\n",
       "WindSpeed9am            805\n",
       "WindSpeed3pm           1587\n",
       "Humidity9am            1137\n",
       "Humidity3pm            2373\n",
       "Temp9am                   0\n",
       "Temp3pm                   0\n",
       "RainToday              1023\n",
       "WindGustDir_random        0\n",
       "WindDir9am_random         0\n",
       "WindDir3pm_random         0\n",
       "MinTemp_random            0\n",
       "MaxTemp_random            0\n",
       "Pressure9am_missing       0\n",
       "Pressure9am_random        0\n",
       "dtype: int64"
      ]
     },
     "execution_count": 201,
     "metadata": {},
     "output_type": "execute_result"
    }
   ],
   "source": [
    "x_train.isnull().sum()"
   ]
  },
  {
   "cell_type": "code",
   "execution_count": 203,
   "id": "a772a1b0",
   "metadata": {},
   "outputs": [
    {
     "name": "stdout",
     "output_type": "stream",
     "text": [
      "Correlation between Pressure9am_random and Pressure9am_random is 1.0\n",
      "Correlation between Pressure9am_random and Humidity9am is 0.12876501977343358\n",
      "Correlation between Pressure9am_random and Pressure9am_missing is 0.005390014047716073\n",
      "Correlation between Pressure9am_random and Humidity3pm is -0.022841208085817147\n",
      "Correlation between Pressure9am_random and Rainfall is -0.15268816555164272\n",
      "Correlation between Pressure9am_random and WindSpeed9am is -0.20653533939992577\n",
      "Correlation between Pressure9am_random and Temp3pm is -0.2572345655684341\n",
      "Correlation between Pressure9am_random and WindSpeed3pm is -0.2664057411818627\n",
      "Correlation between Pressure9am_random and MaxTemp_random is -0.29476190411956965\n",
      "Correlation between Pressure9am_random and Temp9am is -0.37761593815221195\n",
      "Correlation between Pressure9am_random and MinTemp_random is -0.40431673061127166\n",
      "Correlation between Pressure9am_random and WindGustSpeed is -0.420383301590696\n"
     ]
    }
   ],
   "source": [
    "highest_corr(x_train,'Pressure9am_random')"
   ]
  },
  {
   "cell_type": "code",
   "execution_count": 204,
   "id": "c19cd880",
   "metadata": {},
   "outputs": [
    {
     "name": "stdout",
     "output_type": "stream",
     "text": [
      "Correlation between Pressure9am_missing and Pressure9am_missing is 0.9999999999999998\n",
      "Correlation between Pressure9am_missing and Humidity9am is 0.06288659464980095\n",
      "Correlation between Pressure9am_missing and Humidity3pm is 0.03447053385157897\n",
      "Correlation between Pressure9am_missing and Pressure9am_random is 0.005390014047716073\n",
      "Correlation between Pressure9am_missing and Rainfall is -0.00034573045140158423\n",
      "Correlation between Pressure9am_missing and WindGustSpeed is -0.03145337823695539\n",
      "Correlation between Pressure9am_missing and MaxTemp_random is -0.09604210571315218\n",
      "Correlation between Pressure9am_missing and Temp3pm is -0.09760404368164657\n",
      "Correlation between Pressure9am_missing and WindSpeed9am is -0.1040978064461976\n",
      "Correlation between Pressure9am_missing and Temp9am is -0.11816011317122432\n",
      "Correlation between Pressure9am_missing and MinTemp_random is -0.12897499435667378\n",
      "Correlation between Pressure9am_missing and WindSpeed3pm is -0.15490891484282038\n"
     ]
    }
   ],
   "source": [
    "highest_corr(x_train,'Pressure9am_missing')"
   ]
  },
  {
   "cell_type": "code",
   "execution_count": 205,
   "id": "0bd776cc",
   "metadata": {},
   "outputs": [
    {
     "name": "stdout",
     "output_type": "stream",
     "text": [
      "Correlation between WindGustSpeed and WindGustSpeed is 1.0\n",
      "Correlation between WindGustSpeed and WindSpeed3pm is 0.685454624151629\n",
      "Correlation between WindGustSpeed and WindSpeed9am is 0.6036696351601752\n",
      "Correlation between WindGustSpeed and MinTemp_random is 0.17684743356928773\n",
      "Correlation between WindGustSpeed and Temp9am is 0.14710661452282967\n",
      "Correlation between WindGustSpeed and Rainfall is 0.13322285452173546\n",
      "Correlation between WindGustSpeed and MaxTemp_random is 0.0690111209948527\n",
      "Correlation between WindGustSpeed and Temp3pm is 0.030313252386384812\n",
      "Correlation between WindGustSpeed and Humidity3pm is -0.029720220835571996\n",
      "Correlation between WindGustSpeed and Pressure9am_missing is -0.03145337823695538\n",
      "Correlation between WindGustSpeed and Humidity9am is -0.216603531314966\n",
      "Correlation between WindGustSpeed and Pressure9am_random is -0.4203833015906959\n"
     ]
    }
   ],
   "source": [
    "highest_corr(x_train,'WindGustSpeed')"
   ]
  },
  {
   "cell_type": "code",
   "execution_count": 206,
   "id": "9fc66985",
   "metadata": {},
   "outputs": [],
   "source": [
    "impute_nan(x_train,'WindGustSpeed')"
   ]
  },
  {
   "cell_type": "code",
   "execution_count": 207,
   "id": "938cfdef",
   "metadata": {},
   "outputs": [],
   "source": [
    "x_train.drop(['WindGustSpeed'],axis=1,inplace=True)"
   ]
  },
  {
   "cell_type": "code",
   "execution_count": 208,
   "id": "e3dc6350",
   "metadata": {},
   "outputs": [
    {
     "name": "stdout",
     "output_type": "stream",
     "text": [
      "Correlation between WindGustSpeed_random and WindGustSpeed_random is 1.0\n",
      "Correlation between WindGustSpeed_random and WindSpeed3pm is 0.6413649030402974\n",
      "Correlation between WindGustSpeed_random and WindSpeed9am is 0.564055453990559\n",
      "Correlation between WindGustSpeed_random and MinTemp_random is 0.16753698932455396\n",
      "Correlation between WindGustSpeed_random and Temp9am is 0.13982831975942095\n",
      "Correlation between WindGustSpeed_random and Rainfall is 0.1232965049789151\n",
      "Correlation between WindGustSpeed_random and MaxTemp_random is 0.0652218205141152\n",
      "Correlation between WindGustSpeed_random and Temp3pm is 0.02830306693369673\n",
      "Correlation between WindGustSpeed_random and Pressure9am_missing is -0.027949772467501407\n",
      "Correlation between WindGustSpeed_random and Humidity3pm is -0.02893907876077024\n",
      "Correlation between WindGustSpeed_random and Humidity9am is -0.20699151689955775\n",
      "Correlation between WindGustSpeed_random and Pressure9am_random is -0.39402887461122266\n"
     ]
    }
   ],
   "source": [
    "highest_corr(x_train,'WindGustSpeed_random')"
   ]
  },
  {
   "cell_type": "code",
   "execution_count": null,
   "id": "d5e063f3",
   "metadata": {},
   "outputs": [],
   "source": []
  },
  {
   "cell_type": "code",
   "execution_count": 209,
   "id": "3dc5e07b",
   "metadata": {},
   "outputs": [
    {
     "data": {
      "text/plain": [
       "Date                       0\n",
       "Location                   0\n",
       "Rainfall                1023\n",
       "WindSpeed9am             805\n",
       "WindSpeed3pm            1587\n",
       "Humidity9am             1137\n",
       "Humidity3pm             2373\n",
       "Temp9am                    0\n",
       "Temp3pm                    0\n",
       "RainToday               1023\n",
       "WindGustDir_random         0\n",
       "WindDir9am_random          0\n",
       "WindDir3pm_random          0\n",
       "MinTemp_random             0\n",
       "MaxTemp_random             0\n",
       "Pressure9am_missing        0\n",
       "Pressure9am_random         0\n",
       "WindGustSpeed_random       0\n",
       "dtype: int64"
      ]
     },
     "execution_count": 209,
     "metadata": {},
     "output_type": "execute_result"
    }
   ],
   "source": [
    "x_train.isnull().sum()"
   ]
  },
  {
   "cell_type": "code",
   "execution_count": 210,
   "id": "c6683fbe",
   "metadata": {},
   "outputs": [],
   "source": [
    "for i in ['WindSpeed9am','WindSpeed3pm','Humidity9am','Humidity3pm']:\n",
    "    impute_nan(x_train,i)\n",
    "    x_train.drop(i,axis=1,inplace=True)"
   ]
  },
  {
   "cell_type": "code",
   "execution_count": 211,
   "id": "0757728b",
   "metadata": {},
   "outputs": [
    {
     "data": {
      "text/plain": [
       "Date                       0\n",
       "Location                   0\n",
       "Rainfall                1023\n",
       "Temp9am                    0\n",
       "Temp3pm                    0\n",
       "RainToday               1023\n",
       "WindGustDir_random         0\n",
       "WindDir9am_random          0\n",
       "WindDir3pm_random          0\n",
       "MinTemp_random             0\n",
       "MaxTemp_random             0\n",
       "Pressure9am_missing        0\n",
       "Pressure9am_random         0\n",
       "WindGustSpeed_random       0\n",
       "WindSpeed9am_random        0\n",
       "WindSpeed3pm_random        0\n",
       "Humidity9am_random         0\n",
       "Humidity3pm_random         0\n",
       "dtype: int64"
      ]
     },
     "execution_count": 211,
     "metadata": {},
     "output_type": "execute_result"
    }
   ],
   "source": [
    "x_train.isnull().sum()"
   ]
  },
  {
   "cell_type": "code",
   "execution_count": 212,
   "id": "84a1d0d3",
   "metadata": {},
   "outputs": [],
   "source": [
    "ss = x_train.loc[x_train['RainToday'].isnull()]"
   ]
  },
  {
   "cell_type": "code",
   "execution_count": 213,
   "id": "ed508df6",
   "metadata": {},
   "outputs": [
    {
     "data": {
      "text/plain": [
       "1023"
      ]
     },
     "execution_count": 213,
     "metadata": {},
     "output_type": "execute_result"
    }
   ],
   "source": [
    "ss['Rainfall'].isnull().sum()"
   ]
  },
  {
   "cell_type": "markdown",
   "id": "9cb1534f",
   "metadata": {},
   "source": [
    "That means 1023 rows have null values in both 'RainToday' & 'Rainfall' features"
   ]
  },
  {
   "cell_type": "code",
   "execution_count": null,
   "id": "a40c8ab7",
   "metadata": {},
   "outputs": [],
   "source": []
  },
  {
   "cell_type": "code",
   "execution_count": 214,
   "id": "e3037d4b",
   "metadata": {},
   "outputs": [
    {
     "data": {
      "text/plain": [
       "(113169, 18)"
      ]
     },
     "execution_count": 214,
     "metadata": {},
     "output_type": "execute_result"
    }
   ],
   "source": [
    "x_train.shape"
   ]
  },
  {
   "cell_type": "code",
   "execution_count": 215,
   "id": "2a7ed3bd",
   "metadata": {},
   "outputs": [
    {
     "data": {
      "text/plain": [
       "145460"
      ]
     },
     "execution_count": 215,
     "metadata": {},
     "output_type": "execute_result"
    }
   ],
   "source": [
    "len(df)"
   ]
  },
  {
   "cell_type": "code",
   "execution_count": 216,
   "id": "5e9252bb",
   "metadata": {},
   "outputs": [],
   "source": [
    "zx = pd.concat([x_train,y_train], axis=1, join='inner')"
   ]
  },
  {
   "cell_type": "code",
   "execution_count": 217,
   "id": "fc9b069d",
   "metadata": {},
   "outputs": [
    {
     "data": {
      "text/html": [
       "<div>\n",
       "<style scoped>\n",
       "    .dataframe tbody tr th:only-of-type {\n",
       "        vertical-align: middle;\n",
       "    }\n",
       "\n",
       "    .dataframe tbody tr th {\n",
       "        vertical-align: top;\n",
       "    }\n",
       "\n",
       "    .dataframe thead th {\n",
       "        text-align: right;\n",
       "    }\n",
       "</style>\n",
       "<table border=\"1\" class=\"dataframe\">\n",
       "  <thead>\n",
       "    <tr style=\"text-align: right;\">\n",
       "      <th></th>\n",
       "      <th>Date</th>\n",
       "      <th>Location</th>\n",
       "      <th>Rainfall</th>\n",
       "      <th>Temp9am</th>\n",
       "      <th>Temp3pm</th>\n",
       "      <th>RainToday</th>\n",
       "      <th>WindGustDir_random</th>\n",
       "      <th>WindDir9am_random</th>\n",
       "      <th>WindDir3pm_random</th>\n",
       "      <th>MinTemp_random</th>\n",
       "      <th>MaxTemp_random</th>\n",
       "      <th>Pressure9am_missing</th>\n",
       "      <th>Pressure9am_random</th>\n",
       "      <th>WindGustSpeed_random</th>\n",
       "      <th>WindSpeed9am_random</th>\n",
       "      <th>WindSpeed3pm_random</th>\n",
       "      <th>Humidity9am_random</th>\n",
       "      <th>Humidity3pm_random</th>\n",
       "      <th>RainTomorrow</th>\n",
       "    </tr>\n",
       "  </thead>\n",
       "  <tbody>\n",
       "    <tr>\n",
       "      <th>83344</th>\n",
       "      <td>2015-09-02</td>\n",
       "      <td>Dartmoor</td>\n",
       "      <td>0.0</td>\n",
       "      <td>10.9</td>\n",
       "      <td>10.4</td>\n",
       "      <td>No</td>\n",
       "      <td>NNE</td>\n",
       "      <td>N</td>\n",
       "      <td>NE</td>\n",
       "      <td>4.6</td>\n",
       "      <td>12.5</td>\n",
       "      <td>0</td>\n",
       "      <td>1008.0</td>\n",
       "      <td>37.0</td>\n",
       "      <td>13.0</td>\n",
       "      <td>11.0</td>\n",
       "      <td>24.0</td>\n",
       "      <td>58.0</td>\n",
       "      <td>1</td>\n",
       "    </tr>\n",
       "    <tr>\n",
       "      <th>10185</th>\n",
       "      <td>2012-03-03</td>\n",
       "      <td>CoffsHarbour</td>\n",
       "      <td>20.8</td>\n",
       "      <td>19.3</td>\n",
       "      <td>21.0</td>\n",
       "      <td>Yes</td>\n",
       "      <td>SE</td>\n",
       "      <td>SW</td>\n",
       "      <td>W</td>\n",
       "      <td>19.0</td>\n",
       "      <td>22.8</td>\n",
       "      <td>0</td>\n",
       "      <td>1019.0</td>\n",
       "      <td>39.0</td>\n",
       "      <td>13.0</td>\n",
       "      <td>9.0</td>\n",
       "      <td>96.0</td>\n",
       "      <td>92.0</td>\n",
       "      <td>1</td>\n",
       "    </tr>\n",
       "    <tr>\n",
       "      <th>34777</th>\n",
       "      <td>2012-07-11</td>\n",
       "      <td>SydneyAirport</td>\n",
       "      <td>8.2</td>\n",
       "      <td>15.0</td>\n",
       "      <td>20.5</td>\n",
       "      <td>Yes</td>\n",
       "      <td>WNW</td>\n",
       "      <td>NNW</td>\n",
       "      <td>N</td>\n",
       "      <td>10.4</td>\n",
       "      <td>20.8</td>\n",
       "      <td>0</td>\n",
       "      <td>1019.9</td>\n",
       "      <td>41.0</td>\n",
       "      <td>19.0</td>\n",
       "      <td>22.0</td>\n",
       "      <td>67.0</td>\n",
       "      <td>39.0</td>\n",
       "      <td>0</td>\n",
       "    </tr>\n",
       "    <tr>\n",
       "      <th>57070</th>\n",
       "      <td>2014-07-20</td>\n",
       "      <td>Ballarat</td>\n",
       "      <td>0.0</td>\n",
       "      <td>6.4</td>\n",
       "      <td>9.7</td>\n",
       "      <td>No</td>\n",
       "      <td>SSE</td>\n",
       "      <td>SSE</td>\n",
       "      <td>S</td>\n",
       "      <td>2.3</td>\n",
       "      <td>10.2</td>\n",
       "      <td>0</td>\n",
       "      <td>1028.7</td>\n",
       "      <td>24.0</td>\n",
       "      <td>11.0</td>\n",
       "      <td>11.0</td>\n",
       "      <td>100.0</td>\n",
       "      <td>73.0</td>\n",
       "      <td>0</td>\n",
       "    </tr>\n",
       "    <tr>\n",
       "      <th>140866</th>\n",
       "      <td>2013-07-19</td>\n",
       "      <td>Darwin</td>\n",
       "      <td>0.0</td>\n",
       "      <td>24.9</td>\n",
       "      <td>29.0</td>\n",
       "      <td>No</td>\n",
       "      <td>N</td>\n",
       "      <td>E</td>\n",
       "      <td>N</td>\n",
       "      <td>18.9</td>\n",
       "      <td>32.0</td>\n",
       "      <td>0</td>\n",
       "      <td>1013.1</td>\n",
       "      <td>35.0</td>\n",
       "      <td>17.0</td>\n",
       "      <td>24.0</td>\n",
       "      <td>73.0</td>\n",
       "      <td>57.0</td>\n",
       "      <td>0</td>\n",
       "    </tr>\n",
       "  </tbody>\n",
       "</table>\n",
       "</div>"
      ],
      "text/plain": [
       "              Date       Location  Rainfall  Temp9am  Temp3pm RainToday  \\\n",
       "83344   2015-09-02       Dartmoor       0.0     10.9     10.4        No   \n",
       "10185   2012-03-03   CoffsHarbour      20.8     19.3     21.0       Yes   \n",
       "34777   2012-07-11  SydneyAirport       8.2     15.0     20.5       Yes   \n",
       "57070   2014-07-20       Ballarat       0.0      6.4      9.7        No   \n",
       "140866  2013-07-19         Darwin       0.0     24.9     29.0        No   \n",
       "\n",
       "       WindGustDir_random WindDir9am_random WindDir3pm_random  MinTemp_random  \\\n",
       "83344                 NNE                 N                NE             4.6   \n",
       "10185                  SE                SW                 W            19.0   \n",
       "34777                 WNW               NNW                 N            10.4   \n",
       "57070                 SSE               SSE                 S             2.3   \n",
       "140866                  N                 E                 N            18.9   \n",
       "\n",
       "        MaxTemp_random  Pressure9am_missing  Pressure9am_random  \\\n",
       "83344             12.5                    0              1008.0   \n",
       "10185             22.8                    0              1019.0   \n",
       "34777             20.8                    0              1019.9   \n",
       "57070             10.2                    0              1028.7   \n",
       "140866            32.0                    0              1013.1   \n",
       "\n",
       "        WindGustSpeed_random  WindSpeed9am_random  WindSpeed3pm_random  \\\n",
       "83344                   37.0                 13.0                 11.0   \n",
       "10185                   39.0                 13.0                  9.0   \n",
       "34777                   41.0                 19.0                 22.0   \n",
       "57070                   24.0                 11.0                 11.0   \n",
       "140866                  35.0                 17.0                 24.0   \n",
       "\n",
       "        Humidity9am_random  Humidity3pm_random  RainTomorrow  \n",
       "83344                 24.0                58.0             1  \n",
       "10185                 96.0                92.0             1  \n",
       "34777                 67.0                39.0             0  \n",
       "57070                100.0                73.0             0  \n",
       "140866                73.0                57.0             0  "
      ]
     },
     "execution_count": 217,
     "metadata": {},
     "output_type": "execute_result"
    }
   ],
   "source": [
    "zx.head()"
   ]
  },
  {
   "cell_type": "code",
   "execution_count": 218,
   "id": "cb0577ef",
   "metadata": {},
   "outputs": [],
   "source": [
    "cc = zx.loc[zx['RainTomorrow']==0]"
   ]
  },
  {
   "cell_type": "code",
   "execution_count": 219,
   "id": "20f8fe22",
   "metadata": {},
   "outputs": [
    {
     "data": {
      "text/plain": [
       "87822"
      ]
     },
     "execution_count": 219,
     "metadata": {},
     "output_type": "execute_result"
    }
   ],
   "source": [
    "len(cc)"
   ]
  },
  {
   "cell_type": "code",
   "execution_count": 220,
   "id": "644296fb",
   "metadata": {},
   "outputs": [
    {
     "data": {
      "text/plain": [
       "72907"
      ]
     },
     "execution_count": 220,
     "metadata": {},
     "output_type": "execute_result"
    }
   ],
   "source": [
    "len(cc.loc[cc['Rainfall']<1])"
   ]
  },
  {
   "cell_type": "code",
   "execution_count": 221,
   "id": "ce6dbc12",
   "metadata": {},
   "outputs": [
    {
     "data": {
      "text/plain": [
       "73848"
      ]
     },
     "execution_count": 221,
     "metadata": {},
     "output_type": "execute_result"
    }
   ],
   "source": [
    "len(cc.loc[cc['RainToday']=='No'])"
   ]
  },
  {
   "cell_type": "code",
   "execution_count": 222,
   "id": "ab33b889",
   "metadata": {},
   "outputs": [
    {
     "data": {
      "text/html": [
       "<div>\n",
       "<style scoped>\n",
       "    .dataframe tbody tr th:only-of-type {\n",
       "        vertical-align: middle;\n",
       "    }\n",
       "\n",
       "    .dataframe tbody tr th {\n",
       "        vertical-align: top;\n",
       "    }\n",
       "\n",
       "    .dataframe thead th {\n",
       "        text-align: right;\n",
       "    }\n",
       "</style>\n",
       "<table border=\"1\" class=\"dataframe\">\n",
       "  <thead>\n",
       "    <tr style=\"text-align: right;\">\n",
       "      <th></th>\n",
       "      <th>Date</th>\n",
       "      <th>Location</th>\n",
       "      <th>Rainfall</th>\n",
       "      <th>Temp9am</th>\n",
       "      <th>Temp3pm</th>\n",
       "      <th>RainToday</th>\n",
       "      <th>WindGustDir_random</th>\n",
       "      <th>WindDir9am_random</th>\n",
       "      <th>WindDir3pm_random</th>\n",
       "      <th>MinTemp_random</th>\n",
       "      <th>MaxTemp_random</th>\n",
       "      <th>Pressure9am_missing</th>\n",
       "      <th>Pressure9am_random</th>\n",
       "      <th>WindGustSpeed_random</th>\n",
       "      <th>WindSpeed9am_random</th>\n",
       "      <th>WindSpeed3pm_random</th>\n",
       "      <th>Humidity9am_random</th>\n",
       "      <th>Humidity3pm_random</th>\n",
       "      <th>RainTomorrow</th>\n",
       "    </tr>\n",
       "  </thead>\n",
       "  <tbody>\n",
       "    <tr>\n",
       "      <th>34777</th>\n",
       "      <td>2012-07-11</td>\n",
       "      <td>SydneyAirport</td>\n",
       "      <td>8.2</td>\n",
       "      <td>15.0</td>\n",
       "      <td>20.5</td>\n",
       "      <td>Yes</td>\n",
       "      <td>WNW</td>\n",
       "      <td>NNW</td>\n",
       "      <td>N</td>\n",
       "      <td>10.4</td>\n",
       "      <td>20.8</td>\n",
       "      <td>0</td>\n",
       "      <td>1019.9</td>\n",
       "      <td>41.0</td>\n",
       "      <td>19.0</td>\n",
       "      <td>22.0</td>\n",
       "      <td>67.0</td>\n",
       "      <td>39.0</td>\n",
       "      <td>0</td>\n",
       "    </tr>\n",
       "    <tr>\n",
       "      <th>57070</th>\n",
       "      <td>2014-07-20</td>\n",
       "      <td>Ballarat</td>\n",
       "      <td>0.0</td>\n",
       "      <td>6.4</td>\n",
       "      <td>9.7</td>\n",
       "      <td>No</td>\n",
       "      <td>SSE</td>\n",
       "      <td>SSE</td>\n",
       "      <td>S</td>\n",
       "      <td>2.3</td>\n",
       "      <td>10.2</td>\n",
       "      <td>0</td>\n",
       "      <td>1028.7</td>\n",
       "      <td>24.0</td>\n",
       "      <td>11.0</td>\n",
       "      <td>11.0</td>\n",
       "      <td>100.0</td>\n",
       "      <td>73.0</td>\n",
       "      <td>0</td>\n",
       "    </tr>\n",
       "    <tr>\n",
       "      <th>140866</th>\n",
       "      <td>2013-07-19</td>\n",
       "      <td>Darwin</td>\n",
       "      <td>0.0</td>\n",
       "      <td>24.9</td>\n",
       "      <td>29.0</td>\n",
       "      <td>No</td>\n",
       "      <td>N</td>\n",
       "      <td>E</td>\n",
       "      <td>N</td>\n",
       "      <td>18.9</td>\n",
       "      <td>32.0</td>\n",
       "      <td>0</td>\n",
       "      <td>1013.1</td>\n",
       "      <td>35.0</td>\n",
       "      <td>17.0</td>\n",
       "      <td>24.0</td>\n",
       "      <td>73.0</td>\n",
       "      <td>57.0</td>\n",
       "      <td>0</td>\n",
       "    </tr>\n",
       "    <tr>\n",
       "      <th>62285</th>\n",
       "      <td>2012-02-08</td>\n",
       "      <td>Sale</td>\n",
       "      <td>0.0</td>\n",
       "      <td>16.0</td>\n",
       "      <td>19.1</td>\n",
       "      <td>No</td>\n",
       "      <td>E</td>\n",
       "      <td>WSW</td>\n",
       "      <td>E</td>\n",
       "      <td>13.5</td>\n",
       "      <td>21.1</td>\n",
       "      <td>0</td>\n",
       "      <td>1014.6</td>\n",
       "      <td>31.0</td>\n",
       "      <td>13.0</td>\n",
       "      <td>11.0</td>\n",
       "      <td>60.0</td>\n",
       "      <td>47.0</td>\n",
       "      <td>0</td>\n",
       "    </tr>\n",
       "    <tr>\n",
       "      <th>121390</th>\n",
       "      <td>2010-07-23</td>\n",
       "      <td>Perth</td>\n",
       "      <td>0.0</td>\n",
       "      <td>11.6</td>\n",
       "      <td>19.8</td>\n",
       "      <td>No</td>\n",
       "      <td>NNE</td>\n",
       "      <td>ENE</td>\n",
       "      <td>SSE</td>\n",
       "      <td>3.3</td>\n",
       "      <td>20.3</td>\n",
       "      <td>0</td>\n",
       "      <td>1032.0</td>\n",
       "      <td>19.0</td>\n",
       "      <td>9.0</td>\n",
       "      <td>2.0</td>\n",
       "      <td>59.0</td>\n",
       "      <td>37.0</td>\n",
       "      <td>0</td>\n",
       "    </tr>\n",
       "  </tbody>\n",
       "</table>\n",
       "</div>"
      ],
      "text/plain": [
       "              Date       Location  Rainfall  Temp9am  Temp3pm RainToday  \\\n",
       "34777   2012-07-11  SydneyAirport       8.2     15.0     20.5       Yes   \n",
       "57070   2014-07-20       Ballarat       0.0      6.4      9.7        No   \n",
       "140866  2013-07-19         Darwin       0.0     24.9     29.0        No   \n",
       "62285   2012-02-08           Sale       0.0     16.0     19.1        No   \n",
       "121390  2010-07-23          Perth       0.0     11.6     19.8        No   \n",
       "\n",
       "       WindGustDir_random WindDir9am_random WindDir3pm_random  MinTemp_random  \\\n",
       "34777                 WNW               NNW                 N            10.4   \n",
       "57070                 SSE               SSE                 S             2.3   \n",
       "140866                  N                 E                 N            18.9   \n",
       "62285                   E               WSW                 E            13.5   \n",
       "121390                NNE               ENE               SSE             3.3   \n",
       "\n",
       "        MaxTemp_random  Pressure9am_missing  Pressure9am_random  \\\n",
       "34777             20.8                    0              1019.9   \n",
       "57070             10.2                    0              1028.7   \n",
       "140866            32.0                    0              1013.1   \n",
       "62285             21.1                    0              1014.6   \n",
       "121390            20.3                    0              1032.0   \n",
       "\n",
       "        WindGustSpeed_random  WindSpeed9am_random  WindSpeed3pm_random  \\\n",
       "34777                   41.0                 19.0                 22.0   \n",
       "57070                   24.0                 11.0                 11.0   \n",
       "140866                  35.0                 17.0                 24.0   \n",
       "62285                   31.0                 13.0                 11.0   \n",
       "121390                  19.0                  9.0                  2.0   \n",
       "\n",
       "        Humidity9am_random  Humidity3pm_random  RainTomorrow  \n",
       "34777                 67.0                39.0             0  \n",
       "57070                100.0                73.0             0  \n",
       "140866                73.0                57.0             0  \n",
       "62285                 60.0                47.0             0  \n",
       "121390                59.0                37.0             0  "
      ]
     },
     "execution_count": 222,
     "metadata": {},
     "output_type": "execute_result"
    }
   ],
   "source": [
    "cc.head()"
   ]
  },
  {
   "cell_type": "code",
   "execution_count": null,
   "id": "eb913027",
   "metadata": {},
   "outputs": [],
   "source": []
  },
  {
   "cell_type": "code",
   "execution_count": 223,
   "id": "566a87d9",
   "metadata": {},
   "outputs": [
    {
     "data": {
      "text/plain": [
       "Date                       0\n",
       "Location                   0\n",
       "Rainfall                1023\n",
       "Temp9am                    0\n",
       "Temp3pm                    0\n",
       "RainToday               1023\n",
       "WindGustDir_random         0\n",
       "WindDir9am_random          0\n",
       "WindDir3pm_random          0\n",
       "MinTemp_random             0\n",
       "MaxTemp_random             0\n",
       "Pressure9am_missing        0\n",
       "Pressure9am_random         0\n",
       "WindGustSpeed_random       0\n",
       "WindSpeed9am_random        0\n",
       "WindSpeed3pm_random        0\n",
       "Humidity9am_random         0\n",
       "Humidity3pm_random         0\n",
       "dtype: int64"
      ]
     },
     "execution_count": 223,
     "metadata": {},
     "output_type": "execute_result"
    }
   ],
   "source": [
    "x_train.isnull().sum()"
   ]
  },
  {
   "cell_type": "code",
   "execution_count": 224,
   "id": "d3773793",
   "metadata": {},
   "outputs": [
    {
     "data": {
      "text/plain": [
       "(113169, 18)"
      ]
     },
     "execution_count": 224,
     "metadata": {},
     "output_type": "execute_result"
    }
   ],
   "source": [
    "x_train.shape"
   ]
  },
  {
   "cell_type": "code",
   "execution_count": 225,
   "id": "2ea6696a",
   "metadata": {},
   "outputs": [
    {
     "data": {
      "text/plain": [
       "(1023, 18)"
      ]
     },
     "execution_count": 225,
     "metadata": {},
     "output_type": "execute_result"
    }
   ],
   "source": [
    "t= x_train.loc[x_train['RainToday'].isnull()]\n",
    "t.shape"
   ]
  },
  {
   "cell_type": "code",
   "execution_count": 226,
   "id": "9c21b3b4",
   "metadata": {},
   "outputs": [],
   "source": [
    "s = t.index.to_list()"
   ]
  },
  {
   "cell_type": "code",
   "execution_count": null,
   "id": "f4361622",
   "metadata": {},
   "outputs": [],
   "source": []
  },
  {
   "cell_type": "code",
   "execution_count": 227,
   "id": "7eedf844",
   "metadata": {},
   "outputs": [],
   "source": [
    "x_train.dropna(inplace=True)"
   ]
  },
  {
   "cell_type": "code",
   "execution_count": 228,
   "id": "d093dc48",
   "metadata": {},
   "outputs": [
    {
     "data": {
      "text/plain": [
       "(112146, 18)"
      ]
     },
     "execution_count": 228,
     "metadata": {},
     "output_type": "execute_result"
    }
   ],
   "source": [
    "x_train.shape"
   ]
  },
  {
   "cell_type": "code",
   "execution_count": 229,
   "id": "40966d14",
   "metadata": {},
   "outputs": [],
   "source": [
    "y_train.drop(s,axis=0,inplace=True)"
   ]
  },
  {
   "cell_type": "code",
   "execution_count": 230,
   "id": "17ac8bdc",
   "metadata": {},
   "outputs": [
    {
     "data": {
      "text/plain": [
       "(112146,)"
      ]
     },
     "execution_count": 230,
     "metadata": {},
     "output_type": "execute_result"
    }
   ],
   "source": [
    "y_train.shape"
   ]
  },
  {
   "cell_type": "markdown",
   "id": "35c70452",
   "metadata": {},
   "source": [
    "let's apply all this computation to handle the missing values in test dataset"
   ]
  },
  {
   "cell_type": "code",
   "execution_count": 231,
   "id": "aaf32f59",
   "metadata": {},
   "outputs": [
    {
     "data": {
      "text/html": [
       "<div>\n",
       "<style scoped>\n",
       "    .dataframe tbody tr th:only-of-type {\n",
       "        vertical-align: middle;\n",
       "    }\n",
       "\n",
       "    .dataframe tbody tr th {\n",
       "        vertical-align: top;\n",
       "    }\n",
       "\n",
       "    .dataframe thead th {\n",
       "        text-align: right;\n",
       "    }\n",
       "</style>\n",
       "<table border=\"1\" class=\"dataframe\">\n",
       "  <thead>\n",
       "    <tr style=\"text-align: right;\">\n",
       "      <th></th>\n",
       "      <th>Date</th>\n",
       "      <th>Location</th>\n",
       "      <th>MinTemp</th>\n",
       "      <th>MaxTemp</th>\n",
       "      <th>Rainfall</th>\n",
       "      <th>WindGustDir</th>\n",
       "      <th>WindGustSpeed</th>\n",
       "      <th>WindDir9am</th>\n",
       "      <th>WindDir3pm</th>\n",
       "      <th>WindSpeed9am</th>\n",
       "      <th>WindSpeed3pm</th>\n",
       "      <th>Humidity9am</th>\n",
       "      <th>Humidity3pm</th>\n",
       "      <th>Pressure9am</th>\n",
       "      <th>Pressure3pm</th>\n",
       "      <th>Temp9am</th>\n",
       "      <th>Temp3pm</th>\n",
       "      <th>RainToday</th>\n",
       "    </tr>\n",
       "  </thead>\n",
       "  <tbody>\n",
       "    <tr>\n",
       "      <th>66</th>\n",
       "      <td>2009-02-05</td>\n",
       "      <td>Albury</td>\n",
       "      <td>21.5</td>\n",
       "      <td>41.2</td>\n",
       "      <td>0.0</td>\n",
       "      <td>WSW</td>\n",
       "      <td>35.0</td>\n",
       "      <td>SSE</td>\n",
       "      <td>S</td>\n",
       "      <td>7.0</td>\n",
       "      <td>19.0</td>\n",
       "      <td>48.0</td>\n",
       "      <td>15.0</td>\n",
       "      <td>1005.9</td>\n",
       "      <td>1002.6</td>\n",
       "      <td>26.5</td>\n",
       "      <td>39.7</td>\n",
       "      <td>No</td>\n",
       "    </tr>\n",
       "    <tr>\n",
       "      <th>1110</th>\n",
       "      <td>2012-01-15</td>\n",
       "      <td>Albury</td>\n",
       "      <td>15.1</td>\n",
       "      <td>31.0</td>\n",
       "      <td>0.0</td>\n",
       "      <td>NNE</td>\n",
       "      <td>41.0</td>\n",
       "      <td>SE</td>\n",
       "      <td>SSE</td>\n",
       "      <td>15.0</td>\n",
       "      <td>9.0</td>\n",
       "      <td>52.0</td>\n",
       "      <td>37.0</td>\n",
       "      <td>1017.6</td>\n",
       "      <td>1014.5</td>\n",
       "      <td>20.7</td>\n",
       "      <td>29.7</td>\n",
       "      <td>No</td>\n",
       "    </tr>\n",
       "    <tr>\n",
       "      <th>60771</th>\n",
       "      <td>2016-05-11</td>\n",
       "      <td>Bendigo</td>\n",
       "      <td>8.6</td>\n",
       "      <td>14.9</td>\n",
       "      <td>1.4</td>\n",
       "      <td>WNW</td>\n",
       "      <td>41.0</td>\n",
       "      <td>NW</td>\n",
       "      <td>NW</td>\n",
       "      <td>11.0</td>\n",
       "      <td>19.0</td>\n",
       "      <td>86.0</td>\n",
       "      <td>88.0</td>\n",
       "      <td>1016.9</td>\n",
       "      <td>1013.2</td>\n",
       "      <td>10.1</td>\n",
       "      <td>12.5</td>\n",
       "      <td>Yes</td>\n",
       "    </tr>\n",
       "    <tr>\n",
       "      <th>127979</th>\n",
       "      <td>2012-03-26</td>\n",
       "      <td>Walpole</td>\n",
       "      <td>14.5</td>\n",
       "      <td>24.4</td>\n",
       "      <td>0.0</td>\n",
       "      <td>W</td>\n",
       "      <td>41.0</td>\n",
       "      <td>NW</td>\n",
       "      <td>W</td>\n",
       "      <td>15.0</td>\n",
       "      <td>24.0</td>\n",
       "      <td>64.0</td>\n",
       "      <td>51.0</td>\n",
       "      <td>1015.7</td>\n",
       "      <td>1013.6</td>\n",
       "      <td>20.1</td>\n",
       "      <td>23.8</td>\n",
       "      <td>No</td>\n",
       "    </tr>\n",
       "    <tr>\n",
       "      <th>107051</th>\n",
       "      <td>2013-04-28</td>\n",
       "      <td>Woomera</td>\n",
       "      <td>13.9</td>\n",
       "      <td>32.1</td>\n",
       "      <td>0.0</td>\n",
       "      <td>NNW</td>\n",
       "      <td>35.0</td>\n",
       "      <td>N</td>\n",
       "      <td>WNW</td>\n",
       "      <td>17.0</td>\n",
       "      <td>17.0</td>\n",
       "      <td>17.0</td>\n",
       "      <td>6.0</td>\n",
       "      <td>1018.9</td>\n",
       "      <td>1015.9</td>\n",
       "      <td>20.0</td>\n",
       "      <td>30.7</td>\n",
       "      <td>No</td>\n",
       "    </tr>\n",
       "  </tbody>\n",
       "</table>\n",
       "</div>"
      ],
      "text/plain": [
       "              Date Location  MinTemp  MaxTemp  Rainfall WindGustDir  \\\n",
       "66      2009-02-05   Albury     21.5     41.2       0.0         WSW   \n",
       "1110    2012-01-15   Albury     15.1     31.0       0.0         NNE   \n",
       "60771   2016-05-11  Bendigo      8.6     14.9       1.4         WNW   \n",
       "127979  2012-03-26  Walpole     14.5     24.4       0.0           W   \n",
       "107051  2013-04-28  Woomera     13.9     32.1       0.0         NNW   \n",
       "\n",
       "        WindGustSpeed WindDir9am WindDir3pm  WindSpeed9am  WindSpeed3pm  \\\n",
       "66               35.0        SSE          S           7.0          19.0   \n",
       "1110             41.0         SE        SSE          15.0           9.0   \n",
       "60771            41.0         NW         NW          11.0          19.0   \n",
       "127979           41.0         NW          W          15.0          24.0   \n",
       "107051           35.0          N        WNW          17.0          17.0   \n",
       "\n",
       "        Humidity9am  Humidity3pm  Pressure9am  Pressure3pm  Temp9am  Temp3pm  \\\n",
       "66             48.0         15.0       1005.9       1002.6     26.5     39.7   \n",
       "1110           52.0         37.0       1017.6       1014.5     20.7     29.7   \n",
       "60771          86.0         88.0       1016.9       1013.2     10.1     12.5   \n",
       "127979         64.0         51.0       1015.7       1013.6     20.1     23.8   \n",
       "107051         17.0          6.0       1018.9       1015.9     20.0     30.7   \n",
       "\n",
       "       RainToday  \n",
       "66            No  \n",
       "1110          No  \n",
       "60771        Yes  \n",
       "127979        No  \n",
       "107051        No  "
      ]
     },
     "execution_count": 231,
     "metadata": {},
     "output_type": "execute_result"
    }
   ],
   "source": [
    "x_test.head()"
   ]
  },
  {
   "cell_type": "code",
   "execution_count": 232,
   "id": "93a93b08",
   "metadata": {},
   "outputs": [
    {
     "data": {
      "text/plain": [
       "Date                0\n",
       "Location            0\n",
       "MinTemp            67\n",
       "MaxTemp            32\n",
       "Rainfall          253\n",
       "WindGustDir      1768\n",
       "WindGustSpeed    1757\n",
       "WindDir9am       1850\n",
       "WindDir3pm        627\n",
       "WindSpeed9am      193\n",
       "WindSpeed3pm      410\n",
       "Humidity9am       291\n",
       "Humidity3pm       613\n",
       "Pressure9am      2655\n",
       "Pressure3pm      2652\n",
       "Temp9am            99\n",
       "Temp3pm           427\n",
       "RainToday         253\n",
       "dtype: int64"
      ]
     },
     "execution_count": 232,
     "metadata": {},
     "output_type": "execute_result"
    }
   ],
   "source": [
    "x_test.isnull().sum()"
   ]
  },
  {
   "cell_type": "code",
   "execution_count": 234,
   "id": "0c393c23",
   "metadata": {},
   "outputs": [],
   "source": [
    "def impute_nan_test(df,variable,df2):\n",
    "    df[variable+\"_random\"]=df[variable]\n",
    "    ##It will have the random sample to fill the na\n",
    "    random_sample=df2[variable+\"_random\"].dropna().sample(df[variable].isnull().sum(),random_state=0)\n",
    "    ##pandas need to have same index in order to merge the dataset\n",
    "    random_sample.index=df[df[variable].isnull()].index\n",
    "    df.loc[df[variable].isnull(),variable+'_random']=random_sample"
   ]
  },
  {
   "cell_type": "code",
   "execution_count": null,
   "id": "441ea973",
   "metadata": {},
   "outputs": [],
   "source": []
  },
  {
   "cell_type": "code",
   "execution_count": 235,
   "id": "4fdbd82f",
   "metadata": {},
   "outputs": [],
   "source": [
    "for i in ['WindGustDir','WindDir9am','WindDir3pm','MinTemp','MaxTemp']:\n",
    "    impute_nan_test(x_test,i,x_train)\n",
    "    x_test.drop(i,axis=1,inplace=True)"
   ]
  },
  {
   "cell_type": "code",
   "execution_count": null,
   "id": "dbe37441",
   "metadata": {},
   "outputs": [],
   "source": []
  },
  {
   "cell_type": "code",
   "execution_count": 236,
   "id": "d128e6eb",
   "metadata": {},
   "outputs": [],
   "source": [
    "a = x_test['Temp9am'].to_frame()"
   ]
  },
  {
   "cell_type": "code",
   "execution_count": 237,
   "id": "69aa1aac",
   "metadata": {},
   "outputs": [
    {
     "data": {
      "text/plain": [
       "Int64Index([ 53542,  75443,  52959,  52177,   3448,  75591,  53106, 142405,\n",
       "             53469,  52905,   3540,  81123,  11499,  75403,  53116,  52907,\n",
       "             52891, 143645,  53559,  53409,  53250,  52386,  24521,  53041,\n",
       "             79878,  52075, 111340,  47054,  24670,  75121,  27785,  49230,\n",
       "            143334,  53278,  53066,  52934,   6209, 143524,  53145,  53526,\n",
       "             53171,  53094,  28776,  53104,  75546,  50643,  75848,  29063,\n",
       "             52140,  53271,  53234,  52887,  23709,  79536,  53591,  43280,\n",
       "             79856,  53365,  56700,  43053,  56764,  47060, 143676,  52132,\n",
       "             27670,  52945,  53225, 117286,  43013,  52993,  52902,  52334,\n",
       "             53152,  49612,  52904, 142535,  23528,  53215,  53481,  52159,\n",
       "             52958,  53196, 143703,  52163, 142309,  53229,  52871,  52394,\n",
       "             79879,  52175,  52992,  40941,  53389,  27584,  53519,  53350,\n",
       "             79871,  53584,  53356],\n",
       "           dtype='int64')"
      ]
     },
     "execution_count": 237,
     "metadata": {},
     "output_type": "execute_result"
    }
   ],
   "source": [
    "aa = a.loc[a['Temp9am'].isnull()]\n",
    "aa.index"
   ]
  },
  {
   "cell_type": "code",
   "execution_count": 238,
   "id": "b55e6ed8",
   "metadata": {},
   "outputs": [
    {
     "data": {
      "text/plain": [
       "99"
      ]
     },
     "execution_count": 238,
     "metadata": {},
     "output_type": "execute_result"
    }
   ],
   "source": [
    "ls = aa.index.to_list()\n",
    "len(ls)"
   ]
  },
  {
   "cell_type": "code",
   "execution_count": 239,
   "id": "c87df2d1",
   "metadata": {},
   "outputs": [],
   "source": [
    "for i in ls:\n",
    "    x_test['Temp9am'][i] = lm1.predict([[x_test['MinTemp_random'][i],x_test['MaxTemp_random'][i]]])"
   ]
  },
  {
   "cell_type": "code",
   "execution_count": null,
   "id": "45555c1f",
   "metadata": {},
   "outputs": [],
   "source": []
  },
  {
   "cell_type": "code",
   "execution_count": 240,
   "id": "2827f5dd",
   "metadata": {},
   "outputs": [],
   "source": [
    "a = x_test['Temp3pm'].to_frame()"
   ]
  },
  {
   "cell_type": "code",
   "execution_count": 241,
   "id": "37348bc4",
   "metadata": {},
   "outputs": [
    {
     "data": {
      "text/plain": [
       "Int64Index([ 18504,  17596, 111579, 143752, 111525, 111056, 143207, 142537,\n",
       "            143636, 111513,\n",
       "            ...\n",
       "            111018, 142403, 143352, 111260, 143835, 110969,  53356, 143803,\n",
       "            143388,  16368],\n",
       "           dtype='int64', length=427)"
      ]
     },
     "execution_count": 241,
     "metadata": {},
     "output_type": "execute_result"
    }
   ],
   "source": [
    "aa = a.loc[a['Temp3pm'].isnull()]\n",
    "aa.index"
   ]
  },
  {
   "cell_type": "code",
   "execution_count": 242,
   "id": "54be4f23",
   "metadata": {},
   "outputs": [
    {
     "data": {
      "text/plain": [
       "427"
      ]
     },
     "execution_count": 242,
     "metadata": {},
     "output_type": "execute_result"
    }
   ],
   "source": [
    "ls = aa.index.to_list()\n",
    "len(ls)"
   ]
  },
  {
   "cell_type": "code",
   "execution_count": 243,
   "id": "e0b6e0e6",
   "metadata": {},
   "outputs": [],
   "source": [
    "for i in ls:\n",
    "    x_test['Temp3pm'][i] = lm2.predict([[x_test['MaxTemp_random'][i]]])"
   ]
  },
  {
   "cell_type": "code",
   "execution_count": null,
   "id": "1795ebc3",
   "metadata": {},
   "outputs": [],
   "source": []
  },
  {
   "cell_type": "code",
   "execution_count": 244,
   "id": "44a28a26",
   "metadata": {},
   "outputs": [],
   "source": [
    "q = x_test.loc[x_test['Pressure9am'].isnull()]"
   ]
  },
  {
   "cell_type": "code",
   "execution_count": 245,
   "id": "0203eaf6",
   "metadata": {},
   "outputs": [
    {
     "data": {
      "text/plain": [
       "Int64Index([ 46863,   5457, 114815,   3448,  98677,  34521,   3540,  11499,\n",
       "             30260,  34566,  34517, 134853, 118457,  31167,  62215,  27785,\n",
       "             49230,   6209,   7870, 122052,  21528,  43442,  34260,  23709,\n",
       "              7969,  46438,   6847,  43460,  27670, 117286,  49612,  46534,\n",
       "              7960,  23528, 114782,  40941,  27584,  46853],\n",
       "           dtype='int64')"
      ]
     },
     "execution_count": 245,
     "metadata": {},
     "output_type": "execute_result"
    }
   ],
   "source": [
    "t = q.loc[q['Pressure3pm'].notnull()]\n",
    "t.index"
   ]
  },
  {
   "cell_type": "code",
   "execution_count": 246,
   "id": "25c956b4",
   "metadata": {},
   "outputs": [],
   "source": [
    "ls = t.index.to_list()"
   ]
  },
  {
   "cell_type": "code",
   "execution_count": 247,
   "id": "d68e8997",
   "metadata": {},
   "outputs": [
    {
     "data": {
      "text/plain": [
       "38"
      ]
     },
     "execution_count": 247,
     "metadata": {},
     "output_type": "execute_result"
    }
   ],
   "source": [
    "len(ls)"
   ]
  },
  {
   "cell_type": "code",
   "execution_count": 248,
   "id": "7ac5e04d",
   "metadata": {},
   "outputs": [],
   "source": [
    "for i in ls:\n",
    "    x_test['Pressure9am'][i] = lm3.predict([[x_test['Pressure3pm'][i]]])"
   ]
  },
  {
   "cell_type": "code",
   "execution_count": 249,
   "id": "ef4f1c69",
   "metadata": {},
   "outputs": [],
   "source": [
    "x_test['Pressure9am_missing'] = np.where(x_test['Pressure9am'].isnull(),1,0)"
   ]
  },
  {
   "cell_type": "code",
   "execution_count": null,
   "id": "b7d732b8",
   "metadata": {},
   "outputs": [],
   "source": []
  },
  {
   "cell_type": "code",
   "execution_count": 250,
   "id": "bb6ec23e",
   "metadata": {},
   "outputs": [],
   "source": [
    "impute_nan_test(x_test,'Pressure9am',x_train)"
   ]
  },
  {
   "cell_type": "code",
   "execution_count": 251,
   "id": "e2ff8f95",
   "metadata": {},
   "outputs": [],
   "source": [
    "x_test.drop(['Pressure3pm','Pressure9am'],axis=1,inplace=True)"
   ]
  },
  {
   "cell_type": "code",
   "execution_count": 252,
   "id": "23b25396",
   "metadata": {},
   "outputs": [],
   "source": [
    "impute_nan_test(x_test,'WindGustSpeed',x_train)"
   ]
  },
  {
   "cell_type": "code",
   "execution_count": 253,
   "id": "8ebf1661",
   "metadata": {},
   "outputs": [],
   "source": [
    "x_test.drop('WindGustSpeed',axis=1,inplace=True)"
   ]
  },
  {
   "cell_type": "code",
   "execution_count": null,
   "id": "2f25e008",
   "metadata": {},
   "outputs": [],
   "source": []
  },
  {
   "cell_type": "code",
   "execution_count": 254,
   "id": "0f1b3d4c",
   "metadata": {},
   "outputs": [],
   "source": [
    "for i in ['WindSpeed9am','WindSpeed3pm','Humidity9am','Humidity3pm']:\n",
    "    impute_nan_test(x_test,i,x_train)\n",
    "    x_test.drop(i,axis=1,inplace=True)"
   ]
  },
  {
   "cell_type": "code",
   "execution_count": 255,
   "id": "9b519bfe",
   "metadata": {},
   "outputs": [
    {
     "data": {
      "text/plain": [
       "Date                      0\n",
       "Location                  0\n",
       "Rainfall                253\n",
       "Temp9am                   0\n",
       "Temp3pm                   0\n",
       "RainToday               253\n",
       "WindGustDir_random        0\n",
       "WindDir9am_random         0\n",
       "WindDir3pm_random         0\n",
       "MinTemp_random            0\n",
       "MaxTemp_random            0\n",
       "Pressure9am_missing       0\n",
       "Pressure9am_random        0\n",
       "WindGustSpeed_random      0\n",
       "WindSpeed9am_random       0\n",
       "WindSpeed3pm_random       0\n",
       "Humidity9am_random        0\n",
       "Humidity3pm_random        0\n",
       "dtype: int64"
      ]
     },
     "execution_count": 255,
     "metadata": {},
     "output_type": "execute_result"
    }
   ],
   "source": [
    "x_test.isnull().sum()"
   ]
  },
  {
   "cell_type": "code",
   "execution_count": 256,
   "id": "95f27fd2",
   "metadata": {},
   "outputs": [
    {
     "data": {
      "text/plain": [
       "(253, 18)"
      ]
     },
     "execution_count": 256,
     "metadata": {},
     "output_type": "execute_result"
    }
   ],
   "source": [
    "t= x_test.loc[x_test['RainToday'].isnull()]\n",
    "t.shape"
   ]
  },
  {
   "cell_type": "code",
   "execution_count": 257,
   "id": "0c02bf62",
   "metadata": {},
   "outputs": [],
   "source": [
    "s = t.index.to_list()"
   ]
  },
  {
   "cell_type": "code",
   "execution_count": 258,
   "id": "4a05af89",
   "metadata": {},
   "outputs": [],
   "source": [
    "y_test.drop(s,axis=0,inplace=True)"
   ]
  },
  {
   "cell_type": "code",
   "execution_count": 259,
   "id": "c24873fa",
   "metadata": {},
   "outputs": [],
   "source": [
    "x_test.dropna(inplace=True)"
   ]
  },
  {
   "cell_type": "code",
   "execution_count": 260,
   "id": "1df31f34",
   "metadata": {},
   "outputs": [
    {
     "data": {
      "text/plain": [
       "(28040, 18)"
      ]
     },
     "execution_count": 260,
     "metadata": {},
     "output_type": "execute_result"
    }
   ],
   "source": [
    "x_test.shape"
   ]
  },
  {
   "cell_type": "code",
   "execution_count": 261,
   "id": "e9767e33",
   "metadata": {},
   "outputs": [
    {
     "data": {
      "text/plain": [
       "(28040,)"
      ]
     },
     "execution_count": 261,
     "metadata": {},
     "output_type": "execute_result"
    }
   ],
   "source": [
    "y_test.shape"
   ]
  },
  {
   "cell_type": "code",
   "execution_count": 262,
   "id": "a35e49b1",
   "metadata": {},
   "outputs": [
    {
     "data": {
      "text/plain": [
       "(112146, 18)"
      ]
     },
     "execution_count": 262,
     "metadata": {},
     "output_type": "execute_result"
    }
   ],
   "source": [
    "x_train.shape"
   ]
  },
  {
   "cell_type": "code",
   "execution_count": 263,
   "id": "adb489a4",
   "metadata": {},
   "outputs": [
    {
     "data": {
      "text/plain": [
       "(112146,)"
      ]
     },
     "execution_count": 263,
     "metadata": {},
     "output_type": "execute_result"
    }
   ],
   "source": [
    "y_train.shape"
   ]
  },
  {
   "cell_type": "code",
   "execution_count": 264,
   "id": "fe80540a",
   "metadata": {},
   "outputs": [
    {
     "data": {
      "text/html": [
       "<div>\n",
       "<style scoped>\n",
       "    .dataframe tbody tr th:only-of-type {\n",
       "        vertical-align: middle;\n",
       "    }\n",
       "\n",
       "    .dataframe tbody tr th {\n",
       "        vertical-align: top;\n",
       "    }\n",
       "\n",
       "    .dataframe thead th {\n",
       "        text-align: right;\n",
       "    }\n",
       "</style>\n",
       "<table border=\"1\" class=\"dataframe\">\n",
       "  <thead>\n",
       "    <tr style=\"text-align: right;\">\n",
       "      <th></th>\n",
       "      <th>Date</th>\n",
       "      <th>Location</th>\n",
       "      <th>Rainfall</th>\n",
       "      <th>Temp9am</th>\n",
       "      <th>Temp3pm</th>\n",
       "      <th>RainToday</th>\n",
       "      <th>WindGustDir_random</th>\n",
       "      <th>WindDir9am_random</th>\n",
       "      <th>WindDir3pm_random</th>\n",
       "      <th>MinTemp_random</th>\n",
       "      <th>MaxTemp_random</th>\n",
       "      <th>Pressure9am_missing</th>\n",
       "      <th>Pressure9am_random</th>\n",
       "      <th>WindGustSpeed_random</th>\n",
       "      <th>WindSpeed9am_random</th>\n",
       "      <th>WindSpeed3pm_random</th>\n",
       "      <th>Humidity9am_random</th>\n",
       "      <th>Humidity3pm_random</th>\n",
       "    </tr>\n",
       "  </thead>\n",
       "  <tbody>\n",
       "    <tr>\n",
       "      <th>83344</th>\n",
       "      <td>2015-09-02</td>\n",
       "      <td>Dartmoor</td>\n",
       "      <td>0.0</td>\n",
       "      <td>10.9</td>\n",
       "      <td>10.4</td>\n",
       "      <td>No</td>\n",
       "      <td>NNE</td>\n",
       "      <td>N</td>\n",
       "      <td>NE</td>\n",
       "      <td>4.6</td>\n",
       "      <td>12.5</td>\n",
       "      <td>0</td>\n",
       "      <td>1008.0</td>\n",
       "      <td>37.0</td>\n",
       "      <td>13.0</td>\n",
       "      <td>11.0</td>\n",
       "      <td>24.0</td>\n",
       "      <td>58.0</td>\n",
       "    </tr>\n",
       "    <tr>\n",
       "      <th>10185</th>\n",
       "      <td>2012-03-03</td>\n",
       "      <td>CoffsHarbour</td>\n",
       "      <td>20.8</td>\n",
       "      <td>19.3</td>\n",
       "      <td>21.0</td>\n",
       "      <td>Yes</td>\n",
       "      <td>SE</td>\n",
       "      <td>SW</td>\n",
       "      <td>W</td>\n",
       "      <td>19.0</td>\n",
       "      <td>22.8</td>\n",
       "      <td>0</td>\n",
       "      <td>1019.0</td>\n",
       "      <td>39.0</td>\n",
       "      <td>13.0</td>\n",
       "      <td>9.0</td>\n",
       "      <td>96.0</td>\n",
       "      <td>92.0</td>\n",
       "    </tr>\n",
       "    <tr>\n",
       "      <th>34777</th>\n",
       "      <td>2012-07-11</td>\n",
       "      <td>SydneyAirport</td>\n",
       "      <td>8.2</td>\n",
       "      <td>15.0</td>\n",
       "      <td>20.5</td>\n",
       "      <td>Yes</td>\n",
       "      <td>WNW</td>\n",
       "      <td>NNW</td>\n",
       "      <td>N</td>\n",
       "      <td>10.4</td>\n",
       "      <td>20.8</td>\n",
       "      <td>0</td>\n",
       "      <td>1019.9</td>\n",
       "      <td>41.0</td>\n",
       "      <td>19.0</td>\n",
       "      <td>22.0</td>\n",
       "      <td>67.0</td>\n",
       "      <td>39.0</td>\n",
       "    </tr>\n",
       "    <tr>\n",
       "      <th>57070</th>\n",
       "      <td>2014-07-20</td>\n",
       "      <td>Ballarat</td>\n",
       "      <td>0.0</td>\n",
       "      <td>6.4</td>\n",
       "      <td>9.7</td>\n",
       "      <td>No</td>\n",
       "      <td>SSE</td>\n",
       "      <td>SSE</td>\n",
       "      <td>S</td>\n",
       "      <td>2.3</td>\n",
       "      <td>10.2</td>\n",
       "      <td>0</td>\n",
       "      <td>1028.7</td>\n",
       "      <td>24.0</td>\n",
       "      <td>11.0</td>\n",
       "      <td>11.0</td>\n",
       "      <td>100.0</td>\n",
       "      <td>73.0</td>\n",
       "    </tr>\n",
       "    <tr>\n",
       "      <th>140866</th>\n",
       "      <td>2013-07-19</td>\n",
       "      <td>Darwin</td>\n",
       "      <td>0.0</td>\n",
       "      <td>24.9</td>\n",
       "      <td>29.0</td>\n",
       "      <td>No</td>\n",
       "      <td>N</td>\n",
       "      <td>E</td>\n",
       "      <td>N</td>\n",
       "      <td>18.9</td>\n",
       "      <td>32.0</td>\n",
       "      <td>0</td>\n",
       "      <td>1013.1</td>\n",
       "      <td>35.0</td>\n",
       "      <td>17.0</td>\n",
       "      <td>24.0</td>\n",
       "      <td>73.0</td>\n",
       "      <td>57.0</td>\n",
       "    </tr>\n",
       "  </tbody>\n",
       "</table>\n",
       "</div>"
      ],
      "text/plain": [
       "              Date       Location  Rainfall  Temp9am  Temp3pm RainToday  \\\n",
       "83344   2015-09-02       Dartmoor       0.0     10.9     10.4        No   \n",
       "10185   2012-03-03   CoffsHarbour      20.8     19.3     21.0       Yes   \n",
       "34777   2012-07-11  SydneyAirport       8.2     15.0     20.5       Yes   \n",
       "57070   2014-07-20       Ballarat       0.0      6.4      9.7        No   \n",
       "140866  2013-07-19         Darwin       0.0     24.9     29.0        No   \n",
       "\n",
       "       WindGustDir_random WindDir9am_random WindDir3pm_random  MinTemp_random  \\\n",
       "83344                 NNE                 N                NE             4.6   \n",
       "10185                  SE                SW                 W            19.0   \n",
       "34777                 WNW               NNW                 N            10.4   \n",
       "57070                 SSE               SSE                 S             2.3   \n",
       "140866                  N                 E                 N            18.9   \n",
       "\n",
       "        MaxTemp_random  Pressure9am_missing  Pressure9am_random  \\\n",
       "83344             12.5                    0              1008.0   \n",
       "10185             22.8                    0              1019.0   \n",
       "34777             20.8                    0              1019.9   \n",
       "57070             10.2                    0              1028.7   \n",
       "140866            32.0                    0              1013.1   \n",
       "\n",
       "        WindGustSpeed_random  WindSpeed9am_random  WindSpeed3pm_random  \\\n",
       "83344                   37.0                 13.0                 11.0   \n",
       "10185                   39.0                 13.0                  9.0   \n",
       "34777                   41.0                 19.0                 22.0   \n",
       "57070                   24.0                 11.0                 11.0   \n",
       "140866                  35.0                 17.0                 24.0   \n",
       "\n",
       "        Humidity9am_random  Humidity3pm_random  \n",
       "83344                 24.0                58.0  \n",
       "10185                 96.0                92.0  \n",
       "34777                 67.0                39.0  \n",
       "57070                100.0                73.0  \n",
       "140866                73.0                57.0  "
      ]
     },
     "execution_count": 264,
     "metadata": {},
     "output_type": "execute_result"
    }
   ],
   "source": [
    "x_train.head()"
   ]
  },
  {
   "cell_type": "code",
   "execution_count": 265,
   "id": "6d71bcdf",
   "metadata": {},
   "outputs": [],
   "source": [
    "x_train['Date'] = pd.to_datetime(x_train['Date'])"
   ]
  },
  {
   "cell_type": "code",
   "execution_count": 266,
   "id": "dfb36dae",
   "metadata": {},
   "outputs": [
    {
     "data": {
      "text/plain": [
       "83344    2015-09-02\n",
       "10185    2012-03-03\n",
       "34777    2012-07-11\n",
       "57070    2014-07-20\n",
       "140866   2013-07-19\n",
       "            ...    \n",
       "79632    2013-09-29\n",
       "2882     2017-01-19\n",
       "86556    2015-09-21\n",
       "62514    2012-09-24\n",
       "114008   2015-10-23\n",
       "Name: Date, Length: 112146, dtype: datetime64[ns]"
      ]
     },
     "execution_count": 266,
     "metadata": {},
     "output_type": "execute_result"
    }
   ],
   "source": [
    "x_train['Date']"
   ]
  },
  {
   "cell_type": "code",
   "execution_count": 267,
   "id": "8a1fcd12",
   "metadata": {},
   "outputs": [],
   "source": [
    "x_train['month'] = x_train['Date'].dt.month\n",
    "x_train['day'] = x_train['Date'].dt.day"
   ]
  },
  {
   "cell_type": "code",
   "execution_count": 268,
   "id": "34739629",
   "metadata": {},
   "outputs": [],
   "source": [
    "x_train.drop('Date',axis=1,inplace=True)"
   ]
  },
  {
   "cell_type": "code",
   "execution_count": 269,
   "id": "6d2ff18f",
   "metadata": {},
   "outputs": [
    {
     "data": {
      "text/html": [
       "<div>\n",
       "<style scoped>\n",
       "    .dataframe tbody tr th:only-of-type {\n",
       "        vertical-align: middle;\n",
       "    }\n",
       "\n",
       "    .dataframe tbody tr th {\n",
       "        vertical-align: top;\n",
       "    }\n",
       "\n",
       "    .dataframe thead th {\n",
       "        text-align: right;\n",
       "    }\n",
       "</style>\n",
       "<table border=\"1\" class=\"dataframe\">\n",
       "  <thead>\n",
       "    <tr style=\"text-align: right;\">\n",
       "      <th></th>\n",
       "      <th>Location</th>\n",
       "      <th>Rainfall</th>\n",
       "      <th>Temp9am</th>\n",
       "      <th>Temp3pm</th>\n",
       "      <th>RainToday</th>\n",
       "      <th>WindGustDir_random</th>\n",
       "      <th>WindDir9am_random</th>\n",
       "      <th>WindDir3pm_random</th>\n",
       "      <th>MinTemp_random</th>\n",
       "      <th>MaxTemp_random</th>\n",
       "      <th>Pressure9am_missing</th>\n",
       "      <th>Pressure9am_random</th>\n",
       "      <th>WindGustSpeed_random</th>\n",
       "      <th>WindSpeed9am_random</th>\n",
       "      <th>WindSpeed3pm_random</th>\n",
       "      <th>Humidity9am_random</th>\n",
       "      <th>Humidity3pm_random</th>\n",
       "      <th>month</th>\n",
       "      <th>day</th>\n",
       "    </tr>\n",
       "  </thead>\n",
       "  <tbody>\n",
       "    <tr>\n",
       "      <th>83344</th>\n",
       "      <td>Dartmoor</td>\n",
       "      <td>0.0</td>\n",
       "      <td>10.9</td>\n",
       "      <td>10.4</td>\n",
       "      <td>No</td>\n",
       "      <td>NNE</td>\n",
       "      <td>N</td>\n",
       "      <td>NE</td>\n",
       "      <td>4.6</td>\n",
       "      <td>12.5</td>\n",
       "      <td>0</td>\n",
       "      <td>1008.0</td>\n",
       "      <td>37.0</td>\n",
       "      <td>13.0</td>\n",
       "      <td>11.0</td>\n",
       "      <td>24.0</td>\n",
       "      <td>58.0</td>\n",
       "      <td>9</td>\n",
       "      <td>2</td>\n",
       "    </tr>\n",
       "    <tr>\n",
       "      <th>10185</th>\n",
       "      <td>CoffsHarbour</td>\n",
       "      <td>20.8</td>\n",
       "      <td>19.3</td>\n",
       "      <td>21.0</td>\n",
       "      <td>Yes</td>\n",
       "      <td>SE</td>\n",
       "      <td>SW</td>\n",
       "      <td>W</td>\n",
       "      <td>19.0</td>\n",
       "      <td>22.8</td>\n",
       "      <td>0</td>\n",
       "      <td>1019.0</td>\n",
       "      <td>39.0</td>\n",
       "      <td>13.0</td>\n",
       "      <td>9.0</td>\n",
       "      <td>96.0</td>\n",
       "      <td>92.0</td>\n",
       "      <td>3</td>\n",
       "      <td>3</td>\n",
       "    </tr>\n",
       "    <tr>\n",
       "      <th>34777</th>\n",
       "      <td>SydneyAirport</td>\n",
       "      <td>8.2</td>\n",
       "      <td>15.0</td>\n",
       "      <td>20.5</td>\n",
       "      <td>Yes</td>\n",
       "      <td>WNW</td>\n",
       "      <td>NNW</td>\n",
       "      <td>N</td>\n",
       "      <td>10.4</td>\n",
       "      <td>20.8</td>\n",
       "      <td>0</td>\n",
       "      <td>1019.9</td>\n",
       "      <td>41.0</td>\n",
       "      <td>19.0</td>\n",
       "      <td>22.0</td>\n",
       "      <td>67.0</td>\n",
       "      <td>39.0</td>\n",
       "      <td>7</td>\n",
       "      <td>11</td>\n",
       "    </tr>\n",
       "    <tr>\n",
       "      <th>57070</th>\n",
       "      <td>Ballarat</td>\n",
       "      <td>0.0</td>\n",
       "      <td>6.4</td>\n",
       "      <td>9.7</td>\n",
       "      <td>No</td>\n",
       "      <td>SSE</td>\n",
       "      <td>SSE</td>\n",
       "      <td>S</td>\n",
       "      <td>2.3</td>\n",
       "      <td>10.2</td>\n",
       "      <td>0</td>\n",
       "      <td>1028.7</td>\n",
       "      <td>24.0</td>\n",
       "      <td>11.0</td>\n",
       "      <td>11.0</td>\n",
       "      <td>100.0</td>\n",
       "      <td>73.0</td>\n",
       "      <td>7</td>\n",
       "      <td>20</td>\n",
       "    </tr>\n",
       "    <tr>\n",
       "      <th>140866</th>\n",
       "      <td>Darwin</td>\n",
       "      <td>0.0</td>\n",
       "      <td>24.9</td>\n",
       "      <td>29.0</td>\n",
       "      <td>No</td>\n",
       "      <td>N</td>\n",
       "      <td>E</td>\n",
       "      <td>N</td>\n",
       "      <td>18.9</td>\n",
       "      <td>32.0</td>\n",
       "      <td>0</td>\n",
       "      <td>1013.1</td>\n",
       "      <td>35.0</td>\n",
       "      <td>17.0</td>\n",
       "      <td>24.0</td>\n",
       "      <td>73.0</td>\n",
       "      <td>57.0</td>\n",
       "      <td>7</td>\n",
       "      <td>19</td>\n",
       "    </tr>\n",
       "  </tbody>\n",
       "</table>\n",
       "</div>"
      ],
      "text/plain": [
       "             Location  Rainfall  Temp9am  Temp3pm RainToday  \\\n",
       "83344        Dartmoor       0.0     10.9     10.4        No   \n",
       "10185    CoffsHarbour      20.8     19.3     21.0       Yes   \n",
       "34777   SydneyAirport       8.2     15.0     20.5       Yes   \n",
       "57070        Ballarat       0.0      6.4      9.7        No   \n",
       "140866         Darwin       0.0     24.9     29.0        No   \n",
       "\n",
       "       WindGustDir_random WindDir9am_random WindDir3pm_random  MinTemp_random  \\\n",
       "83344                 NNE                 N                NE             4.6   \n",
       "10185                  SE                SW                 W            19.0   \n",
       "34777                 WNW               NNW                 N            10.4   \n",
       "57070                 SSE               SSE                 S             2.3   \n",
       "140866                  N                 E                 N            18.9   \n",
       "\n",
       "        MaxTemp_random  Pressure9am_missing  Pressure9am_random  \\\n",
       "83344             12.5                    0              1008.0   \n",
       "10185             22.8                    0              1019.0   \n",
       "34777             20.8                    0              1019.9   \n",
       "57070             10.2                    0              1028.7   \n",
       "140866            32.0                    0              1013.1   \n",
       "\n",
       "        WindGustSpeed_random  WindSpeed9am_random  WindSpeed3pm_random  \\\n",
       "83344                   37.0                 13.0                 11.0   \n",
       "10185                   39.0                 13.0                  9.0   \n",
       "34777                   41.0                 19.0                 22.0   \n",
       "57070                   24.0                 11.0                 11.0   \n",
       "140866                  35.0                 17.0                 24.0   \n",
       "\n",
       "        Humidity9am_random  Humidity3pm_random  month  day  \n",
       "83344                 24.0                58.0      9    2  \n",
       "10185                 96.0                92.0      3    3  \n",
       "34777                 67.0                39.0      7   11  \n",
       "57070                100.0                73.0      7   20  \n",
       "140866                73.0                57.0      7   19  "
      ]
     },
     "execution_count": 269,
     "metadata": {},
     "output_type": "execute_result"
    }
   ],
   "source": [
    "x_train.head()"
   ]
  },
  {
   "cell_type": "code",
   "execution_count": 270,
   "id": "beaedb29",
   "metadata": {},
   "outputs": [],
   "source": [
    "x_train['RainToday'] = np.where(x_train['RainToday']=='Yes',1,0)\n",
    "x_test['RainToday'] = np.where(x_test['RainToday']=='Yes',1,0)"
   ]
  },
  {
   "cell_type": "code",
   "execution_count": 271,
   "id": "667abe51",
   "metadata": {},
   "outputs": [
    {
     "data": {
      "text/plain": [
       "(112146, 19)"
      ]
     },
     "execution_count": 271,
     "metadata": {},
     "output_type": "execute_result"
    }
   ],
   "source": [
    "x_train.shape"
   ]
  },
  {
   "cell_type": "code",
   "execution_count": 272,
   "id": "40c4cf74",
   "metadata": {},
   "outputs": [
    {
     "data": {
      "text/html": [
       "<div>\n",
       "<style scoped>\n",
       "    .dataframe tbody tr th:only-of-type {\n",
       "        vertical-align: middle;\n",
       "    }\n",
       "\n",
       "    .dataframe tbody tr th {\n",
       "        vertical-align: top;\n",
       "    }\n",
       "\n",
       "    .dataframe thead th {\n",
       "        text-align: right;\n",
       "    }\n",
       "</style>\n",
       "<table border=\"1\" class=\"dataframe\">\n",
       "  <thead>\n",
       "    <tr style=\"text-align: right;\">\n",
       "      <th></th>\n",
       "      <th>Location</th>\n",
       "      <th>Rainfall</th>\n",
       "      <th>Temp9am</th>\n",
       "      <th>Temp3pm</th>\n",
       "      <th>RainToday</th>\n",
       "      <th>WindGustDir_random</th>\n",
       "      <th>WindDir9am_random</th>\n",
       "      <th>WindDir3pm_random</th>\n",
       "      <th>MinTemp_random</th>\n",
       "      <th>MaxTemp_random</th>\n",
       "      <th>Pressure9am_missing</th>\n",
       "      <th>Pressure9am_random</th>\n",
       "      <th>WindGustSpeed_random</th>\n",
       "      <th>WindSpeed9am_random</th>\n",
       "      <th>WindSpeed3pm_random</th>\n",
       "      <th>Humidity9am_random</th>\n",
       "      <th>Humidity3pm_random</th>\n",
       "      <th>month</th>\n",
       "      <th>day</th>\n",
       "    </tr>\n",
       "  </thead>\n",
       "  <tbody>\n",
       "    <tr>\n",
       "      <th>83344</th>\n",
       "      <td>Dartmoor</td>\n",
       "      <td>0.0</td>\n",
       "      <td>10.9</td>\n",
       "      <td>10.4</td>\n",
       "      <td>0</td>\n",
       "      <td>NNE</td>\n",
       "      <td>N</td>\n",
       "      <td>NE</td>\n",
       "      <td>4.6</td>\n",
       "      <td>12.5</td>\n",
       "      <td>0</td>\n",
       "      <td>1008.0</td>\n",
       "      <td>37.0</td>\n",
       "      <td>13.0</td>\n",
       "      <td>11.0</td>\n",
       "      <td>24.0</td>\n",
       "      <td>58.0</td>\n",
       "      <td>9</td>\n",
       "      <td>2</td>\n",
       "    </tr>\n",
       "    <tr>\n",
       "      <th>10185</th>\n",
       "      <td>CoffsHarbour</td>\n",
       "      <td>20.8</td>\n",
       "      <td>19.3</td>\n",
       "      <td>21.0</td>\n",
       "      <td>1</td>\n",
       "      <td>SE</td>\n",
       "      <td>SW</td>\n",
       "      <td>W</td>\n",
       "      <td>19.0</td>\n",
       "      <td>22.8</td>\n",
       "      <td>0</td>\n",
       "      <td>1019.0</td>\n",
       "      <td>39.0</td>\n",
       "      <td>13.0</td>\n",
       "      <td>9.0</td>\n",
       "      <td>96.0</td>\n",
       "      <td>92.0</td>\n",
       "      <td>3</td>\n",
       "      <td>3</td>\n",
       "    </tr>\n",
       "    <tr>\n",
       "      <th>34777</th>\n",
       "      <td>SydneyAirport</td>\n",
       "      <td>8.2</td>\n",
       "      <td>15.0</td>\n",
       "      <td>20.5</td>\n",
       "      <td>1</td>\n",
       "      <td>WNW</td>\n",
       "      <td>NNW</td>\n",
       "      <td>N</td>\n",
       "      <td>10.4</td>\n",
       "      <td>20.8</td>\n",
       "      <td>0</td>\n",
       "      <td>1019.9</td>\n",
       "      <td>41.0</td>\n",
       "      <td>19.0</td>\n",
       "      <td>22.0</td>\n",
       "      <td>67.0</td>\n",
       "      <td>39.0</td>\n",
       "      <td>7</td>\n",
       "      <td>11</td>\n",
       "    </tr>\n",
       "    <tr>\n",
       "      <th>57070</th>\n",
       "      <td>Ballarat</td>\n",
       "      <td>0.0</td>\n",
       "      <td>6.4</td>\n",
       "      <td>9.7</td>\n",
       "      <td>0</td>\n",
       "      <td>SSE</td>\n",
       "      <td>SSE</td>\n",
       "      <td>S</td>\n",
       "      <td>2.3</td>\n",
       "      <td>10.2</td>\n",
       "      <td>0</td>\n",
       "      <td>1028.7</td>\n",
       "      <td>24.0</td>\n",
       "      <td>11.0</td>\n",
       "      <td>11.0</td>\n",
       "      <td>100.0</td>\n",
       "      <td>73.0</td>\n",
       "      <td>7</td>\n",
       "      <td>20</td>\n",
       "    </tr>\n",
       "    <tr>\n",
       "      <th>140866</th>\n",
       "      <td>Darwin</td>\n",
       "      <td>0.0</td>\n",
       "      <td>24.9</td>\n",
       "      <td>29.0</td>\n",
       "      <td>0</td>\n",
       "      <td>N</td>\n",
       "      <td>E</td>\n",
       "      <td>N</td>\n",
       "      <td>18.9</td>\n",
       "      <td>32.0</td>\n",
       "      <td>0</td>\n",
       "      <td>1013.1</td>\n",
       "      <td>35.0</td>\n",
       "      <td>17.0</td>\n",
       "      <td>24.0</td>\n",
       "      <td>73.0</td>\n",
       "      <td>57.0</td>\n",
       "      <td>7</td>\n",
       "      <td>19</td>\n",
       "    </tr>\n",
       "  </tbody>\n",
       "</table>\n",
       "</div>"
      ],
      "text/plain": [
       "             Location  Rainfall  Temp9am  Temp3pm  RainToday  \\\n",
       "83344        Dartmoor       0.0     10.9     10.4          0   \n",
       "10185    CoffsHarbour      20.8     19.3     21.0          1   \n",
       "34777   SydneyAirport       8.2     15.0     20.5          1   \n",
       "57070        Ballarat       0.0      6.4      9.7          0   \n",
       "140866         Darwin       0.0     24.9     29.0          0   \n",
       "\n",
       "       WindGustDir_random WindDir9am_random WindDir3pm_random  MinTemp_random  \\\n",
       "83344                 NNE                 N                NE             4.6   \n",
       "10185                  SE                SW                 W            19.0   \n",
       "34777                 WNW               NNW                 N            10.4   \n",
       "57070                 SSE               SSE                 S             2.3   \n",
       "140866                  N                 E                 N            18.9   \n",
       "\n",
       "        MaxTemp_random  Pressure9am_missing  Pressure9am_random  \\\n",
       "83344             12.5                    0              1008.0   \n",
       "10185             22.8                    0              1019.0   \n",
       "34777             20.8                    0              1019.9   \n",
       "57070             10.2                    0              1028.7   \n",
       "140866            32.0                    0              1013.1   \n",
       "\n",
       "        WindGustSpeed_random  WindSpeed9am_random  WindSpeed3pm_random  \\\n",
       "83344                   37.0                 13.0                 11.0   \n",
       "10185                   39.0                 13.0                  9.0   \n",
       "34777                   41.0                 19.0                 22.0   \n",
       "57070                   24.0                 11.0                 11.0   \n",
       "140866                  35.0                 17.0                 24.0   \n",
       "\n",
       "        Humidity9am_random  Humidity3pm_random  month  day  \n",
       "83344                 24.0                58.0      9    2  \n",
       "10185                 96.0                92.0      3    3  \n",
       "34777                 67.0                39.0      7   11  \n",
       "57070                100.0                73.0      7   20  \n",
       "140866                73.0                57.0      7   19  "
      ]
     },
     "execution_count": 272,
     "metadata": {},
     "output_type": "execute_result"
    }
   ],
   "source": [
    "x_train.head()"
   ]
  },
  {
   "cell_type": "code",
   "execution_count": 273,
   "id": "80e733e4",
   "metadata": {},
   "outputs": [
    {
     "data": {
      "text/plain": [
       "0"
      ]
     },
     "execution_count": 273,
     "metadata": {},
     "output_type": "execute_result"
    }
   ],
   "source": [
    "x_train.isnull().sum().sum()"
   ]
  },
  {
   "cell_type": "code",
   "execution_count": 274,
   "id": "02d66d15",
   "metadata": {},
   "outputs": [
    {
     "data": {
      "text/plain": [
       "0"
      ]
     },
     "execution_count": 274,
     "metadata": {},
     "output_type": "execute_result"
    }
   ],
   "source": [
    "x_test.isnull().sum().sum()"
   ]
  },
  {
   "cell_type": "code",
   "execution_count": 275,
   "id": "51f6054f",
   "metadata": {},
   "outputs": [],
   "source": [
    "x_test['Date'] = pd.to_datetime(x_test['Date'])"
   ]
  },
  {
   "cell_type": "code",
   "execution_count": 276,
   "id": "8037f9a0",
   "metadata": {},
   "outputs": [],
   "source": [
    "x_test['month'] = x_test['Date'].dt.month\n",
    "x_test['day'] = x_test['Date'].dt.day"
   ]
  },
  {
   "cell_type": "code",
   "execution_count": 277,
   "id": "bd3c7da9",
   "metadata": {},
   "outputs": [],
   "source": [
    "x_test.drop('Date',axis=1,inplace=True)"
   ]
  },
  {
   "cell_type": "code",
   "execution_count": 278,
   "id": "4f2f4e4a",
   "metadata": {},
   "outputs": [
    {
     "data": {
      "text/plain": [
       "(28040, 19)"
      ]
     },
     "execution_count": 278,
     "metadata": {},
     "output_type": "execute_result"
    }
   ],
   "source": [
    "x_test.shape"
   ]
  },
  {
   "cell_type": "code",
   "execution_count": 279,
   "id": "dd64447d",
   "metadata": {},
   "outputs": [
    {
     "data": {
      "text/html": [
       "<div>\n",
       "<style scoped>\n",
       "    .dataframe tbody tr th:only-of-type {\n",
       "        vertical-align: middle;\n",
       "    }\n",
       "\n",
       "    .dataframe tbody tr th {\n",
       "        vertical-align: top;\n",
       "    }\n",
       "\n",
       "    .dataframe thead th {\n",
       "        text-align: right;\n",
       "    }\n",
       "</style>\n",
       "<table border=\"1\" class=\"dataframe\">\n",
       "  <thead>\n",
       "    <tr style=\"text-align: right;\">\n",
       "      <th></th>\n",
       "      <th>Location</th>\n",
       "      <th>Rainfall</th>\n",
       "      <th>Temp9am</th>\n",
       "      <th>Temp3pm</th>\n",
       "      <th>RainToday</th>\n",
       "      <th>WindGustDir_random</th>\n",
       "      <th>WindDir9am_random</th>\n",
       "      <th>WindDir3pm_random</th>\n",
       "      <th>MinTemp_random</th>\n",
       "      <th>MaxTemp_random</th>\n",
       "      <th>Pressure9am_missing</th>\n",
       "      <th>Pressure9am_random</th>\n",
       "      <th>WindGustSpeed_random</th>\n",
       "      <th>WindSpeed9am_random</th>\n",
       "      <th>WindSpeed3pm_random</th>\n",
       "      <th>Humidity9am_random</th>\n",
       "      <th>Humidity3pm_random</th>\n",
       "      <th>month</th>\n",
       "      <th>day</th>\n",
       "    </tr>\n",
       "  </thead>\n",
       "  <tbody>\n",
       "    <tr>\n",
       "      <th>66</th>\n",
       "      <td>Albury</td>\n",
       "      <td>0.0</td>\n",
       "      <td>26.5</td>\n",
       "      <td>39.7</td>\n",
       "      <td>0</td>\n",
       "      <td>WSW</td>\n",
       "      <td>SSE</td>\n",
       "      <td>S</td>\n",
       "      <td>21.5</td>\n",
       "      <td>41.2</td>\n",
       "      <td>0</td>\n",
       "      <td>1005.9</td>\n",
       "      <td>35.0</td>\n",
       "      <td>7.0</td>\n",
       "      <td>19.0</td>\n",
       "      <td>48.0</td>\n",
       "      <td>15.0</td>\n",
       "      <td>2</td>\n",
       "      <td>5</td>\n",
       "    </tr>\n",
       "    <tr>\n",
       "      <th>1110</th>\n",
       "      <td>Albury</td>\n",
       "      <td>0.0</td>\n",
       "      <td>20.7</td>\n",
       "      <td>29.7</td>\n",
       "      <td>0</td>\n",
       "      <td>NNE</td>\n",
       "      <td>SE</td>\n",
       "      <td>SSE</td>\n",
       "      <td>15.1</td>\n",
       "      <td>31.0</td>\n",
       "      <td>0</td>\n",
       "      <td>1017.6</td>\n",
       "      <td>41.0</td>\n",
       "      <td>15.0</td>\n",
       "      <td>9.0</td>\n",
       "      <td>52.0</td>\n",
       "      <td>37.0</td>\n",
       "      <td>1</td>\n",
       "      <td>15</td>\n",
       "    </tr>\n",
       "    <tr>\n",
       "      <th>60771</th>\n",
       "      <td>Bendigo</td>\n",
       "      <td>1.4</td>\n",
       "      <td>10.1</td>\n",
       "      <td>12.5</td>\n",
       "      <td>1</td>\n",
       "      <td>WNW</td>\n",
       "      <td>NW</td>\n",
       "      <td>NW</td>\n",
       "      <td>8.6</td>\n",
       "      <td>14.9</td>\n",
       "      <td>0</td>\n",
       "      <td>1016.9</td>\n",
       "      <td>41.0</td>\n",
       "      <td>11.0</td>\n",
       "      <td>19.0</td>\n",
       "      <td>86.0</td>\n",
       "      <td>88.0</td>\n",
       "      <td>5</td>\n",
       "      <td>11</td>\n",
       "    </tr>\n",
       "    <tr>\n",
       "      <th>127979</th>\n",
       "      <td>Walpole</td>\n",
       "      <td>0.0</td>\n",
       "      <td>20.1</td>\n",
       "      <td>23.8</td>\n",
       "      <td>0</td>\n",
       "      <td>W</td>\n",
       "      <td>NW</td>\n",
       "      <td>W</td>\n",
       "      <td>14.5</td>\n",
       "      <td>24.4</td>\n",
       "      <td>0</td>\n",
       "      <td>1015.7</td>\n",
       "      <td>41.0</td>\n",
       "      <td>15.0</td>\n",
       "      <td>24.0</td>\n",
       "      <td>64.0</td>\n",
       "      <td>51.0</td>\n",
       "      <td>3</td>\n",
       "      <td>26</td>\n",
       "    </tr>\n",
       "    <tr>\n",
       "      <th>107051</th>\n",
       "      <td>Woomera</td>\n",
       "      <td>0.0</td>\n",
       "      <td>20.0</td>\n",
       "      <td>30.7</td>\n",
       "      <td>0</td>\n",
       "      <td>NNW</td>\n",
       "      <td>N</td>\n",
       "      <td>WNW</td>\n",
       "      <td>13.9</td>\n",
       "      <td>32.1</td>\n",
       "      <td>0</td>\n",
       "      <td>1018.9</td>\n",
       "      <td>35.0</td>\n",
       "      <td>17.0</td>\n",
       "      <td>17.0</td>\n",
       "      <td>17.0</td>\n",
       "      <td>6.0</td>\n",
       "      <td>4</td>\n",
       "      <td>28</td>\n",
       "    </tr>\n",
       "  </tbody>\n",
       "</table>\n",
       "</div>"
      ],
      "text/plain": [
       "       Location  Rainfall  Temp9am  Temp3pm  RainToday WindGustDir_random  \\\n",
       "66       Albury       0.0     26.5     39.7          0                WSW   \n",
       "1110     Albury       0.0     20.7     29.7          0                NNE   \n",
       "60771   Bendigo       1.4     10.1     12.5          1                WNW   \n",
       "127979  Walpole       0.0     20.1     23.8          0                  W   \n",
       "107051  Woomera       0.0     20.0     30.7          0                NNW   \n",
       "\n",
       "       WindDir9am_random WindDir3pm_random  MinTemp_random  MaxTemp_random  \\\n",
       "66                   SSE                 S            21.5            41.2   \n",
       "1110                  SE               SSE            15.1            31.0   \n",
       "60771                 NW                NW             8.6            14.9   \n",
       "127979                NW                 W            14.5            24.4   \n",
       "107051                 N               WNW            13.9            32.1   \n",
       "\n",
       "        Pressure9am_missing  Pressure9am_random  WindGustSpeed_random  \\\n",
       "66                        0              1005.9                  35.0   \n",
       "1110                      0              1017.6                  41.0   \n",
       "60771                     0              1016.9                  41.0   \n",
       "127979                    0              1015.7                  41.0   \n",
       "107051                    0              1018.9                  35.0   \n",
       "\n",
       "        WindSpeed9am_random  WindSpeed3pm_random  Humidity9am_random  \\\n",
       "66                      7.0                 19.0                48.0   \n",
       "1110                   15.0                  9.0                52.0   \n",
       "60771                  11.0                 19.0                86.0   \n",
       "127979                 15.0                 24.0                64.0   \n",
       "107051                 17.0                 17.0                17.0   \n",
       "\n",
       "        Humidity3pm_random  month  day  \n",
       "66                    15.0      2    5  \n",
       "1110                  37.0      1   15  \n",
       "60771                 88.0      5   11  \n",
       "127979                51.0      3   26  \n",
       "107051                 6.0      4   28  "
      ]
     },
     "execution_count": 279,
     "metadata": {},
     "output_type": "execute_result"
    }
   ],
   "source": [
    "x_test.head()"
   ]
  },
  {
   "cell_type": "code",
   "execution_count": null,
   "id": "04f7c6e8",
   "metadata": {},
   "outputs": [],
   "source": []
  },
  {
   "cell_type": "code",
   "execution_count": 280,
   "id": "8e9619b6",
   "metadata": {},
   "outputs": [],
   "source": [
    "cols=['Rainfall', 'Temp9am', 'Temp3pm', 'MinTemp_random', 'MaxTemp_random','Pressure9am_random', 'WindGustSpeed_random',\n",
    "       'WindSpeed9am_random', 'WindSpeed3pm_random','Humidity9am_random','Humidity3pm_random','month','day']"
   ]
  },
  {
   "cell_type": "code",
   "execution_count": 281,
   "id": "3e4d6fc0",
   "metadata": {},
   "outputs": [],
   "source": [
    "scaler = StandardScaler()"
   ]
  },
  {
   "cell_type": "code",
   "execution_count": 282,
   "id": "ece2eb7b",
   "metadata": {},
   "outputs": [],
   "source": [
    "x_train[cols] = scaler.fit_transform(x_train[cols])"
   ]
  },
  {
   "cell_type": "code",
   "execution_count": 283,
   "id": "37e68d82",
   "metadata": {},
   "outputs": [],
   "source": [
    "x_test[cols] = scaler.transform(x_test[cols])"
   ]
  },
  {
   "cell_type": "code",
   "execution_count": 284,
   "id": "126d700a",
   "metadata": {},
   "outputs": [
    {
     "data": {
      "text/html": [
       "<div>\n",
       "<style scoped>\n",
       "    .dataframe tbody tr th:only-of-type {\n",
       "        vertical-align: middle;\n",
       "    }\n",
       "\n",
       "    .dataframe tbody tr th {\n",
       "        vertical-align: top;\n",
       "    }\n",
       "\n",
       "    .dataframe thead th {\n",
       "        text-align: right;\n",
       "    }\n",
       "</style>\n",
       "<table border=\"1\" class=\"dataframe\">\n",
       "  <thead>\n",
       "    <tr style=\"text-align: right;\">\n",
       "      <th></th>\n",
       "      <th>Location</th>\n",
       "      <th>Rainfall</th>\n",
       "      <th>Temp9am</th>\n",
       "      <th>Temp3pm</th>\n",
       "      <th>RainToday</th>\n",
       "      <th>WindGustDir_random</th>\n",
       "      <th>WindDir9am_random</th>\n",
       "      <th>WindDir3pm_random</th>\n",
       "      <th>MinTemp_random</th>\n",
       "      <th>MaxTemp_random</th>\n",
       "      <th>Pressure9am_missing</th>\n",
       "      <th>Pressure9am_random</th>\n",
       "      <th>WindGustSpeed_random</th>\n",
       "      <th>WindSpeed9am_random</th>\n",
       "      <th>WindSpeed3pm_random</th>\n",
       "      <th>Humidity9am_random</th>\n",
       "      <th>Humidity3pm_random</th>\n",
       "      <th>month</th>\n",
       "      <th>day</th>\n",
       "    </tr>\n",
       "  </thead>\n",
       "  <tbody>\n",
       "    <tr>\n",
       "      <th>83344</th>\n",
       "      <td>Dartmoor</td>\n",
       "      <td>-0.278821</td>\n",
       "      <td>-0.930912</td>\n",
       "      <td>-1.621838</td>\n",
       "      <td>0</td>\n",
       "      <td>NNE</td>\n",
       "      <td>N</td>\n",
       "      <td>NE</td>\n",
       "      <td>-1.185107</td>\n",
       "      <td>-1.506582</td>\n",
       "      <td>0</td>\n",
       "      <td>-1.359550</td>\n",
       "      <td>-0.218268</td>\n",
       "      <td>-0.113285</td>\n",
       "      <td>-0.868390</td>\n",
       "      <td>-2.349938</td>\n",
       "      <td>0.313983</td>\n",
       "      <td>0.756684</td>\n",
       "      <td>-1.559342</td>\n",
       "    </tr>\n",
       "    <tr>\n",
       "      <th>10185</th>\n",
       "      <td>CoffsHarbour</td>\n",
       "      <td>2.196175</td>\n",
       "      <td>0.358622</td>\n",
       "      <td>-0.103572</td>\n",
       "      <td>1</td>\n",
       "      <td>SE</td>\n",
       "      <td>SW</td>\n",
       "      <td>W</td>\n",
       "      <td>1.065241</td>\n",
       "      <td>-0.060718</td>\n",
       "      <td>0</td>\n",
       "      <td>0.189685</td>\n",
       "      <td>-0.071061</td>\n",
       "      <td>-0.113285</td>\n",
       "      <td>-1.095869</td>\n",
       "      <td>1.424553</td>\n",
       "      <td>1.947519</td>\n",
       "      <td>-0.995119</td>\n",
       "      <td>-1.445670</td>\n",
       "    </tr>\n",
       "    <tr>\n",
       "      <th>34777</th>\n",
       "      <td>SydneyAirport</td>\n",
       "      <td>0.696898</td>\n",
       "      <td>-0.301496</td>\n",
       "      <td>-0.175188</td>\n",
       "      <td>1</td>\n",
       "      <td>WNW</td>\n",
       "      <td>NNW</td>\n",
       "      <td>N</td>\n",
       "      <td>-0.278717</td>\n",
       "      <td>-0.341469</td>\n",
       "      <td>0</td>\n",
       "      <td>0.316440</td>\n",
       "      <td>0.076145</td>\n",
       "      <td>0.563328</td>\n",
       "      <td>0.382744</td>\n",
       "      <td>-0.095728</td>\n",
       "      <td>-0.598875</td>\n",
       "      <td>0.172750</td>\n",
       "      <td>-0.536291</td>\n",
       "    </tr>\n",
       "    <tr>\n",
       "      <th>57070</th>\n",
       "      <td>Ballarat</td>\n",
       "      <td>-0.278821</td>\n",
       "      <td>-1.621733</td>\n",
       "      <td>-1.722101</td>\n",
       "      <td>0</td>\n",
       "      <td>SSE</td>\n",
       "      <td>SSE</td>\n",
       "      <td>S</td>\n",
       "      <td>-1.544538</td>\n",
       "      <td>-1.829445</td>\n",
       "      <td>0</td>\n",
       "      <td>1.555828</td>\n",
       "      <td>-1.175109</td>\n",
       "      <td>-0.338822</td>\n",
       "      <td>-0.868390</td>\n",
       "      <td>1.634247</td>\n",
       "      <td>1.034660</td>\n",
       "      <td>0.172750</td>\n",
       "      <td>0.486760</td>\n",
       "    </tr>\n",
       "    <tr>\n",
       "      <th>140866</th>\n",
       "      <td>Darwin</td>\n",
       "      <td>-0.278821</td>\n",
       "      <td>1.218311</td>\n",
       "      <td>1.042290</td>\n",
       "      <td>0</td>\n",
       "      <td>N</td>\n",
       "      <td>E</td>\n",
       "      <td>N</td>\n",
       "      <td>1.049614</td>\n",
       "      <td>1.230733</td>\n",
       "      <td>0</td>\n",
       "      <td>-0.641269</td>\n",
       "      <td>-0.365474</td>\n",
       "      <td>0.337790</td>\n",
       "      <td>0.610223</td>\n",
       "      <td>0.218813</td>\n",
       "      <td>0.265938</td>\n",
       "      <td>0.172750</td>\n",
       "      <td>0.373088</td>\n",
       "    </tr>\n",
       "  </tbody>\n",
       "</table>\n",
       "</div>"
      ],
      "text/plain": [
       "             Location  Rainfall   Temp9am   Temp3pm  RainToday  \\\n",
       "83344        Dartmoor -0.278821 -0.930912 -1.621838          0   \n",
       "10185    CoffsHarbour  2.196175  0.358622 -0.103572          1   \n",
       "34777   SydneyAirport  0.696898 -0.301496 -0.175188          1   \n",
       "57070        Ballarat -0.278821 -1.621733 -1.722101          0   \n",
       "140866         Darwin -0.278821  1.218311  1.042290          0   \n",
       "\n",
       "       WindGustDir_random WindDir9am_random WindDir3pm_random  MinTemp_random  \\\n",
       "83344                 NNE                 N                NE       -1.185107   \n",
       "10185                  SE                SW                 W        1.065241   \n",
       "34777                 WNW               NNW                 N       -0.278717   \n",
       "57070                 SSE               SSE                 S       -1.544538   \n",
       "140866                  N                 E                 N        1.049614   \n",
       "\n",
       "        MaxTemp_random  Pressure9am_missing  Pressure9am_random  \\\n",
       "83344        -1.506582                    0           -1.359550   \n",
       "10185        -0.060718                    0            0.189685   \n",
       "34777        -0.341469                    0            0.316440   \n",
       "57070        -1.829445                    0            1.555828   \n",
       "140866        1.230733                    0           -0.641269   \n",
       "\n",
       "        WindGustSpeed_random  WindSpeed9am_random  WindSpeed3pm_random  \\\n",
       "83344              -0.218268            -0.113285            -0.868390   \n",
       "10185              -0.071061            -0.113285            -1.095869   \n",
       "34777               0.076145             0.563328             0.382744   \n",
       "57070              -1.175109            -0.338822            -0.868390   \n",
       "140866             -0.365474             0.337790             0.610223   \n",
       "\n",
       "        Humidity9am_random  Humidity3pm_random     month       day  \n",
       "83344            -2.349938            0.313983  0.756684 -1.559342  \n",
       "10185             1.424553            1.947519 -0.995119 -1.445670  \n",
       "34777            -0.095728           -0.598875  0.172750 -0.536291  \n",
       "57070             1.634247            1.034660  0.172750  0.486760  \n",
       "140866            0.218813            0.265938  0.172750  0.373088  "
      ]
     },
     "execution_count": 284,
     "metadata": {},
     "output_type": "execute_result"
    }
   ],
   "source": [
    "x_train.head()"
   ]
  },
  {
   "cell_type": "code",
   "execution_count": 285,
   "id": "2310bb85",
   "metadata": {},
   "outputs": [
    {
     "data": {
      "text/html": [
       "<div>\n",
       "<style scoped>\n",
       "    .dataframe tbody tr th:only-of-type {\n",
       "        vertical-align: middle;\n",
       "    }\n",
       "\n",
       "    .dataframe tbody tr th {\n",
       "        vertical-align: top;\n",
       "    }\n",
       "\n",
       "    .dataframe thead th {\n",
       "        text-align: right;\n",
       "    }\n",
       "</style>\n",
       "<table border=\"1\" class=\"dataframe\">\n",
       "  <thead>\n",
       "    <tr style=\"text-align: right;\">\n",
       "      <th></th>\n",
       "      <th>Location</th>\n",
       "      <th>Rainfall</th>\n",
       "      <th>Temp9am</th>\n",
       "      <th>Temp3pm</th>\n",
       "      <th>RainToday</th>\n",
       "      <th>WindGustDir_random</th>\n",
       "      <th>WindDir9am_random</th>\n",
       "      <th>WindDir3pm_random</th>\n",
       "      <th>MinTemp_random</th>\n",
       "      <th>MaxTemp_random</th>\n",
       "      <th>Pressure9am_missing</th>\n",
       "      <th>Pressure9am_random</th>\n",
       "      <th>WindGustSpeed_random</th>\n",
       "      <th>WindSpeed9am_random</th>\n",
       "      <th>WindSpeed3pm_random</th>\n",
       "      <th>Humidity9am_random</th>\n",
       "      <th>Humidity3pm_random</th>\n",
       "      <th>month</th>\n",
       "      <th>day</th>\n",
       "    </tr>\n",
       "  </thead>\n",
       "  <tbody>\n",
       "    <tr>\n",
       "      <th>66</th>\n",
       "      <td>Albury</td>\n",
       "      <td>-0.278821</td>\n",
       "      <td>1.463936</td>\n",
       "      <td>2.574880</td>\n",
       "      <td>0</td>\n",
       "      <td>WSW</td>\n",
       "      <td>SSE</td>\n",
       "      <td>S</td>\n",
       "      <td>1.455927</td>\n",
       "      <td>2.522184</td>\n",
       "      <td>0</td>\n",
       "      <td>-1.655313</td>\n",
       "      <td>-0.365474</td>\n",
       "      <td>-0.789897</td>\n",
       "      <td>0.041526</td>\n",
       "      <td>-1.091775</td>\n",
       "      <td>-1.751960</td>\n",
       "      <td>-1.287086</td>\n",
       "      <td>-1.218325</td>\n",
       "    </tr>\n",
       "    <tr>\n",
       "      <th>1110</th>\n",
       "      <td>Albury</td>\n",
       "      <td>-0.278821</td>\n",
       "      <td>0.573544</td>\n",
       "      <td>1.142553</td>\n",
       "      <td>0</td>\n",
       "      <td>NNE</td>\n",
       "      <td>SE</td>\n",
       "      <td>SSE</td>\n",
       "      <td>0.455772</td>\n",
       "      <td>1.090358</td>\n",
       "      <td>0</td>\n",
       "      <td>-0.007491</td>\n",
       "      <td>0.076145</td>\n",
       "      <td>0.112253</td>\n",
       "      <td>-1.095869</td>\n",
       "      <td>-0.882081</td>\n",
       "      <td>-0.694966</td>\n",
       "      <td>-1.579053</td>\n",
       "      <td>-0.081602</td>\n",
       "    </tr>\n",
       "    <tr>\n",
       "      <th>60771</th>\n",
       "      <td>Bendigo</td>\n",
       "      <td>-0.112235</td>\n",
       "      <td>-1.053724</td>\n",
       "      <td>-1.321050</td>\n",
       "      <td>1</td>\n",
       "      <td>WNW</td>\n",
       "      <td>NW</td>\n",
       "      <td>NW</td>\n",
       "      <td>-0.560011</td>\n",
       "      <td>-1.169682</td>\n",
       "      <td>0</td>\n",
       "      <td>-0.106078</td>\n",
       "      <td>0.076145</td>\n",
       "      <td>-0.338822</td>\n",
       "      <td>0.041526</td>\n",
       "      <td>0.900318</td>\n",
       "      <td>1.755338</td>\n",
       "      <td>-0.411185</td>\n",
       "      <td>-0.536291</td>\n",
       "    </tr>\n",
       "    <tr>\n",
       "      <th>127979</th>\n",
       "      <td>Walpole</td>\n",
       "      <td>-0.278821</td>\n",
       "      <td>0.481435</td>\n",
       "      <td>0.297480</td>\n",
       "      <td>0</td>\n",
       "      <td>W</td>\n",
       "      <td>NW</td>\n",
       "      <td>W</td>\n",
       "      <td>0.362007</td>\n",
       "      <td>0.163882</td>\n",
       "      <td>0</td>\n",
       "      <td>-0.275086</td>\n",
       "      <td>0.076145</td>\n",
       "      <td>0.112253</td>\n",
       "      <td>0.610223</td>\n",
       "      <td>-0.252999</td>\n",
       "      <td>-0.022333</td>\n",
       "      <td>-0.995119</td>\n",
       "      <td>1.168794</td>\n",
       "    </tr>\n",
       "    <tr>\n",
       "      <th>107051</th>\n",
       "      <td>Woomera</td>\n",
       "      <td>-0.278821</td>\n",
       "      <td>0.466083</td>\n",
       "      <td>1.285786</td>\n",
       "      <td>0</td>\n",
       "      <td>NNW</td>\n",
       "      <td>N</td>\n",
       "      <td>WNW</td>\n",
       "      <td>0.268243</td>\n",
       "      <td>1.244770</td>\n",
       "      <td>0</td>\n",
       "      <td>0.175601</td>\n",
       "      <td>-0.365474</td>\n",
       "      <td>0.337790</td>\n",
       "      <td>-0.185953</td>\n",
       "      <td>-2.716903</td>\n",
       "      <td>-2.184366</td>\n",
       "      <td>-0.703152</td>\n",
       "      <td>1.396139</td>\n",
       "    </tr>\n",
       "  </tbody>\n",
       "</table>\n",
       "</div>"
      ],
      "text/plain": [
       "       Location  Rainfall   Temp9am   Temp3pm  RainToday WindGustDir_random  \\\n",
       "66       Albury -0.278821  1.463936  2.574880          0                WSW   \n",
       "1110     Albury -0.278821  0.573544  1.142553          0                NNE   \n",
       "60771   Bendigo -0.112235 -1.053724 -1.321050          1                WNW   \n",
       "127979  Walpole -0.278821  0.481435  0.297480          0                  W   \n",
       "107051  Woomera -0.278821  0.466083  1.285786          0                NNW   \n",
       "\n",
       "       WindDir9am_random WindDir3pm_random  MinTemp_random  MaxTemp_random  \\\n",
       "66                   SSE                 S        1.455927        2.522184   \n",
       "1110                  SE               SSE        0.455772        1.090358   \n",
       "60771                 NW                NW       -0.560011       -1.169682   \n",
       "127979                NW                 W        0.362007        0.163882   \n",
       "107051                 N               WNW        0.268243        1.244770   \n",
       "\n",
       "        Pressure9am_missing  Pressure9am_random  WindGustSpeed_random  \\\n",
       "66                        0           -1.655313             -0.365474   \n",
       "1110                      0           -0.007491              0.076145   \n",
       "60771                     0           -0.106078              0.076145   \n",
       "127979                    0           -0.275086              0.076145   \n",
       "107051                    0            0.175601             -0.365474   \n",
       "\n",
       "        WindSpeed9am_random  WindSpeed3pm_random  Humidity9am_random  \\\n",
       "66                -0.789897             0.041526           -1.091775   \n",
       "1110               0.112253            -1.095869           -0.882081   \n",
       "60771             -0.338822             0.041526            0.900318   \n",
       "127979             0.112253             0.610223           -0.252999   \n",
       "107051             0.337790            -0.185953           -2.716903   \n",
       "\n",
       "        Humidity3pm_random     month       day  \n",
       "66               -1.751960 -1.287086 -1.218325  \n",
       "1110             -0.694966 -1.579053 -0.081602  \n",
       "60771             1.755338 -0.411185 -0.536291  \n",
       "127979           -0.022333 -0.995119  1.168794  \n",
       "107051           -2.184366 -0.703152  1.396139  "
      ]
     },
     "execution_count": 285,
     "metadata": {},
     "output_type": "execute_result"
    }
   ],
   "source": [
    "x_test.head()"
   ]
  },
  {
   "cell_type": "code",
   "execution_count": 286,
   "id": "da64d773",
   "metadata": {},
   "outputs": [],
   "source": [
    "xt = pd.concat([x_train,y_train],axis=1)"
   ]
  },
  {
   "cell_type": "code",
   "execution_count": 287,
   "id": "f1860d28",
   "metadata": {},
   "outputs": [],
   "source": [
    "ss = xt[['RainTomorrow','Location','WindGustDir_random']]\n",
    "t = ss.groupby(['Location','WindGustDir_random'])"
   ]
  },
  {
   "cell_type": "code",
   "execution_count": 289,
   "id": "48e3a81a",
   "metadata": {
    "scrolled": true
   },
   "outputs": [
    {
     "data": {
      "text/html": [
       "<div>\n",
       "<style scoped>\n",
       "    .dataframe tbody tr th:only-of-type {\n",
       "        vertical-align: middle;\n",
       "    }\n",
       "\n",
       "    .dataframe tbody tr th {\n",
       "        vertical-align: top;\n",
       "    }\n",
       "\n",
       "    .dataframe thead th {\n",
       "        text-align: right;\n",
       "    }\n",
       "</style>\n",
       "<table border=\"1\" class=\"dataframe\">\n",
       "  <thead>\n",
       "    <tr style=\"text-align: right;\">\n",
       "      <th></th>\n",
       "      <th></th>\n",
       "      <th>RainTomorrow</th>\n",
       "    </tr>\n",
       "    <tr>\n",
       "      <th>Location</th>\n",
       "      <th>WindGustDir_random</th>\n",
       "      <th></th>\n",
       "    </tr>\n",
       "  </thead>\n",
       "  <tbody>\n",
       "    <tr>\n",
       "      <th rowspan=\"16\" valign=\"top\">Adelaide</th>\n",
       "      <th>E</th>\n",
       "      <td>0.164179</td>\n",
       "    </tr>\n",
       "    <tr>\n",
       "      <th>ENE</th>\n",
       "      <td>0.190476</td>\n",
       "    </tr>\n",
       "    <tr>\n",
       "      <th>ESE</th>\n",
       "      <td>0.069565</td>\n",
       "    </tr>\n",
       "    <tr>\n",
       "      <th>N</th>\n",
       "      <td>0.221154</td>\n",
       "    </tr>\n",
       "    <tr>\n",
       "      <th>NE</th>\n",
       "      <td>0.272727</td>\n",
       "    </tr>\n",
       "    <tr>\n",
       "      <th>NNE</th>\n",
       "      <td>0.294872</td>\n",
       "    </tr>\n",
       "    <tr>\n",
       "      <th>NNW</th>\n",
       "      <td>0.300752</td>\n",
       "    </tr>\n",
       "    <tr>\n",
       "      <th>NW</th>\n",
       "      <td>0.377778</td>\n",
       "    </tr>\n",
       "    <tr>\n",
       "      <th>S</th>\n",
       "      <td>0.080000</td>\n",
       "    </tr>\n",
       "    <tr>\n",
       "      <th>SE</th>\n",
       "      <td>0.052288</td>\n",
       "    </tr>\n",
       "    <tr>\n",
       "      <th>SSE</th>\n",
       "      <td>0.088889</td>\n",
       "    </tr>\n",
       "    <tr>\n",
       "      <th>SSW</th>\n",
       "      <td>0.179775</td>\n",
       "    </tr>\n",
       "    <tr>\n",
       "      <th>SW</th>\n",
       "      <td>0.188552</td>\n",
       "    </tr>\n",
       "    <tr>\n",
       "      <th>W</th>\n",
       "      <td>0.314176</td>\n",
       "    </tr>\n",
       "    <tr>\n",
       "      <th>WNW</th>\n",
       "      <td>0.370861</td>\n",
       "    </tr>\n",
       "    <tr>\n",
       "      <th>WSW</th>\n",
       "      <td>0.189781</td>\n",
       "    </tr>\n",
       "    <tr>\n",
       "      <th rowspan=\"16\" valign=\"top\">Albany</th>\n",
       "      <th>E</th>\n",
       "      <td>0.261438</td>\n",
       "    </tr>\n",
       "    <tr>\n",
       "      <th>ENE</th>\n",
       "      <td>0.324324</td>\n",
       "    </tr>\n",
       "    <tr>\n",
       "      <th>ESE</th>\n",
       "      <td>0.250000</td>\n",
       "    </tr>\n",
       "    <tr>\n",
       "      <th>N</th>\n",
       "      <td>0.356725</td>\n",
       "    </tr>\n",
       "    <tr>\n",
       "      <th>NE</th>\n",
       "      <td>0.301587</td>\n",
       "    </tr>\n",
       "    <tr>\n",
       "      <th>NNE</th>\n",
       "      <td>0.290323</td>\n",
       "    </tr>\n",
       "    <tr>\n",
       "      <th>NNW</th>\n",
       "      <td>0.229167</td>\n",
       "    </tr>\n",
       "    <tr>\n",
       "      <th>NW</th>\n",
       "      <td>0.257576</td>\n",
       "    </tr>\n",
       "    <tr>\n",
       "      <th>S</th>\n",
       "      <td>0.298780</td>\n",
       "    </tr>\n",
       "    <tr>\n",
       "      <th>SE</th>\n",
       "      <td>0.292135</td>\n",
       "    </tr>\n",
       "    <tr>\n",
       "      <th>SSE</th>\n",
       "      <td>0.358824</td>\n",
       "    </tr>\n",
       "    <tr>\n",
       "      <th>SSW</th>\n",
       "      <td>0.345865</td>\n",
       "    </tr>\n",
       "    <tr>\n",
       "      <th>SW</th>\n",
       "      <td>0.318750</td>\n",
       "    </tr>\n",
       "    <tr>\n",
       "      <th>W</th>\n",
       "      <td>0.348571</td>\n",
       "    </tr>\n",
       "    <tr>\n",
       "      <th>WNW</th>\n",
       "      <td>0.263514</td>\n",
       "    </tr>\n",
       "    <tr>\n",
       "      <th>WSW</th>\n",
       "      <td>0.297753</td>\n",
       "    </tr>\n",
       "    <tr>\n",
       "      <th rowspan=\"16\" valign=\"top\">Albury</th>\n",
       "      <th>E</th>\n",
       "      <td>0.123711</td>\n",
       "    </tr>\n",
       "    <tr>\n",
       "      <th>ENE</th>\n",
       "      <td>0.260504</td>\n",
       "    </tr>\n",
       "    <tr>\n",
       "      <th>ESE</th>\n",
       "      <td>0.145833</td>\n",
       "    </tr>\n",
       "    <tr>\n",
       "      <th>N</th>\n",
       "      <td>0.300699</td>\n",
       "    </tr>\n",
       "    <tr>\n",
       "      <th>NE</th>\n",
       "      <td>0.307692</td>\n",
       "    </tr>\n",
       "    <tr>\n",
       "      <th>NNE</th>\n",
       "      <td>0.378788</td>\n",
       "    </tr>\n",
       "    <tr>\n",
       "      <th>NNW</th>\n",
       "      <td>0.302521</td>\n",
       "    </tr>\n",
       "    <tr>\n",
       "      <th>NW</th>\n",
       "      <td>0.357143</td>\n",
       "    </tr>\n",
       "    <tr>\n",
       "      <th>S</th>\n",
       "      <td>0.086957</td>\n",
       "    </tr>\n",
       "    <tr>\n",
       "      <th>SE</th>\n",
       "      <td>0.122727</td>\n",
       "    </tr>\n",
       "    <tr>\n",
       "      <th>SSE</th>\n",
       "      <td>0.122093</td>\n",
       "    </tr>\n",
       "    <tr>\n",
       "      <th>SSW</th>\n",
       "      <td>0.083333</td>\n",
       "    </tr>\n",
       "    <tr>\n",
       "      <th>SW</th>\n",
       "      <td>0.156250</td>\n",
       "    </tr>\n",
       "    <tr>\n",
       "      <th>W</th>\n",
       "      <td>0.167076</td>\n",
       "    </tr>\n",
       "    <tr>\n",
       "      <th>WNW</th>\n",
       "      <td>0.240803</td>\n",
       "    </tr>\n",
       "    <tr>\n",
       "      <th>WSW</th>\n",
       "      <td>0.122340</td>\n",
       "    </tr>\n",
       "    <tr>\n",
       "      <th rowspan=\"2\" valign=\"top\">AliceSprings</th>\n",
       "      <th>E</th>\n",
       "      <td>0.048593</td>\n",
       "    </tr>\n",
       "    <tr>\n",
       "      <th>ENE</th>\n",
       "      <td>0.062937</td>\n",
       "    </tr>\n",
       "  </tbody>\n",
       "</table>\n",
       "</div>"
      ],
      "text/plain": [
       "                                 RainTomorrow\n",
       "Location     WindGustDir_random              \n",
       "Adelaide     E                       0.164179\n",
       "             ENE                     0.190476\n",
       "             ESE                     0.069565\n",
       "             N                       0.221154\n",
       "             NE                      0.272727\n",
       "             NNE                     0.294872\n",
       "             NNW                     0.300752\n",
       "             NW                      0.377778\n",
       "             S                       0.080000\n",
       "             SE                      0.052288\n",
       "             SSE                     0.088889\n",
       "             SSW                     0.179775\n",
       "             SW                      0.188552\n",
       "             W                       0.314176\n",
       "             WNW                     0.370861\n",
       "             WSW                     0.189781\n",
       "Albany       E                       0.261438\n",
       "             ENE                     0.324324\n",
       "             ESE                     0.250000\n",
       "             N                       0.356725\n",
       "             NE                      0.301587\n",
       "             NNE                     0.290323\n",
       "             NNW                     0.229167\n",
       "             NW                      0.257576\n",
       "             S                       0.298780\n",
       "             SE                      0.292135\n",
       "             SSE                     0.358824\n",
       "             SSW                     0.345865\n",
       "             SW                      0.318750\n",
       "             W                       0.348571\n",
       "             WNW                     0.263514\n",
       "             WSW                     0.297753\n",
       "Albury       E                       0.123711\n",
       "             ENE                     0.260504\n",
       "             ESE                     0.145833\n",
       "             N                       0.300699\n",
       "             NE                      0.307692\n",
       "             NNE                     0.378788\n",
       "             NNW                     0.302521\n",
       "             NW                      0.357143\n",
       "             S                       0.086957\n",
       "             SE                      0.122727\n",
       "             SSE                     0.122093\n",
       "             SSW                     0.083333\n",
       "             SW                      0.156250\n",
       "             W                       0.167076\n",
       "             WNW                     0.240803\n",
       "             WSW                     0.122340\n",
       "AliceSprings E                       0.048593\n",
       "             ENE                     0.062937"
      ]
     },
     "execution_count": 289,
     "metadata": {},
     "output_type": "execute_result"
    }
   ],
   "source": [
    "t.mean()[:50]"
   ]
  },
  {
   "cell_type": "code",
   "execution_count": 290,
   "id": "5331c3cc",
   "metadata": {},
   "outputs": [],
   "source": [
    "xt['Location_and_WindGustDir_random'] = 0\n",
    "xt['Location_and_WindDir9am_random'] = 0\n",
    "xt['Location_and_WindDir3pm_random'] = 0\n",
    "\n",
    "x_test['Location_and_WindGustDir_random'] = 0\n",
    "x_test['Location_and_WindDir9am_random'] = 0\n",
    "x_test['Location_and_WindDir3pm_random'] = 0"
   ]
  },
  {
   "cell_type": "code",
   "execution_count": 291,
   "id": "52495d7f",
   "metadata": {},
   "outputs": [],
   "source": [
    "for location in xt['Location'].unique():\n",
    "    \n",
    "    for WindGustDir_random in xt['WindGustDir_random'].unique():\n",
    "        dff = xt.loc[ (xt['Location'] == location) & (xt['WindGustDir_random']==WindGustDir_random) ]\n",
    "        xt['Location_and_WindGustDir_random'][dff.index] = round(dff['RainTomorrow'].mean() , 3)\n",
    "        \n",
    "    for WindDir9am_random in xt['WindDir9am_random'].unique():\n",
    "        dff = xt.loc[ (xt['Location'] == location) & (xt['WindDir9am_random']==WindDir9am_random) ]\n",
    "        xt['Location_and_WindDir9am_random'][dff.index] = round(dff['RainTomorrow'].mean() , 3)\n",
    "        \n",
    "    for WindDir3pm_random in xt['WindDir3pm_random'].unique():\n",
    "        dff = xt.loc[ (xt['Location'] == location) & (xt['WindDir3pm_random']==WindDir3pm_random) ]\n",
    "        xt['Location_and_WindDir3pm_random'][dff.index] = round(dff['RainTomorrow'].mean() , 3)"
   ]
  },
  {
   "cell_type": "code",
   "execution_count": 292,
   "id": "0d22dac9",
   "metadata": {},
   "outputs": [],
   "source": [
    "for location in x_test['Location'].unique():\n",
    "    \n",
    "    for WindGustDir_random in x_test['WindGustDir_random'].unique():\n",
    "        dff = xt.loc[ (xt['Location'] == location) & (xt['WindGustDir_random']==WindGustDir_random) ]\n",
    "        dff_test = x_test.loc[ (x_test['Location'] == location) & (x_test['WindGustDir_random']==WindGustDir_random) ]\n",
    "        x_test['Location_and_WindGustDir_random'][dff_test.index] = round(dff['RainTomorrow'].mean() , 3)\n",
    "        \n",
    "    for WindDir9am_random in x_test['WindDir9am_random'].unique():\n",
    "        dff = xt.loc[ (xt['Location'] == location) & (xt['WindDir9am_random']==WindDir9am_random) ]\n",
    "        dff_test = x_test.loc[ (x_test['Location'] == location) & (x_test['WindDir9am_random']==WindDir9am_random) ]\n",
    "        x_test['Location_and_WindDir9am_random'][dff_test.index] = round(dff['RainTomorrow'].mean() , 3)\n",
    "        \n",
    "    for WindDir3pm_random in x_test['WindDir3pm_random'].unique():\n",
    "        dff = xt.loc[ (xt['Location'] == location) & (xt['WindDir3pm_random']==WindDir3pm_random) ]\n",
    "        dff_test = x_test.loc[ (x_test['Location'] == location) & (x_test['WindDir3pm_random']==WindDir3pm_random) ]\n",
    "        x_test['Location_and_WindDir3pm_random'][dff_test.index] = round(dff['RainTomorrow'].mean() , 3)"
   ]
  },
  {
   "cell_type": "code",
   "execution_count": 293,
   "id": "8eed9b58",
   "metadata": {},
   "outputs": [],
   "source": [
    "xt['Location_and_WindGustDir_random'] = xt['Location_and_WindGustDir_random']*10\n",
    "xt['Location_and_WindDir9am_random'] = xt['Location_and_WindDir9am_random']*10\n",
    "xt['Location_and_WindDir3pm_random'] = xt['Location_and_WindDir3pm_random']*10\n",
    "\n",
    "x_test['Location_and_WindGustDir_random'] = x_test['Location_and_WindGustDir_random']*10\n",
    "x_test['Location_and_WindDir9am_random'] = x_test['Location_and_WindDir9am_random']*10\n",
    "x_test['Location_and_WindDir3pm_random'] = x_test['Location_and_WindDir3pm_random']*10"
   ]
  },
  {
   "cell_type": "code",
   "execution_count": 294,
   "id": "175115d8",
   "metadata": {},
   "outputs": [],
   "source": [
    "x_train = xt.drop('RainTomorrow',axis=1)"
   ]
  },
  {
   "cell_type": "code",
   "execution_count": 295,
   "id": "dae720cb",
   "metadata": {},
   "outputs": [],
   "source": [
    "x_train.drop(['Location','WindGustDir_random','WindDir9am_random','WindDir3pm_random'],axis=1,inplace=True)\n",
    "x_test.drop(['Location','WindGustDir_random','WindDir9am_random','WindDir3pm_random'],axis=1,inplace=True)"
   ]
  },
  {
   "cell_type": "code",
   "execution_count": null,
   "id": "9fb32982",
   "metadata": {},
   "outputs": [],
   "source": []
  },
  {
   "cell_type": "code",
   "execution_count": 296,
   "id": "888bef49",
   "metadata": {},
   "outputs": [
    {
     "data": {
      "text/html": [
       "<div>\n",
       "<style scoped>\n",
       "    .dataframe tbody tr th:only-of-type {\n",
       "        vertical-align: middle;\n",
       "    }\n",
       "\n",
       "    .dataframe tbody tr th {\n",
       "        vertical-align: top;\n",
       "    }\n",
       "\n",
       "    .dataframe thead th {\n",
       "        text-align: right;\n",
       "    }\n",
       "</style>\n",
       "<table border=\"1\" class=\"dataframe\">\n",
       "  <thead>\n",
       "    <tr style=\"text-align: right;\">\n",
       "      <th></th>\n",
       "      <th>Rainfall</th>\n",
       "      <th>Temp9am</th>\n",
       "      <th>Temp3pm</th>\n",
       "      <th>RainToday</th>\n",
       "      <th>MinTemp_random</th>\n",
       "      <th>MaxTemp_random</th>\n",
       "      <th>Pressure9am_missing</th>\n",
       "      <th>Pressure9am_random</th>\n",
       "      <th>WindGustSpeed_random</th>\n",
       "      <th>WindSpeed9am_random</th>\n",
       "      <th>WindSpeed3pm_random</th>\n",
       "      <th>Humidity9am_random</th>\n",
       "      <th>Humidity3pm_random</th>\n",
       "      <th>month</th>\n",
       "      <th>day</th>\n",
       "      <th>Location_and_WindGustDir_random</th>\n",
       "      <th>Location_and_WindDir9am_random</th>\n",
       "      <th>Location_and_WindDir3pm_random</th>\n",
       "    </tr>\n",
       "  </thead>\n",
       "  <tbody>\n",
       "    <tr>\n",
       "      <th>83344</th>\n",
       "      <td>-0.278821</td>\n",
       "      <td>-0.930912</td>\n",
       "      <td>-1.621838</td>\n",
       "      <td>0</td>\n",
       "      <td>-1.185107</td>\n",
       "      <td>-1.506582</td>\n",
       "      <td>0</td>\n",
       "      <td>-1.359550</td>\n",
       "      <td>-0.218268</td>\n",
       "      <td>-0.113285</td>\n",
       "      <td>-0.868390</td>\n",
       "      <td>-2.349938</td>\n",
       "      <td>0.313983</td>\n",
       "      <td>0.756684</td>\n",
       "      <td>-1.559342</td>\n",
       "      <td>3.48</td>\n",
       "      <td>4.33</td>\n",
       "      <td>4.18</td>\n",
       "    </tr>\n",
       "    <tr>\n",
       "      <th>10185</th>\n",
       "      <td>2.196175</td>\n",
       "      <td>0.358622</td>\n",
       "      <td>-0.103572</td>\n",
       "      <td>1</td>\n",
       "      <td>1.065241</td>\n",
       "      <td>-0.060718</td>\n",
       "      <td>0</td>\n",
       "      <td>0.189685</td>\n",
       "      <td>-0.071061</td>\n",
       "      <td>-0.113285</td>\n",
       "      <td>-1.095869</td>\n",
       "      <td>1.424553</td>\n",
       "      <td>1.947519</td>\n",
       "      <td>-0.995119</td>\n",
       "      <td>-1.445670</td>\n",
       "      <td>3.92</td>\n",
       "      <td>3.78</td>\n",
       "      <td>3.12</td>\n",
       "    </tr>\n",
       "    <tr>\n",
       "      <th>34777</th>\n",
       "      <td>0.696898</td>\n",
       "      <td>-0.301496</td>\n",
       "      <td>-0.175188</td>\n",
       "      <td>1</td>\n",
       "      <td>-0.278717</td>\n",
       "      <td>-0.341469</td>\n",
       "      <td>0</td>\n",
       "      <td>0.316440</td>\n",
       "      <td>0.076145</td>\n",
       "      <td>0.563328</td>\n",
       "      <td>0.382744</td>\n",
       "      <td>-0.095728</td>\n",
       "      <td>-0.598875</td>\n",
       "      <td>0.172750</td>\n",
       "      <td>-0.536291</td>\n",
       "      <td>1.43</td>\n",
       "      <td>2.01</td>\n",
       "      <td>2.86</td>\n",
       "    </tr>\n",
       "    <tr>\n",
       "      <th>57070</th>\n",
       "      <td>-0.278821</td>\n",
       "      <td>-1.621733</td>\n",
       "      <td>-1.722101</td>\n",
       "      <td>0</td>\n",
       "      <td>-1.544538</td>\n",
       "      <td>-1.829445</td>\n",
       "      <td>0</td>\n",
       "      <td>1.555828</td>\n",
       "      <td>-1.175109</td>\n",
       "      <td>-0.338822</td>\n",
       "      <td>-0.868390</td>\n",
       "      <td>1.634247</td>\n",
       "      <td>1.034660</td>\n",
       "      <td>0.172750</td>\n",
       "      <td>0.486760</td>\n",
       "      <td>0.63</td>\n",
       "      <td>0.68</td>\n",
       "      <td>1.08</td>\n",
       "    </tr>\n",
       "    <tr>\n",
       "      <th>140866</th>\n",
       "      <td>-0.278821</td>\n",
       "      <td>1.218311</td>\n",
       "      <td>1.042290</td>\n",
       "      <td>0</td>\n",
       "      <td>1.049614</td>\n",
       "      <td>1.230733</td>\n",
       "      <td>0</td>\n",
       "      <td>-0.641269</td>\n",
       "      <td>-0.365474</td>\n",
       "      <td>0.337790</td>\n",
       "      <td>0.610223</td>\n",
       "      <td>0.218813</td>\n",
       "      <td>0.265938</td>\n",
       "      <td>0.172750</td>\n",
       "      <td>0.373088</td>\n",
       "      <td>2.34</td>\n",
       "      <td>1.36</td>\n",
       "      <td>2.27</td>\n",
       "    </tr>\n",
       "  </tbody>\n",
       "</table>\n",
       "</div>"
      ],
      "text/plain": [
       "        Rainfall   Temp9am   Temp3pm  RainToday  MinTemp_random  \\\n",
       "83344  -0.278821 -0.930912 -1.621838          0       -1.185107   \n",
       "10185   2.196175  0.358622 -0.103572          1        1.065241   \n",
       "34777   0.696898 -0.301496 -0.175188          1       -0.278717   \n",
       "57070  -0.278821 -1.621733 -1.722101          0       -1.544538   \n",
       "140866 -0.278821  1.218311  1.042290          0        1.049614   \n",
       "\n",
       "        MaxTemp_random  Pressure9am_missing  Pressure9am_random  \\\n",
       "83344        -1.506582                    0           -1.359550   \n",
       "10185        -0.060718                    0            0.189685   \n",
       "34777        -0.341469                    0            0.316440   \n",
       "57070        -1.829445                    0            1.555828   \n",
       "140866        1.230733                    0           -0.641269   \n",
       "\n",
       "        WindGustSpeed_random  WindSpeed9am_random  WindSpeed3pm_random  \\\n",
       "83344              -0.218268            -0.113285            -0.868390   \n",
       "10185              -0.071061            -0.113285            -1.095869   \n",
       "34777               0.076145             0.563328             0.382744   \n",
       "57070              -1.175109            -0.338822            -0.868390   \n",
       "140866             -0.365474             0.337790             0.610223   \n",
       "\n",
       "        Humidity9am_random  Humidity3pm_random     month       day  \\\n",
       "83344            -2.349938            0.313983  0.756684 -1.559342   \n",
       "10185             1.424553            1.947519 -0.995119 -1.445670   \n",
       "34777            -0.095728           -0.598875  0.172750 -0.536291   \n",
       "57070             1.634247            1.034660  0.172750  0.486760   \n",
       "140866            0.218813            0.265938  0.172750  0.373088   \n",
       "\n",
       "        Location_and_WindGustDir_random  Location_and_WindDir9am_random  \\\n",
       "83344                              3.48                            4.33   \n",
       "10185                              3.92                            3.78   \n",
       "34777                              1.43                            2.01   \n",
       "57070                              0.63                            0.68   \n",
       "140866                             2.34                            1.36   \n",
       "\n",
       "        Location_and_WindDir3pm_random  \n",
       "83344                             4.18  \n",
       "10185                             3.12  \n",
       "34777                             2.86  \n",
       "57070                             1.08  \n",
       "140866                            2.27  "
      ]
     },
     "execution_count": 296,
     "metadata": {},
     "output_type": "execute_result"
    }
   ],
   "source": [
    "x_train.head()"
   ]
  },
  {
   "cell_type": "code",
   "execution_count": 298,
   "id": "418e9364",
   "metadata": {},
   "outputs": [
    {
     "data": {
      "text/html": [
       "<div>\n",
       "<style scoped>\n",
       "    .dataframe tbody tr th:only-of-type {\n",
       "        vertical-align: middle;\n",
       "    }\n",
       "\n",
       "    .dataframe tbody tr th {\n",
       "        vertical-align: top;\n",
       "    }\n",
       "\n",
       "    .dataframe thead th {\n",
       "        text-align: right;\n",
       "    }\n",
       "</style>\n",
       "<table border=\"1\" class=\"dataframe\">\n",
       "  <thead>\n",
       "    <tr style=\"text-align: right;\">\n",
       "      <th></th>\n",
       "      <th>Rainfall</th>\n",
       "      <th>Temp9am</th>\n",
       "      <th>Temp3pm</th>\n",
       "      <th>RainToday</th>\n",
       "      <th>MinTemp_random</th>\n",
       "      <th>MaxTemp_random</th>\n",
       "      <th>Pressure9am_missing</th>\n",
       "      <th>Pressure9am_random</th>\n",
       "      <th>WindGustSpeed_random</th>\n",
       "      <th>WindSpeed9am_random</th>\n",
       "      <th>WindSpeed3pm_random</th>\n",
       "      <th>Humidity9am_random</th>\n",
       "      <th>Humidity3pm_random</th>\n",
       "      <th>month</th>\n",
       "      <th>day</th>\n",
       "      <th>Location_and_WindGustDir_random</th>\n",
       "      <th>Location_and_WindDir9am_random</th>\n",
       "      <th>Location_and_WindDir3pm_random</th>\n",
       "    </tr>\n",
       "  </thead>\n",
       "  <tbody>\n",
       "    <tr>\n",
       "      <th>66</th>\n",
       "      <td>-0.278821</td>\n",
       "      <td>1.463936</td>\n",
       "      <td>2.574880</td>\n",
       "      <td>0</td>\n",
       "      <td>1.455927</td>\n",
       "      <td>2.522184</td>\n",
       "      <td>0</td>\n",
       "      <td>-1.655313</td>\n",
       "      <td>-0.365474</td>\n",
       "      <td>-0.789897</td>\n",
       "      <td>0.041526</td>\n",
       "      <td>-1.091775</td>\n",
       "      <td>-1.751960</td>\n",
       "      <td>-1.287086</td>\n",
       "      <td>-1.218325</td>\n",
       "      <td>1.22</td>\n",
       "      <td>1.44</td>\n",
       "      <td>1.24</td>\n",
       "    </tr>\n",
       "    <tr>\n",
       "      <th>1110</th>\n",
       "      <td>-0.278821</td>\n",
       "      <td>0.573544</td>\n",
       "      <td>1.142553</td>\n",
       "      <td>0</td>\n",
       "      <td>0.455772</td>\n",
       "      <td>1.090358</td>\n",
       "      <td>0</td>\n",
       "      <td>-0.007491</td>\n",
       "      <td>0.076145</td>\n",
       "      <td>0.112253</td>\n",
       "      <td>-1.095869</td>\n",
       "      <td>-0.882081</td>\n",
       "      <td>-0.694966</td>\n",
       "      <td>-1.579053</td>\n",
       "      <td>-0.081602</td>\n",
       "      <td>3.79</td>\n",
       "      <td>1.61</td>\n",
       "      <td>1.52</td>\n",
       "    </tr>\n",
       "    <tr>\n",
       "      <th>60771</th>\n",
       "      <td>-0.112235</td>\n",
       "      <td>-1.053724</td>\n",
       "      <td>-1.321050</td>\n",
       "      <td>1</td>\n",
       "      <td>-0.560011</td>\n",
       "      <td>-1.169682</td>\n",
       "      <td>0</td>\n",
       "      <td>-0.106078</td>\n",
       "      <td>0.076145</td>\n",
       "      <td>-0.338822</td>\n",
       "      <td>0.041526</td>\n",
       "      <td>0.900318</td>\n",
       "      <td>1.755338</td>\n",
       "      <td>-0.411185</td>\n",
       "      <td>-0.536291</td>\n",
       "      <td>2.54</td>\n",
       "      <td>4.39</td>\n",
       "      <td>2.46</td>\n",
       "    </tr>\n",
       "    <tr>\n",
       "      <th>127979</th>\n",
       "      <td>-0.278821</td>\n",
       "      <td>0.481435</td>\n",
       "      <td>0.297480</td>\n",
       "      <td>0</td>\n",
       "      <td>0.362007</td>\n",
       "      <td>0.163882</td>\n",
       "      <td>0</td>\n",
       "      <td>-0.275086</td>\n",
       "      <td>0.076145</td>\n",
       "      <td>0.112253</td>\n",
       "      <td>0.610223</td>\n",
       "      <td>-0.252999</td>\n",
       "      <td>-0.022333</td>\n",
       "      <td>-0.995119</td>\n",
       "      <td>1.168794</td>\n",
       "      <td>5.56</td>\n",
       "      <td>5.62</td>\n",
       "      <td>6.22</td>\n",
       "    </tr>\n",
       "    <tr>\n",
       "      <th>107051</th>\n",
       "      <td>-0.278821</td>\n",
       "      <td>0.466083</td>\n",
       "      <td>1.285786</td>\n",
       "      <td>0</td>\n",
       "      <td>0.268243</td>\n",
       "      <td>1.244770</td>\n",
       "      <td>0</td>\n",
       "      <td>0.175601</td>\n",
       "      <td>-0.365474</td>\n",
       "      <td>0.337790</td>\n",
       "      <td>-0.185953</td>\n",
       "      <td>-2.716903</td>\n",
       "      <td>-2.184366</td>\n",
       "      <td>-0.703152</td>\n",
       "      <td>1.396139</td>\n",
       "      <td>1.82</td>\n",
       "      <td>1.12</td>\n",
       "      <td>0.94</td>\n",
       "    </tr>\n",
       "  </tbody>\n",
       "</table>\n",
       "</div>"
      ],
      "text/plain": [
       "        Rainfall   Temp9am   Temp3pm  RainToday  MinTemp_random  \\\n",
       "66     -0.278821  1.463936  2.574880          0        1.455927   \n",
       "1110   -0.278821  0.573544  1.142553          0        0.455772   \n",
       "60771  -0.112235 -1.053724 -1.321050          1       -0.560011   \n",
       "127979 -0.278821  0.481435  0.297480          0        0.362007   \n",
       "107051 -0.278821  0.466083  1.285786          0        0.268243   \n",
       "\n",
       "        MaxTemp_random  Pressure9am_missing  Pressure9am_random  \\\n",
       "66            2.522184                    0           -1.655313   \n",
       "1110          1.090358                    0           -0.007491   \n",
       "60771        -1.169682                    0           -0.106078   \n",
       "127979        0.163882                    0           -0.275086   \n",
       "107051        1.244770                    0            0.175601   \n",
       "\n",
       "        WindGustSpeed_random  WindSpeed9am_random  WindSpeed3pm_random  \\\n",
       "66                 -0.365474            -0.789897             0.041526   \n",
       "1110                0.076145             0.112253            -1.095869   \n",
       "60771               0.076145            -0.338822             0.041526   \n",
       "127979              0.076145             0.112253             0.610223   \n",
       "107051             -0.365474             0.337790            -0.185953   \n",
       "\n",
       "        Humidity9am_random  Humidity3pm_random     month       day  \\\n",
       "66               -1.091775           -1.751960 -1.287086 -1.218325   \n",
       "1110             -0.882081           -0.694966 -1.579053 -0.081602   \n",
       "60771             0.900318            1.755338 -0.411185 -0.536291   \n",
       "127979           -0.252999           -0.022333 -0.995119  1.168794   \n",
       "107051           -2.716903           -2.184366 -0.703152  1.396139   \n",
       "\n",
       "        Location_and_WindGustDir_random  Location_and_WindDir9am_random  \\\n",
       "66                                 1.22                            1.44   \n",
       "1110                               3.79                            1.61   \n",
       "60771                              2.54                            4.39   \n",
       "127979                             5.56                            5.62   \n",
       "107051                             1.82                            1.12   \n",
       "\n",
       "        Location_and_WindDir3pm_random  \n",
       "66                                1.24  \n",
       "1110                              1.52  \n",
       "60771                             2.46  \n",
       "127979                            6.22  \n",
       "107051                            0.94  "
      ]
     },
     "execution_count": 298,
     "metadata": {},
     "output_type": "execute_result"
    }
   ],
   "source": [
    "x_test.head()"
   ]
  },
  {
   "cell_type": "code",
   "execution_count": null,
   "id": "6d1bd1be",
   "metadata": {},
   "outputs": [],
   "source": []
  },
  {
   "cell_type": "code",
   "execution_count": 300,
   "id": "bce5014d",
   "metadata": {},
   "outputs": [],
   "source": [
    "x_train.to_csv(r'U:\\My Resume Project\\Classification/x_train.csv',index=False)\n",
    "x_test.to_csv(r'U:\\My Resume Project\\Classification/x_test.csv',index=False)\n",
    "y_train.to_csv(r'U:\\My Resume Project\\Classification/y_train.csv',index=False)\n",
    "y_test.to_csv(r'U:\\My Resume Project\\Classification/y_test.csv',index=False)"
   ]
  },
  {
   "cell_type": "code",
   "execution_count": 301,
   "id": "7c329339",
   "metadata": {},
   "outputs": [
    {
     "data": {
      "text/plain": [
       "0.22166639915824016"
      ]
     },
     "execution_count": 301,
     "metadata": {},
     "output_type": "execute_result"
    }
   ],
   "source": [
    "y_train.mean()"
   ]
  },
  {
   "cell_type": "code",
   "execution_count": 302,
   "id": "756d3c48",
   "metadata": {},
   "outputs": [
    {
     "data": {
      "text/plain": [
       "(112146, 18)"
      ]
     },
     "execution_count": 302,
     "metadata": {},
     "output_type": "execute_result"
    }
   ],
   "source": [
    "x_train.shape"
   ]
  },
  {
   "cell_type": "code",
   "execution_count": null,
   "id": "59cd56d6",
   "metadata": {},
   "outputs": [],
   "source": []
  },
  {
   "cell_type": "markdown",
   "id": "fec9b25e",
   "metadata": {},
   "source": [
    "## Logistic Regression"
   ]
  },
  {
   "cell_type": "code",
   "execution_count": 304,
   "id": "5c60303c",
   "metadata": {},
   "outputs": [],
   "source": [
    "x_train = pd.read_csv('x_train.csv')\n",
    "x_test  = pd.read_csv('x_test.csv')\n",
    "y_train = pd.read_csv('y_train.csv')\n",
    "y_test  = pd.read_csv('y_test.csv')"
   ]
  },
  {
   "cell_type": "code",
   "execution_count": 305,
   "id": "afe04d86",
   "metadata": {},
   "outputs": [
    {
     "data": {
      "text/html": [
       "<style>#sk-container-id-4 {color: black;background-color: white;}#sk-container-id-4 pre{padding: 0;}#sk-container-id-4 div.sk-toggleable {background-color: white;}#sk-container-id-4 label.sk-toggleable__label {cursor: pointer;display: block;width: 100%;margin-bottom: 0;padding: 0.3em;box-sizing: border-box;text-align: center;}#sk-container-id-4 label.sk-toggleable__label-arrow:before {content: \"▸\";float: left;margin-right: 0.25em;color: #696969;}#sk-container-id-4 label.sk-toggleable__label-arrow:hover:before {color: black;}#sk-container-id-4 div.sk-estimator:hover label.sk-toggleable__label-arrow:before {color: black;}#sk-container-id-4 div.sk-toggleable__content {max-height: 0;max-width: 0;overflow: hidden;text-align: left;background-color: #f0f8ff;}#sk-container-id-4 div.sk-toggleable__content pre {margin: 0.2em;color: black;border-radius: 0.25em;background-color: #f0f8ff;}#sk-container-id-4 input.sk-toggleable__control:checked~div.sk-toggleable__content {max-height: 200px;max-width: 100%;overflow: auto;}#sk-container-id-4 input.sk-toggleable__control:checked~label.sk-toggleable__label-arrow:before {content: \"▾\";}#sk-container-id-4 div.sk-estimator input.sk-toggleable__control:checked~label.sk-toggleable__label {background-color: #d4ebff;}#sk-container-id-4 div.sk-label input.sk-toggleable__control:checked~label.sk-toggleable__label {background-color: #d4ebff;}#sk-container-id-4 input.sk-hidden--visually {border: 0;clip: rect(1px 1px 1px 1px);clip: rect(1px, 1px, 1px, 1px);height: 1px;margin: -1px;overflow: hidden;padding: 0;position: absolute;width: 1px;}#sk-container-id-4 div.sk-estimator {font-family: monospace;background-color: #f0f8ff;border: 1px dotted black;border-radius: 0.25em;box-sizing: border-box;margin-bottom: 0.5em;}#sk-container-id-4 div.sk-estimator:hover {background-color: #d4ebff;}#sk-container-id-4 div.sk-parallel-item::after {content: \"\";width: 100%;border-bottom: 1px solid gray;flex-grow: 1;}#sk-container-id-4 div.sk-label:hover label.sk-toggleable__label {background-color: #d4ebff;}#sk-container-id-4 div.sk-serial::before {content: \"\";position: absolute;border-left: 1px solid gray;box-sizing: border-box;top: 0;bottom: 0;left: 50%;z-index: 0;}#sk-container-id-4 div.sk-serial {display: flex;flex-direction: column;align-items: center;background-color: white;padding-right: 0.2em;padding-left: 0.2em;position: relative;}#sk-container-id-4 div.sk-item {position: relative;z-index: 1;}#sk-container-id-4 div.sk-parallel {display: flex;align-items: stretch;justify-content: center;background-color: white;position: relative;}#sk-container-id-4 div.sk-item::before, #sk-container-id-4 div.sk-parallel-item::before {content: \"\";position: absolute;border-left: 1px solid gray;box-sizing: border-box;top: 0;bottom: 0;left: 50%;z-index: -1;}#sk-container-id-4 div.sk-parallel-item {display: flex;flex-direction: column;z-index: 1;position: relative;background-color: white;}#sk-container-id-4 div.sk-parallel-item:first-child::after {align-self: flex-end;width: 50%;}#sk-container-id-4 div.sk-parallel-item:last-child::after {align-self: flex-start;width: 50%;}#sk-container-id-4 div.sk-parallel-item:only-child::after {width: 0;}#sk-container-id-4 div.sk-dashed-wrapped {border: 1px dashed gray;margin: 0 0.4em 0.5em 0.4em;box-sizing: border-box;padding-bottom: 0.4em;background-color: white;}#sk-container-id-4 div.sk-label label {font-family: monospace;font-weight: bold;display: inline-block;line-height: 1.2em;}#sk-container-id-4 div.sk-label-container {text-align: center;}#sk-container-id-4 div.sk-container {/* jupyter's `normalize.less` sets `[hidden] { display: none; }` but bootstrap.min.css set `[hidden] { display: none !important; }` so we also need the `!important` here to be able to override the default hidden behavior on the sphinx rendered scikit-learn.org. See: https://github.com/scikit-learn/scikit-learn/issues/21755 */display: inline-block !important;position: relative;}#sk-container-id-4 div.sk-text-repr-fallback {display: none;}</style><div id=\"sk-container-id-4\" class=\"sk-top-container\"><div class=\"sk-text-repr-fallback\"><pre>LogisticRegression(random_state=0)</pre><b>In a Jupyter environment, please rerun this cell to show the HTML representation or trust the notebook. <br />On GitHub, the HTML representation is unable to render, please try loading this page with nbviewer.org.</b></div><div class=\"sk-container\" hidden><div class=\"sk-item\"><div class=\"sk-estimator sk-toggleable\"><input class=\"sk-toggleable__control sk-hidden--visually\" id=\"sk-estimator-id-4\" type=\"checkbox\" checked><label for=\"sk-estimator-id-4\" class=\"sk-toggleable__label sk-toggleable__label-arrow\">LogisticRegression</label><div class=\"sk-toggleable__content\"><pre>LogisticRegression(random_state=0)</pre></div></div></div></div></div>"
      ],
      "text/plain": [
       "LogisticRegression(random_state=0)"
      ]
     },
     "execution_count": 305,
     "metadata": {},
     "output_type": "execute_result"
    }
   ],
   "source": [
    "lr = LogisticRegression(random_state=0)\n",
    "lr.fit(x_train,y_train)"
   ]
  },
  {
   "cell_type": "code",
   "execution_count": 306,
   "id": "dc7d74e8",
   "metadata": {},
   "outputs": [],
   "source": [
    "y_train_pred = lr.predict(x_train)\n",
    "y_test_pred = lr.predict(x_test)"
   ]
  },
  {
   "cell_type": "code",
   "execution_count": 307,
   "id": "40c71737",
   "metadata": {},
   "outputs": [
    {
     "name": "stdout",
     "output_type": "stream",
     "text": [
      "Accuracy: 0.8403420541080378\n",
      "Precision: 0.7069889272532445\n",
      "Recall: 0.4777344221408745\n"
     ]
    }
   ],
   "source": [
    "print(\"Accuracy:\",accuracy_score(y_train, y_train_pred))\n",
    "print(\"Precision:\",precision_score(y_train, y_train_pred))\n",
    "print(\"Recall:\",recall_score(y_train, y_train_pred))"
   ]
  },
  {
   "cell_type": "code",
   "execution_count": 308,
   "id": "8e1125f1",
   "metadata": {},
   "outputs": [
    {
     "name": "stdout",
     "output_type": "stream",
     "text": [
      "Accuracy: 0.8391940085592011\n",
      "Precision: 0.7024064808196331\n",
      "Recall: 0.47487113402061853\n"
     ]
    }
   ],
   "source": [
    "print(\"Accuracy:\",accuracy_score(y_test, y_test_pred))\n",
    "print(\"Precision:\",precision_score(y_test, y_test_pred))\n",
    "print(\"Recall:\",recall_score(y_test, y_test_pred))"
   ]
  },
  {
   "cell_type": "code",
   "execution_count": null,
   "id": "9b2121b2",
   "metadata": {},
   "outputs": [],
   "source": []
  },
  {
   "cell_type": "code",
   "execution_count": 309,
   "id": "e69dc50d",
   "metadata": {},
   "outputs": [],
   "source": [
    "from imblearn.over_sampling import SMOTE\n",
    "smote = SMOTE()"
   ]
  },
  {
   "cell_type": "code",
   "execution_count": 310,
   "id": "25079202",
   "metadata": {},
   "outputs": [],
   "source": [
    "x_smote , y_smote = smote.fit_resample(x_train,y_train)"
   ]
  },
  {
   "cell_type": "code",
   "execution_count": 311,
   "id": "de9e3bdf",
   "metadata": {},
   "outputs": [
    {
     "data": {
      "text/html": [
       "<style>#sk-container-id-5 {color: black;background-color: white;}#sk-container-id-5 pre{padding: 0;}#sk-container-id-5 div.sk-toggleable {background-color: white;}#sk-container-id-5 label.sk-toggleable__label {cursor: pointer;display: block;width: 100%;margin-bottom: 0;padding: 0.3em;box-sizing: border-box;text-align: center;}#sk-container-id-5 label.sk-toggleable__label-arrow:before {content: \"▸\";float: left;margin-right: 0.25em;color: #696969;}#sk-container-id-5 label.sk-toggleable__label-arrow:hover:before {color: black;}#sk-container-id-5 div.sk-estimator:hover label.sk-toggleable__label-arrow:before {color: black;}#sk-container-id-5 div.sk-toggleable__content {max-height: 0;max-width: 0;overflow: hidden;text-align: left;background-color: #f0f8ff;}#sk-container-id-5 div.sk-toggleable__content pre {margin: 0.2em;color: black;border-radius: 0.25em;background-color: #f0f8ff;}#sk-container-id-5 input.sk-toggleable__control:checked~div.sk-toggleable__content {max-height: 200px;max-width: 100%;overflow: auto;}#sk-container-id-5 input.sk-toggleable__control:checked~label.sk-toggleable__label-arrow:before {content: \"▾\";}#sk-container-id-5 div.sk-estimator input.sk-toggleable__control:checked~label.sk-toggleable__label {background-color: #d4ebff;}#sk-container-id-5 div.sk-label input.sk-toggleable__control:checked~label.sk-toggleable__label {background-color: #d4ebff;}#sk-container-id-5 input.sk-hidden--visually {border: 0;clip: rect(1px 1px 1px 1px);clip: rect(1px, 1px, 1px, 1px);height: 1px;margin: -1px;overflow: hidden;padding: 0;position: absolute;width: 1px;}#sk-container-id-5 div.sk-estimator {font-family: monospace;background-color: #f0f8ff;border: 1px dotted black;border-radius: 0.25em;box-sizing: border-box;margin-bottom: 0.5em;}#sk-container-id-5 div.sk-estimator:hover {background-color: #d4ebff;}#sk-container-id-5 div.sk-parallel-item::after {content: \"\";width: 100%;border-bottom: 1px solid gray;flex-grow: 1;}#sk-container-id-5 div.sk-label:hover label.sk-toggleable__label {background-color: #d4ebff;}#sk-container-id-5 div.sk-serial::before {content: \"\";position: absolute;border-left: 1px solid gray;box-sizing: border-box;top: 0;bottom: 0;left: 50%;z-index: 0;}#sk-container-id-5 div.sk-serial {display: flex;flex-direction: column;align-items: center;background-color: white;padding-right: 0.2em;padding-left: 0.2em;position: relative;}#sk-container-id-5 div.sk-item {position: relative;z-index: 1;}#sk-container-id-5 div.sk-parallel {display: flex;align-items: stretch;justify-content: center;background-color: white;position: relative;}#sk-container-id-5 div.sk-item::before, #sk-container-id-5 div.sk-parallel-item::before {content: \"\";position: absolute;border-left: 1px solid gray;box-sizing: border-box;top: 0;bottom: 0;left: 50%;z-index: -1;}#sk-container-id-5 div.sk-parallel-item {display: flex;flex-direction: column;z-index: 1;position: relative;background-color: white;}#sk-container-id-5 div.sk-parallel-item:first-child::after {align-self: flex-end;width: 50%;}#sk-container-id-5 div.sk-parallel-item:last-child::after {align-self: flex-start;width: 50%;}#sk-container-id-5 div.sk-parallel-item:only-child::after {width: 0;}#sk-container-id-5 div.sk-dashed-wrapped {border: 1px dashed gray;margin: 0 0.4em 0.5em 0.4em;box-sizing: border-box;padding-bottom: 0.4em;background-color: white;}#sk-container-id-5 div.sk-label label {font-family: monospace;font-weight: bold;display: inline-block;line-height: 1.2em;}#sk-container-id-5 div.sk-label-container {text-align: center;}#sk-container-id-5 div.sk-container {/* jupyter's `normalize.less` sets `[hidden] { display: none; }` but bootstrap.min.css set `[hidden] { display: none !important; }` so we also need the `!important` here to be able to override the default hidden behavior on the sphinx rendered scikit-learn.org. See: https://github.com/scikit-learn/scikit-learn/issues/21755 */display: inline-block !important;position: relative;}#sk-container-id-5 div.sk-text-repr-fallback {display: none;}</style><div id=\"sk-container-id-5\" class=\"sk-top-container\"><div class=\"sk-text-repr-fallback\"><pre>LogisticRegression(random_state=0)</pre><b>In a Jupyter environment, please rerun this cell to show the HTML representation or trust the notebook. <br />On GitHub, the HTML representation is unable to render, please try loading this page with nbviewer.org.</b></div><div class=\"sk-container\" hidden><div class=\"sk-item\"><div class=\"sk-estimator sk-toggleable\"><input class=\"sk-toggleable__control sk-hidden--visually\" id=\"sk-estimator-id-5\" type=\"checkbox\" checked><label for=\"sk-estimator-id-5\" class=\"sk-toggleable__label sk-toggleable__label-arrow\">LogisticRegression</label><div class=\"sk-toggleable__content\"><pre>LogisticRegression(random_state=0)</pre></div></div></div></div></div>"
      ],
      "text/plain": [
       "LogisticRegression(random_state=0)"
      ]
     },
     "execution_count": 311,
     "metadata": {},
     "output_type": "execute_result"
    }
   ],
   "source": [
    "lr = LogisticRegression(random_state=0)\n",
    "lr.fit(x_smote,y_smote)"
   ]
  },
  {
   "cell_type": "code",
   "execution_count": 312,
   "id": "d08ab63d",
   "metadata": {},
   "outputs": [],
   "source": [
    "y_train_pred2 = lr.predict(x_smote)\n",
    "y_test_pred2 = lr.predict(x_test)"
   ]
  },
  {
   "cell_type": "code",
   "execution_count": 313,
   "id": "fd290087",
   "metadata": {},
   "outputs": [
    {
     "name": "stdout",
     "output_type": "stream",
     "text": [
      "Accuracy: 0.7807749149357865\n",
      "Precision: 0.7850165139321765\n",
      "Recall: 0.7733339443445186\n"
     ]
    }
   ],
   "source": [
    "print(\"Accuracy:\",accuracy_score(y_smote, y_train_pred2))\n",
    "print(\"Precision:\",precision_score(y_smote, y_train_pred2))\n",
    "print(\"Recall:\",recall_score(y_smote, y_train_pred2))"
   ]
  },
  {
   "cell_type": "code",
   "execution_count": 314,
   "id": "6a96ea7e",
   "metadata": {},
   "outputs": [
    {
     "name": "stdout",
     "output_type": "stream",
     "text": [
      "Accuracy: 0.7789942938659058\n",
      "Precision: 0.5005890543000964\n",
      "Recall: 0.7528994845360825\n"
     ]
    }
   ],
   "source": [
    "print(\"Accuracy:\",accuracy_score(y_test, y_test_pred2))\n",
    "print(\"Precision:\",precision_score(y_test, y_test_pred2))\n",
    "print(\"Recall:\",recall_score(y_test, y_test_pred2))"
   ]
  },
  {
   "cell_type": "code",
   "execution_count": null,
   "id": "64e8771c",
   "metadata": {},
   "outputs": [],
   "source": []
  },
  {
   "cell_type": "code",
   "execution_count": 315,
   "id": "8abebc56",
   "metadata": {},
   "outputs": [
    {
     "data": {
      "text/plain": [
       "(174574, 18)"
      ]
     },
     "execution_count": 315,
     "metadata": {},
     "output_type": "execute_result"
    }
   ],
   "source": [
    "x_smote.shape"
   ]
  },
  {
   "cell_type": "code",
   "execution_count": 316,
   "id": "19f5b651",
   "metadata": {},
   "outputs": [
    {
     "data": {
      "text/plain": [
       "(112146, 18)"
      ]
     },
     "execution_count": 316,
     "metadata": {},
     "output_type": "execute_result"
    }
   ],
   "source": [
    "x_train.shape"
   ]
  },
  {
   "cell_type": "code",
   "execution_count": 317,
   "id": "dd23e5b4",
   "metadata": {},
   "outputs": [
    {
     "name": "stdout",
     "output_type": "stream",
     "text": [
      "Best Estimator : LogisticRegression(C=0.01, random_state=0)\n"
     ]
    }
   ],
   "source": [
    "parameters = {'C':[0.01,0.01,0.1,1,10,100] , 'solver':['lbfgs','newton-cg'],'max_iter':[100,150,200]}\n",
    "lr = LogisticRegression(random_state=0)\n",
    "scikit_GridSearchCV = GridSearchCV(lr,parameters)\n",
    "scikit_GridSearchCV.fit(x_smote,y_smote)\n",
    "print(f'Best Estimator : {scikit_GridSearchCV.best_estimator_}')"
   ]
  },
  {
   "cell_type": "code",
   "execution_count": 318,
   "id": "e942b2a3",
   "metadata": {},
   "outputs": [],
   "source": [
    "y_train_pred3 = scikit_GridSearchCV.predict(x_smote)\n",
    "y_test_pred3 = scikit_GridSearchCV.predict(x_test)"
   ]
  },
  {
   "cell_type": "code",
   "execution_count": 319,
   "id": "6969ddee",
   "metadata": {},
   "outputs": [
    {
     "name": "stdout",
     "output_type": "stream",
     "text": [
      "Accuracy: 0.7807749149357865\n",
      "Precision: 0.7849568634746413\n",
      "Recall: 0.773437052482042\n"
     ]
    }
   ],
   "source": [
    "print(\"Accuracy:\",accuracy_score(y_smote, y_train_pred3))\n",
    "print(\"Precision:\",precision_score(y_smote, y_train_pred3))\n",
    "print(\"Recall:\",recall_score(y_smote, y_train_pred3))"
   ]
  },
  {
   "cell_type": "code",
   "execution_count": 320,
   "id": "83b30d0a",
   "metadata": {},
   "outputs": [
    {
     "name": "stdout",
     "output_type": "stream",
     "text": [
      "Accuracy: 0.7790656205420827\n",
      "Precision: 0.5006960059963593\n",
      "Recall: 0.7532216494845361\n"
     ]
    }
   ],
   "source": [
    "print(\"Accuracy:\",accuracy_score(y_test, y_test_pred3))\n",
    "print(\"Precision:\",precision_score(y_test, y_test_pred3))\n",
    "print(\"Recall:\",recall_score(y_test, y_test_pred3))"
   ]
  },
  {
   "cell_type": "code",
   "execution_count": null,
   "id": "0f2af829",
   "metadata": {},
   "outputs": [],
   "source": []
  },
  {
   "cell_type": "code",
   "execution_count": 321,
   "id": "e37465be",
   "metadata": {},
   "outputs": [
    {
     "data": {
      "text/html": [
       "<style>#sk-container-id-6 {color: black;background-color: white;}#sk-container-id-6 pre{padding: 0;}#sk-container-id-6 div.sk-toggleable {background-color: white;}#sk-container-id-6 label.sk-toggleable__label {cursor: pointer;display: block;width: 100%;margin-bottom: 0;padding: 0.3em;box-sizing: border-box;text-align: center;}#sk-container-id-6 label.sk-toggleable__label-arrow:before {content: \"▸\";float: left;margin-right: 0.25em;color: #696969;}#sk-container-id-6 label.sk-toggleable__label-arrow:hover:before {color: black;}#sk-container-id-6 div.sk-estimator:hover label.sk-toggleable__label-arrow:before {color: black;}#sk-container-id-6 div.sk-toggleable__content {max-height: 0;max-width: 0;overflow: hidden;text-align: left;background-color: #f0f8ff;}#sk-container-id-6 div.sk-toggleable__content pre {margin: 0.2em;color: black;border-radius: 0.25em;background-color: #f0f8ff;}#sk-container-id-6 input.sk-toggleable__control:checked~div.sk-toggleable__content {max-height: 200px;max-width: 100%;overflow: auto;}#sk-container-id-6 input.sk-toggleable__control:checked~label.sk-toggleable__label-arrow:before {content: \"▾\";}#sk-container-id-6 div.sk-estimator input.sk-toggleable__control:checked~label.sk-toggleable__label {background-color: #d4ebff;}#sk-container-id-6 div.sk-label input.sk-toggleable__control:checked~label.sk-toggleable__label {background-color: #d4ebff;}#sk-container-id-6 input.sk-hidden--visually {border: 0;clip: rect(1px 1px 1px 1px);clip: rect(1px, 1px, 1px, 1px);height: 1px;margin: -1px;overflow: hidden;padding: 0;position: absolute;width: 1px;}#sk-container-id-6 div.sk-estimator {font-family: monospace;background-color: #f0f8ff;border: 1px dotted black;border-radius: 0.25em;box-sizing: border-box;margin-bottom: 0.5em;}#sk-container-id-6 div.sk-estimator:hover {background-color: #d4ebff;}#sk-container-id-6 div.sk-parallel-item::after {content: \"\";width: 100%;border-bottom: 1px solid gray;flex-grow: 1;}#sk-container-id-6 div.sk-label:hover label.sk-toggleable__label {background-color: #d4ebff;}#sk-container-id-6 div.sk-serial::before {content: \"\";position: absolute;border-left: 1px solid gray;box-sizing: border-box;top: 0;bottom: 0;left: 50%;z-index: 0;}#sk-container-id-6 div.sk-serial {display: flex;flex-direction: column;align-items: center;background-color: white;padding-right: 0.2em;padding-left: 0.2em;position: relative;}#sk-container-id-6 div.sk-item {position: relative;z-index: 1;}#sk-container-id-6 div.sk-parallel {display: flex;align-items: stretch;justify-content: center;background-color: white;position: relative;}#sk-container-id-6 div.sk-item::before, #sk-container-id-6 div.sk-parallel-item::before {content: \"\";position: absolute;border-left: 1px solid gray;box-sizing: border-box;top: 0;bottom: 0;left: 50%;z-index: -1;}#sk-container-id-6 div.sk-parallel-item {display: flex;flex-direction: column;z-index: 1;position: relative;background-color: white;}#sk-container-id-6 div.sk-parallel-item:first-child::after {align-self: flex-end;width: 50%;}#sk-container-id-6 div.sk-parallel-item:last-child::after {align-self: flex-start;width: 50%;}#sk-container-id-6 div.sk-parallel-item:only-child::after {width: 0;}#sk-container-id-6 div.sk-dashed-wrapped {border: 1px dashed gray;margin: 0 0.4em 0.5em 0.4em;box-sizing: border-box;padding-bottom: 0.4em;background-color: white;}#sk-container-id-6 div.sk-label label {font-family: monospace;font-weight: bold;display: inline-block;line-height: 1.2em;}#sk-container-id-6 div.sk-label-container {text-align: center;}#sk-container-id-6 div.sk-container {/* jupyter's `normalize.less` sets `[hidden] { display: none; }` but bootstrap.min.css set `[hidden] { display: none !important; }` so we also need the `!important` here to be able to override the default hidden behavior on the sphinx rendered scikit-learn.org. See: https://github.com/scikit-learn/scikit-learn/issues/21755 */display: inline-block !important;position: relative;}#sk-container-id-6 div.sk-text-repr-fallback {display: none;}</style><div id=\"sk-container-id-6\" class=\"sk-top-container\"><div class=\"sk-text-repr-fallback\"><pre>LogisticRegression(random_state=0)</pre><b>In a Jupyter environment, please rerun this cell to show the HTML representation or trust the notebook. <br />On GitHub, the HTML representation is unable to render, please try loading this page with nbviewer.org.</b></div><div class=\"sk-container\" hidden><div class=\"sk-item\"><div class=\"sk-estimator sk-toggleable\"><input class=\"sk-toggleable__control sk-hidden--visually\" id=\"sk-estimator-id-6\" type=\"checkbox\" checked><label for=\"sk-estimator-id-6\" class=\"sk-toggleable__label sk-toggleable__label-arrow\">LogisticRegression</label><div class=\"sk-toggleable__content\"><pre>LogisticRegression(random_state=0)</pre></div></div></div></div></div>"
      ],
      "text/plain": [
       "LogisticRegression(random_state=0)"
      ]
     },
     "execution_count": 321,
     "metadata": {},
     "output_type": "execute_result"
    }
   ],
   "source": [
    "lr = LogisticRegression(random_state=0)\n",
    "lr.fit(x_smote,y_smote)"
   ]
  },
  {
   "cell_type": "code",
   "execution_count": 322,
   "id": "d9b59cf0",
   "metadata": {},
   "outputs": [
    {
     "data": {
      "text/plain": [
       "array([[0.91603891, 0.08396109],\n",
       "       [0.76569417, 0.23430583],\n",
       "       [0.12493932, 0.87506068],\n",
       "       ...,\n",
       "       [0.97696532, 0.02303468],\n",
       "       [0.74041283, 0.25958717],\n",
       "       [0.09216834, 0.90783166]])"
      ]
     },
     "execution_count": 322,
     "metadata": {},
     "output_type": "execute_result"
    }
   ],
   "source": [
    "lr.predict_proba(x_test)"
   ]
  },
  {
   "cell_type": "code",
   "execution_count": 323,
   "id": "f8c9016d",
   "metadata": {},
   "outputs": [
    {
     "data": {
      "text/plain": [
       "array([0.08396109, 0.23430583, 0.87506068, ..., 0.02303468, 0.25958717,\n",
       "       0.90783166])"
      ]
     },
     "execution_count": 323,
     "metadata": {},
     "output_type": "execute_result"
    }
   ],
   "source": [
    "y_test_pred4 = lr.predict_proba(x_test)[:,1]\n",
    "y_test_pred4"
   ]
  },
  {
   "cell_type": "code",
   "execution_count": 324,
   "id": "ea0975d7",
   "metadata": {},
   "outputs": [
    {
     "data": {
      "text/html": [
       "<div>\n",
       "<style scoped>\n",
       "    .dataframe tbody tr th:only-of-type {\n",
       "        vertical-align: middle;\n",
       "    }\n",
       "\n",
       "    .dataframe tbody tr th {\n",
       "        vertical-align: top;\n",
       "    }\n",
       "\n",
       "    .dataframe thead th {\n",
       "        text-align: right;\n",
       "    }\n",
       "</style>\n",
       "<table border=\"1\" class=\"dataframe\">\n",
       "  <thead>\n",
       "    <tr style=\"text-align: right;\">\n",
       "      <th></th>\n",
       "      <th>0</th>\n",
       "    </tr>\n",
       "  </thead>\n",
       "  <tbody>\n",
       "    <tr>\n",
       "      <th>0</th>\n",
       "      <td>0.083961</td>\n",
       "    </tr>\n",
       "    <tr>\n",
       "      <th>1</th>\n",
       "      <td>0.234306</td>\n",
       "    </tr>\n",
       "    <tr>\n",
       "      <th>2</th>\n",
       "      <td>0.875061</td>\n",
       "    </tr>\n",
       "    <tr>\n",
       "      <th>3</th>\n",
       "      <td>0.710619</td>\n",
       "    </tr>\n",
       "    <tr>\n",
       "      <th>4</th>\n",
       "      <td>0.015716</td>\n",
       "    </tr>\n",
       "  </tbody>\n",
       "</table>\n",
       "</div>"
      ],
      "text/plain": [
       "          0\n",
       "0  0.083961\n",
       "1  0.234306\n",
       "2  0.875061\n",
       "3  0.710619\n",
       "4  0.015716"
      ]
     },
     "execution_count": 324,
     "metadata": {},
     "output_type": "execute_result"
    }
   ],
   "source": [
    "final_pred3 = pd.DataFrame(y_test_pred4)\n",
    "final_pred3.head()"
   ]
  },
  {
   "cell_type": "code",
   "execution_count": 325,
   "id": "9fac1584",
   "metadata": {},
   "outputs": [
    {
     "data": {
      "text/html": [
       "<div>\n",
       "<style scoped>\n",
       "    .dataframe tbody tr th:only-of-type {\n",
       "        vertical-align: middle;\n",
       "    }\n",
       "\n",
       "    .dataframe tbody tr th {\n",
       "        vertical-align: top;\n",
       "    }\n",
       "\n",
       "    .dataframe thead th {\n",
       "        text-align: right;\n",
       "    }\n",
       "</style>\n",
       "<table border=\"1\" class=\"dataframe\">\n",
       "  <thead>\n",
       "    <tr style=\"text-align: right;\">\n",
       "      <th></th>\n",
       "      <th>RainTomorrow</th>\n",
       "    </tr>\n",
       "  </thead>\n",
       "  <tbody>\n",
       "    <tr>\n",
       "      <th>0</th>\n",
       "      <td>0</td>\n",
       "    </tr>\n",
       "    <tr>\n",
       "      <th>1</th>\n",
       "      <td>0</td>\n",
       "    </tr>\n",
       "    <tr>\n",
       "      <th>2</th>\n",
       "      <td>1</td>\n",
       "    </tr>\n",
       "    <tr>\n",
       "      <th>3</th>\n",
       "      <td>0</td>\n",
       "    </tr>\n",
       "    <tr>\n",
       "      <th>4</th>\n",
       "      <td>0</td>\n",
       "    </tr>\n",
       "    <tr>\n",
       "      <th>...</th>\n",
       "      <td>...</td>\n",
       "    </tr>\n",
       "    <tr>\n",
       "      <th>28035</th>\n",
       "      <td>1</td>\n",
       "    </tr>\n",
       "    <tr>\n",
       "      <th>28036</th>\n",
       "      <td>0</td>\n",
       "    </tr>\n",
       "    <tr>\n",
       "      <th>28037</th>\n",
       "      <td>0</td>\n",
       "    </tr>\n",
       "    <tr>\n",
       "      <th>28038</th>\n",
       "      <td>0</td>\n",
       "    </tr>\n",
       "    <tr>\n",
       "      <th>28039</th>\n",
       "      <td>0</td>\n",
       "    </tr>\n",
       "  </tbody>\n",
       "</table>\n",
       "<p>28040 rows × 1 columns</p>\n",
       "</div>"
      ],
      "text/plain": [
       "       RainTomorrow\n",
       "0                 0\n",
       "1                 0\n",
       "2                 1\n",
       "3                 0\n",
       "4                 0\n",
       "...             ...\n",
       "28035             1\n",
       "28036             0\n",
       "28037             0\n",
       "28038             0\n",
       "28039             0\n",
       "\n",
       "[28040 rows x 1 columns]"
      ]
     },
     "execution_count": 325,
     "metadata": {},
     "output_type": "execute_result"
    }
   ],
   "source": [
    "y_test"
   ]
  },
  {
   "cell_type": "code",
   "execution_count": 326,
   "id": "57871436",
   "metadata": {},
   "outputs": [
    {
     "data": {
      "text/plain": [
       "array([1.99960247e+00, 9.99602473e-01, 9.97466244e-01, ...,\n",
       "       1.92177486e-02, 1.92045148e-02, 1.99812308e-03])"
      ]
     },
     "execution_count": 326,
     "metadata": {},
     "output_type": "execute_result"
    }
   ],
   "source": [
    "fpr , tpr , thresolds = roc_curve(y_test , final_pred3)\n",
    "thresolds"
   ]
  },
  {
   "cell_type": "code",
   "execution_count": 327,
   "id": "e0e2c69e",
   "metadata": {},
   "outputs": [
    {
     "data": {
      "text/html": [
       "<div>\n",
       "<style scoped>\n",
       "    .dataframe tbody tr th:only-of-type {\n",
       "        vertical-align: middle;\n",
       "    }\n",
       "\n",
       "    .dataframe tbody tr th {\n",
       "        vertical-align: top;\n",
       "    }\n",
       "\n",
       "    .dataframe thead th {\n",
       "        text-align: right;\n",
       "    }\n",
       "</style>\n",
       "<table border=\"1\" class=\"dataframe\">\n",
       "  <thead>\n",
       "    <tr style=\"text-align: right;\">\n",
       "      <th></th>\n",
       "      <th>thresolds</th>\n",
       "      <th>accuracy</th>\n",
       "    </tr>\n",
       "  </thead>\n",
       "  <tbody>\n",
       "    <tr>\n",
       "      <th>1331</th>\n",
       "      <td>0.816807</td>\n",
       "      <td>0.837161</td>\n",
       "    </tr>\n",
       "    <tr>\n",
       "      <th>1323</th>\n",
       "      <td>0.817469</td>\n",
       "      <td>0.837161</td>\n",
       "    </tr>\n",
       "    <tr>\n",
       "      <th>1314</th>\n",
       "      <td>0.818043</td>\n",
       "      <td>0.837161</td>\n",
       "    </tr>\n",
       "    <tr>\n",
       "      <th>1315</th>\n",
       "      <td>0.817787</td>\n",
       "      <td>0.837161</td>\n",
       "    </tr>\n",
       "    <tr>\n",
       "      <th>1317</th>\n",
       "      <td>0.817645</td>\n",
       "      <td>0.837161</td>\n",
       "    </tr>\n",
       "  </tbody>\n",
       "</table>\n",
       "</div>"
      ],
      "text/plain": [
       "      thresolds  accuracy\n",
       "1331   0.816807  0.837161\n",
       "1323   0.817469  0.837161\n",
       "1314   0.818043  0.837161\n",
       "1315   0.817787  0.837161\n",
       "1317   0.817645  0.837161"
      ]
     },
     "execution_count": 327,
     "metadata": {},
     "output_type": "execute_result"
    }
   ],
   "source": [
    "accuracy_ls = []\n",
    "for thres in thresolds:\n",
    "    y_pred = np.where(final_pred3>thres,1,0)\n",
    "    accuracy_ls.append(accuracy_score(y_test, y_pred, normalize=True))\n",
    "    \n",
    "accuracy_ls = pd.concat([pd.Series(thresolds), pd.Series(accuracy_ls)],\n",
    "                        axis=1)\n",
    "accuracy_ls.columns = ['thresolds', 'accuracy']\n",
    "accuracy_ls.sort_values(by='accuracy', ascending=False, inplace=True)\n",
    "accuracy_ls.head()"
   ]
  },
  {
   "cell_type": "code",
   "execution_count": 328,
   "id": "86a188e0",
   "metadata": {
    "scrolled": true
   },
   "outputs": [
    {
     "data": {
      "text/html": [
       "<div>\n",
       "<style scoped>\n",
       "    .dataframe tbody tr th:only-of-type {\n",
       "        vertical-align: middle;\n",
       "    }\n",
       "\n",
       "    .dataframe tbody tr th {\n",
       "        vertical-align: top;\n",
       "    }\n",
       "\n",
       "    .dataframe thead th {\n",
       "        text-align: right;\n",
       "    }\n",
       "</style>\n",
       "<table border=\"1\" class=\"dataframe\">\n",
       "  <thead>\n",
       "    <tr style=\"text-align: right;\">\n",
       "      <th></th>\n",
       "      <th>thresolds</th>\n",
       "      <th>accuracy</th>\n",
       "    </tr>\n",
       "  </thead>\n",
       "  <tbody>\n",
       "    <tr>\n",
       "      <th>1331</th>\n",
       "      <td>0.816807</td>\n",
       "      <td>0.837161</td>\n",
       "    </tr>\n",
       "    <tr>\n",
       "      <th>1323</th>\n",
       "      <td>0.817469</td>\n",
       "      <td>0.837161</td>\n",
       "    </tr>\n",
       "    <tr>\n",
       "      <th>1314</th>\n",
       "      <td>0.818043</td>\n",
       "      <td>0.837161</td>\n",
       "    </tr>\n",
       "    <tr>\n",
       "      <th>1315</th>\n",
       "      <td>0.817787</td>\n",
       "      <td>0.837161</td>\n",
       "    </tr>\n",
       "    <tr>\n",
       "      <th>1317</th>\n",
       "      <td>0.817645</td>\n",
       "      <td>0.837161</td>\n",
       "    </tr>\n",
       "    <tr>\n",
       "      <th>1319</th>\n",
       "      <td>0.817594</td>\n",
       "      <td>0.837161</td>\n",
       "    </tr>\n",
       "    <tr>\n",
       "      <th>1321</th>\n",
       "      <td>0.817559</td>\n",
       "      <td>0.837161</td>\n",
       "    </tr>\n",
       "    <tr>\n",
       "      <th>1325</th>\n",
       "      <td>0.817363</td>\n",
       "      <td>0.837161</td>\n",
       "    </tr>\n",
       "    <tr>\n",
       "      <th>1330</th>\n",
       "      <td>0.817003</td>\n",
       "      <td>0.837161</td>\n",
       "    </tr>\n",
       "    <tr>\n",
       "      <th>1324</th>\n",
       "      <td>0.817448</td>\n",
       "      <td>0.837126</td>\n",
       "    </tr>\n",
       "    <tr>\n",
       "      <th>1322</th>\n",
       "      <td>0.817541</td>\n",
       "      <td>0.837126</td>\n",
       "    </tr>\n",
       "    <tr>\n",
       "      <th>1332</th>\n",
       "      <td>0.816738</td>\n",
       "      <td>0.837126</td>\n",
       "    </tr>\n",
       "    <tr>\n",
       "      <th>1358</th>\n",
       "      <td>0.813692</td>\n",
       "      <td>0.837126</td>\n",
       "    </tr>\n",
       "    <tr>\n",
       "      <th>1318</th>\n",
       "      <td>0.817622</td>\n",
       "      <td>0.837126</td>\n",
       "    </tr>\n",
       "    <tr>\n",
       "      <th>1326</th>\n",
       "      <td>0.817316</td>\n",
       "      <td>0.837126</td>\n",
       "    </tr>\n",
       "    <tr>\n",
       "      <th>1316</th>\n",
       "      <td>0.817752</td>\n",
       "      <td>0.837126</td>\n",
       "    </tr>\n",
       "    <tr>\n",
       "      <th>1329</th>\n",
       "      <td>0.817120</td>\n",
       "      <td>0.837126</td>\n",
       "    </tr>\n",
       "    <tr>\n",
       "      <th>1313</th>\n",
       "      <td>0.818182</td>\n",
       "      <td>0.837126</td>\n",
       "    </tr>\n",
       "    <tr>\n",
       "      <th>1320</th>\n",
       "      <td>0.817589</td>\n",
       "      <td>0.837126</td>\n",
       "    </tr>\n",
       "    <tr>\n",
       "      <th>1307</th>\n",
       "      <td>0.818604</td>\n",
       "      <td>0.837126</td>\n",
       "    </tr>\n",
       "    <tr>\n",
       "      <th>1328</th>\n",
       "      <td>0.817138</td>\n",
       "      <td>0.837090</td>\n",
       "    </tr>\n",
       "    <tr>\n",
       "      <th>1333</th>\n",
       "      <td>0.816641</td>\n",
       "      <td>0.837090</td>\n",
       "    </tr>\n",
       "    <tr>\n",
       "      <th>1306</th>\n",
       "      <td>0.818760</td>\n",
       "      <td>0.837090</td>\n",
       "    </tr>\n",
       "    <tr>\n",
       "      <th>1327</th>\n",
       "      <td>0.817192</td>\n",
       "      <td>0.837090</td>\n",
       "    </tr>\n",
       "    <tr>\n",
       "      <th>1308</th>\n",
       "      <td>0.818594</td>\n",
       "      <td>0.837090</td>\n",
       "    </tr>\n",
       "    <tr>\n",
       "      <th>1311</th>\n",
       "      <td>0.818306</td>\n",
       "      <td>0.837090</td>\n",
       "    </tr>\n",
       "    <tr>\n",
       "      <th>1312</th>\n",
       "      <td>0.818232</td>\n",
       "      <td>0.837090</td>\n",
       "    </tr>\n",
       "    <tr>\n",
       "      <th>1335</th>\n",
       "      <td>0.816609</td>\n",
       "      <td>0.837090</td>\n",
       "    </tr>\n",
       "    <tr>\n",
       "      <th>1297</th>\n",
       "      <td>0.819919</td>\n",
       "      <td>0.837054</td>\n",
       "    </tr>\n",
       "    <tr>\n",
       "      <th>1417</th>\n",
       "      <td>0.807181</td>\n",
       "      <td>0.837054</td>\n",
       "    </tr>\n",
       "    <tr>\n",
       "      <th>1420</th>\n",
       "      <td>0.806741</td>\n",
       "      <td>0.837054</td>\n",
       "    </tr>\n",
       "    <tr>\n",
       "      <th>1477</th>\n",
       "      <td>0.800725</td>\n",
       "      <td>0.837054</td>\n",
       "    </tr>\n",
       "    <tr>\n",
       "      <th>1478</th>\n",
       "      <td>0.800653</td>\n",
       "      <td>0.837054</td>\n",
       "    </tr>\n",
       "    <tr>\n",
       "      <th>1336</th>\n",
       "      <td>0.816578</td>\n",
       "      <td>0.837054</td>\n",
       "    </tr>\n",
       "    <tr>\n",
       "      <th>1298</th>\n",
       "      <td>0.819831</td>\n",
       "      <td>0.837054</td>\n",
       "    </tr>\n",
       "    <tr>\n",
       "      <th>1299</th>\n",
       "      <td>0.819700</td>\n",
       "      <td>0.837054</td>\n",
       "    </tr>\n",
       "    <tr>\n",
       "      <th>1338</th>\n",
       "      <td>0.816460</td>\n",
       "      <td>0.837054</td>\n",
       "    </tr>\n",
       "    <tr>\n",
       "      <th>1310</th>\n",
       "      <td>0.818380</td>\n",
       "      <td>0.837054</td>\n",
       "    </tr>\n",
       "    <tr>\n",
       "      <th>1309</th>\n",
       "      <td>0.818535</td>\n",
       "      <td>0.837054</td>\n",
       "    </tr>\n",
       "    <tr>\n",
       "      <th>1337</th>\n",
       "      <td>0.816551</td>\n",
       "      <td>0.837054</td>\n",
       "    </tr>\n",
       "    <tr>\n",
       "      <th>1334</th>\n",
       "      <td>0.816610</td>\n",
       "      <td>0.837054</td>\n",
       "    </tr>\n",
       "    <tr>\n",
       "      <th>1476</th>\n",
       "      <td>0.800807</td>\n",
       "      <td>0.837019</td>\n",
       "    </tr>\n",
       "    <tr>\n",
       "      <th>1448</th>\n",
       "      <td>0.803982</td>\n",
       "      <td>0.837019</td>\n",
       "    </tr>\n",
       "    <tr>\n",
       "      <th>1449</th>\n",
       "      <td>0.803818</td>\n",
       "      <td>0.837019</td>\n",
       "    </tr>\n",
       "    <tr>\n",
       "      <th>1451</th>\n",
       "      <td>0.803760</td>\n",
       "      <td>0.837019</td>\n",
       "    </tr>\n",
       "    <tr>\n",
       "      <th>1363</th>\n",
       "      <td>0.813076</td>\n",
       "      <td>0.837019</td>\n",
       "    </tr>\n",
       "    <tr>\n",
       "      <th>1361</th>\n",
       "      <td>0.813161</td>\n",
       "      <td>0.837019</td>\n",
       "    </tr>\n",
       "    <tr>\n",
       "      <th>1356</th>\n",
       "      <td>0.814323</td>\n",
       "      <td>0.837019</td>\n",
       "    </tr>\n",
       "    <tr>\n",
       "      <th>1479</th>\n",
       "      <td>0.800313</td>\n",
       "      <td>0.837019</td>\n",
       "    </tr>\n",
       "    <tr>\n",
       "      <th>1453</th>\n",
       "      <td>0.803754</td>\n",
       "      <td>0.837019</td>\n",
       "    </tr>\n",
       "    <tr>\n",
       "      <th>1305</th>\n",
       "      <td>0.818966</td>\n",
       "      <td>0.837019</td>\n",
       "    </tr>\n",
       "    <tr>\n",
       "      <th>1296</th>\n",
       "      <td>0.819942</td>\n",
       "      <td>0.837019</td>\n",
       "    </tr>\n",
       "    <tr>\n",
       "      <th>1415</th>\n",
       "      <td>0.807476</td>\n",
       "      <td>0.837019</td>\n",
       "    </tr>\n",
       "    <tr>\n",
       "      <th>1418</th>\n",
       "      <td>0.807158</td>\n",
       "      <td>0.837019</td>\n",
       "    </tr>\n",
       "    <tr>\n",
       "      <th>1421</th>\n",
       "      <td>0.806685</td>\n",
       "      <td>0.837019</td>\n",
       "    </tr>\n",
       "    <tr>\n",
       "      <th>1304</th>\n",
       "      <td>0.819217</td>\n",
       "      <td>0.837019</td>\n",
       "    </tr>\n",
       "    <tr>\n",
       "      <th>1423</th>\n",
       "      <td>0.806653</td>\n",
       "      <td>0.837019</td>\n",
       "    </tr>\n",
       "    <tr>\n",
       "      <th>1295</th>\n",
       "      <td>0.820128</td>\n",
       "      <td>0.837019</td>\n",
       "    </tr>\n",
       "    <tr>\n",
       "      <th>1416</th>\n",
       "      <td>0.807191</td>\n",
       "      <td>0.837019</td>\n",
       "    </tr>\n",
       "    <tr>\n",
       "      <th>1300</th>\n",
       "      <td>0.819614</td>\n",
       "      <td>0.837019</td>\n",
       "    </tr>\n",
       "  </tbody>\n",
       "</table>\n",
       "</div>"
      ],
      "text/plain": [
       "      thresolds  accuracy\n",
       "1331   0.816807  0.837161\n",
       "1323   0.817469  0.837161\n",
       "1314   0.818043  0.837161\n",
       "1315   0.817787  0.837161\n",
       "1317   0.817645  0.837161\n",
       "1319   0.817594  0.837161\n",
       "1321   0.817559  0.837161\n",
       "1325   0.817363  0.837161\n",
       "1330   0.817003  0.837161\n",
       "1324   0.817448  0.837126\n",
       "1322   0.817541  0.837126\n",
       "1332   0.816738  0.837126\n",
       "1358   0.813692  0.837126\n",
       "1318   0.817622  0.837126\n",
       "1326   0.817316  0.837126\n",
       "1316   0.817752  0.837126\n",
       "1329   0.817120  0.837126\n",
       "1313   0.818182  0.837126\n",
       "1320   0.817589  0.837126\n",
       "1307   0.818604  0.837126\n",
       "1328   0.817138  0.837090\n",
       "1333   0.816641  0.837090\n",
       "1306   0.818760  0.837090\n",
       "1327   0.817192  0.837090\n",
       "1308   0.818594  0.837090\n",
       "1311   0.818306  0.837090\n",
       "1312   0.818232  0.837090\n",
       "1335   0.816609  0.837090\n",
       "1297   0.819919  0.837054\n",
       "1417   0.807181  0.837054\n",
       "1420   0.806741  0.837054\n",
       "1477   0.800725  0.837054\n",
       "1478   0.800653  0.837054\n",
       "1336   0.816578  0.837054\n",
       "1298   0.819831  0.837054\n",
       "1299   0.819700  0.837054\n",
       "1338   0.816460  0.837054\n",
       "1310   0.818380  0.837054\n",
       "1309   0.818535  0.837054\n",
       "1337   0.816551  0.837054\n",
       "1334   0.816610  0.837054\n",
       "1476   0.800807  0.837019\n",
       "1448   0.803982  0.837019\n",
       "1449   0.803818  0.837019\n",
       "1451   0.803760  0.837019\n",
       "1363   0.813076  0.837019\n",
       "1361   0.813161  0.837019\n",
       "1356   0.814323  0.837019\n",
       "1479   0.800313  0.837019\n",
       "1453   0.803754  0.837019\n",
       "1305   0.818966  0.837019\n",
       "1296   0.819942  0.837019\n",
       "1415   0.807476  0.837019\n",
       "1418   0.807158  0.837019\n",
       "1421   0.806685  0.837019\n",
       "1304   0.819217  0.837019\n",
       "1423   0.806653  0.837019\n",
       "1295   0.820128  0.837019\n",
       "1416   0.807191  0.837019\n",
       "1300   0.819614  0.837019"
      ]
     },
     "execution_count": 328,
     "metadata": {},
     "output_type": "execute_result"
    }
   ],
   "source": [
    "accuracy_ls.head(60)"
   ]
  },
  {
   "cell_type": "code",
   "execution_count": 329,
   "id": "d2661917",
   "metadata": {
    "scrolled": true
   },
   "outputs": [
    {
     "data": {
      "text/html": [
       "<div>\n",
       "<style scoped>\n",
       "    .dataframe tbody tr th:only-of-type {\n",
       "        vertical-align: middle;\n",
       "    }\n",
       "\n",
       "    .dataframe tbody tr th {\n",
       "        vertical-align: top;\n",
       "    }\n",
       "\n",
       "    .dataframe thead th {\n",
       "        text-align: right;\n",
       "    }\n",
       "</style>\n",
       "<table border=\"1\" class=\"dataframe\">\n",
       "  <thead>\n",
       "    <tr style=\"text-align: right;\">\n",
       "      <th></th>\n",
       "      <th>thresolds</th>\n",
       "      <th>accuracy</th>\n",
       "    </tr>\n",
       "  </thead>\n",
       "  <tbody>\n",
       "    <tr>\n",
       "      <th>4351</th>\n",
       "      <td>0.434796</td>\n",
       "      <td>0.750642</td>\n",
       "    </tr>\n",
       "    <tr>\n",
       "      <th>4352</th>\n",
       "      <td>0.434687</td>\n",
       "      <td>0.750642</td>\n",
       "    </tr>\n",
       "    <tr>\n",
       "      <th>4350</th>\n",
       "      <td>0.434818</td>\n",
       "      <td>0.750606</td>\n",
       "    </tr>\n",
       "    <tr>\n",
       "      <th>4355</th>\n",
       "      <td>0.434416</td>\n",
       "      <td>0.750499</td>\n",
       "    </tr>\n",
       "    <tr>\n",
       "      <th>4354</th>\n",
       "      <td>0.434478</td>\n",
       "      <td>0.750499</td>\n",
       "    </tr>\n",
       "    <tr>\n",
       "      <th>4356</th>\n",
       "      <td>0.434406</td>\n",
       "      <td>0.750464</td>\n",
       "    </tr>\n",
       "    <tr>\n",
       "      <th>4353</th>\n",
       "      <td>0.434559</td>\n",
       "      <td>0.750464</td>\n",
       "    </tr>\n",
       "    <tr>\n",
       "      <th>4359</th>\n",
       "      <td>0.433951</td>\n",
       "      <td>0.750357</td>\n",
       "    </tr>\n",
       "    <tr>\n",
       "      <th>4357</th>\n",
       "      <td>0.434073</td>\n",
       "      <td>0.750321</td>\n",
       "    </tr>\n",
       "    <tr>\n",
       "      <th>4358</th>\n",
       "      <td>0.434003</td>\n",
       "      <td>0.750321</td>\n",
       "    </tr>\n",
       "    <tr>\n",
       "      <th>4360</th>\n",
       "      <td>0.433931</td>\n",
       "      <td>0.750321</td>\n",
       "    </tr>\n",
       "    <tr>\n",
       "      <th>4362</th>\n",
       "      <td>0.433319</td>\n",
       "      <td>0.749964</td>\n",
       "    </tr>\n",
       "    <tr>\n",
       "      <th>4361</th>\n",
       "      <td>0.433417</td>\n",
       "      <td>0.749893</td>\n",
       "    </tr>\n",
       "    <tr>\n",
       "      <th>4363</th>\n",
       "      <td>0.432998</td>\n",
       "      <td>0.749715</td>\n",
       "    </tr>\n",
       "    <tr>\n",
       "      <th>4365</th>\n",
       "      <td>0.432831</td>\n",
       "      <td>0.749679</td>\n",
       "    </tr>\n",
       "    <tr>\n",
       "      <th>4367</th>\n",
       "      <td>0.432738</td>\n",
       "      <td>0.749679</td>\n",
       "    </tr>\n",
       "    <tr>\n",
       "      <th>4364</th>\n",
       "      <td>0.432991</td>\n",
       "      <td>0.749679</td>\n",
       "    </tr>\n",
       "    <tr>\n",
       "      <th>4366</th>\n",
       "      <td>0.432826</td>\n",
       "      <td>0.749643</td>\n",
       "    </tr>\n",
       "    <tr>\n",
       "      <th>4368</th>\n",
       "      <td>0.432719</td>\n",
       "      <td>0.749643</td>\n",
       "    </tr>\n",
       "    <tr>\n",
       "      <th>4371</th>\n",
       "      <td>0.432093</td>\n",
       "      <td>0.749501</td>\n",
       "    </tr>\n",
       "    <tr>\n",
       "      <th>4369</th>\n",
       "      <td>0.432189</td>\n",
       "      <td>0.749465</td>\n",
       "    </tr>\n",
       "    <tr>\n",
       "      <th>4370</th>\n",
       "      <td>0.432122</td>\n",
       "      <td>0.749465</td>\n",
       "    </tr>\n",
       "    <tr>\n",
       "      <th>4372</th>\n",
       "      <td>0.432043</td>\n",
       "      <td>0.749465</td>\n",
       "    </tr>\n",
       "    <tr>\n",
       "      <th>4373</th>\n",
       "      <td>0.431997</td>\n",
       "      <td>0.749429</td>\n",
       "    </tr>\n",
       "    <tr>\n",
       "      <th>4374</th>\n",
       "      <td>0.431952</td>\n",
       "      <td>0.749394</td>\n",
       "    </tr>\n",
       "    <tr>\n",
       "      <th>4377</th>\n",
       "      <td>0.431848</td>\n",
       "      <td>0.749322</td>\n",
       "    </tr>\n",
       "    <tr>\n",
       "      <th>4379</th>\n",
       "      <td>0.431799</td>\n",
       "      <td>0.749322</td>\n",
       "    </tr>\n",
       "    <tr>\n",
       "      <th>4375</th>\n",
       "      <td>0.431882</td>\n",
       "      <td>0.749322</td>\n",
       "    </tr>\n",
       "    <tr>\n",
       "      <th>4378</th>\n",
       "      <td>0.431829</td>\n",
       "      <td>0.749287</td>\n",
       "    </tr>\n",
       "    <tr>\n",
       "      <th>4376</th>\n",
       "      <td>0.431877</td>\n",
       "      <td>0.749287</td>\n",
       "    </tr>\n",
       "    <tr>\n",
       "      <th>4380</th>\n",
       "      <td>0.431665</td>\n",
       "      <td>0.749287</td>\n",
       "    </tr>\n",
       "    <tr>\n",
       "      <th>4381</th>\n",
       "      <td>0.431274</td>\n",
       "      <td>0.749037</td>\n",
       "    </tr>\n",
       "    <tr>\n",
       "      <th>4382</th>\n",
       "      <td>0.431215</td>\n",
       "      <td>0.749037</td>\n",
       "    </tr>\n",
       "    <tr>\n",
       "      <th>4389</th>\n",
       "      <td>0.430256</td>\n",
       "      <td>0.748609</td>\n",
       "    </tr>\n",
       "    <tr>\n",
       "      <th>4388</th>\n",
       "      <td>0.430276</td>\n",
       "      <td>0.748573</td>\n",
       "    </tr>\n",
       "    <tr>\n",
       "      <th>4390</th>\n",
       "      <td>0.430250</td>\n",
       "      <td>0.748573</td>\n",
       "    </tr>\n",
       "    <tr>\n",
       "      <th>4383</th>\n",
       "      <td>0.430599</td>\n",
       "      <td>0.748573</td>\n",
       "    </tr>\n",
       "    <tr>\n",
       "      <th>4386</th>\n",
       "      <td>0.430414</td>\n",
       "      <td>0.748538</td>\n",
       "    </tr>\n",
       "    <tr>\n",
       "      <th>4387</th>\n",
       "      <td>0.430363</td>\n",
       "      <td>0.748538</td>\n",
       "    </tr>\n",
       "    <tr>\n",
       "      <th>4385</th>\n",
       "      <td>0.430549</td>\n",
       "      <td>0.748538</td>\n",
       "    </tr>\n",
       "    <tr>\n",
       "      <th>4384</th>\n",
       "      <td>0.430583</td>\n",
       "      <td>0.748538</td>\n",
       "    </tr>\n",
       "    <tr>\n",
       "      <th>4391</th>\n",
       "      <td>0.430041</td>\n",
       "      <td>0.748431</td>\n",
       "    </tr>\n",
       "    <tr>\n",
       "      <th>4393</th>\n",
       "      <td>0.430026</td>\n",
       "      <td>0.748431</td>\n",
       "    </tr>\n",
       "    <tr>\n",
       "      <th>4392</th>\n",
       "      <td>0.430030</td>\n",
       "      <td>0.748395</td>\n",
       "    </tr>\n",
       "    <tr>\n",
       "      <th>4394</th>\n",
       "      <td>0.429948</td>\n",
       "      <td>0.748395</td>\n",
       "    </tr>\n",
       "    <tr>\n",
       "      <th>4395</th>\n",
       "      <td>0.429496</td>\n",
       "      <td>0.748039</td>\n",
       "    </tr>\n",
       "    <tr>\n",
       "      <th>4396</th>\n",
       "      <td>0.429481</td>\n",
       "      <td>0.748003</td>\n",
       "    </tr>\n",
       "    <tr>\n",
       "      <th>4397</th>\n",
       "      <td>0.429178</td>\n",
       "      <td>0.747753</td>\n",
       "    </tr>\n",
       "    <tr>\n",
       "      <th>4398</th>\n",
       "      <td>0.428995</td>\n",
       "      <td>0.747718</td>\n",
       "    </tr>\n",
       "    <tr>\n",
       "      <th>4400</th>\n",
       "      <td>0.428632</td>\n",
       "      <td>0.747611</td>\n",
       "    </tr>\n",
       "  </tbody>\n",
       "</table>\n",
       "</div>"
      ],
      "text/plain": [
       "      thresolds  accuracy\n",
       "4351   0.434796  0.750642\n",
       "4352   0.434687  0.750642\n",
       "4350   0.434818  0.750606\n",
       "4355   0.434416  0.750499\n",
       "4354   0.434478  0.750499\n",
       "4356   0.434406  0.750464\n",
       "4353   0.434559  0.750464\n",
       "4359   0.433951  0.750357\n",
       "4357   0.434073  0.750321\n",
       "4358   0.434003  0.750321\n",
       "4360   0.433931  0.750321\n",
       "4362   0.433319  0.749964\n",
       "4361   0.433417  0.749893\n",
       "4363   0.432998  0.749715\n",
       "4365   0.432831  0.749679\n",
       "4367   0.432738  0.749679\n",
       "4364   0.432991  0.749679\n",
       "4366   0.432826  0.749643\n",
       "4368   0.432719  0.749643\n",
       "4371   0.432093  0.749501\n",
       "4369   0.432189  0.749465\n",
       "4370   0.432122  0.749465\n",
       "4372   0.432043  0.749465\n",
       "4373   0.431997  0.749429\n",
       "4374   0.431952  0.749394\n",
       "4377   0.431848  0.749322\n",
       "4379   0.431799  0.749322\n",
       "4375   0.431882  0.749322\n",
       "4378   0.431829  0.749287\n",
       "4376   0.431877  0.749287\n",
       "4380   0.431665  0.749287\n",
       "4381   0.431274  0.749037\n",
       "4382   0.431215  0.749037\n",
       "4389   0.430256  0.748609\n",
       "4388   0.430276  0.748573\n",
       "4390   0.430250  0.748573\n",
       "4383   0.430599  0.748573\n",
       "4386   0.430414  0.748538\n",
       "4387   0.430363  0.748538\n",
       "4385   0.430549  0.748538\n",
       "4384   0.430583  0.748538\n",
       "4391   0.430041  0.748431\n",
       "4393   0.430026  0.748431\n",
       "4392   0.430030  0.748395\n",
       "4394   0.429948  0.748395\n",
       "4395   0.429496  0.748039\n",
       "4396   0.429481  0.748003\n",
       "4397   0.429178  0.747753\n",
       "4398   0.428995  0.747718\n",
       "4400   0.428632  0.747611"
      ]
     },
     "execution_count": 329,
     "metadata": {},
     "output_type": "execute_result"
    }
   ],
   "source": [
    "accuracy_ls[4350:4400]"
   ]
  },
  {
   "cell_type": "code",
   "execution_count": 330,
   "id": "fb4464b9",
   "metadata": {},
   "outputs": [],
   "source": [
    "def plot_roc_curve(fpr, tpr):\n",
    "    plt.plot(fpr, tpr, color='orange', label='ROC')\n",
    "    plt.plot([0, 1], [0, 1], color='darkblue', linestyle='--')\n",
    "    plt.xlabel('False Positive Rate')\n",
    "    plt.ylabel('True Positive Rate')\n",
    "    plt.title('Receiver Operating Characteristic (ROC) Curve')\n",
    "    plt.legend()\n",
    "    plt.show()"
   ]
  },
  {
   "cell_type": "code",
   "execution_count": 331,
   "id": "ae3435e4",
   "metadata": {},
   "outputs": [
    {
     "data": {
      "image/png": "[encoded data removed]",
      "text/plain": [
       "<Figure size 432x288 with 1 Axes>"
      ]
     },
     "metadata": {
      "needs_background": "light"
     },
     "output_type": "display_data"
    }
   ],
   "source": [
    "plot_roc_curve(fpr,tpr)"
   ]
  },
  {
   "cell_type": "code",
   "execution_count": 332,
   "id": "7c4c9d5a",
   "metadata": {},
   "outputs": [
    {
     "name": "stdout",
     "output_type": "stream",
     "text": [
      "Roc auc score 0.8494937058011884\n"
     ]
    }
   ],
   "source": [
    "print('Roc auc score',roc_auc_score(y_test, final_pred3))"
   ]
  },
  {
   "cell_type": "code",
   "execution_count": 333,
   "id": "e9380e0b",
   "metadata": {},
   "outputs": [],
   "source": [
    "final_pred3A = final_pred3.copy()"
   ]
  },
  {
   "cell_type": "code",
   "execution_count": 334,
   "id": "232147cc",
   "metadata": {},
   "outputs": [],
   "source": [
    "final_pred3A.loc[final_pred3A[0] >=0.432852 , 0] = 1\n",
    "final_pred3A.loc[final_pred3A[0] <=0.432852 , 0] = 0"
   ]
  },
  {
   "cell_type": "code",
   "execution_count": 335,
   "id": "374b25eb",
   "metadata": {},
   "outputs": [
    {
     "name": "stdout",
     "output_type": "stream",
     "text": [
      "Accuracy: 0.7497146932952924\n",
      "Precision: 0.4625693160813309\n",
      "Recall: 0.8062177835051546\n"
     ]
    }
   ],
   "source": [
    "print(\"Accuracy:\",accuracy_score(y_test, final_pred3A))\n",
    "print(\"Precision:\",precision_score(y_test, final_pred3A))\n",
    "print(\"Recall:\",recall_score(y_test, final_pred3A))"
   ]
  },
  {
   "cell_type": "code",
   "execution_count": null,
   "id": "79abce40",
   "metadata": {},
   "outputs": [],
   "source": []
  },
  {
   "cell_type": "code",
   "execution_count": 336,
   "id": "a9063d07",
   "metadata": {},
   "outputs": [
    {
     "data": {
      "text/html": [
       "<div>\n",
       "<style scoped>\n",
       "    .dataframe tbody tr th:only-of-type {\n",
       "        vertical-align: middle;\n",
       "    }\n",
       "\n",
       "    .dataframe tbody tr th {\n",
       "        vertical-align: top;\n",
       "    }\n",
       "\n",
       "    .dataframe thead th {\n",
       "        text-align: right;\n",
       "    }\n",
       "</style>\n",
       "<table border=\"1\" class=\"dataframe\">\n",
       "  <thead>\n",
       "    <tr style=\"text-align: right;\">\n",
       "      <th></th>\n",
       "      <th>thresolds</th>\n",
       "      <th>Precision</th>\n",
       "    </tr>\n",
       "  </thead>\n",
       "  <tbody>\n",
       "    <tr>\n",
       "      <th>2</th>\n",
       "      <td>0.997466</td>\n",
       "      <td>1.000000</td>\n",
       "    </tr>\n",
       "    <tr>\n",
       "      <th>3</th>\n",
       "      <td>0.997403</td>\n",
       "      <td>1.000000</td>\n",
       "    </tr>\n",
       "    <tr>\n",
       "      <th>9</th>\n",
       "      <td>0.989095</td>\n",
       "      <td>0.980892</td>\n",
       "    </tr>\n",
       "    <tr>\n",
       "      <th>5</th>\n",
       "      <td>0.995600</td>\n",
       "      <td>0.980769</td>\n",
       "    </tr>\n",
       "    <tr>\n",
       "      <th>8</th>\n",
       "      <td>0.989162</td>\n",
       "      <td>0.980769</td>\n",
       "    </tr>\n",
       "  </tbody>\n",
       "</table>\n",
       "</div>"
      ],
      "text/plain": [
       "   thresolds  Precision\n",
       "2   0.997466   1.000000\n",
       "3   0.997403   1.000000\n",
       "9   0.989095   0.980892\n",
       "5   0.995600   0.980769\n",
       "8   0.989162   0.980769"
      ]
     },
     "execution_count": 336,
     "metadata": {},
     "output_type": "execute_result"
    }
   ],
   "source": [
    "precision_ls = []\n",
    "for thres in thresolds:\n",
    "    y_pred = np.where(final_pred3>thres,1,0)\n",
    "    precision_ls.append(precision_score(y_test, y_pred))\n",
    "    \n",
    "precision_ls = pd.concat([pd.Series(thresolds), pd.Series(precision_ls)],\n",
    "                        axis=1)\n",
    "precision_ls.columns = ['thresolds', 'Precision']\n",
    "precision_ls.sort_values(by='Precision', ascending=False, inplace=True)\n",
    "precision_ls.head()"
   ]
  },
  {
   "cell_type": "code",
   "execution_count": 337,
   "id": "21c46eb3",
   "metadata": {
    "scrolled": true
   },
   "outputs": [
    {
     "data": {
      "text/html": [
       "<div>\n",
       "<style scoped>\n",
       "    .dataframe tbody tr th:only-of-type {\n",
       "        vertical-align: middle;\n",
       "    }\n",
       "\n",
       "    .dataframe tbody tr th {\n",
       "        vertical-align: top;\n",
       "    }\n",
       "\n",
       "    .dataframe thead th {\n",
       "        text-align: right;\n",
       "    }\n",
       "</style>\n",
       "<table border=\"1\" class=\"dataframe\">\n",
       "  <thead>\n",
       "    <tr style=\"text-align: right;\">\n",
       "      <th></th>\n",
       "      <th>thresolds</th>\n",
       "      <th>Precision</th>\n",
       "    </tr>\n",
       "  </thead>\n",
       "  <tbody>\n",
       "    <tr>\n",
       "      <th>2</th>\n",
       "      <td>0.997466</td>\n",
       "      <td>1.000000</td>\n",
       "    </tr>\n",
       "    <tr>\n",
       "      <th>3</th>\n",
       "      <td>0.997403</td>\n",
       "      <td>1.000000</td>\n",
       "    </tr>\n",
       "    <tr>\n",
       "      <th>9</th>\n",
       "      <td>0.989095</td>\n",
       "      <td>0.980892</td>\n",
       "    </tr>\n",
       "    <tr>\n",
       "      <th>5</th>\n",
       "      <td>0.995600</td>\n",
       "      <td>0.980769</td>\n",
       "    </tr>\n",
       "    <tr>\n",
       "      <th>8</th>\n",
       "      <td>0.989162</td>\n",
       "      <td>0.980769</td>\n",
       "    </tr>\n",
       "    <tr>\n",
       "      <th>4</th>\n",
       "      <td>0.995643</td>\n",
       "      <td>0.980392</td>\n",
       "    </tr>\n",
       "    <tr>\n",
       "      <th>11</th>\n",
       "      <td>0.988424</td>\n",
       "      <td>0.976471</td>\n",
       "    </tr>\n",
       "    <tr>\n",
       "      <th>10</th>\n",
       "      <td>0.988613</td>\n",
       "      <td>0.976331</td>\n",
       "    </tr>\n",
       "    <tr>\n",
       "      <th>7</th>\n",
       "      <td>0.994465</td>\n",
       "      <td>0.971831</td>\n",
       "    </tr>\n",
       "    <tr>\n",
       "      <th>6</th>\n",
       "      <td>0.994473</td>\n",
       "      <td>0.971429</td>\n",
       "    </tr>\n",
       "    <tr>\n",
       "      <th>13</th>\n",
       "      <td>0.988326</td>\n",
       "      <td>0.971098</td>\n",
       "    </tr>\n",
       "    <tr>\n",
       "      <th>12</th>\n",
       "      <td>0.988365</td>\n",
       "      <td>0.970930</td>\n",
       "    </tr>\n",
       "    <tr>\n",
       "      <th>15</th>\n",
       "      <td>0.987804</td>\n",
       "      <td>0.967742</td>\n",
       "    </tr>\n",
       "    <tr>\n",
       "      <th>14</th>\n",
       "      <td>0.987811</td>\n",
       "      <td>0.967568</td>\n",
       "    </tr>\n",
       "    <tr>\n",
       "      <th>17</th>\n",
       "      <td>0.986397</td>\n",
       "      <td>0.967290</td>\n",
       "    </tr>\n",
       "    <tr>\n",
       "      <th>16</th>\n",
       "      <td>0.986401</td>\n",
       "      <td>0.967136</td>\n",
       "    </tr>\n",
       "    <tr>\n",
       "      <th>19</th>\n",
       "      <td>0.986024</td>\n",
       "      <td>0.963964</td>\n",
       "    </tr>\n",
       "    <tr>\n",
       "      <th>18</th>\n",
       "      <td>0.986155</td>\n",
       "      <td>0.963801</td>\n",
       "    </tr>\n",
       "    <tr>\n",
       "      <th>21</th>\n",
       "      <td>0.985890</td>\n",
       "      <td>0.960177</td>\n",
       "    </tr>\n",
       "    <tr>\n",
       "      <th>20</th>\n",
       "      <td>0.985936</td>\n",
       "      <td>0.960000</td>\n",
       "    </tr>\n",
       "    <tr>\n",
       "      <th>23</th>\n",
       "      <td>0.985834</td>\n",
       "      <td>0.956140</td>\n",
       "    </tr>\n",
       "    <tr>\n",
       "      <th>22</th>\n",
       "      <td>0.985865</td>\n",
       "      <td>0.955947</td>\n",
       "    </tr>\n",
       "    <tr>\n",
       "      <th>25</th>\n",
       "      <td>0.985403</td>\n",
       "      <td>0.953191</td>\n",
       "    </tr>\n",
       "    <tr>\n",
       "      <th>24</th>\n",
       "      <td>0.985449</td>\n",
       "      <td>0.952991</td>\n",
       "    </tr>\n",
       "    <tr>\n",
       "      <th>27</th>\n",
       "      <td>0.984580</td>\n",
       "      <td>0.951613</td>\n",
       "    </tr>\n",
       "    <tr>\n",
       "      <th>26</th>\n",
       "      <td>0.984588</td>\n",
       "      <td>0.951417</td>\n",
       "    </tr>\n",
       "    <tr>\n",
       "      <th>29</th>\n",
       "      <td>0.984262</td>\n",
       "      <td>0.949020</td>\n",
       "    </tr>\n",
       "    <tr>\n",
       "      <th>28</th>\n",
       "      <td>0.984398</td>\n",
       "      <td>0.948819</td>\n",
       "    </tr>\n",
       "    <tr>\n",
       "      <th>31</th>\n",
       "      <td>0.983859</td>\n",
       "      <td>0.946565</td>\n",
       "    </tr>\n",
       "    <tr>\n",
       "      <th>30</th>\n",
       "      <td>0.983995</td>\n",
       "      <td>0.946360</td>\n",
       "    </tr>\n",
       "    <tr>\n",
       "      <th>33</th>\n",
       "      <td>0.983373</td>\n",
       "      <td>0.944649</td>\n",
       "    </tr>\n",
       "    <tr>\n",
       "      <th>32</th>\n",
       "      <td>0.983378</td>\n",
       "      <td>0.944444</td>\n",
       "    </tr>\n",
       "    <tr>\n",
       "      <th>35</th>\n",
       "      <td>0.983172</td>\n",
       "      <td>0.941606</td>\n",
       "    </tr>\n",
       "    <tr>\n",
       "      <th>34</th>\n",
       "      <td>0.983253</td>\n",
       "      <td>0.941392</td>\n",
       "    </tr>\n",
       "    <tr>\n",
       "      <th>37</th>\n",
       "      <td>0.982840</td>\n",
       "      <td>0.939929</td>\n",
       "    </tr>\n",
       "    <tr>\n",
       "      <th>36</th>\n",
       "      <td>0.982840</td>\n",
       "      <td>0.939716</td>\n",
       "    </tr>\n",
       "    <tr>\n",
       "      <th>45</th>\n",
       "      <td>0.979589</td>\n",
       "      <td>0.939130</td>\n",
       "    </tr>\n",
       "    <tr>\n",
       "      <th>44</th>\n",
       "      <td>0.979622</td>\n",
       "      <td>0.938953</td>\n",
       "    </tr>\n",
       "    <tr>\n",
       "      <th>47</th>\n",
       "      <td>0.978981</td>\n",
       "      <td>0.938028</td>\n",
       "    </tr>\n",
       "    <tr>\n",
       "      <th>46</th>\n",
       "      <td>0.979088</td>\n",
       "      <td>0.937853</td>\n",
       "    </tr>\n",
       "    <tr>\n",
       "      <th>39</th>\n",
       "      <td>0.982826</td>\n",
       "      <td>0.936842</td>\n",
       "    </tr>\n",
       "    <tr>\n",
       "      <th>38</th>\n",
       "      <td>0.982827</td>\n",
       "      <td>0.936620</td>\n",
       "    </tr>\n",
       "    <tr>\n",
       "      <th>49</th>\n",
       "      <td>0.978806</td>\n",
       "      <td>0.936288</td>\n",
       "    </tr>\n",
       "    <tr>\n",
       "      <th>48</th>\n",
       "      <td>0.978815</td>\n",
       "      <td>0.936111</td>\n",
       "    </tr>\n",
       "    <tr>\n",
       "      <th>41</th>\n",
       "      <td>0.982261</td>\n",
       "      <td>0.935811</td>\n",
       "    </tr>\n",
       "    <tr>\n",
       "      <th>40</th>\n",
       "      <td>0.982289</td>\n",
       "      <td>0.935593</td>\n",
       "    </tr>\n",
       "    <tr>\n",
       "      <th>43</th>\n",
       "      <td>0.981857</td>\n",
       "      <td>0.934426</td>\n",
       "    </tr>\n",
       "    <tr>\n",
       "      <th>51</th>\n",
       "      <td>0.978584</td>\n",
       "      <td>0.934247</td>\n",
       "    </tr>\n",
       "    <tr>\n",
       "      <th>42</th>\n",
       "      <td>0.981879</td>\n",
       "      <td>0.934211</td>\n",
       "    </tr>\n",
       "    <tr>\n",
       "      <th>55</th>\n",
       "      <td>0.976828</td>\n",
       "      <td>0.934177</td>\n",
       "    </tr>\n",
       "    <tr>\n",
       "      <th>50</th>\n",
       "      <td>0.978613</td>\n",
       "      <td>0.934066</td>\n",
       "    </tr>\n",
       "    <tr>\n",
       "      <th>54</th>\n",
       "      <td>0.976917</td>\n",
       "      <td>0.934010</td>\n",
       "    </tr>\n",
       "    <tr>\n",
       "      <th>57</th>\n",
       "      <td>0.976471</td>\n",
       "      <td>0.933168</td>\n",
       "    </tr>\n",
       "    <tr>\n",
       "      <th>56</th>\n",
       "      <td>0.976502</td>\n",
       "      <td>0.933002</td>\n",
       "    </tr>\n",
       "    <tr>\n",
       "      <th>53</th>\n",
       "      <td>0.978506</td>\n",
       "      <td>0.932065</td>\n",
       "    </tr>\n",
       "    <tr>\n",
       "      <th>52</th>\n",
       "      <td>0.978576</td>\n",
       "      <td>0.931880</td>\n",
       "    </tr>\n",
       "    <tr>\n",
       "      <th>59</th>\n",
       "      <td>0.976337</td>\n",
       "      <td>0.931540</td>\n",
       "    </tr>\n",
       "    <tr>\n",
       "      <th>58</th>\n",
       "      <td>0.976398</td>\n",
       "      <td>0.931373</td>\n",
       "    </tr>\n",
       "    <tr>\n",
       "      <th>61</th>\n",
       "      <td>0.976310</td>\n",
       "      <td>0.929612</td>\n",
       "    </tr>\n",
       "    <tr>\n",
       "      <th>60</th>\n",
       "      <td>0.976320</td>\n",
       "      <td>0.929440</td>\n",
       "    </tr>\n",
       "  </tbody>\n",
       "</table>\n",
       "</div>"
      ],
      "text/plain": [
       "    thresolds  Precision\n",
       "2    0.997466   1.000000\n",
       "3    0.997403   1.000000\n",
       "9    0.989095   0.980892\n",
       "5    0.995600   0.980769\n",
       "8    0.989162   0.980769\n",
       "4    0.995643   0.980392\n",
       "11   0.988424   0.976471\n",
       "10   0.988613   0.976331\n",
       "7    0.994465   0.971831\n",
       "6    0.994473   0.971429\n",
       "13   0.988326   0.971098\n",
       "12   0.988365   0.970930\n",
       "15   0.987804   0.967742\n",
       "14   0.987811   0.967568\n",
       "17   0.986397   0.967290\n",
       "16   0.986401   0.967136\n",
       "19   0.986024   0.963964\n",
       "18   0.986155   0.963801\n",
       "21   0.985890   0.960177\n",
       "20   0.985936   0.960000\n",
       "23   0.985834   0.956140\n",
       "22   0.985865   0.955947\n",
       "25   0.985403   0.953191\n",
       "24   0.985449   0.952991\n",
       "27   0.984580   0.951613\n",
       "26   0.984588   0.951417\n",
       "29   0.984262   0.949020\n",
       "28   0.984398   0.948819\n",
       "31   0.983859   0.946565\n",
       "30   0.983995   0.946360\n",
       "33   0.983373   0.944649\n",
       "32   0.983378   0.944444\n",
       "35   0.983172   0.941606\n",
       "34   0.983253   0.941392\n",
       "37   0.982840   0.939929\n",
       "36   0.982840   0.939716\n",
       "45   0.979589   0.939130\n",
       "44   0.979622   0.938953\n",
       "47   0.978981   0.938028\n",
       "46   0.979088   0.937853\n",
       "39   0.982826   0.936842\n",
       "38   0.982827   0.936620\n",
       "49   0.978806   0.936288\n",
       "48   0.978815   0.936111\n",
       "41   0.982261   0.935811\n",
       "40   0.982289   0.935593\n",
       "43   0.981857   0.934426\n",
       "51   0.978584   0.934247\n",
       "42   0.981879   0.934211\n",
       "55   0.976828   0.934177\n",
       "50   0.978613   0.934066\n",
       "54   0.976917   0.934010\n",
       "57   0.976471   0.933168\n",
       "56   0.976502   0.933002\n",
       "53   0.978506   0.932065\n",
       "52   0.978576   0.931880\n",
       "59   0.976337   0.931540\n",
       "58   0.976398   0.931373\n",
       "61   0.976310   0.929612\n",
       "60   0.976320   0.929440"
      ]
     },
     "execution_count": 337,
     "metadata": {},
     "output_type": "execute_result"
    }
   ],
   "source": [
    "precision_ls.head(60)"
   ]
  },
  {
   "cell_type": "code",
   "execution_count": 338,
   "id": "162154a4",
   "metadata": {
    "scrolled": true
   },
   "outputs": [
    {
     "data": {
      "text/html": [
       "<div>\n",
       "<style scoped>\n",
       "    .dataframe tbody tr th:only-of-type {\n",
       "        vertical-align: middle;\n",
       "    }\n",
       "\n",
       "    .dataframe tbody tr th {\n",
       "        vertical-align: top;\n",
       "    }\n",
       "\n",
       "    .dataframe thead th {\n",
       "        text-align: right;\n",
       "    }\n",
       "</style>\n",
       "<table border=\"1\" class=\"dataframe\">\n",
       "  <thead>\n",
       "    <tr style=\"text-align: right;\">\n",
       "      <th></th>\n",
       "      <th>thresolds</th>\n",
       "      <th>Precision</th>\n",
       "    </tr>\n",
       "  </thead>\n",
       "  <tbody>\n",
       "    <tr>\n",
       "      <th>2704</th>\n",
       "      <td>0.655230</td>\n",
       "      <td>0.602969</td>\n",
       "    </tr>\n",
       "    <tr>\n",
       "      <th>2697</th>\n",
       "      <td>0.656203</td>\n",
       "      <td>0.602943</td>\n",
       "    </tr>\n",
       "    <tr>\n",
       "      <th>2703</th>\n",
       "      <td>0.655664</td>\n",
       "      <td>0.602939</td>\n",
       "    </tr>\n",
       "    <tr>\n",
       "      <th>2706</th>\n",
       "      <td>0.655211</td>\n",
       "      <td>0.602937</td>\n",
       "    </tr>\n",
       "    <tr>\n",
       "      <th>2698</th>\n",
       "      <td>0.655941</td>\n",
       "      <td>0.602911</td>\n",
       "    </tr>\n",
       "    <tr>\n",
       "      <th>2707</th>\n",
       "      <td>0.654785</td>\n",
       "      <td>0.602528</td>\n",
       "    </tr>\n",
       "    <tr>\n",
       "      <th>2709</th>\n",
       "      <td>0.654758</td>\n",
       "      <td>0.602496</td>\n",
       "    </tr>\n",
       "    <tr>\n",
       "      <th>2712</th>\n",
       "      <td>0.654662</td>\n",
       "      <td>0.602494</td>\n",
       "    </tr>\n",
       "    <tr>\n",
       "      <th>2711</th>\n",
       "      <td>0.654716</td>\n",
       "      <td>0.602464</td>\n",
       "    </tr>\n",
       "    <tr>\n",
       "      <th>2708</th>\n",
       "      <td>0.654764</td>\n",
       "      <td>0.602434</td>\n",
       "    </tr>\n",
       "    <tr>\n",
       "      <th>2710</th>\n",
       "      <td>0.654748</td>\n",
       "      <td>0.602402</td>\n",
       "    </tr>\n",
       "    <tr>\n",
       "      <th>2713</th>\n",
       "      <td>0.654365</td>\n",
       "      <td>0.602368</td>\n",
       "    </tr>\n",
       "    <tr>\n",
       "      <th>2714</th>\n",
       "      <td>0.654308</td>\n",
       "      <td>0.602274</td>\n",
       "    </tr>\n",
       "    <tr>\n",
       "      <th>2715</th>\n",
       "      <td>0.654216</td>\n",
       "      <td>0.602055</td>\n",
       "    </tr>\n",
       "    <tr>\n",
       "      <th>2716</th>\n",
       "      <td>0.654152</td>\n",
       "      <td>0.601961</td>\n",
       "    </tr>\n",
       "    <tr>\n",
       "      <th>2717</th>\n",
       "      <td>0.653860</td>\n",
       "      <td>0.601555</td>\n",
       "    </tr>\n",
       "    <tr>\n",
       "      <th>2719</th>\n",
       "      <td>0.653722</td>\n",
       "      <td>0.601524</td>\n",
       "    </tr>\n",
       "    <tr>\n",
       "      <th>2721</th>\n",
       "      <td>0.653576</td>\n",
       "      <td>0.601492</td>\n",
       "    </tr>\n",
       "    <tr>\n",
       "      <th>2718</th>\n",
       "      <td>0.653853</td>\n",
       "      <td>0.601462</td>\n",
       "    </tr>\n",
       "    <tr>\n",
       "      <th>2720</th>\n",
       "      <td>0.653659</td>\n",
       "      <td>0.601430</td>\n",
       "    </tr>\n",
       "    <tr>\n",
       "      <th>2722</th>\n",
       "      <td>0.653573</td>\n",
       "      <td>0.601399</td>\n",
       "    </tr>\n",
       "    <tr>\n",
       "      <th>2723</th>\n",
       "      <td>0.653238</td>\n",
       "      <td>0.600900</td>\n",
       "    </tr>\n",
       "    <tr>\n",
       "      <th>2724</th>\n",
       "      <td>0.653169</td>\n",
       "      <td>0.600869</td>\n",
       "    </tr>\n",
       "    <tr>\n",
       "      <th>2725</th>\n",
       "      <td>0.653076</td>\n",
       "      <td>0.600838</td>\n",
       "    </tr>\n",
       "    <tr>\n",
       "      <th>2726</th>\n",
       "      <td>0.652907</td>\n",
       "      <td>0.600806</td>\n",
       "    </tr>\n",
       "    <tr>\n",
       "      <th>2727</th>\n",
       "      <td>0.652594</td>\n",
       "      <td>0.600682</td>\n",
       "    </tr>\n",
       "    <tr>\n",
       "      <th>2728</th>\n",
       "      <td>0.652468</td>\n",
       "      <td>0.600651</td>\n",
       "    </tr>\n",
       "    <tr>\n",
       "      <th>2730</th>\n",
       "      <td>0.652124</td>\n",
       "      <td>0.600279</td>\n",
       "    </tr>\n",
       "    <tr>\n",
       "      <th>2729</th>\n",
       "      <td>0.652223</td>\n",
       "      <td>0.600248</td>\n",
       "    </tr>\n",
       "    <tr>\n",
       "      <th>2731</th>\n",
       "      <td>0.651952</td>\n",
       "      <td>0.599969</td>\n",
       "    </tr>\n",
       "    <tr>\n",
       "      <th>2733</th>\n",
       "      <td>0.651700</td>\n",
       "      <td>0.599938</td>\n",
       "    </tr>\n",
       "    <tr>\n",
       "      <th>2732</th>\n",
       "      <td>0.651906</td>\n",
       "      <td>0.599876</td>\n",
       "    </tr>\n",
       "    <tr>\n",
       "      <th>2734</th>\n",
       "      <td>0.651694</td>\n",
       "      <td>0.599845</td>\n",
       "    </tr>\n",
       "    <tr>\n",
       "      <th>2736</th>\n",
       "      <td>0.651363</td>\n",
       "      <td>0.599753</td>\n",
       "    </tr>\n",
       "    <tr>\n",
       "      <th>2735</th>\n",
       "      <td>0.651463</td>\n",
       "      <td>0.599722</td>\n",
       "    </tr>\n",
       "    <tr>\n",
       "      <th>2737</th>\n",
       "      <td>0.651263</td>\n",
       "      <td>0.599630</td>\n",
       "    </tr>\n",
       "    <tr>\n",
       "      <th>2738</th>\n",
       "      <td>0.651218</td>\n",
       "      <td>0.599537</td>\n",
       "    </tr>\n",
       "    <tr>\n",
       "      <th>2739</th>\n",
       "      <td>0.650933</td>\n",
       "      <td>0.599229</td>\n",
       "    </tr>\n",
       "    <tr>\n",
       "      <th>2740</th>\n",
       "      <td>0.650884</td>\n",
       "      <td>0.599137</td>\n",
       "    </tr>\n",
       "    <tr>\n",
       "      <th>2741</th>\n",
       "      <td>0.650735</td>\n",
       "      <td>0.599014</td>\n",
       "    </tr>\n",
       "    <tr>\n",
       "      <th>2742</th>\n",
       "      <td>0.650714</td>\n",
       "      <td>0.598921</td>\n",
       "    </tr>\n",
       "    <tr>\n",
       "      <th>2743</th>\n",
       "      <td>0.650683</td>\n",
       "      <td>0.598891</td>\n",
       "    </tr>\n",
       "    <tr>\n",
       "      <th>2745</th>\n",
       "      <td>0.650646</td>\n",
       "      <td>0.598860</td>\n",
       "    </tr>\n",
       "    <tr>\n",
       "      <th>2749</th>\n",
       "      <td>0.650318</td>\n",
       "      <td>0.598831</td>\n",
       "    </tr>\n",
       "    <tr>\n",
       "      <th>2744</th>\n",
       "      <td>0.650654</td>\n",
       "      <td>0.598799</td>\n",
       "    </tr>\n",
       "    <tr>\n",
       "      <th>2748</th>\n",
       "      <td>0.650363</td>\n",
       "      <td>0.598769</td>\n",
       "    </tr>\n",
       "    <tr>\n",
       "      <th>2746</th>\n",
       "      <td>0.650634</td>\n",
       "      <td>0.598768</td>\n",
       "    </tr>\n",
       "    <tr>\n",
       "      <th>2750</th>\n",
       "      <td>0.650278</td>\n",
       "      <td>0.598739</td>\n",
       "    </tr>\n",
       "    <tr>\n",
       "      <th>2747</th>\n",
       "      <td>0.650515</td>\n",
       "      <td>0.598738</td>\n",
       "    </tr>\n",
       "    <tr>\n",
       "      <th>2751</th>\n",
       "      <td>0.650104</td>\n",
       "      <td>0.598708</td>\n",
       "    </tr>\n",
       "  </tbody>\n",
       "</table>\n",
       "</div>"
      ],
      "text/plain": [
       "      thresolds  Precision\n",
       "2704   0.655230   0.602969\n",
       "2697   0.656203   0.602943\n",
       "2703   0.655664   0.602939\n",
       "2706   0.655211   0.602937\n",
       "2698   0.655941   0.602911\n",
       "2707   0.654785   0.602528\n",
       "2709   0.654758   0.602496\n",
       "2712   0.654662   0.602494\n",
       "2711   0.654716   0.602464\n",
       "2708   0.654764   0.602434\n",
       "2710   0.654748   0.602402\n",
       "2713   0.654365   0.602368\n",
       "2714   0.654308   0.602274\n",
       "2715   0.654216   0.602055\n",
       "2716   0.654152   0.601961\n",
       "2717   0.653860   0.601555\n",
       "2719   0.653722   0.601524\n",
       "2721   0.653576   0.601492\n",
       "2718   0.653853   0.601462\n",
       "2720   0.653659   0.601430\n",
       "2722   0.653573   0.601399\n",
       "2723   0.653238   0.600900\n",
       "2724   0.653169   0.600869\n",
       "2725   0.653076   0.600838\n",
       "2726   0.652907   0.600806\n",
       "2727   0.652594   0.600682\n",
       "2728   0.652468   0.600651\n",
       "2730   0.652124   0.600279\n",
       "2729   0.652223   0.600248\n",
       "2731   0.651952   0.599969\n",
       "2733   0.651700   0.599938\n",
       "2732   0.651906   0.599876\n",
       "2734   0.651694   0.599845\n",
       "2736   0.651363   0.599753\n",
       "2735   0.651463   0.599722\n",
       "2737   0.651263   0.599630\n",
       "2738   0.651218   0.599537\n",
       "2739   0.650933   0.599229\n",
       "2740   0.650884   0.599137\n",
       "2741   0.650735   0.599014\n",
       "2742   0.650714   0.598921\n",
       "2743   0.650683   0.598891\n",
       "2745   0.650646   0.598860\n",
       "2749   0.650318   0.598831\n",
       "2744   0.650654   0.598799\n",
       "2748   0.650363   0.598769\n",
       "2746   0.650634   0.598768\n",
       "2750   0.650278   0.598739\n",
       "2747   0.650515   0.598738\n",
       "2751   0.650104   0.598708"
      ]
     },
     "execution_count": 338,
     "metadata": {},
     "output_type": "execute_result"
    }
   ],
   "source": [
    "precision_ls[2700:2750]"
   ]
  },
  {
   "cell_type": "code",
   "execution_count": 339,
   "id": "43067f63",
   "metadata": {
    "scrolled": true
   },
   "outputs": [
    {
     "data": {
      "text/html": [
       "<div>\n",
       "<style scoped>\n",
       "    .dataframe tbody tr th:only-of-type {\n",
       "        vertical-align: middle;\n",
       "    }\n",
       "\n",
       "    .dataframe tbody tr th {\n",
       "        vertical-align: top;\n",
       "    }\n",
       "\n",
       "    .dataframe thead th {\n",
       "        text-align: right;\n",
       "    }\n",
       "</style>\n",
       "<table border=\"1\" class=\"dataframe\">\n",
       "  <thead>\n",
       "    <tr style=\"text-align: right;\">\n",
       "      <th></th>\n",
       "      <th>thresolds</th>\n",
       "      <th>Precision</th>\n",
       "    </tr>\n",
       "  </thead>\n",
       "  <tbody>\n",
       "    <tr>\n",
       "      <th>3847</th>\n",
       "      <td>0.500728</td>\n",
       "      <td>0.501020</td>\n",
       "    </tr>\n",
       "    <tr>\n",
       "      <th>3853</th>\n",
       "      <td>0.500156</td>\n",
       "      <td>0.500750</td>\n",
       "    </tr>\n",
       "    <tr>\n",
       "      <th>3854</th>\n",
       "      <td>0.500092</td>\n",
       "      <td>0.500696</td>\n",
       "    </tr>\n",
       "    <tr>\n",
       "      <th>3855</th>\n",
       "      <td>0.499593</td>\n",
       "      <td>0.500161</td>\n",
       "    </tr>\n",
       "    <tr>\n",
       "      <th>3856</th>\n",
       "      <td>0.499528</td>\n",
       "      <td>0.500107</td>\n",
       "    </tr>\n",
       "    <tr>\n",
       "      <th>3857</th>\n",
       "      <td>0.499415</td>\n",
       "      <td>0.500053</td>\n",
       "    </tr>\n",
       "    <tr>\n",
       "      <th>3859</th>\n",
       "      <td>0.499294</td>\n",
       "      <td>0.500053</td>\n",
       "    </tr>\n",
       "    <tr>\n",
       "      <th>3860</th>\n",
       "      <td>0.499207</td>\n",
       "      <td>0.500053</td>\n",
       "    </tr>\n",
       "    <tr>\n",
       "      <th>3858</th>\n",
       "      <td>0.499296</td>\n",
       "      <td>0.500000</td>\n",
       "    </tr>\n",
       "    <tr>\n",
       "      <th>3862</th>\n",
       "      <td>0.498566</td>\n",
       "      <td>0.499520</td>\n",
       "    </tr>\n",
       "    <tr>\n",
       "      <th>3861</th>\n",
       "      <td>0.498650</td>\n",
       "      <td>0.499519</td>\n",
       "    </tr>\n",
       "    <tr>\n",
       "      <th>3863</th>\n",
       "      <td>0.498192</td>\n",
       "      <td>0.499200</td>\n",
       "    </tr>\n",
       "    <tr>\n",
       "      <th>3864</th>\n",
       "      <td>0.498162</td>\n",
       "      <td>0.499147</td>\n",
       "    </tr>\n",
       "    <tr>\n",
       "      <th>3867</th>\n",
       "      <td>0.497926</td>\n",
       "      <td>0.499041</td>\n",
       "    </tr>\n",
       "    <tr>\n",
       "      <th>3865</th>\n",
       "      <td>0.497993</td>\n",
       "      <td>0.499041</td>\n",
       "    </tr>\n",
       "    <tr>\n",
       "      <th>3869</th>\n",
       "      <td>0.497793</td>\n",
       "      <td>0.498988</td>\n",
       "    </tr>\n",
       "    <tr>\n",
       "      <th>3868</th>\n",
       "      <td>0.497832</td>\n",
       "      <td>0.498988</td>\n",
       "    </tr>\n",
       "    <tr>\n",
       "      <th>3866</th>\n",
       "      <td>0.497987</td>\n",
       "      <td>0.498987</td>\n",
       "    </tr>\n",
       "    <tr>\n",
       "      <th>3870</th>\n",
       "      <td>0.497765</td>\n",
       "      <td>0.498935</td>\n",
       "    </tr>\n",
       "    <tr>\n",
       "      <th>3871</th>\n",
       "      <td>0.497559</td>\n",
       "      <td>0.498775</td>\n",
       "    </tr>\n",
       "    <tr>\n",
       "      <th>3872</th>\n",
       "      <td>0.497475</td>\n",
       "      <td>0.498722</td>\n",
       "    </tr>\n",
       "    <tr>\n",
       "      <th>3881</th>\n",
       "      <td>0.496441</td>\n",
       "      <td>0.498513</td>\n",
       "    </tr>\n",
       "    <tr>\n",
       "      <th>3880</th>\n",
       "      <td>0.496625</td>\n",
       "      <td>0.498513</td>\n",
       "    </tr>\n",
       "    <tr>\n",
       "      <th>3876</th>\n",
       "      <td>0.496923</td>\n",
       "      <td>0.498512</td>\n",
       "    </tr>\n",
       "    <tr>\n",
       "      <th>3882</th>\n",
       "      <td>0.496360</td>\n",
       "      <td>0.498460</td>\n",
       "    </tr>\n",
       "    <tr>\n",
       "      <th>3879</th>\n",
       "      <td>0.496768</td>\n",
       "      <td>0.498459</td>\n",
       "    </tr>\n",
       "    <tr>\n",
       "      <th>3877</th>\n",
       "      <td>0.496856</td>\n",
       "      <td>0.498459</td>\n",
       "    </tr>\n",
       "    <tr>\n",
       "      <th>3883</th>\n",
       "      <td>0.496243</td>\n",
       "      <td>0.498408</td>\n",
       "    </tr>\n",
       "    <tr>\n",
       "      <th>3878</th>\n",
       "      <td>0.496846</td>\n",
       "      <td>0.498406</td>\n",
       "    </tr>\n",
       "    <tr>\n",
       "      <th>3875</th>\n",
       "      <td>0.497098</td>\n",
       "      <td>0.498405</td>\n",
       "    </tr>\n",
       "    <tr>\n",
       "      <th>3873</th>\n",
       "      <td>0.497189</td>\n",
       "      <td>0.498404</td>\n",
       "    </tr>\n",
       "    <tr>\n",
       "      <th>3884</th>\n",
       "      <td>0.496226</td>\n",
       "      <td>0.498355</td>\n",
       "    </tr>\n",
       "    <tr>\n",
       "      <th>3874</th>\n",
       "      <td>0.497136</td>\n",
       "      <td>0.498351</td>\n",
       "    </tr>\n",
       "    <tr>\n",
       "      <th>3885</th>\n",
       "      <td>0.495965</td>\n",
       "      <td>0.498249</td>\n",
       "    </tr>\n",
       "    <tr>\n",
       "      <th>3886</th>\n",
       "      <td>0.495900</td>\n",
       "      <td>0.498196</td>\n",
       "    </tr>\n",
       "    <tr>\n",
       "      <th>3887</th>\n",
       "      <td>0.495823</td>\n",
       "      <td>0.498144</td>\n",
       "    </tr>\n",
       "    <tr>\n",
       "      <th>3888</th>\n",
       "      <td>0.495748</td>\n",
       "      <td>0.498091</td>\n",
       "    </tr>\n",
       "    <tr>\n",
       "      <th>3890</th>\n",
       "      <td>0.495578</td>\n",
       "      <td>0.497986</td>\n",
       "    </tr>\n",
       "    <tr>\n",
       "      <th>3889</th>\n",
       "      <td>0.495602</td>\n",
       "      <td>0.497986</td>\n",
       "    </tr>\n",
       "    <tr>\n",
       "      <th>3897</th>\n",
       "      <td>0.494702</td>\n",
       "      <td>0.497831</td>\n",
       "    </tr>\n",
       "    <tr>\n",
       "      <th>3895</th>\n",
       "      <td>0.494837</td>\n",
       "      <td>0.497830</td>\n",
       "    </tr>\n",
       "    <tr>\n",
       "      <th>3898</th>\n",
       "      <td>0.494700</td>\n",
       "      <td>0.497778</td>\n",
       "    </tr>\n",
       "    <tr>\n",
       "      <th>3896</th>\n",
       "      <td>0.494744</td>\n",
       "      <td>0.497778</td>\n",
       "    </tr>\n",
       "    <tr>\n",
       "      <th>3894</th>\n",
       "      <td>0.494867</td>\n",
       "      <td>0.497777</td>\n",
       "    </tr>\n",
       "    <tr>\n",
       "      <th>3893</th>\n",
       "      <td>0.495021</td>\n",
       "      <td>0.497724</td>\n",
       "    </tr>\n",
       "    <tr>\n",
       "      <th>3891</th>\n",
       "      <td>0.495046</td>\n",
       "      <td>0.497723</td>\n",
       "    </tr>\n",
       "    <tr>\n",
       "      <th>3892</th>\n",
       "      <td>0.495039</td>\n",
       "      <td>0.497670</td>\n",
       "    </tr>\n",
       "    <tr>\n",
       "      <th>3900</th>\n",
       "      <td>0.494166</td>\n",
       "      <td>0.497621</td>\n",
       "    </tr>\n",
       "    <tr>\n",
       "      <th>3899</th>\n",
       "      <td>0.494182</td>\n",
       "      <td>0.497621</td>\n",
       "    </tr>\n",
       "    <tr>\n",
       "      <th>3901</th>\n",
       "      <td>0.493975</td>\n",
       "      <td>0.497517</td>\n",
       "    </tr>\n",
       "  </tbody>\n",
       "</table>\n",
       "</div>"
      ],
      "text/plain": [
       "      thresolds  Precision\n",
       "3847   0.500728   0.501020\n",
       "3853   0.500156   0.500750\n",
       "3854   0.500092   0.500696\n",
       "3855   0.499593   0.500161\n",
       "3856   0.499528   0.500107\n",
       "3857   0.499415   0.500053\n",
       "3859   0.499294   0.500053\n",
       "3860   0.499207   0.500053\n",
       "3858   0.499296   0.500000\n",
       "3862   0.498566   0.499520\n",
       "3861   0.498650   0.499519\n",
       "3863   0.498192   0.499200\n",
       "3864   0.498162   0.499147\n",
       "3867   0.497926   0.499041\n",
       "3865   0.497993   0.499041\n",
       "3869   0.497793   0.498988\n",
       "3868   0.497832   0.498988\n",
       "3866   0.497987   0.498987\n",
       "3870   0.497765   0.498935\n",
       "3871   0.497559   0.498775\n",
       "3872   0.497475   0.498722\n",
       "3881   0.496441   0.498513\n",
       "3880   0.496625   0.498513\n",
       "3876   0.496923   0.498512\n",
       "3882   0.496360   0.498460\n",
       "3879   0.496768   0.498459\n",
       "3877   0.496856   0.498459\n",
       "3883   0.496243   0.498408\n",
       "3878   0.496846   0.498406\n",
       "3875   0.497098   0.498405\n",
       "3873   0.497189   0.498404\n",
       "3884   0.496226   0.498355\n",
       "3874   0.497136   0.498351\n",
       "3885   0.495965   0.498249\n",
       "3886   0.495900   0.498196\n",
       "3887   0.495823   0.498144\n",
       "3888   0.495748   0.498091\n",
       "3890   0.495578   0.497986\n",
       "3889   0.495602   0.497986\n",
       "3897   0.494702   0.497831\n",
       "3895   0.494837   0.497830\n",
       "3898   0.494700   0.497778\n",
       "3896   0.494744   0.497778\n",
       "3894   0.494867   0.497777\n",
       "3893   0.495021   0.497724\n",
       "3891   0.495046   0.497723\n",
       "3892   0.495039   0.497670\n",
       "3900   0.494166   0.497621\n",
       "3899   0.494182   0.497621\n",
       "3901   0.493975   0.497517"
      ]
     },
     "execution_count": 339,
     "metadata": {},
     "output_type": "execute_result"
    }
   ],
   "source": [
    "precision_ls[3850:3900]"
   ]
  },
  {
   "cell_type": "code",
   "execution_count": 340,
   "id": "272e1fd8",
   "metadata": {},
   "outputs": [],
   "source": [
    "final_pred3A = final_pred3.copy()"
   ]
  },
  {
   "cell_type": "code",
   "execution_count": 341,
   "id": "c0ace65d",
   "metadata": {},
   "outputs": [],
   "source": [
    "final_pred3A.loc[final_pred3A[0] >=0.498128 , 0] = 1\n",
    "final_pred3A.loc[final_pred3A[0] <=0.498128 , 0] = 0"
   ]
  },
  {
   "cell_type": "code",
   "execution_count": 342,
   "id": "287278de",
   "metadata": {},
   "outputs": [
    {
     "name": "stdout",
     "output_type": "stream",
     "text": [
      "Accuracy: 0.7780670470756063\n",
      "Precision: 0.49920017063026556\n",
      "Recall: 0.7540270618556701\n",
      "f1 score: 0.600705806865576\n",
      "MCC score: 0.4742772075494237\n"
     ]
    }
   ],
   "source": [
    "print(\"Accuracy:\",accuracy_score(y_test, final_pred3A))\n",
    "print(\"Precision:\",precision_score(y_test, final_pred3A))\n",
    "print(\"Recall:\",recall_score(y_test, final_pred3A))\n",
    "print(\"f1 score:\",f1_score(y_test, final_pred3A))\n",
    "print(\"MCC score:\",matthews_corrcoef(y_test, final_pred3A))"
   ]
  },
  {
   "cell_type": "code",
   "execution_count": 343,
   "id": "662df4ff",
   "metadata": {},
   "outputs": [
    {
     "data": {
      "text/plain": [
       "0    0.334415\n",
       "dtype: float64"
      ]
     },
     "execution_count": 343,
     "metadata": {},
     "output_type": "execute_result"
    }
   ],
   "source": [
    "final_pred3A.mean()"
   ]
  },
  {
   "cell_type": "code",
   "execution_count": null,
   "id": "b27be054",
   "metadata": {},
   "outputs": [],
   "source": []
  },
  {
   "cell_type": "code",
   "execution_count": 344,
   "id": "65a12d13",
   "metadata": {},
   "outputs": [
    {
     "data": {
      "text/plain": [
       "(28040, 1)"
      ]
     },
     "execution_count": 344,
     "metadata": {},
     "output_type": "execute_result"
    }
   ],
   "source": [
    "y_test.shape"
   ]
  },
  {
   "cell_type": "code",
   "execution_count": 345,
   "id": "dcc73cec",
   "metadata": {},
   "outputs": [
    {
     "data": {
      "text/plain": [
       "RainTomorrow    0.221398\n",
       "dtype: float64"
      ]
     },
     "execution_count": 345,
     "metadata": {},
     "output_type": "execute_result"
    }
   ],
   "source": [
    "y_test.mean()"
   ]
  },
  {
   "cell_type": "code",
   "execution_count": 346,
   "id": "15118827",
   "metadata": {},
   "outputs": [],
   "source": [
    "from sklearn.utils import resample"
   ]
  },
  {
   "cell_type": "code",
   "execution_count": 347,
   "id": "7034a822",
   "metadata": {},
   "outputs": [],
   "source": [
    "x = pd.concat([x_test,y_test],axis=1)"
   ]
  },
  {
   "cell_type": "code",
   "execution_count": 348,
   "id": "fa1be9e3",
   "metadata": {},
   "outputs": [],
   "source": [
    "df_minority = x.loc[x['RainTomorrow']==1]\n",
    "df_majority = x.loc[x['RainTomorrow']==0]"
   ]
  },
  {
   "cell_type": "code",
   "execution_count": 349,
   "id": "d827d4c1",
   "metadata": {},
   "outputs": [
    {
     "data": {
      "text/plain": [
       "(21832, 19)"
      ]
     },
     "execution_count": 349,
     "metadata": {},
     "output_type": "execute_result"
    }
   ],
   "source": [
    "df_majority.shape"
   ]
  },
  {
   "cell_type": "code",
   "execution_count": 350,
   "id": "7a2da371",
   "metadata": {},
   "outputs": [
    {
     "data": {
      "text/plain": [
       "(6208, 19)"
      ]
     },
     "execution_count": 350,
     "metadata": {},
     "output_type": "execute_result"
    }
   ],
   "source": [
    "df_minority.shape"
   ]
  },
  {
   "cell_type": "code",
   "execution_count": 351,
   "id": "83757625",
   "metadata": {},
   "outputs": [],
   "source": [
    "df_majority_downsampled = resample(df_majority,      \n",
    "                                 n_samples=5000,random_state = 0)"
   ]
  },
  {
   "cell_type": "code",
   "execution_count": 352,
   "id": "94b2c60b",
   "metadata": {},
   "outputs": [],
   "source": [
    "df_minority_downsampled = resample(df_minority,    \n",
    "                                 n_samples=5000,random_state = 0)"
   ]
  },
  {
   "cell_type": "code",
   "execution_count": 353,
   "id": "7404ffa6",
   "metadata": {},
   "outputs": [],
   "source": [
    "x = pd.concat([df_majority_downsampled,df_minority_downsampled],axis=0)"
   ]
  },
  {
   "cell_type": "code",
   "execution_count": 354,
   "id": "2c268817",
   "metadata": {},
   "outputs": [
    {
     "data": {
      "text/plain": [
       "(10000, 19)"
      ]
     },
     "execution_count": 354,
     "metadata": {},
     "output_type": "execute_result"
    }
   ],
   "source": [
    "x.shape"
   ]
  },
  {
   "cell_type": "code",
   "execution_count": 355,
   "id": "52fca012",
   "metadata": {},
   "outputs": [
    {
     "data": {
      "text/plain": [
       "0.5"
      ]
     },
     "execution_count": 355,
     "metadata": {},
     "output_type": "execute_result"
    }
   ],
   "source": [
    "x['RainTomorrow'].mean()"
   ]
  },
  {
   "cell_type": "code",
   "execution_count": 356,
   "id": "38c34340",
   "metadata": {},
   "outputs": [],
   "source": [
    "x = x.reset_index(drop=True)"
   ]
  },
  {
   "cell_type": "code",
   "execution_count": 357,
   "id": "e2853b63",
   "metadata": {},
   "outputs": [],
   "source": [
    "x_test2 = x.drop('RainTomorrow',axis=1)\n",
    "y_test2 = x['RainTomorrow']\n",
    "\n",
    "y_test2 = pd.DataFrame(y_test2)"
   ]
  },
  {
   "cell_type": "code",
   "execution_count": 358,
   "id": "051d2912",
   "metadata": {},
   "outputs": [
    {
     "data": {
      "text/html": [
       "<div>\n",
       "<style scoped>\n",
       "    .dataframe tbody tr th:only-of-type {\n",
       "        vertical-align: middle;\n",
       "    }\n",
       "\n",
       "    .dataframe tbody tr th {\n",
       "        vertical-align: top;\n",
       "    }\n",
       "\n",
       "    .dataframe thead th {\n",
       "        text-align: right;\n",
       "    }\n",
       "</style>\n",
       "<table border=\"1\" class=\"dataframe\">\n",
       "  <thead>\n",
       "    <tr style=\"text-align: right;\">\n",
       "      <th></th>\n",
       "      <th>0</th>\n",
       "    </tr>\n",
       "  </thead>\n",
       "  <tbody>\n",
       "    <tr>\n",
       "      <th>0</th>\n",
       "      <td>0.113553</td>\n",
       "    </tr>\n",
       "    <tr>\n",
       "      <th>1</th>\n",
       "      <td>0.388124</td>\n",
       "    </tr>\n",
       "    <tr>\n",
       "      <th>2</th>\n",
       "      <td>0.053168</td>\n",
       "    </tr>\n",
       "    <tr>\n",
       "      <th>3</th>\n",
       "      <td>0.595317</td>\n",
       "    </tr>\n",
       "    <tr>\n",
       "      <th>4</th>\n",
       "      <td>0.375219</td>\n",
       "    </tr>\n",
       "  </tbody>\n",
       "</table>\n",
       "</div>"
      ],
      "text/plain": [
       "          0\n",
       "0  0.113553\n",
       "1  0.388124\n",
       "2  0.053168\n",
       "3  0.595317\n",
       "4  0.375219"
      ]
     },
     "execution_count": 358,
     "metadata": {},
     "output_type": "execute_result"
    }
   ],
   "source": [
    "lr.predict_proba(x_test2)\n",
    "y_test_pred4 = lr.predict_proba(x_test2)[:,1]\n",
    "final_pred3 = pd.DataFrame(y_test_pred4)\n",
    "final_pred3.head()"
   ]
  },
  {
   "cell_type": "code",
   "execution_count": 359,
   "id": "0891486c",
   "metadata": {},
   "outputs": [
    {
     "name": "stdout",
     "output_type": "stream",
     "text": [
      "Accuracy: 0.7738\n",
      "Precision: 0.7822680412371134\n",
      "Recall: 0.7588\n"
     ]
    }
   ],
   "source": [
    "final_pred3A = final_pred3.copy()\n",
    "\n",
    "final_pred3A.loc[final_pred3A[0] >=0.498128 , 0] = 1\n",
    "final_pred3A.loc[final_pred3A[0] <=0.498128 , 0] = 0\n",
    "\n",
    "print(\"Accuracy:\",accuracy_score(y_test2, final_pred3A))\n",
    "print(\"Precision:\",precision_score(y_test2, final_pred3A))\n",
    "print(\"Recall:\",recall_score(y_test2, final_pred3A))"
   ]
  },
  {
   "cell_type": "code",
   "execution_count": null,
   "id": "5e1c1c6b",
   "metadata": {},
   "outputs": [],
   "source": []
  },
  {
   "cell_type": "code",
   "execution_count": 360,
   "id": "189cbf52",
   "metadata": {},
   "outputs": [
    {
     "data": {
      "text/plain": [
       "array([0.08396109, 0.23430583, 0.87506068, ..., 0.02303468, 0.25958717,\n",
       "       0.90783166])"
      ]
     },
     "execution_count": 360,
     "metadata": {},
     "output_type": "execute_result"
    }
   ],
   "source": [
    "y_test_pred5 = lr.predict_proba(x_test)[:,1]\n",
    "y_test_pred5"
   ]
  },
  {
   "cell_type": "code",
   "execution_count": 361,
   "id": "2701694e",
   "metadata": {},
   "outputs": [
    {
     "data": {
      "text/html": [
       "<div>\n",
       "<style scoped>\n",
       "    .dataframe tbody tr th:only-of-type {\n",
       "        vertical-align: middle;\n",
       "    }\n",
       "\n",
       "    .dataframe tbody tr th {\n",
       "        vertical-align: top;\n",
       "    }\n",
       "\n",
       "    .dataframe thead th {\n",
       "        text-align: right;\n",
       "    }\n",
       "</style>\n",
       "<table border=\"1\" class=\"dataframe\">\n",
       "  <thead>\n",
       "    <tr style=\"text-align: right;\">\n",
       "      <th></th>\n",
       "      <th>0</th>\n",
       "    </tr>\n",
       "  </thead>\n",
       "  <tbody>\n",
       "    <tr>\n",
       "      <th>0</th>\n",
       "      <td>0.083961</td>\n",
       "    </tr>\n",
       "    <tr>\n",
       "      <th>1</th>\n",
       "      <td>0.234306</td>\n",
       "    </tr>\n",
       "    <tr>\n",
       "      <th>2</th>\n",
       "      <td>0.875061</td>\n",
       "    </tr>\n",
       "    <tr>\n",
       "      <th>3</th>\n",
       "      <td>0.710619</td>\n",
       "    </tr>\n",
       "    <tr>\n",
       "      <th>4</th>\n",
       "      <td>0.015716</td>\n",
       "    </tr>\n",
       "  </tbody>\n",
       "</table>\n",
       "</div>"
      ],
      "text/plain": [
       "          0\n",
       "0  0.083961\n",
       "1  0.234306\n",
       "2  0.875061\n",
       "3  0.710619\n",
       "4  0.015716"
      ]
     },
     "execution_count": 361,
     "metadata": {},
     "output_type": "execute_result"
    }
   ],
   "source": [
    "final_pred5 = pd.DataFrame(y_test_pred5)\n",
    "final_pred5.head()"
   ]
  },
  {
   "cell_type": "code",
   "execution_count": 362,
   "id": "c4b1b4fe",
   "metadata": {},
   "outputs": [
    {
     "data": {
      "text/html": [
       "<div>\n",
       "<style scoped>\n",
       "    .dataframe tbody tr th:only-of-type {\n",
       "        vertical-align: middle;\n",
       "    }\n",
       "\n",
       "    .dataframe tbody tr th {\n",
       "        vertical-align: top;\n",
       "    }\n",
       "\n",
       "    .dataframe thead th {\n",
       "        text-align: right;\n",
       "    }\n",
       "</style>\n",
       "<table border=\"1\" class=\"dataframe\">\n",
       "  <thead>\n",
       "    <tr style=\"text-align: right;\">\n",
       "      <th></th>\n",
       "      <th>RainTomorrow</th>\n",
       "    </tr>\n",
       "  </thead>\n",
       "  <tbody>\n",
       "    <tr>\n",
       "      <th>0</th>\n",
       "      <td>0</td>\n",
       "    </tr>\n",
       "    <tr>\n",
       "      <th>1</th>\n",
       "      <td>0</td>\n",
       "    </tr>\n",
       "    <tr>\n",
       "      <th>2</th>\n",
       "      <td>1</td>\n",
       "    </tr>\n",
       "    <tr>\n",
       "      <th>3</th>\n",
       "      <td>0</td>\n",
       "    </tr>\n",
       "    <tr>\n",
       "      <th>4</th>\n",
       "      <td>0</td>\n",
       "    </tr>\n",
       "    <tr>\n",
       "      <th>...</th>\n",
       "      <td>...</td>\n",
       "    </tr>\n",
       "    <tr>\n",
       "      <th>28035</th>\n",
       "      <td>1</td>\n",
       "    </tr>\n",
       "    <tr>\n",
       "      <th>28036</th>\n",
       "      <td>0</td>\n",
       "    </tr>\n",
       "    <tr>\n",
       "      <th>28037</th>\n",
       "      <td>0</td>\n",
       "    </tr>\n",
       "    <tr>\n",
       "      <th>28038</th>\n",
       "      <td>0</td>\n",
       "    </tr>\n",
       "    <tr>\n",
       "      <th>28039</th>\n",
       "      <td>0</td>\n",
       "    </tr>\n",
       "  </tbody>\n",
       "</table>\n",
       "<p>28040 rows × 1 columns</p>\n",
       "</div>"
      ],
      "text/plain": [
       "       RainTomorrow\n",
       "0                 0\n",
       "1                 0\n",
       "2                 1\n",
       "3                 0\n",
       "4                 0\n",
       "...             ...\n",
       "28035             1\n",
       "28036             0\n",
       "28037             0\n",
       "28038             0\n",
       "28039             0\n",
       "\n",
       "[28040 rows x 1 columns]"
      ]
     },
     "execution_count": 362,
     "metadata": {},
     "output_type": "execute_result"
    }
   ],
   "source": [
    "y_test"
   ]
  },
  {
   "cell_type": "code",
   "execution_count": 363,
   "id": "e308efbe",
   "metadata": {},
   "outputs": [
    {
     "data": {
      "text/plain": [
       "array([1.99960247e+00, 9.99602473e-01, 9.97466244e-01, ...,\n",
       "       1.92177486e-02, 1.92045148e-02, 1.99812308e-03])"
      ]
     },
     "execution_count": 363,
     "metadata": {},
     "output_type": "execute_result"
    }
   ],
   "source": [
    "fpr , tpr , thresolds = roc_curve(y_test , final_pred5)\n",
    "thresolds"
   ]
  },
  {
   "cell_type": "code",
   "execution_count": 364,
   "id": "3fb791c7",
   "metadata": {},
   "outputs": [
    {
     "data": {
      "text/html": [
       "<div>\n",
       "<style scoped>\n",
       "    .dataframe tbody tr th:only-of-type {\n",
       "        vertical-align: middle;\n",
       "    }\n",
       "\n",
       "    .dataframe tbody tr th {\n",
       "        vertical-align: top;\n",
       "    }\n",
       "\n",
       "    .dataframe thead th {\n",
       "        text-align: right;\n",
       "    }\n",
       "</style>\n",
       "<table border=\"1\" class=\"dataframe\">\n",
       "  <thead>\n",
       "    <tr style=\"text-align: right;\">\n",
       "      <th></th>\n",
       "      <th>thresolds</th>\n",
       "      <th>recall</th>\n",
       "    </tr>\n",
       "  </thead>\n",
       "  <tbody>\n",
       "    <tr>\n",
       "      <th>6569</th>\n",
       "      <td>0.001998</td>\n",
       "      <td>1.000000</td>\n",
       "    </tr>\n",
       "    <tr>\n",
       "      <th>6568</th>\n",
       "      <td>0.019205</td>\n",
       "      <td>0.999839</td>\n",
       "    </tr>\n",
       "    <tr>\n",
       "      <th>6567</th>\n",
       "      <td>0.019218</td>\n",
       "      <td>0.999839</td>\n",
       "    </tr>\n",
       "    <tr>\n",
       "      <th>6566</th>\n",
       "      <td>0.022832</td>\n",
       "      <td>0.999678</td>\n",
       "    </tr>\n",
       "    <tr>\n",
       "      <th>6565</th>\n",
       "      <td>0.022863</td>\n",
       "      <td>0.999678</td>\n",
       "    </tr>\n",
       "  </tbody>\n",
       "</table>\n",
       "</div>"
      ],
      "text/plain": [
       "      thresolds    recall\n",
       "6569   0.001998  1.000000\n",
       "6568   0.019205  0.999839\n",
       "6567   0.019218  0.999839\n",
       "6566   0.022832  0.999678\n",
       "6565   0.022863  0.999678"
      ]
     },
     "execution_count": 364,
     "metadata": {},
     "output_type": "execute_result"
    }
   ],
   "source": [
    "recall_ls = []\n",
    "for thres in thresolds:\n",
    "    y_pred = np.where(final_pred5>thres,1,0)\n",
    "    recall_ls.append(recall_score(y_test, y_pred))\n",
    "    \n",
    "recall_ls = pd.concat([pd.Series(thresolds), pd.Series(recall_ls)],\n",
    "                        axis=1)\n",
    "recall_ls.columns = ['thresolds', 'recall']\n",
    "recall_ls.sort_values(by='recall', ascending=False, inplace=True)\n",
    "recall_ls.head()"
   ]
  },
  {
   "cell_type": "code",
   "execution_count": 365,
   "id": "515b1835",
   "metadata": {
    "scrolled": true
   },
   "outputs": [
    {
     "data": {
      "text/html": [
       "<div>\n",
       "<style scoped>\n",
       "    .dataframe tbody tr th:only-of-type {\n",
       "        vertical-align: middle;\n",
       "    }\n",
       "\n",
       "    .dataframe tbody tr th {\n",
       "        vertical-align: top;\n",
       "    }\n",
       "\n",
       "    .dataframe thead th {\n",
       "        text-align: right;\n",
       "    }\n",
       "</style>\n",
       "<table border=\"1\" class=\"dataframe\">\n",
       "  <thead>\n",
       "    <tr style=\"text-align: right;\">\n",
       "      <th></th>\n",
       "      <th>thresolds</th>\n",
       "      <th>recall</th>\n",
       "    </tr>\n",
       "  </thead>\n",
       "  <tbody>\n",
       "    <tr>\n",
       "      <th>4240</th>\n",
       "      <td>0.448643</td>\n",
       "      <td>0.793170</td>\n",
       "    </tr>\n",
       "    <tr>\n",
       "      <th>4238</th>\n",
       "      <td>0.449065</td>\n",
       "      <td>0.793009</td>\n",
       "    </tr>\n",
       "    <tr>\n",
       "      <th>4237</th>\n",
       "      <td>0.449073</td>\n",
       "      <td>0.793009</td>\n",
       "    </tr>\n",
       "    <tr>\n",
       "      <th>4236</th>\n",
       "      <td>0.449217</td>\n",
       "      <td>0.792848</td>\n",
       "    </tr>\n",
       "    <tr>\n",
       "      <th>4235</th>\n",
       "      <td>0.449266</td>\n",
       "      <td>0.792848</td>\n",
       "    </tr>\n",
       "    <tr>\n",
       "      <th>4234</th>\n",
       "      <td>0.449435</td>\n",
       "      <td>0.792687</td>\n",
       "    </tr>\n",
       "    <tr>\n",
       "      <th>4233</th>\n",
       "      <td>0.449480</td>\n",
       "      <td>0.792687</td>\n",
       "    </tr>\n",
       "    <tr>\n",
       "      <th>4232</th>\n",
       "      <td>0.449534</td>\n",
       "      <td>0.792526</td>\n",
       "    </tr>\n",
       "    <tr>\n",
       "      <th>4231</th>\n",
       "      <td>0.449682</td>\n",
       "      <td>0.792365</td>\n",
       "    </tr>\n",
       "    <tr>\n",
       "      <th>4229</th>\n",
       "      <td>0.449770</td>\n",
       "      <td>0.792204</td>\n",
       "    </tr>\n",
       "    <tr>\n",
       "      <th>4230</th>\n",
       "      <td>0.449769</td>\n",
       "      <td>0.792204</td>\n",
       "    </tr>\n",
       "    <tr>\n",
       "      <th>4228</th>\n",
       "      <td>0.449787</td>\n",
       "      <td>0.792043</td>\n",
       "    </tr>\n",
       "    <tr>\n",
       "      <th>4227</th>\n",
       "      <td>0.449799</td>\n",
       "      <td>0.792043</td>\n",
       "    </tr>\n",
       "    <tr>\n",
       "      <th>4226</th>\n",
       "      <td>0.450589</td>\n",
       "      <td>0.791881</td>\n",
       "    </tr>\n",
       "    <tr>\n",
       "      <th>4225</th>\n",
       "      <td>0.450594</td>\n",
       "      <td>0.791881</td>\n",
       "    </tr>\n",
       "    <tr>\n",
       "      <th>4224</th>\n",
       "      <td>0.450604</td>\n",
       "      <td>0.791720</td>\n",
       "    </tr>\n",
       "    <tr>\n",
       "      <th>4223</th>\n",
       "      <td>0.450785</td>\n",
       "      <td>0.791720</td>\n",
       "    </tr>\n",
       "    <tr>\n",
       "      <th>4222</th>\n",
       "      <td>0.451037</td>\n",
       "      <td>0.791559</td>\n",
       "    </tr>\n",
       "    <tr>\n",
       "      <th>4221</th>\n",
       "      <td>0.451065</td>\n",
       "      <td>0.791559</td>\n",
       "    </tr>\n",
       "    <tr>\n",
       "      <th>4220</th>\n",
       "      <td>0.451119</td>\n",
       "      <td>0.791398</td>\n",
       "    </tr>\n",
       "    <tr>\n",
       "      <th>4219</th>\n",
       "      <td>0.451161</td>\n",
       "      <td>0.791398</td>\n",
       "    </tr>\n",
       "    <tr>\n",
       "      <th>4218</th>\n",
       "      <td>0.451538</td>\n",
       "      <td>0.791237</td>\n",
       "    </tr>\n",
       "    <tr>\n",
       "      <th>4217</th>\n",
       "      <td>0.451633</td>\n",
       "      <td>0.791237</td>\n",
       "    </tr>\n",
       "    <tr>\n",
       "      <th>4216</th>\n",
       "      <td>0.452106</td>\n",
       "      <td>0.791076</td>\n",
       "    </tr>\n",
       "    <tr>\n",
       "      <th>4215</th>\n",
       "      <td>0.452191</td>\n",
       "      <td>0.790915</td>\n",
       "    </tr>\n",
       "    <tr>\n",
       "      <th>4213</th>\n",
       "      <td>0.452284</td>\n",
       "      <td>0.790754</td>\n",
       "    </tr>\n",
       "    <tr>\n",
       "      <th>4214</th>\n",
       "      <td>0.452273</td>\n",
       "      <td>0.790754</td>\n",
       "    </tr>\n",
       "    <tr>\n",
       "      <th>4212</th>\n",
       "      <td>0.452324</td>\n",
       "      <td>0.790593</td>\n",
       "    </tr>\n",
       "    <tr>\n",
       "      <th>4211</th>\n",
       "      <td>0.452396</td>\n",
       "      <td>0.790593</td>\n",
       "    </tr>\n",
       "    <tr>\n",
       "      <th>4210</th>\n",
       "      <td>0.452794</td>\n",
       "      <td>0.790432</td>\n",
       "    </tr>\n",
       "    <tr>\n",
       "      <th>4209</th>\n",
       "      <td>0.452874</td>\n",
       "      <td>0.790271</td>\n",
       "    </tr>\n",
       "    <tr>\n",
       "      <th>4208</th>\n",
       "      <td>0.453171</td>\n",
       "      <td>0.790110</td>\n",
       "    </tr>\n",
       "    <tr>\n",
       "      <th>4207</th>\n",
       "      <td>0.453218</td>\n",
       "      <td>0.790110</td>\n",
       "    </tr>\n",
       "    <tr>\n",
       "      <th>4206</th>\n",
       "      <td>0.453278</td>\n",
       "      <td>0.789948</td>\n",
       "    </tr>\n",
       "    <tr>\n",
       "      <th>4205</th>\n",
       "      <td>0.453363</td>\n",
       "      <td>0.789626</td>\n",
       "    </tr>\n",
       "    <tr>\n",
       "      <th>4204</th>\n",
       "      <td>0.453556</td>\n",
       "      <td>0.789465</td>\n",
       "    </tr>\n",
       "    <tr>\n",
       "      <th>4203</th>\n",
       "      <td>0.453593</td>\n",
       "      <td>0.789304</td>\n",
       "    </tr>\n",
       "    <tr>\n",
       "      <th>4201</th>\n",
       "      <td>0.453939</td>\n",
       "      <td>0.789143</td>\n",
       "    </tr>\n",
       "    <tr>\n",
       "      <th>4202</th>\n",
       "      <td>0.453921</td>\n",
       "      <td>0.789143</td>\n",
       "    </tr>\n",
       "    <tr>\n",
       "      <th>4200</th>\n",
       "      <td>0.454100</td>\n",
       "      <td>0.788982</td>\n",
       "    </tr>\n",
       "  </tbody>\n",
       "</table>\n",
       "</div>"
      ],
      "text/plain": [
       "      thresolds    recall\n",
       "4240   0.448643  0.793170\n",
       "4238   0.449065  0.793009\n",
       "4237   0.449073  0.793009\n",
       "4236   0.449217  0.792848\n",
       "4235   0.449266  0.792848\n",
       "4234   0.449435  0.792687\n",
       "4233   0.449480  0.792687\n",
       "4232   0.449534  0.792526\n",
       "4231   0.449682  0.792365\n",
       "4229   0.449770  0.792204\n",
       "4230   0.449769  0.792204\n",
       "4228   0.449787  0.792043\n",
       "4227   0.449799  0.792043\n",
       "4226   0.450589  0.791881\n",
       "4225   0.450594  0.791881\n",
       "4224   0.450604  0.791720\n",
       "4223   0.450785  0.791720\n",
       "4222   0.451037  0.791559\n",
       "4221   0.451065  0.791559\n",
       "4220   0.451119  0.791398\n",
       "4219   0.451161  0.791398\n",
       "4218   0.451538  0.791237\n",
       "4217   0.451633  0.791237\n",
       "4216   0.452106  0.791076\n",
       "4215   0.452191  0.790915\n",
       "4213   0.452284  0.790754\n",
       "4214   0.452273  0.790754\n",
       "4212   0.452324  0.790593\n",
       "4211   0.452396  0.790593\n",
       "4210   0.452794  0.790432\n",
       "4209   0.452874  0.790271\n",
       "4208   0.453171  0.790110\n",
       "4207   0.453218  0.790110\n",
       "4206   0.453278  0.789948\n",
       "4205   0.453363  0.789626\n",
       "4204   0.453556  0.789465\n",
       "4203   0.453593  0.789304\n",
       "4201   0.453939  0.789143\n",
       "4202   0.453921  0.789143\n",
       "4200   0.454100  0.788982"
      ]
     },
     "execution_count": 365,
     "metadata": {},
     "output_type": "execute_result"
    }
   ],
   "source": [
    "recall_ls[2330:2370]"
   ]
  },
  {
   "cell_type": "code",
   "execution_count": 366,
   "id": "91126c82",
   "metadata": {
    "scrolled": true
   },
   "outputs": [
    {
     "data": {
      "text/html": [
       "<div>\n",
       "<style scoped>\n",
       "    .dataframe tbody tr th:only-of-type {\n",
       "        vertical-align: middle;\n",
       "    }\n",
       "\n",
       "    .dataframe tbody tr th {\n",
       "        vertical-align: top;\n",
       "    }\n",
       "\n",
       "    .dataframe thead th {\n",
       "        text-align: right;\n",
       "    }\n",
       "</style>\n",
       "<table border=\"1\" class=\"dataframe\">\n",
       "  <thead>\n",
       "    <tr style=\"text-align: right;\">\n",
       "      <th></th>\n",
       "      <th>thresolds</th>\n",
       "      <th>recall</th>\n",
       "    </tr>\n",
       "  </thead>\n",
       "  <tbody>\n",
       "    <tr>\n",
       "      <th>4419</th>\n",
       "      <td>0.426578</td>\n",
       "      <td>0.811695</td>\n",
       "    </tr>\n",
       "    <tr>\n",
       "      <th>4418</th>\n",
       "      <td>0.426674</td>\n",
       "      <td>0.811534</td>\n",
       "    </tr>\n",
       "    <tr>\n",
       "      <th>4417</th>\n",
       "      <td>0.426685</td>\n",
       "      <td>0.811534</td>\n",
       "    </tr>\n",
       "    <tr>\n",
       "      <th>4415</th>\n",
       "      <td>0.426755</td>\n",
       "      <td>0.811372</td>\n",
       "    </tr>\n",
       "    <tr>\n",
       "      <th>4416</th>\n",
       "      <td>0.426728</td>\n",
       "      <td>0.811372</td>\n",
       "    </tr>\n",
       "    <tr>\n",
       "      <th>4414</th>\n",
       "      <td>0.426900</td>\n",
       "      <td>0.811211</td>\n",
       "    </tr>\n",
       "    <tr>\n",
       "      <th>4413</th>\n",
       "      <td>0.427061</td>\n",
       "      <td>0.811050</td>\n",
       "    </tr>\n",
       "    <tr>\n",
       "      <th>4412</th>\n",
       "      <td>0.427214</td>\n",
       "      <td>0.810889</td>\n",
       "    </tr>\n",
       "    <tr>\n",
       "      <th>4411</th>\n",
       "      <td>0.427301</td>\n",
       "      <td>0.810889</td>\n",
       "    </tr>\n",
       "    <tr>\n",
       "      <th>4410</th>\n",
       "      <td>0.427374</td>\n",
       "      <td>0.810728</td>\n",
       "    </tr>\n",
       "    <tr>\n",
       "      <th>4409</th>\n",
       "      <td>0.427531</td>\n",
       "      <td>0.810728</td>\n",
       "    </tr>\n",
       "    <tr>\n",
       "      <th>4408</th>\n",
       "      <td>0.427557</td>\n",
       "      <td>0.810567</td>\n",
       "    </tr>\n",
       "    <tr>\n",
       "      <th>4407</th>\n",
       "      <td>0.427585</td>\n",
       "      <td>0.810567</td>\n",
       "    </tr>\n",
       "    <tr>\n",
       "      <th>4405</th>\n",
       "      <td>0.427690</td>\n",
       "      <td>0.810406</td>\n",
       "    </tr>\n",
       "    <tr>\n",
       "      <th>4406</th>\n",
       "      <td>0.427690</td>\n",
       "      <td>0.810406</td>\n",
       "    </tr>\n",
       "    <tr>\n",
       "      <th>4403</th>\n",
       "      <td>0.427828</td>\n",
       "      <td>0.810245</td>\n",
       "    </tr>\n",
       "    <tr>\n",
       "      <th>4404</th>\n",
       "      <td>0.427732</td>\n",
       "      <td>0.810245</td>\n",
       "    </tr>\n",
       "    <tr>\n",
       "      <th>4402</th>\n",
       "      <td>0.428023</td>\n",
       "      <td>0.810084</td>\n",
       "    </tr>\n",
       "    <tr>\n",
       "      <th>4401</th>\n",
       "      <td>0.428099</td>\n",
       "      <td>0.810084</td>\n",
       "    </tr>\n",
       "    <tr>\n",
       "      <th>4400</th>\n",
       "      <td>0.428632</td>\n",
       "      <td>0.809923</td>\n",
       "    </tr>\n",
       "    <tr>\n",
       "      <th>4399</th>\n",
       "      <td>0.428702</td>\n",
       "      <td>0.809762</td>\n",
       "    </tr>\n",
       "    <tr>\n",
       "      <th>4398</th>\n",
       "      <td>0.428995</td>\n",
       "      <td>0.809601</td>\n",
       "    </tr>\n",
       "    <tr>\n",
       "      <th>4397</th>\n",
       "      <td>0.429178</td>\n",
       "      <td>0.809601</td>\n",
       "    </tr>\n",
       "    <tr>\n",
       "      <th>4396</th>\n",
       "      <td>0.429481</td>\n",
       "      <td>0.809439</td>\n",
       "    </tr>\n",
       "    <tr>\n",
       "      <th>4395</th>\n",
       "      <td>0.429496</td>\n",
       "      <td>0.809439</td>\n",
       "    </tr>\n",
       "    <tr>\n",
       "      <th>4394</th>\n",
       "      <td>0.429948</td>\n",
       "      <td>0.809278</td>\n",
       "    </tr>\n",
       "    <tr>\n",
       "      <th>4393</th>\n",
       "      <td>0.430026</td>\n",
       "      <td>0.809278</td>\n",
       "    </tr>\n",
       "    <tr>\n",
       "      <th>4391</th>\n",
       "      <td>0.430041</td>\n",
       "      <td>0.809117</td>\n",
       "    </tr>\n",
       "    <tr>\n",
       "      <th>4392</th>\n",
       "      <td>0.430030</td>\n",
       "      <td>0.809117</td>\n",
       "    </tr>\n",
       "    <tr>\n",
       "      <th>4390</th>\n",
       "      <td>0.430250</td>\n",
       "      <td>0.808956</td>\n",
       "    </tr>\n",
       "    <tr>\n",
       "      <th>4389</th>\n",
       "      <td>0.430256</td>\n",
       "      <td>0.808956</td>\n",
       "    </tr>\n",
       "    <tr>\n",
       "      <th>4388</th>\n",
       "      <td>0.430276</td>\n",
       "      <td>0.808795</td>\n",
       "    </tr>\n",
       "    <tr>\n",
       "      <th>4387</th>\n",
       "      <td>0.430363</td>\n",
       "      <td>0.808473</td>\n",
       "    </tr>\n",
       "    <tr>\n",
       "      <th>4386</th>\n",
       "      <td>0.430414</td>\n",
       "      <td>0.808312</td>\n",
       "    </tr>\n",
       "    <tr>\n",
       "      <th>4385</th>\n",
       "      <td>0.430549</td>\n",
       "      <td>0.808151</td>\n",
       "    </tr>\n",
       "    <tr>\n",
       "      <th>4384</th>\n",
       "      <td>0.430583</td>\n",
       "      <td>0.807990</td>\n",
       "    </tr>\n",
       "    <tr>\n",
       "      <th>4383</th>\n",
       "      <td>0.430599</td>\n",
       "      <td>0.807990</td>\n",
       "    </tr>\n",
       "    <tr>\n",
       "      <th>4382</th>\n",
       "      <td>0.431215</td>\n",
       "      <td>0.807829</td>\n",
       "    </tr>\n",
       "    <tr>\n",
       "      <th>4381</th>\n",
       "      <td>0.431274</td>\n",
       "      <td>0.807668</td>\n",
       "    </tr>\n",
       "    <tr>\n",
       "      <th>4379</th>\n",
       "      <td>0.431799</td>\n",
       "      <td>0.807506</td>\n",
       "    </tr>\n",
       "    <tr>\n",
       "      <th>4380</th>\n",
       "      <td>0.431665</td>\n",
       "      <td>0.807506</td>\n",
       "    </tr>\n",
       "    <tr>\n",
       "      <th>4378</th>\n",
       "      <td>0.431829</td>\n",
       "      <td>0.807345</td>\n",
       "    </tr>\n",
       "    <tr>\n",
       "      <th>4377</th>\n",
       "      <td>0.431848</td>\n",
       "      <td>0.807345</td>\n",
       "    </tr>\n",
       "    <tr>\n",
       "      <th>4376</th>\n",
       "      <td>0.431877</td>\n",
       "      <td>0.807184</td>\n",
       "    </tr>\n",
       "    <tr>\n",
       "      <th>4375</th>\n",
       "      <td>0.431882</td>\n",
       "      <td>0.807184</td>\n",
       "    </tr>\n",
       "    <tr>\n",
       "      <th>4374</th>\n",
       "      <td>0.431952</td>\n",
       "      <td>0.807023</td>\n",
       "    </tr>\n",
       "    <tr>\n",
       "      <th>4373</th>\n",
       "      <td>0.431997</td>\n",
       "      <td>0.807023</td>\n",
       "    </tr>\n",
       "    <tr>\n",
       "      <th>4372</th>\n",
       "      <td>0.432043</td>\n",
       "      <td>0.806862</td>\n",
       "    </tr>\n",
       "    <tr>\n",
       "      <th>4371</th>\n",
       "      <td>0.432093</td>\n",
       "      <td>0.806862</td>\n",
       "    </tr>\n",
       "    <tr>\n",
       "      <th>4370</th>\n",
       "      <td>0.432122</td>\n",
       "      <td>0.806701</td>\n",
       "    </tr>\n",
       "  </tbody>\n",
       "</table>\n",
       "</div>"
      ],
      "text/plain": [
       "      thresolds    recall\n",
       "4419   0.426578  0.811695\n",
       "4418   0.426674  0.811534\n",
       "4417   0.426685  0.811534\n",
       "4415   0.426755  0.811372\n",
       "4416   0.426728  0.811372\n",
       "4414   0.426900  0.811211\n",
       "4413   0.427061  0.811050\n",
       "4412   0.427214  0.810889\n",
       "4411   0.427301  0.810889\n",
       "4410   0.427374  0.810728\n",
       "4409   0.427531  0.810728\n",
       "4408   0.427557  0.810567\n",
       "4407   0.427585  0.810567\n",
       "4405   0.427690  0.810406\n",
       "4406   0.427690  0.810406\n",
       "4403   0.427828  0.810245\n",
       "4404   0.427732  0.810245\n",
       "4402   0.428023  0.810084\n",
       "4401   0.428099  0.810084\n",
       "4400   0.428632  0.809923\n",
       "4399   0.428702  0.809762\n",
       "4398   0.428995  0.809601\n",
       "4397   0.429178  0.809601\n",
       "4396   0.429481  0.809439\n",
       "4395   0.429496  0.809439\n",
       "4394   0.429948  0.809278\n",
       "4393   0.430026  0.809278\n",
       "4391   0.430041  0.809117\n",
       "4392   0.430030  0.809117\n",
       "4390   0.430250  0.808956\n",
       "4389   0.430256  0.808956\n",
       "4388   0.430276  0.808795\n",
       "4387   0.430363  0.808473\n",
       "4386   0.430414  0.808312\n",
       "4385   0.430549  0.808151\n",
       "4384   0.430583  0.807990\n",
       "4383   0.430599  0.807990\n",
       "4382   0.431215  0.807829\n",
       "4381   0.431274  0.807668\n",
       "4379   0.431799  0.807506\n",
       "4380   0.431665  0.807506\n",
       "4378   0.431829  0.807345\n",
       "4377   0.431848  0.807345\n",
       "4376   0.431877  0.807184\n",
       "4375   0.431882  0.807184\n",
       "4374   0.431952  0.807023\n",
       "4373   0.431997  0.807023\n",
       "4372   0.432043  0.806862\n",
       "4371   0.432093  0.806862\n",
       "4370   0.432122  0.806701"
      ]
     },
     "execution_count": 366,
     "metadata": {},
     "output_type": "execute_result"
    }
   ],
   "source": [
    "recall_ls[2150:2200]"
   ]
  },
  {
   "cell_type": "code",
   "execution_count": 367,
   "id": "c10527f3",
   "metadata": {},
   "outputs": [],
   "source": [
    "final_pred5A  = final_pred5.copy()"
   ]
  },
  {
   "cell_type": "code",
   "execution_count": 368,
   "id": "e40e2724",
   "metadata": {},
   "outputs": [],
   "source": [
    "final_pred5A.loc[final_pred5[0] >=0.439516 , 0] = 1\n",
    "final_pred5A.loc[final_pred5[0] <=0.439516 , 0] = 0"
   ]
  },
  {
   "cell_type": "code",
   "execution_count": 369,
   "id": "35964f61",
   "metadata": {},
   "outputs": [
    {
     "name": "stdout",
     "output_type": "stream",
     "text": [
      "Accuracy: 0.7530670470756062\n",
      "Precision: 0.4664039039039039\n",
      "Recall: 0.8005798969072165\n"
     ]
    }
   ],
   "source": [
    "print(\"Accuracy:\",accuracy_score(y_test, final_pred5A))\n",
    "print(\"Precision:\",precision_score(y_test, final_pred5A))\n",
    "print(\"Recall:\",recall_score(y_test, final_pred5A))"
   ]
  },
  {
   "cell_type": "code",
   "execution_count": 370,
   "id": "e9362dcc",
   "metadata": {},
   "outputs": [
    {
     "name": "stdout",
     "output_type": "stream",
     "text": [
      "Roc auc score 0.7700682555257959\n"
     ]
    }
   ],
   "source": [
    "print('Roc auc score',roc_auc_score(y_test, final_pred5A))"
   ]
  },
  {
   "cell_type": "code",
   "execution_count": null,
   "id": "ff9877a8",
   "metadata": {},
   "outputs": [],
   "source": []
  },
  {
   "cell_type": "code",
   "execution_count": 371,
   "id": "88e020fd",
   "metadata": {},
   "outputs": [
    {
     "name": "stdout",
     "output_type": "stream",
     "text": [
      "Accuracy: 0.7723\n",
      "Precision: 0.7555847568988173\n",
      "Recall: 0.805\n"
     ]
    }
   ],
   "source": [
    "lr.predict_proba(x_test2)\n",
    "y_test_pred4 = lr.predict_proba(x_test2)[:,1]\n",
    "final_pred3 = pd.DataFrame(y_test_pred4)\n",
    "final_pred3.head()\n",
    "\n",
    "final_pred3A = final_pred3.copy()\n",
    "\n",
    "final_pred3A.loc[final_pred3A[0] >=0.439516 , 0] = 1\n",
    "final_pred3A.loc[final_pred3A[0] <=0.439516 , 0] = 0\n",
    "\n",
    "print(\"Accuracy:\",accuracy_score(y_test2, final_pred3A))\n",
    "print(\"Precision:\",precision_score(y_test2, final_pred3A))\n",
    "print(\"Recall:\",recall_score(y_test2, final_pred3A))"
   ]
  },
  {
   "cell_type": "code",
   "execution_count": 372,
   "id": "6f0c5c4e",
   "metadata": {},
   "outputs": [
    {
     "name": "stdout",
     "output_type": "stream",
     "text": [
      "f1 score: 0.779510022271715\n",
      "MCC score: 0.5457684201467504\n"
     ]
    }
   ],
   "source": [
    "print(\"f1 score:\",f1_score(y_test2, final_pred3A))\n",
    "print(\"MCC score:\",matthews_corrcoef(y_test2, final_pred3A))"
   ]
  },
  {
   "cell_type": "code",
   "execution_count": null,
   "id": "9df9a7e0",
   "metadata": {},
   "outputs": [],
   "source": []
  },
  {
   "cell_type": "code",
   "execution_count": null,
   "id": "33cb925e",
   "metadata": {},
   "outputs": [],
   "source": []
  }
 ],
 "metadata": {
  "kernelspec": {
   "display_name": "Python 3 (ipykernel)",
   "language": "python",
   "name": "python3"
  },
  "language_info": {
   "codemirror_mode": {
    "name": "ipython",
    "version": 3
   },
   "file_extension": ".py",
   "mimetype": "text/x-python",
   "name": "python",
   "nbconvert_exporter": "python",
   "pygments_lexer": "ipython3",
   "version": "3.10.5"
  }
 },
 "nbformat": 4,
 "nbformat_minor": 5
}
